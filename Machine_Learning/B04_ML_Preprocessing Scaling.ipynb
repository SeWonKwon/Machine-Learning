{
 "cells": [
  {
   "cell_type": "markdown",
   "metadata": {},
   "source": [
    "<a href='https://github.com/SeWonKwon' ><div> <img src ='https://slid-capture.s3.ap-northeast-2.amazonaws.com/public/image_upload/6556674324ed41a289a354258718280d/964e5a8b-75ad-41fc-ae75-0ca66d06fbc7.png' align='left' /> </div></a>\n"
   ]
  },
  {
   "cell_type": "code",
   "execution_count": 1,
   "metadata": {
    "ExecuteTime": {
     "end_time": "2021-07-23T10:34:56.095080Z",
     "start_time": "2021-07-23T10:34:55.492139Z"
    }
   },
   "outputs": [],
   "source": [
    "import pandas as pd\n",
    "import numpy as np\n",
    "\n",
    "\n",
    "import warnings\n",
    "warnings.filterwarnings('ignore')"
   ]
  },
  {
   "cell_type": "markdown",
   "metadata": {},
   "source": [
    "# Scaler"
   ]
  },
  {
   "cell_type": "markdown",
   "metadata": {},
   "source": [
    "## `preprocessing` 데이터 전처리 모듈\n",
    "\n",
    "* 데이터의 특징 스케일링(feature scaling)을 위한 방법\n",
    "\n",
    "\n",
    "1. 표준화 방법(Standardization)\n",
    "\n",
    "\\begin{equation}\n",
    "x_i^{\\prime} = \\frac{x_i-mean(x)}{stdev(x)}\n",
    "\\end{equation}\n",
    "\n",
    "2. 정규화 방법(Normalization)\n",
    "\n",
    "\\begin{equation}\n",
    "x_i^{\\prime} = \\frac{x_i-min(x)}{max(x)-min(x)}\n",
    "\\end{equation}\n",
    "\n",
    "3. MaxabsScaler\n",
    "\n",
    "\\begin{equation}\n",
    "x_i^{\\prime} = \\frac{x_i}{max(|x|)}\n",
    "\\end{equation}\n",
    "\n",
    "4. RobustScaler\n",
    "\n",
    "\\begin{equation}\n",
    "x_i^{\\prime} = \\frac{x_i- x_{median}}{IQR}\n",
    "\\end{equation}\n",
    "\n",
    "5. log1pScaler\n",
    "\n",
    "\\begin{equation}\n",
    "x_i^{\\prime} = log{(x_i +1)}\n",
    "\\end{equation}\n",
    "\n",
    "* scikit-learn에서는 개별 벡터 크기를 맞추는 형태로 정규화\n",
    "\n",
    "* pipeline 모듈로 estimator 로 묶일수 있음\n",
    "`pipeline()`"
   ]
  },
  {
   "cell_type": "markdown",
   "metadata": {},
   "source": [
    "* 표준화 와 정규화 차이점.\n",
    "\n",
    "||표준화|정규화|Maxabs|Robust|\n",
    "|:--|:--:|:--:|:-:|:-:|\n",
    "|방식|정규분포|최대최소|절대값의 최대값|중앙값과 사분위|\n",
    "|결과값| 0을 기준으로 나뉨|0과 1사이|-1과 1사이|중앙값을 기준으로 나뉨|\n",
    "|배열|**변함**|**불변**|**조금변함**|**변함**|\n",
    "|이상치| 영향적음 | 영향이 큼|영향이 큼| 가장적음 |"
   ]
  },
  {
   "cell_type": "markdown",
   "metadata": {},
   "source": [
    "* 자연계의 분포는 log scale을 통과 했을때 더 자연 스러운 경우가 많다고 한다. "
   ]
  },
  {
   "cell_type": "markdown",
   "metadata": {},
   "source": [
    "### iris를 전처리 하지 않은 모델"
   ]
  },
  {
   "cell_type": "code",
   "execution_count": 2,
   "metadata": {
    "ExecuteTime": {
     "end_time": "2021-07-23T10:34:57.491692Z",
     "start_time": "2021-07-23T10:34:56.097068Z"
    }
   },
   "outputs": [
    {
     "data": {
      "text/html": [
       "<div>\n",
       "<style scoped>\n",
       "    .dataframe tbody tr th:only-of-type {\n",
       "        vertical-align: middle;\n",
       "    }\n",
       "\n",
       "    .dataframe tbody tr th {\n",
       "        vertical-align: top;\n",
       "    }\n",
       "\n",
       "    .dataframe thead th {\n",
       "        text-align: right;\n",
       "    }\n",
       "</style>\n",
       "<table border=\"1\" class=\"dataframe\">\n",
       "  <thead>\n",
       "    <tr style=\"text-align: right;\">\n",
       "      <th></th>\n",
       "      <th>sepal length (cm)</th>\n",
       "      <th>sepal width (cm)</th>\n",
       "      <th>petal length (cm)</th>\n",
       "      <th>petal width (cm)</th>\n",
       "    </tr>\n",
       "  </thead>\n",
       "  <tbody>\n",
       "    <tr>\n",
       "      <th>count</th>\n",
       "      <td>150.000000</td>\n",
       "      <td>150.000000</td>\n",
       "      <td>150.000000</td>\n",
       "      <td>150.000000</td>\n",
       "    </tr>\n",
       "    <tr>\n",
       "      <th>mean</th>\n",
       "      <td>5.843333</td>\n",
       "      <td>3.057333</td>\n",
       "      <td>3.758000</td>\n",
       "      <td>1.199333</td>\n",
       "    </tr>\n",
       "    <tr>\n",
       "      <th>std</th>\n",
       "      <td>0.828066</td>\n",
       "      <td>0.435866</td>\n",
       "      <td>1.765298</td>\n",
       "      <td>0.762238</td>\n",
       "    </tr>\n",
       "    <tr>\n",
       "      <th>min</th>\n",
       "      <td>4.300000</td>\n",
       "      <td>2.000000</td>\n",
       "      <td>1.000000</td>\n",
       "      <td>0.100000</td>\n",
       "    </tr>\n",
       "    <tr>\n",
       "      <th>25%</th>\n",
       "      <td>5.100000</td>\n",
       "      <td>2.800000</td>\n",
       "      <td>1.600000</td>\n",
       "      <td>0.300000</td>\n",
       "    </tr>\n",
       "    <tr>\n",
       "      <th>50%</th>\n",
       "      <td>5.800000</td>\n",
       "      <td>3.000000</td>\n",
       "      <td>4.350000</td>\n",
       "      <td>1.300000</td>\n",
       "    </tr>\n",
       "    <tr>\n",
       "      <th>75%</th>\n",
       "      <td>6.400000</td>\n",
       "      <td>3.300000</td>\n",
       "      <td>5.100000</td>\n",
       "      <td>1.800000</td>\n",
       "    </tr>\n",
       "    <tr>\n",
       "      <th>max</th>\n",
       "      <td>7.900000</td>\n",
       "      <td>4.400000</td>\n",
       "      <td>6.900000</td>\n",
       "      <td>2.500000</td>\n",
       "    </tr>\n",
       "  </tbody>\n",
       "</table>\n",
       "</div>"
      ],
      "text/plain": [
       "       sepal length (cm)  sepal width (cm)  petal length (cm)  \\\n",
       "count         150.000000        150.000000         150.000000   \n",
       "mean            5.843333          3.057333           3.758000   \n",
       "std             0.828066          0.435866           1.765298   \n",
       "min             4.300000          2.000000           1.000000   \n",
       "25%             5.100000          2.800000           1.600000   \n",
       "50%             5.800000          3.000000           4.350000   \n",
       "75%             6.400000          3.300000           5.100000   \n",
       "max             7.900000          4.400000           6.900000   \n",
       "\n",
       "       petal width (cm)  \n",
       "count        150.000000  \n",
       "mean           1.199333  \n",
       "std            0.762238  \n",
       "min            0.100000  \n",
       "25%            0.300000  \n",
       "50%            1.300000  \n",
       "75%            1.800000  \n",
       "max            2.500000  "
      ]
     },
     "execution_count": 2,
     "metadata": {},
     "output_type": "execute_result"
    }
   ],
   "source": [
    "import pandas as pd\n",
    "from sklearn.datasets import load_iris\n",
    "\n",
    "iris = load_iris()\n",
    "iris_df = pd.DataFrame(data=iris.data, columns=iris.feature_names)\n",
    "iris_df.describe()"
   ]
  },
  {
   "cell_type": "code",
   "execution_count": 3,
   "metadata": {
    "ExecuteTime": {
     "end_time": "2021-07-23T10:34:57.628327Z",
     "start_time": "2021-07-23T10:34:57.493680Z"
    },
    "scrolled": true
   },
   "outputs": [
    {
     "name": "stdout",
     "output_type": "stream",
     "text": [
      "학습 데이터 점수: 1.0\n",
      "평가 데이터 점수: 0.9333333333333333\n"
     ]
    }
   ],
   "source": [
    "from sklearn.linear_model import LogisticRegression\n",
    "from sklearn.model_selection import train_test_split\n",
    "\n",
    "X_train, X_test, y_train, y_test = train_test_split(iris_df, iris.target, test_size=0.3)\n",
    "\n",
    "model = LogisticRegression()\n",
    "model.fit(X_train, y_train)\n",
    "\n",
    "print(\"학습 데이터 점수: {}\".format(model.score(X_train, y_train)))\n",
    "print(\"평가 데이터 점수: {}\".format(model.score(X_test, y_test)))\n"
   ]
  },
  {
   "cell_type": "markdown",
   "metadata": {},
   "source": [
    "### `StandardScaler`: 표준화 클래스\n",
    "\n",
    "\\begin{equation}\n",
    "x_i^{\\prime} = \\frac{x_i-mean(x)}{stdev(x)}\n",
    "\\end{equation}\n"
   ]
  },
  {
   "cell_type": "code",
   "execution_count": 4,
   "metadata": {
    "ExecuteTime": {
     "end_time": "2021-07-23T10:34:57.643332Z",
     "start_time": "2021-07-23T10:34:57.629327Z"
    }
   },
   "outputs": [
    {
     "data": {
      "text/html": [
       "<div>\n",
       "<style scoped>\n",
       "    .dataframe tbody tr th:only-of-type {\n",
       "        vertical-align: middle;\n",
       "    }\n",
       "\n",
       "    .dataframe tbody tr th {\n",
       "        vertical-align: top;\n",
       "    }\n",
       "\n",
       "    .dataframe thead th {\n",
       "        text-align: right;\n",
       "    }\n",
       "</style>\n",
       "<table border=\"1\" class=\"dataframe\">\n",
       "  <thead>\n",
       "    <tr style=\"text-align: right;\">\n",
       "      <th></th>\n",
       "      <th>sepal length (cm)</th>\n",
       "      <th>sepal width (cm)</th>\n",
       "      <th>petal length (cm)</th>\n",
       "      <th>petal width (cm)</th>\n",
       "    </tr>\n",
       "  </thead>\n",
       "  <tbody>\n",
       "    <tr>\n",
       "      <th>0</th>\n",
       "      <td>-0.900681</td>\n",
       "      <td>1.019004</td>\n",
       "      <td>-1.340227</td>\n",
       "      <td>-1.315444</td>\n",
       "    </tr>\n",
       "    <tr>\n",
       "      <th>1</th>\n",
       "      <td>-1.143017</td>\n",
       "      <td>-0.131979</td>\n",
       "      <td>-1.340227</td>\n",
       "      <td>-1.315444</td>\n",
       "    </tr>\n",
       "    <tr>\n",
       "      <th>2</th>\n",
       "      <td>-1.385353</td>\n",
       "      <td>0.328414</td>\n",
       "      <td>-1.397064</td>\n",
       "      <td>-1.315444</td>\n",
       "    </tr>\n",
       "    <tr>\n",
       "      <th>3</th>\n",
       "      <td>-1.506521</td>\n",
       "      <td>0.098217</td>\n",
       "      <td>-1.283389</td>\n",
       "      <td>-1.315444</td>\n",
       "    </tr>\n",
       "    <tr>\n",
       "      <th>4</th>\n",
       "      <td>-1.021849</td>\n",
       "      <td>1.249201</td>\n",
       "      <td>-1.340227</td>\n",
       "      <td>-1.315444</td>\n",
       "    </tr>\n",
       "    <tr>\n",
       "      <th>...</th>\n",
       "      <td>...</td>\n",
       "      <td>...</td>\n",
       "      <td>...</td>\n",
       "      <td>...</td>\n",
       "    </tr>\n",
       "    <tr>\n",
       "      <th>145</th>\n",
       "      <td>1.038005</td>\n",
       "      <td>-0.131979</td>\n",
       "      <td>0.819596</td>\n",
       "      <td>1.448832</td>\n",
       "    </tr>\n",
       "    <tr>\n",
       "      <th>146</th>\n",
       "      <td>0.553333</td>\n",
       "      <td>-1.282963</td>\n",
       "      <td>0.705921</td>\n",
       "      <td>0.922303</td>\n",
       "    </tr>\n",
       "    <tr>\n",
       "      <th>147</th>\n",
       "      <td>0.795669</td>\n",
       "      <td>-0.131979</td>\n",
       "      <td>0.819596</td>\n",
       "      <td>1.053935</td>\n",
       "    </tr>\n",
       "    <tr>\n",
       "      <th>148</th>\n",
       "      <td>0.432165</td>\n",
       "      <td>0.788808</td>\n",
       "      <td>0.933271</td>\n",
       "      <td>1.448832</td>\n",
       "    </tr>\n",
       "    <tr>\n",
       "      <th>149</th>\n",
       "      <td>0.068662</td>\n",
       "      <td>-0.131979</td>\n",
       "      <td>0.762758</td>\n",
       "      <td>0.790671</td>\n",
       "    </tr>\n",
       "  </tbody>\n",
       "</table>\n",
       "<p>150 rows × 4 columns</p>\n",
       "</div>"
      ],
      "text/plain": [
       "     sepal length (cm)  sepal width (cm)  petal length (cm)  petal width (cm)\n",
       "0            -0.900681          1.019004          -1.340227         -1.315444\n",
       "1            -1.143017         -0.131979          -1.340227         -1.315444\n",
       "2            -1.385353          0.328414          -1.397064         -1.315444\n",
       "3            -1.506521          0.098217          -1.283389         -1.315444\n",
       "4            -1.021849          1.249201          -1.340227         -1.315444\n",
       "..                 ...               ...                ...               ...\n",
       "145           1.038005         -0.131979           0.819596          1.448832\n",
       "146           0.553333         -1.282963           0.705921          0.922303\n",
       "147           0.795669         -0.131979           0.819596          1.053935\n",
       "148           0.432165          0.788808           0.933271          1.448832\n",
       "149           0.068662         -0.131979           0.762758          0.790671\n",
       "\n",
       "[150 rows x 4 columns]"
      ]
     },
     "execution_count": 4,
     "metadata": {},
     "output_type": "execute_result"
    }
   ],
   "source": [
    "from sklearn.preprocessing import StandardScaler\n",
    "\n",
    "scaler = StandardScaler()\n",
    "iris_scaled = scaler.fit_transform(iris_df)\n",
    "iris_df_scaled = pd.DataFrame(data=iris_scaled, columns=iris.feature_names)\n",
    "iris_df_scaled"
   ]
  },
  {
   "cell_type": "code",
   "execution_count": 5,
   "metadata": {
    "ExecuteTime": {
     "end_time": "2021-07-23T10:34:57.673338Z",
     "start_time": "2021-07-23T10:34:57.644331Z"
    }
   },
   "outputs": [
    {
     "name": "stdout",
     "output_type": "stream",
     "text": [
      "학습 데이터 점수: 0.9809523809523809\n",
      "평가 데이터 점수: 0.9555555555555556\n"
     ]
    }
   ],
   "source": [
    "X_train, X_test, y_train, y_test = train_test_split(iris_df_scaled, iris.target, test_size=0.3)\n",
    "\n",
    "model = LogisticRegression()\n",
    "model.fit(X_train, y_train)\n",
    "\n",
    "print(\"학습 데이터 점수: {}\".format(model.score(X_train, y_train)))\n",
    "print(\"평가 데이터 점수: {}\".format(model.score(X_test, y_test)))\n"
   ]
  },
  {
   "cell_type": "markdown",
   "metadata": {},
   "source": [
    "### `MinMaxScaler`: 정규화 클래스\n",
    "\n",
    "\\begin{equation}\n",
    "x_i^{\\prime} = \\frac{x_i-min(x)}{max(x)-min(x)}\n",
    "\\end{equation}"
   ]
  },
  {
   "cell_type": "code",
   "execution_count": 6,
   "metadata": {
    "ExecuteTime": {
     "end_time": "2021-07-23T10:34:57.688340Z",
     "start_time": "2021-07-23T10:34:57.674338Z"
    }
   },
   "outputs": [
    {
     "data": {
      "text/html": [
       "<div>\n",
       "<style scoped>\n",
       "    .dataframe tbody tr th:only-of-type {\n",
       "        vertical-align: middle;\n",
       "    }\n",
       "\n",
       "    .dataframe tbody tr th {\n",
       "        vertical-align: top;\n",
       "    }\n",
       "\n",
       "    .dataframe thead th {\n",
       "        text-align: right;\n",
       "    }\n",
       "</style>\n",
       "<table border=\"1\" class=\"dataframe\">\n",
       "  <thead>\n",
       "    <tr style=\"text-align: right;\">\n",
       "      <th></th>\n",
       "      <th>sepal length (cm)</th>\n",
       "      <th>sepal width (cm)</th>\n",
       "      <th>petal length (cm)</th>\n",
       "      <th>petal width (cm)</th>\n",
       "    </tr>\n",
       "  </thead>\n",
       "  <tbody>\n",
       "    <tr>\n",
       "      <th>0</th>\n",
       "      <td>0.222222</td>\n",
       "      <td>0.625000</td>\n",
       "      <td>0.067797</td>\n",
       "      <td>0.041667</td>\n",
       "    </tr>\n",
       "    <tr>\n",
       "      <th>1</th>\n",
       "      <td>0.166667</td>\n",
       "      <td>0.416667</td>\n",
       "      <td>0.067797</td>\n",
       "      <td>0.041667</td>\n",
       "    </tr>\n",
       "    <tr>\n",
       "      <th>2</th>\n",
       "      <td>0.111111</td>\n",
       "      <td>0.500000</td>\n",
       "      <td>0.050847</td>\n",
       "      <td>0.041667</td>\n",
       "    </tr>\n",
       "    <tr>\n",
       "      <th>3</th>\n",
       "      <td>0.083333</td>\n",
       "      <td>0.458333</td>\n",
       "      <td>0.084746</td>\n",
       "      <td>0.041667</td>\n",
       "    </tr>\n",
       "    <tr>\n",
       "      <th>4</th>\n",
       "      <td>0.194444</td>\n",
       "      <td>0.666667</td>\n",
       "      <td>0.067797</td>\n",
       "      <td>0.041667</td>\n",
       "    </tr>\n",
       "    <tr>\n",
       "      <th>...</th>\n",
       "      <td>...</td>\n",
       "      <td>...</td>\n",
       "      <td>...</td>\n",
       "      <td>...</td>\n",
       "    </tr>\n",
       "    <tr>\n",
       "      <th>145</th>\n",
       "      <td>0.666667</td>\n",
       "      <td>0.416667</td>\n",
       "      <td>0.711864</td>\n",
       "      <td>0.916667</td>\n",
       "    </tr>\n",
       "    <tr>\n",
       "      <th>146</th>\n",
       "      <td>0.555556</td>\n",
       "      <td>0.208333</td>\n",
       "      <td>0.677966</td>\n",
       "      <td>0.750000</td>\n",
       "    </tr>\n",
       "    <tr>\n",
       "      <th>147</th>\n",
       "      <td>0.611111</td>\n",
       "      <td>0.416667</td>\n",
       "      <td>0.711864</td>\n",
       "      <td>0.791667</td>\n",
       "    </tr>\n",
       "    <tr>\n",
       "      <th>148</th>\n",
       "      <td>0.527778</td>\n",
       "      <td>0.583333</td>\n",
       "      <td>0.745763</td>\n",
       "      <td>0.916667</td>\n",
       "    </tr>\n",
       "    <tr>\n",
       "      <th>149</th>\n",
       "      <td>0.444444</td>\n",
       "      <td>0.416667</td>\n",
       "      <td>0.694915</td>\n",
       "      <td>0.708333</td>\n",
       "    </tr>\n",
       "  </tbody>\n",
       "</table>\n",
       "<p>150 rows × 4 columns</p>\n",
       "</div>"
      ],
      "text/plain": [
       "     sepal length (cm)  sepal width (cm)  petal length (cm)  petal width (cm)\n",
       "0             0.222222          0.625000           0.067797          0.041667\n",
       "1             0.166667          0.416667           0.067797          0.041667\n",
       "2             0.111111          0.500000           0.050847          0.041667\n",
       "3             0.083333          0.458333           0.084746          0.041667\n",
       "4             0.194444          0.666667           0.067797          0.041667\n",
       "..                 ...               ...                ...               ...\n",
       "145           0.666667          0.416667           0.711864          0.916667\n",
       "146           0.555556          0.208333           0.677966          0.750000\n",
       "147           0.611111          0.416667           0.711864          0.791667\n",
       "148           0.527778          0.583333           0.745763          0.916667\n",
       "149           0.444444          0.416667           0.694915          0.708333\n",
       "\n",
       "[150 rows x 4 columns]"
      ]
     },
     "execution_count": 6,
     "metadata": {},
     "output_type": "execute_result"
    }
   ],
   "source": [
    "from sklearn.preprocessing import MinMaxScaler\n",
    "\n",
    "scaler = MinMaxScaler()\n",
    "iris_scaled = scaler.fit_transform(iris_df)\n",
    "iris_df_scaled = pd.DataFrame(data=iris_scaled, columns=iris.feature_names)\n",
    "iris_df_scaled"
   ]
  },
  {
   "cell_type": "code",
   "execution_count": 7,
   "metadata": {
    "ExecuteTime": {
     "end_time": "2021-07-23T10:34:57.718347Z",
     "start_time": "2021-07-23T10:34:57.689343Z"
    }
   },
   "outputs": [
    {
     "name": "stdout",
     "output_type": "stream",
     "text": [
      "학습 데이터 점수: 0.9523809523809523\n",
      "평가 데이터 점수: 0.9111111111111111\n"
     ]
    }
   ],
   "source": [
    "X_train, X_test, y_train, y_test = train_test_split(iris_df_scaled, iris.target, test_size=0.3)\n",
    "\n",
    "model = LogisticRegression()\n",
    "model.fit(X_train, y_train)\n",
    "\n",
    "print(\"학습 데이터 점수: {}\".format(model.score(X_train, y_train)))\n",
    "print(\"평가 데이터 점수: {}\".format(model.score(X_test, y_test)))\n"
   ]
  },
  {
   "cell_type": "markdown",
   "metadata": {},
   "source": [
    "### `MaxabsScaler`"
   ]
  },
  {
   "cell_type": "code",
   "execution_count": 8,
   "metadata": {
    "ExecuteTime": {
     "end_time": "2021-07-23T10:34:57.733350Z",
     "start_time": "2021-07-23T10:34:57.720349Z"
    }
   },
   "outputs": [
    {
     "data": {
      "text/html": [
       "<div>\n",
       "<style scoped>\n",
       "    .dataframe tbody tr th:only-of-type {\n",
       "        vertical-align: middle;\n",
       "    }\n",
       "\n",
       "    .dataframe tbody tr th {\n",
       "        vertical-align: top;\n",
       "    }\n",
       "\n",
       "    .dataframe thead th {\n",
       "        text-align: right;\n",
       "    }\n",
       "</style>\n",
       "<table border=\"1\" class=\"dataframe\">\n",
       "  <thead>\n",
       "    <tr style=\"text-align: right;\">\n",
       "      <th></th>\n",
       "      <th>sepal length (cm)</th>\n",
       "      <th>sepal width (cm)</th>\n",
       "      <th>petal length (cm)</th>\n",
       "      <th>petal width (cm)</th>\n",
       "    </tr>\n",
       "  </thead>\n",
       "  <tbody>\n",
       "    <tr>\n",
       "      <th>0</th>\n",
       "      <td>0.645570</td>\n",
       "      <td>0.795455</td>\n",
       "      <td>0.202899</td>\n",
       "      <td>0.08</td>\n",
       "    </tr>\n",
       "    <tr>\n",
       "      <th>1</th>\n",
       "      <td>0.620253</td>\n",
       "      <td>0.681818</td>\n",
       "      <td>0.202899</td>\n",
       "      <td>0.08</td>\n",
       "    </tr>\n",
       "    <tr>\n",
       "      <th>2</th>\n",
       "      <td>0.594937</td>\n",
       "      <td>0.727273</td>\n",
       "      <td>0.188406</td>\n",
       "      <td>0.08</td>\n",
       "    </tr>\n",
       "    <tr>\n",
       "      <th>3</th>\n",
       "      <td>0.582278</td>\n",
       "      <td>0.704545</td>\n",
       "      <td>0.217391</td>\n",
       "      <td>0.08</td>\n",
       "    </tr>\n",
       "    <tr>\n",
       "      <th>4</th>\n",
       "      <td>0.632911</td>\n",
       "      <td>0.818182</td>\n",
       "      <td>0.202899</td>\n",
       "      <td>0.08</td>\n",
       "    </tr>\n",
       "    <tr>\n",
       "      <th>...</th>\n",
       "      <td>...</td>\n",
       "      <td>...</td>\n",
       "      <td>...</td>\n",
       "      <td>...</td>\n",
       "    </tr>\n",
       "    <tr>\n",
       "      <th>145</th>\n",
       "      <td>0.848101</td>\n",
       "      <td>0.681818</td>\n",
       "      <td>0.753623</td>\n",
       "      <td>0.92</td>\n",
       "    </tr>\n",
       "    <tr>\n",
       "      <th>146</th>\n",
       "      <td>0.797468</td>\n",
       "      <td>0.568182</td>\n",
       "      <td>0.724638</td>\n",
       "      <td>0.76</td>\n",
       "    </tr>\n",
       "    <tr>\n",
       "      <th>147</th>\n",
       "      <td>0.822785</td>\n",
       "      <td>0.681818</td>\n",
       "      <td>0.753623</td>\n",
       "      <td>0.80</td>\n",
       "    </tr>\n",
       "    <tr>\n",
       "      <th>148</th>\n",
       "      <td>0.784810</td>\n",
       "      <td>0.772727</td>\n",
       "      <td>0.782609</td>\n",
       "      <td>0.92</td>\n",
       "    </tr>\n",
       "    <tr>\n",
       "      <th>149</th>\n",
       "      <td>0.746835</td>\n",
       "      <td>0.681818</td>\n",
       "      <td>0.739130</td>\n",
       "      <td>0.72</td>\n",
       "    </tr>\n",
       "  </tbody>\n",
       "</table>\n",
       "<p>150 rows × 4 columns</p>\n",
       "</div>"
      ],
      "text/plain": [
       "     sepal length (cm)  sepal width (cm)  petal length (cm)  petal width (cm)\n",
       "0             0.645570          0.795455           0.202899              0.08\n",
       "1             0.620253          0.681818           0.202899              0.08\n",
       "2             0.594937          0.727273           0.188406              0.08\n",
       "3             0.582278          0.704545           0.217391              0.08\n",
       "4             0.632911          0.818182           0.202899              0.08\n",
       "..                 ...               ...                ...               ...\n",
       "145           0.848101          0.681818           0.753623              0.92\n",
       "146           0.797468          0.568182           0.724638              0.76\n",
       "147           0.822785          0.681818           0.753623              0.80\n",
       "148           0.784810          0.772727           0.782609              0.92\n",
       "149           0.746835          0.681818           0.739130              0.72\n",
       "\n",
       "[150 rows x 4 columns]"
      ]
     },
     "execution_count": 8,
     "metadata": {},
     "output_type": "execute_result"
    }
   ],
   "source": [
    "from sklearn.preprocessing import MaxAbsScaler\n",
    "\n",
    "scaler = MaxAbsScaler()\n",
    "iris_scaled = scaler.fit_transform(iris_df)\n",
    "iris_df_scaled = pd.DataFrame(data=iris_scaled, columns=iris.feature_names)\n",
    "iris_df_scaled"
   ]
  },
  {
   "cell_type": "code",
   "execution_count": 9,
   "metadata": {
    "ExecuteTime": {
     "end_time": "2021-07-23T10:34:57.763357Z",
     "start_time": "2021-07-23T10:34:57.735353Z"
    }
   },
   "outputs": [
    {
     "name": "stdout",
     "output_type": "stream",
     "text": [
      "학습 데이터 점수: 0.9428571428571428\n",
      "평가 데이터 점수: 0.9111111111111111\n"
     ]
    }
   ],
   "source": [
    "X_train, X_test, y_train, y_test = train_test_split(iris_df_scaled, iris.target, test_size=0.3)\n",
    "\n",
    "model = LogisticRegression()\n",
    "model.fit(X_train, y_train)\n",
    "\n",
    "print(\"학습 데이터 점수: {}\".format(model.score(X_train, y_train)))\n",
    "print(\"평가 데이터 점수: {}\".format(model.score(X_test, y_test)))\n"
   ]
  },
  {
   "cell_type": "markdown",
   "metadata": {},
   "source": [
    "### `RobustScaler`"
   ]
  },
  {
   "cell_type": "code",
   "execution_count": 10,
   "metadata": {
    "ExecuteTime": {
     "end_time": "2021-07-23T10:34:57.823370Z",
     "start_time": "2021-07-23T10:34:57.810370Z"
    }
   },
   "outputs": [
    {
     "data": {
      "text/html": [
       "<div>\n",
       "<style scoped>\n",
       "    .dataframe tbody tr th:only-of-type {\n",
       "        vertical-align: middle;\n",
       "    }\n",
       "\n",
       "    .dataframe tbody tr th {\n",
       "        vertical-align: top;\n",
       "    }\n",
       "\n",
       "    .dataframe thead th {\n",
       "        text-align: right;\n",
       "    }\n",
       "</style>\n",
       "<table border=\"1\" class=\"dataframe\">\n",
       "  <thead>\n",
       "    <tr style=\"text-align: right;\">\n",
       "      <th></th>\n",
       "      <th>sepal length (cm)</th>\n",
       "      <th>sepal width (cm)</th>\n",
       "      <th>petal length (cm)</th>\n",
       "      <th>petal width (cm)</th>\n",
       "    </tr>\n",
       "  </thead>\n",
       "  <tbody>\n",
       "    <tr>\n",
       "      <th>0</th>\n",
       "      <td>-0.538462</td>\n",
       "      <td>1.0</td>\n",
       "      <td>-0.842857</td>\n",
       "      <td>-0.733333</td>\n",
       "    </tr>\n",
       "    <tr>\n",
       "      <th>1</th>\n",
       "      <td>-0.692308</td>\n",
       "      <td>0.0</td>\n",
       "      <td>-0.842857</td>\n",
       "      <td>-0.733333</td>\n",
       "    </tr>\n",
       "    <tr>\n",
       "      <th>2</th>\n",
       "      <td>-0.846154</td>\n",
       "      <td>0.4</td>\n",
       "      <td>-0.871429</td>\n",
       "      <td>-0.733333</td>\n",
       "    </tr>\n",
       "    <tr>\n",
       "      <th>3</th>\n",
       "      <td>-0.923077</td>\n",
       "      <td>0.2</td>\n",
       "      <td>-0.814286</td>\n",
       "      <td>-0.733333</td>\n",
       "    </tr>\n",
       "    <tr>\n",
       "      <th>4</th>\n",
       "      <td>-0.615385</td>\n",
       "      <td>1.2</td>\n",
       "      <td>-0.842857</td>\n",
       "      <td>-0.733333</td>\n",
       "    </tr>\n",
       "    <tr>\n",
       "      <th>...</th>\n",
       "      <td>...</td>\n",
       "      <td>...</td>\n",
       "      <td>...</td>\n",
       "      <td>...</td>\n",
       "    </tr>\n",
       "    <tr>\n",
       "      <th>145</th>\n",
       "      <td>0.692308</td>\n",
       "      <td>0.0</td>\n",
       "      <td>0.242857</td>\n",
       "      <td>0.666667</td>\n",
       "    </tr>\n",
       "    <tr>\n",
       "      <th>146</th>\n",
       "      <td>0.384615</td>\n",
       "      <td>-1.0</td>\n",
       "      <td>0.185714</td>\n",
       "      <td>0.400000</td>\n",
       "    </tr>\n",
       "    <tr>\n",
       "      <th>147</th>\n",
       "      <td>0.538462</td>\n",
       "      <td>0.0</td>\n",
       "      <td>0.242857</td>\n",
       "      <td>0.466667</td>\n",
       "    </tr>\n",
       "    <tr>\n",
       "      <th>148</th>\n",
       "      <td>0.307692</td>\n",
       "      <td>0.8</td>\n",
       "      <td>0.300000</td>\n",
       "      <td>0.666667</td>\n",
       "    </tr>\n",
       "    <tr>\n",
       "      <th>149</th>\n",
       "      <td>0.076923</td>\n",
       "      <td>0.0</td>\n",
       "      <td>0.214286</td>\n",
       "      <td>0.333333</td>\n",
       "    </tr>\n",
       "  </tbody>\n",
       "</table>\n",
       "<p>150 rows × 4 columns</p>\n",
       "</div>"
      ],
      "text/plain": [
       "     sepal length (cm)  sepal width (cm)  petal length (cm)  petal width (cm)\n",
       "0            -0.538462               1.0          -0.842857         -0.733333\n",
       "1            -0.692308               0.0          -0.842857         -0.733333\n",
       "2            -0.846154               0.4          -0.871429         -0.733333\n",
       "3            -0.923077               0.2          -0.814286         -0.733333\n",
       "4            -0.615385               1.2          -0.842857         -0.733333\n",
       "..                 ...               ...                ...               ...\n",
       "145           0.692308               0.0           0.242857          0.666667\n",
       "146           0.384615              -1.0           0.185714          0.400000\n",
       "147           0.538462               0.0           0.242857          0.466667\n",
       "148           0.307692               0.8           0.300000          0.666667\n",
       "149           0.076923               0.0           0.214286          0.333333\n",
       "\n",
       "[150 rows x 4 columns]"
      ]
     },
     "execution_count": 10,
     "metadata": {},
     "output_type": "execute_result"
    }
   ],
   "source": [
    "from sklearn.preprocessing import RobustScaler\n",
    "\n",
    "scaler = RobustScaler()\n",
    "iris_scaled = scaler.fit_transform(iris_df)\n",
    "iris_df_scaled = pd.DataFrame(data=iris_scaled, columns=iris.feature_names)\n",
    "iris_df_scaled"
   ]
  },
  {
   "cell_type": "code",
   "execution_count": 11,
   "metadata": {
    "ExecuteTime": {
     "end_time": "2021-07-23T10:34:57.853377Z",
     "start_time": "2021-07-23T10:34:57.825371Z"
    }
   },
   "outputs": [
    {
     "name": "stdout",
     "output_type": "stream",
     "text": [
      "학습 데이터 점수: 0.9619047619047619\n",
      "평가 데이터 점수: 0.9111111111111111\n"
     ]
    }
   ],
   "source": [
    "X_train, X_test, y_train, y_test = train_test_split(iris_df_scaled, iris.target, test_size=0.3)\n",
    "\n",
    "model = LogisticRegression()\n",
    "model.fit(X_train, y_train)\n",
    "\n",
    "print(\"학습 데이터 점수: {}\".format(model.score(X_train, y_train)))\n",
    "print(\"평가 데이터 점수: {}\".format(model.score(X_test, y_test)))\n"
   ]
  },
  {
   "cell_type": "markdown",
   "metadata": {},
   "source": [
    "### `log1p scaler`"
   ]
  },
  {
   "cell_type": "code",
   "execution_count": 12,
   "metadata": {
    "ExecuteTime": {
     "end_time": "2021-07-23T10:34:57.823370Z",
     "start_time": "2021-07-23T10:34:57.810370Z"
    }
   },
   "outputs": [
    {
     "data": {
      "text/html": [
       "<div>\n",
       "<style scoped>\n",
       "    .dataframe tbody tr th:only-of-type {\n",
       "        vertical-align: middle;\n",
       "    }\n",
       "\n",
       "    .dataframe tbody tr th {\n",
       "        vertical-align: top;\n",
       "    }\n",
       "\n",
       "    .dataframe thead th {\n",
       "        text-align: right;\n",
       "    }\n",
       "</style>\n",
       "<table border=\"1\" class=\"dataframe\">\n",
       "  <thead>\n",
       "    <tr style=\"text-align: right;\">\n",
       "      <th></th>\n",
       "      <th>sepal length (cm)</th>\n",
       "      <th>sepal width (cm)</th>\n",
       "      <th>petal length (cm)</th>\n",
       "      <th>petal width (cm)</th>\n",
       "    </tr>\n",
       "  </thead>\n",
       "  <tbody>\n",
       "    <tr>\n",
       "      <th>0</th>\n",
       "      <td>1.808289</td>\n",
       "      <td>1.504077</td>\n",
       "      <td>0.875469</td>\n",
       "      <td>0.182322</td>\n",
       "    </tr>\n",
       "    <tr>\n",
       "      <th>1</th>\n",
       "      <td>1.774952</td>\n",
       "      <td>1.386294</td>\n",
       "      <td>0.875469</td>\n",
       "      <td>0.182322</td>\n",
       "    </tr>\n",
       "    <tr>\n",
       "      <th>2</th>\n",
       "      <td>1.740466</td>\n",
       "      <td>1.435085</td>\n",
       "      <td>0.832909</td>\n",
       "      <td>0.182322</td>\n",
       "    </tr>\n",
       "    <tr>\n",
       "      <th>3</th>\n",
       "      <td>1.722767</td>\n",
       "      <td>1.410987</td>\n",
       "      <td>0.916291</td>\n",
       "      <td>0.182322</td>\n",
       "    </tr>\n",
       "    <tr>\n",
       "      <th>4</th>\n",
       "      <td>1.791759</td>\n",
       "      <td>1.526056</td>\n",
       "      <td>0.875469</td>\n",
       "      <td>0.182322</td>\n",
       "    </tr>\n",
       "    <tr>\n",
       "      <th>...</th>\n",
       "      <td>...</td>\n",
       "      <td>...</td>\n",
       "      <td>...</td>\n",
       "      <td>...</td>\n",
       "    </tr>\n",
       "    <tr>\n",
       "      <th>145</th>\n",
       "      <td>2.041220</td>\n",
       "      <td>1.386294</td>\n",
       "      <td>1.824549</td>\n",
       "      <td>1.193922</td>\n",
       "    </tr>\n",
       "    <tr>\n",
       "      <th>146</th>\n",
       "      <td>1.987874</td>\n",
       "      <td>1.252763</td>\n",
       "      <td>1.791759</td>\n",
       "      <td>1.064711</td>\n",
       "    </tr>\n",
       "    <tr>\n",
       "      <th>147</th>\n",
       "      <td>2.014903</td>\n",
       "      <td>1.386294</td>\n",
       "      <td>1.824549</td>\n",
       "      <td>1.098612</td>\n",
       "    </tr>\n",
       "    <tr>\n",
       "      <th>148</th>\n",
       "      <td>1.974081</td>\n",
       "      <td>1.481605</td>\n",
       "      <td>1.856298</td>\n",
       "      <td>1.193922</td>\n",
       "    </tr>\n",
       "    <tr>\n",
       "      <th>149</th>\n",
       "      <td>1.931521</td>\n",
       "      <td>1.386294</td>\n",
       "      <td>1.808289</td>\n",
       "      <td>1.029619</td>\n",
       "    </tr>\n",
       "  </tbody>\n",
       "</table>\n",
       "<p>150 rows × 4 columns</p>\n",
       "</div>"
      ],
      "text/plain": [
       "     sepal length (cm)  sepal width (cm)  petal length (cm)  petal width (cm)\n",
       "0             1.808289          1.504077           0.875469          0.182322\n",
       "1             1.774952          1.386294           0.875469          0.182322\n",
       "2             1.740466          1.435085           0.832909          0.182322\n",
       "3             1.722767          1.410987           0.916291          0.182322\n",
       "4             1.791759          1.526056           0.875469          0.182322\n",
       "..                 ...               ...                ...               ...\n",
       "145           2.041220          1.386294           1.824549          1.193922\n",
       "146           1.987874          1.252763           1.791759          1.064711\n",
       "147           2.014903          1.386294           1.824549          1.098612\n",
       "148           1.974081          1.481605           1.856298          1.193922\n",
       "149           1.931521          1.386294           1.808289          1.029619\n",
       "\n",
       "[150 rows x 4 columns]"
      ]
     },
     "execution_count": 12,
     "metadata": {},
     "output_type": "execute_result"
    }
   ],
   "source": [
    "from sklearn.preprocessing import MaxAbsScaler\n",
    "\n",
    "scaler = MaxAbsScaler()\n",
    "iris_scaled = np.log1p(iris_df)\n",
    "iris_df_scaled = pd.DataFrame(data=iris_scaled, columns=iris.feature_names)\n",
    "iris_df_scaled"
   ]
  },
  {
   "cell_type": "code",
   "execution_count": 13,
   "metadata": {
    "ExecuteTime": {
     "end_time": "2021-07-23T10:34:57.853377Z",
     "start_time": "2021-07-23T10:34:57.825371Z"
    }
   },
   "outputs": [
    {
     "name": "stdout",
     "output_type": "stream",
     "text": [
      "학습 데이터 점수: 0.9333333333333333\n",
      "평가 데이터 점수: 0.9111111111111111\n"
     ]
    }
   ],
   "source": [
    "X_train, X_test, y_train, y_test = train_test_split(iris_df_scaled, iris.target, test_size=0.3)\n",
    "\n",
    "model = LogisticRegression()\n",
    "model.fit(X_train, y_train)\n",
    "\n",
    "print(\"학습 데이터 점수: {}\".format(model.score(X_train, y_train)))\n",
    "print(\"평가 데이터 점수: {}\".format(model.score(X_test, y_test)))"
   ]
  },
  {
   "cell_type": "markdown",
   "metadata": {},
   "source": [
    "## 스케일링 변환 시 유의점"
   ]
  },
  {
   "cell_type": "markdown",
   "metadata": {},
   "source": [
    "* fit, transform 을 적용시\n",
    "    1. train data에만 먼저 fit을 한다.\n",
    "    2. transform은 train과 test 동일하게 수행한다. "
   ]
  },
  {
   "cell_type": "markdown",
   "metadata": {},
   "source": [
    "# CreditCard Furad 실습"
   ]
  },
  {
   "cell_type": "code",
   "execution_count": 14,
   "metadata": {
    "ExecuteTime": {
     "end_time": "2021-07-23T10:35:06.493892Z",
     "start_time": "2021-07-23T10:34:57.855378Z"
    }
   },
   "outputs": [
    {
     "name": "stderr",
     "output_type": "stream",
     "text": [
      "Downloading...\n",
      "From: https://drive.google.com/uc?id=1TwKDZ24Gp76MhZFP4kRee2uAJYtYZLve\n",
      "To: C:\\Users\\N\\OneDrive\\WorkJ\\Machine Learning\\Machine_Learning\\creditcard.csv\n",
      "151MB [00:04, 35.9MB/s] \n"
     ]
    }
   ],
   "source": [
    "import gdown\n",
    "import os\n",
    "import pandas as pd\n",
    "from sklearn.model_selection import train_test_split\n",
    "# https://drive.google.com/file/d/1TwKDZ24Gp76MhZFP4kRee2uAJYtYZLve/view?usp=sharing\n",
    "def get_creditcard_dataset():\n",
    "\n",
    "    google_path = 'https://drive.google.com/uc?id='\n",
    "    file_id_train = '1TwKDZ24Gp76MhZFP4kRee2uAJYtYZLve'\n",
    "\n",
    "    gdown.download(google_path+file_id_train,'creditcard.csv',quiet=False)\n",
    "   \n",
    "    \n",
    "    X = pd.read_csv('creditcard.csv')\n",
    "    y = X.iloc[:,[-1]]\n",
    "    X = X.iloc[:,:-1]\n",
    "    \n",
    "    os.remove('creditcard.csv')\n",
    "\n",
    "    \n",
    "    return X, y\n",
    "\n",
    "X, y = get_creditcard_dataset()"
   ]
  },
  {
   "cell_type": "markdown",
   "metadata": {},
   "source": [
    "df로 환원"
   ]
  },
  {
   "cell_type": "code",
   "execution_count": 15,
   "metadata": {
    "ExecuteTime": {
     "end_time": "2021-07-23T10:35:14.371453Z",
     "start_time": "2021-07-23T10:35:06.495874Z"
    }
   },
   "outputs": [
    {
     "name": "stderr",
     "output_type": "stream",
     "text": [
      "Downloading...\n",
      "From: https://drive.google.com/uc?id=1TwKDZ24Gp76MhZFP4kRee2uAJYtYZLve\n",
      "To: C:\\Users\\N\\OneDrive\\WorkJ\\Machine Learning\\Machine_Learning\\creditcard.csv\n",
      "151MB [00:04, 36.6MB/s] \n"
     ]
    }
   ],
   "source": [
    "import gdown\n",
    "import os\n",
    "import pandas as pd\n",
    "from sklearn.model_selection import train_test_split\n",
    "# https://drive.google.com/file/d/1TwKDZ24Gp76MhZFP4kRee2uAJYtYZLve/view?usp=sharing\n",
    "def get_creditcard_dataset():\n",
    "\n",
    "    google_path = 'https://drive.google.com/uc?id='\n",
    "    file_id_train = '1TwKDZ24Gp76MhZFP4kRee2uAJYtYZLve'\n",
    "\n",
    "    gdown.download(google_path+file_id_train,'creditcard.csv',quiet=False)\n",
    "   \n",
    "    \n",
    "    X = pd.read_csv('creditcard.csv')\n",
    "    y = X.iloc[:,[-1]]\n",
    "    X = X.iloc[:,:-1]\n",
    "    \n",
    "    os.remove('creditcard.csv')\n",
    "\n",
    "    \n",
    "    return X, y\n",
    "\n",
    "X, y = get_creditcard_dataset()"
   ]
  },
  {
   "cell_type": "code",
   "execution_count": 16,
   "metadata": {
    "ExecuteTime": {
     "end_time": "2021-07-23T10:35:14.386456Z",
     "start_time": "2021-07-23T10:35:14.374456Z"
    }
   },
   "outputs": [],
   "source": [
    "from sklearn.metrics import confusion_matrix, accuracy_score, precision_score, recall_score, roc_auc_score\n",
    "from sklearn.metrics import f1_score\n",
    "\n",
    "def plot_conf_mat(conf_mat):\n",
    "    import matplotlib.pyplot as plt\n",
    "    \n",
    "    fig, ax = plt.subplots(figsize=(2.5, 2.5))\n",
    "    ax.matshow(conf_mat, cmap=plt.cm.Blues, alpha=0.3)\n",
    "    for i in range(conf_mat.shape[0]):\n",
    "        for j in range(conf_mat.shape[1]):\n",
    "            ax.text(x=j, y=i, s=conf_mat[i, j], va='center', ha='center',fontsize=19)\n",
    "    \n",
    "    plt.xlabel('Predicted label')\n",
    "    plt.ylabel('True label')\n",
    "    plt.tight_layout()\n",
    "    plt.show()\n",
    "\n",
    "def get_clf_eval(y_test, pred=None, pred_proba=None):\n",
    "    confusion = confusion_matrix(y_test, pred)\n",
    "    accuracy = accuracy_score(y_test, pred)\n",
    "    precision = precision_score(y_test, pred)\n",
    "    recall = recall_score(y_test, pred)\n",
    "    f1 = f1_score(y_test, pred)\n",
    "    roc_auc = roc_auc_score(y_test, pred_proba)\n",
    "#     print('오차 행렬')\n",
    "#     plot_conf_mat(confusion)\n",
    "#     print('정확도:{0:.4f}, 정밀도:{1:.4f}, 재현율:{2:.4f}, F1_score:{3:.4f},\\\n",
    "#             AUC: {4:.4f}'.format(accuracy, precision, recall, f1, roc_auc))\n",
    "    \n",
    "    return accuracy, precision, recall, f1, roc_auc"
   ]
  },
  {
   "cell_type": "code",
   "execution_count": 17,
   "metadata": {
    "ExecuteTime": {
     "end_time": "2021-07-23T10:35:14.401464Z",
     "start_time": "2021-07-23T10:35:14.390458Z"
    }
   },
   "outputs": [],
   "source": [
    "def get_model_train_eval(model, X_train, y_train, X_test, y_test):\n",
    "    model.fit(X_train, y_train)\n",
    "    pred = model.predict(X_test)\n",
    "    pred_proba = model.predict_proba(X_test)[:, 1]\n",
    "    \n",
    "    model_name = str(type(model)).split('.')[-1][:-2]\n",
    "    accuracy, precision, recall, f1, roc_auc = get_clf_eval(y_test, pred, pred_proba)\n",
    "    \n",
    "    return model_name, accuracy, precision, recall, f1, roc_auc"
   ]
  },
  {
   "cell_type": "code",
   "execution_count": 18,
   "metadata": {
    "ExecuteTime": {
     "end_time": "2021-07-23T10:35:15.229667Z",
     "start_time": "2021-07-23T10:35:14.403464Z"
    }
   },
   "outputs": [],
   "source": [
    "from sklearn.linear_model import LogisticRegression\n",
    "from lightgbm import LGBMClassifier\n",
    "\n",
    "lr_clf = LogisticRegression()\n",
    "lgbm_model= LGBMClassifier(n_estimators=1000, num_leaves=64, n_jobs=-1, boost_from_average=False)"
   ]
  },
  {
   "cell_type": "code",
   "execution_count": 19,
   "metadata": {
    "ExecuteTime": {
     "end_time": "2021-07-23T10:35:15.244657Z",
     "start_time": "2021-07-23T10:35:15.231656Z"
    }
   },
   "outputs": [],
   "source": [
    "def get_train_test_dataset(df_X=None, df_y=None, scaler=None, test_size=0.3, random_state=0):\n",
    "    df_copy = get_preprocessed_df(df_X, scaler)\n",
    "    X_train, X_test, y_train, y_test = train_test_split(df_copy, df_y, test_size=test_size, \n",
    "                                            random_state=random_state, stratify = df_y)\n",
    "    \n",
    "    return X_train, X_test, y_train, y_test\n",
    "    \n"
   ]
  },
  {
   "cell_type": "code",
   "execution_count": 20,
   "metadata": {
    "ExecuteTime": {
     "end_time": "2021-07-23T10:35:15.259668Z",
     "start_time": "2021-07-23T10:35:15.246659Z"
    }
   },
   "outputs": [],
   "source": [
    "from sklearn.preprocessing import StandardScaler, MinMaxScaler, MaxAbsScaler, RobustScaler\n",
    "import numpy as np\n",
    "\n",
    "scalers = [StandardScaler(), MinMaxScaler(), MaxAbsScaler(), RobustScaler(), 'log1p']\n",
    "\n",
    "def get_preprocessed_df(df, scaler):\n",
    "    df_copy = df.copy()\n",
    "    if scaler=='log1p':\n",
    "        df_copy['Amount_S'] = np.log1p(df_copy['Amount'].values.reshape(-1, 1))\n",
    "    else:\n",
    "        df_copy['Amount_S'] = scaler.fit_transform(df_copy['Amount'].values.reshape(-1, 1))\n",
    "    \n",
    "    df_copy.drop(['Time', 'Amount'], axis=1, inplace=True)\n",
    "    \n",
    "    return df_copy"
   ]
  },
  {
   "cell_type": "code",
   "execution_count": 21,
   "metadata": {
    "ExecuteTime": {
     "end_time": "2021-07-23T10:36:22.902234Z",
     "start_time": "2021-07-23T10:35:15.261662Z"
    },
    "scrolled": true
   },
   "outputs": [],
   "source": [
    "result_df = pd.DataFrame(columns=['name', 'accuracy', 'precision', 'recall', 'f1', 'roc_auc'])\n",
    "idx=0\n",
    "for scaler in scalers:\n",
    "    \n",
    "    X_train, X_test, y_train, y_test = get_train_test_dataset(X, y,  scaler)\n",
    "    if scaler == 'log1p':\n",
    "        scaler_name= 'log1p'\n",
    "    else:\n",
    "        scaler_name = str(type(scaler)).split('.')[-1][:-2][:-len('Scaler')]\n",
    "        \n",
    "    model_name, accuracy, precision, recall, f1, roc_auc = get_model_train_eval(lr_clf, X_train, y_train, X_test, y_test)\n",
    "    result_df.loc[idx] = str(model_name + scaler_name), accuracy, precision, recall, f1, roc_auc\n",
    "    idx +=1\n",
    "    \n",
    "    model_name, accuracy, precision, recall, f1, roc_auc = get_model_train_eval(lgbm_model, X_train, y_train, X_test, y_test)\n",
    "    result_df.loc[idx] = str(model_name + scaler_name), accuracy, precision, recall, f1, roc_auc\n",
    "    idx +=1"
   ]
  },
  {
   "cell_type": "code",
   "execution_count": 22,
   "metadata": {
    "ExecuteTime": {
     "end_time": "2021-07-23T10:36:22.917427Z",
     "start_time": "2021-07-23T10:36:22.903422Z"
    }
   },
   "outputs": [
    {
     "data": {
      "text/html": [
       "<div>\n",
       "<style scoped>\n",
       "    .dataframe tbody tr th:only-of-type {\n",
       "        vertical-align: middle;\n",
       "    }\n",
       "\n",
       "    .dataframe tbody tr th {\n",
       "        vertical-align: top;\n",
       "    }\n",
       "\n",
       "    .dataframe thead th {\n",
       "        text-align: right;\n",
       "    }\n",
       "</style>\n",
       "<table border=\"1\" class=\"dataframe\">\n",
       "  <thead>\n",
       "    <tr style=\"text-align: right;\">\n",
       "      <th></th>\n",
       "      <th>name</th>\n",
       "      <th>accuracy</th>\n",
       "      <th>precision</th>\n",
       "      <th>recall</th>\n",
       "      <th>f1</th>\n",
       "      <th>roc_auc</th>\n",
       "    </tr>\n",
       "  </thead>\n",
       "  <tbody>\n",
       "    <tr>\n",
       "      <th>0</th>\n",
       "      <td>LogisticRegressionStandard</td>\n",
       "      <td>0.999157</td>\n",
       "      <td>0.865385</td>\n",
       "      <td>0.608108</td>\n",
       "      <td>0.714286</td>\n",
       "      <td>0.970227</td>\n",
       "    </tr>\n",
       "    <tr>\n",
       "      <th>1</th>\n",
       "      <td>LGBMClassifierStandard</td>\n",
       "      <td>0.999532</td>\n",
       "      <td>0.965517</td>\n",
       "      <td>0.756757</td>\n",
       "      <td>0.848485</td>\n",
       "      <td>0.978225</td>\n",
       "    </tr>\n",
       "    <tr>\n",
       "      <th>2</th>\n",
       "      <td>LogisticRegressionMinMax</td>\n",
       "      <td>0.999181</td>\n",
       "      <td>0.882353</td>\n",
       "      <td>0.608108</td>\n",
       "      <td>0.720000</td>\n",
       "      <td>0.971258</td>\n",
       "    </tr>\n",
       "    <tr>\n",
       "      <th>3</th>\n",
       "      <td>LGBMClassifierMinMax</td>\n",
       "      <td>0.999520</td>\n",
       "      <td>0.957265</td>\n",
       "      <td>0.756757</td>\n",
       "      <td>0.845283</td>\n",
       "      <td>0.979034</td>\n",
       "    </tr>\n",
       "    <tr>\n",
       "      <th>4</th>\n",
       "      <td>LogisticRegressionMaxAbs</td>\n",
       "      <td>0.999181</td>\n",
       "      <td>0.882353</td>\n",
       "      <td>0.608108</td>\n",
       "      <td>0.720000</td>\n",
       "      <td>0.971258</td>\n",
       "    </tr>\n",
       "    <tr>\n",
       "      <th>5</th>\n",
       "      <td>LGBMClassifierMaxAbs</td>\n",
       "      <td>0.999520</td>\n",
       "      <td>0.957265</td>\n",
       "      <td>0.756757</td>\n",
       "      <td>0.845283</td>\n",
       "      <td>0.979034</td>\n",
       "    </tr>\n",
       "    <tr>\n",
       "      <th>6</th>\n",
       "      <td>LogisticRegressionRobust</td>\n",
       "      <td>0.999157</td>\n",
       "      <td>0.865385</td>\n",
       "      <td>0.608108</td>\n",
       "      <td>0.714286</td>\n",
       "      <td>0.970216</td>\n",
       "    </tr>\n",
       "    <tr>\n",
       "      <th>7</th>\n",
       "      <td>LGBMClassifierRobust</td>\n",
       "      <td>0.999520</td>\n",
       "      <td>0.957265</td>\n",
       "      <td>0.756757</td>\n",
       "      <td>0.845283</td>\n",
       "      <td>0.979108</td>\n",
       "    </tr>\n",
       "    <tr>\n",
       "      <th>8</th>\n",
       "      <td>LogisticRegressionlog1p</td>\n",
       "      <td>0.999169</td>\n",
       "      <td>0.881188</td>\n",
       "      <td>0.601351</td>\n",
       "      <td>0.714859</td>\n",
       "      <td>0.972683</td>\n",
       "    </tr>\n",
       "    <tr>\n",
       "      <th>9</th>\n",
       "      <td>LGBMClassifierlog1p</td>\n",
       "      <td>0.999520</td>\n",
       "      <td>0.957265</td>\n",
       "      <td>0.756757</td>\n",
       "      <td>0.845283</td>\n",
       "      <td>0.979034</td>\n",
       "    </tr>\n",
       "  </tbody>\n",
       "</table>\n",
       "</div>"
      ],
      "text/plain": [
       "                         name  accuracy  precision    recall        f1  \\\n",
       "0  LogisticRegressionStandard  0.999157   0.865385  0.608108  0.714286   \n",
       "1      LGBMClassifierStandard  0.999532   0.965517  0.756757  0.848485   \n",
       "2    LogisticRegressionMinMax  0.999181   0.882353  0.608108  0.720000   \n",
       "3        LGBMClassifierMinMax  0.999520   0.957265  0.756757  0.845283   \n",
       "4    LogisticRegressionMaxAbs  0.999181   0.882353  0.608108  0.720000   \n",
       "5        LGBMClassifierMaxAbs  0.999520   0.957265  0.756757  0.845283   \n",
       "6    LogisticRegressionRobust  0.999157   0.865385  0.608108  0.714286   \n",
       "7        LGBMClassifierRobust  0.999520   0.957265  0.756757  0.845283   \n",
       "8     LogisticRegressionlog1p  0.999169   0.881188  0.601351  0.714859   \n",
       "9         LGBMClassifierlog1p  0.999520   0.957265  0.756757  0.845283   \n",
       "\n",
       "    roc_auc  \n",
       "0  0.970227  \n",
       "1  0.978225  \n",
       "2  0.971258  \n",
       "3  0.979034  \n",
       "4  0.971258  \n",
       "5  0.979034  \n",
       "6  0.970216  \n",
       "7  0.979108  \n",
       "8  0.972683  \n",
       "9  0.979034  "
      ]
     },
     "execution_count": 22,
     "metadata": {},
     "output_type": "execute_result"
    }
   ],
   "source": [
    "result_df"
   ]
  },
  {
   "cell_type": "code",
   "execution_count": 23,
   "metadata": {
    "ExecuteTime": {
     "end_time": "2021-07-23T10:36:22.947452Z",
     "start_time": "2021-07-23T10:36:22.920428Z"
    }
   },
   "outputs": [
    {
     "data": {
      "text/html": [
       "<div>\n",
       "<style scoped>\n",
       "    .dataframe tbody tr th:only-of-type {\n",
       "        vertical-align: middle;\n",
       "    }\n",
       "\n",
       "    .dataframe tbody tr th {\n",
       "        vertical-align: top;\n",
       "    }\n",
       "\n",
       "    .dataframe thead th {\n",
       "        text-align: right;\n",
       "    }\n",
       "</style>\n",
       "<table border=\"1\" class=\"dataframe\">\n",
       "  <thead>\n",
       "    <tr style=\"text-align: right;\">\n",
       "      <th></th>\n",
       "      <th>name</th>\n",
       "      <th>accuracy</th>\n",
       "      <th>precision</th>\n",
       "      <th>recall</th>\n",
       "      <th>f1</th>\n",
       "      <th>roc_auc</th>\n",
       "    </tr>\n",
       "  </thead>\n",
       "  <tbody>\n",
       "    <tr>\n",
       "      <th>7</th>\n",
       "      <td>LGBMClassifierRobust</td>\n",
       "      <td>0.999520</td>\n",
       "      <td>0.957265</td>\n",
       "      <td>0.756757</td>\n",
       "      <td>0.845283</td>\n",
       "      <td>0.979108</td>\n",
       "    </tr>\n",
       "    <tr>\n",
       "      <th>3</th>\n",
       "      <td>LGBMClassifierMinMax</td>\n",
       "      <td>0.999520</td>\n",
       "      <td>0.957265</td>\n",
       "      <td>0.756757</td>\n",
       "      <td>0.845283</td>\n",
       "      <td>0.979034</td>\n",
       "    </tr>\n",
       "    <tr>\n",
       "      <th>5</th>\n",
       "      <td>LGBMClassifierMaxAbs</td>\n",
       "      <td>0.999520</td>\n",
       "      <td>0.957265</td>\n",
       "      <td>0.756757</td>\n",
       "      <td>0.845283</td>\n",
       "      <td>0.979034</td>\n",
       "    </tr>\n",
       "    <tr>\n",
       "      <th>9</th>\n",
       "      <td>LGBMClassifierlog1p</td>\n",
       "      <td>0.999520</td>\n",
       "      <td>0.957265</td>\n",
       "      <td>0.756757</td>\n",
       "      <td>0.845283</td>\n",
       "      <td>0.979034</td>\n",
       "    </tr>\n",
       "    <tr>\n",
       "      <th>1</th>\n",
       "      <td>LGBMClassifierStandard</td>\n",
       "      <td>0.999532</td>\n",
       "      <td>0.965517</td>\n",
       "      <td>0.756757</td>\n",
       "      <td>0.848485</td>\n",
       "      <td>0.978225</td>\n",
       "    </tr>\n",
       "    <tr>\n",
       "      <th>8</th>\n",
       "      <td>LogisticRegressionlog1p</td>\n",
       "      <td>0.999169</td>\n",
       "      <td>0.881188</td>\n",
       "      <td>0.601351</td>\n",
       "      <td>0.714859</td>\n",
       "      <td>0.972683</td>\n",
       "    </tr>\n",
       "    <tr>\n",
       "      <th>2</th>\n",
       "      <td>LogisticRegressionMinMax</td>\n",
       "      <td>0.999181</td>\n",
       "      <td>0.882353</td>\n",
       "      <td>0.608108</td>\n",
       "      <td>0.720000</td>\n",
       "      <td>0.971258</td>\n",
       "    </tr>\n",
       "    <tr>\n",
       "      <th>4</th>\n",
       "      <td>LogisticRegressionMaxAbs</td>\n",
       "      <td>0.999181</td>\n",
       "      <td>0.882353</td>\n",
       "      <td>0.608108</td>\n",
       "      <td>0.720000</td>\n",
       "      <td>0.971258</td>\n",
       "    </tr>\n",
       "    <tr>\n",
       "      <th>0</th>\n",
       "      <td>LogisticRegressionStandard</td>\n",
       "      <td>0.999157</td>\n",
       "      <td>0.865385</td>\n",
       "      <td>0.608108</td>\n",
       "      <td>0.714286</td>\n",
       "      <td>0.970227</td>\n",
       "    </tr>\n",
       "    <tr>\n",
       "      <th>6</th>\n",
       "      <td>LogisticRegressionRobust</td>\n",
       "      <td>0.999157</td>\n",
       "      <td>0.865385</td>\n",
       "      <td>0.608108</td>\n",
       "      <td>0.714286</td>\n",
       "      <td>0.970216</td>\n",
       "    </tr>\n",
       "  </tbody>\n",
       "</table>\n",
       "</div>"
      ],
      "text/plain": [
       "                         name  accuracy  precision    recall        f1  \\\n",
       "7        LGBMClassifierRobust  0.999520   0.957265  0.756757  0.845283   \n",
       "3        LGBMClassifierMinMax  0.999520   0.957265  0.756757  0.845283   \n",
       "5        LGBMClassifierMaxAbs  0.999520   0.957265  0.756757  0.845283   \n",
       "9         LGBMClassifierlog1p  0.999520   0.957265  0.756757  0.845283   \n",
       "1      LGBMClassifierStandard  0.999532   0.965517  0.756757  0.848485   \n",
       "8     LogisticRegressionlog1p  0.999169   0.881188  0.601351  0.714859   \n",
       "2    LogisticRegressionMinMax  0.999181   0.882353  0.608108  0.720000   \n",
       "4    LogisticRegressionMaxAbs  0.999181   0.882353  0.608108  0.720000   \n",
       "0  LogisticRegressionStandard  0.999157   0.865385  0.608108  0.714286   \n",
       "6    LogisticRegressionRobust  0.999157   0.865385  0.608108  0.714286   \n",
       "\n",
       "    roc_auc  \n",
       "7  0.979108  \n",
       "3  0.979034  \n",
       "5  0.979034  \n",
       "9  0.979034  \n",
       "1  0.978225  \n",
       "8  0.972683  \n",
       "2  0.971258  \n",
       "4  0.971258  \n",
       "0  0.970227  \n",
       "6  0.970216  "
      ]
     },
     "execution_count": 23,
     "metadata": {},
     "output_type": "execute_result"
    }
   ],
   "source": [
    "result_df.sort_values(['roc_auc','f1'], ascending=False)"
   ]
  },
  {
   "cell_type": "markdown",
   "metadata": {},
   "source": [
    "# 출처:\n",
    "\n",
    "* <a href='https://github.com/SeWonKwon' ><div> <img src ='https://slid-capture.s3.ap-northeast-2.amazonaws.com/public/image_upload/6556674324ed41a289a354258718280d/964e5a8b-75ad-41fc-ae75-0ca66d06fbc7.png' align='left' /> </div></a>\n",
    "\n",
    "<br>\n",
    "\n",
    "* 빅데이터분석기사 필기, DataEDU\n",
    "\n",
    "* [이수안컴퓨터연구소](https://www.youtube.com/c/%EC%9D%B4%EC%88%98%EC%95%88%EC%BB%B4%ED%93%A8%ED%84%B0%EC%97%B0%EA%B5%AC%EC%86%8C)\n",
    "\n",
    "* [R Friend](https://rfriend.tistory.com/636)\n",
    "\n",
    "* [sklearn](https://scikit-learn.org/)"
   ]
  }
 ],
 "metadata": {
  "kernelspec": {
   "display_name": "Python 3",
   "language": "python",
   "name": "python3"
  },
  "language_info": {
   "codemirror_mode": {
    "name": "ipython",
    "version": 3
   },
   "file_extension": ".py",
   "mimetype": "text/x-python",
   "name": "python",
   "nbconvert_exporter": "python",
   "pygments_lexer": "ipython3",
   "version": "3.8.5"
  },
  "toc": {
   "base_numbering": 1,
   "nav_menu": {},
   "number_sections": true,
   "sideBar": true,
   "skip_h1_title": false,
   "title_cell": "Table of Contents",
   "title_sidebar": "Contents",
   "toc_cell": false,
   "toc_position": {
    "height": "calc(100% - 180px)",
    "left": "10px",
    "top": "150px",
    "width": "334.901px"
   },
   "toc_section_display": true,
   "toc_window_display": true
  }
 },
 "nbformat": 4,
 "nbformat_minor": 4
}
