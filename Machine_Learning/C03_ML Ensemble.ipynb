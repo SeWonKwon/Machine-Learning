{
 "cells": [
  {
   "cell_type": "markdown",
   "metadata": {},
   "source": [
    "<a href='https://github.com/SeWonKwon' ><div> <img src ='https://slid-capture.s3.ap-northeast-2.amazonaws.com/public/image_upload/6556674324ed41a289a354258718280d/964e5a8b-75ad-41fc-ae75-0ca66d06fbc7.png' align='left' /> </div></a>\n"
   ]
  },
  {
   "cell_type": "code",
   "execution_count": 1,
   "metadata": {
    "ExecuteTime": {
     "end_time": "2021-07-24T03:59:31.140254Z",
     "start_time": "2021-07-24T03:59:31.131253Z"
    }
   },
   "outputs": [],
   "source": [
    "# 필요 라이브러리 import\n",
    "import warnings\n",
    "warnings.filterwarnings('ignore')\n"
   ]
  },
  {
   "cell_type": "code",
   "execution_count": 2,
   "metadata": {
    "ExecuteTime": {
     "end_time": "2021-07-24T03:59:32.058937Z",
     "start_time": "2021-07-24T03:59:31.147245Z"
    }
   },
   "outputs": [],
   "source": [
    "import gdown\n",
    "import os\n",
    "def get_human_dataset():\n",
    "\n",
    "    google_path = 'https://drive.google.com/uc?id='\n",
    "    file_id_train = '16dVeNybWyjHnucmeIuLtzfdX2qFZSUEG'\n",
    "    file_id_test = '1WFAOJNz8Ovj2olAHB_TvSHbjUN-zDIQU'\n",
    "\n",
    "    gdown.download(google_path+file_id_train,'human_train.csv',quiet=False)\n",
    "    gdown.download(google_path+file_id_test,'human_test.csv',quiet=False)\n",
    "    \n",
    "    X_train = pd.read_csv('human_train.csv')\n",
    "    X_test = pd.read_csv('human_test.csv')\n",
    "    y_train = X_train.iloc[:,-1]\n",
    "    y_test = X_test.iloc[:, -1]\n",
    "    X_train = X_train.iloc[:,:-1]\n",
    "    X_test = X_test.iloc[:,:-1]\n",
    "    \n",
    "    os.remove('human_train.csv')\n",
    "    os.remove('human_test.csv')\n",
    "    \n",
    "    return X_train, X_test, y_train, y_test\n"
   ]
  },
  {
   "cell_type": "code",
   "execution_count": 3,
   "metadata": {
    "ExecuteTime": {
     "end_time": "2021-07-24T03:59:34.974364Z",
     "start_time": "2021-07-24T03:59:32.061943Z"
    }
   },
   "outputs": [],
   "source": [
    "\n",
    "from sklearn.metrics import confusion_matrix, accuracy_score, precision_score, recall_score, roc_auc_score\n",
    "from sklearn.metrics import f1_score\n",
    "\n",
    "def plot_conf_mat(conf_mat):\n",
    "    import matplotlib.pyplot as plt\n",
    "    \n",
    "    fig, ax = plt.subplots(figsize=(2.5, 2.5))\n",
    "    ax.matshow(conf_mat, cmap=plt.cm.Blues, alpha=0.3)\n",
    "    for i in range(conf_mat.shape[0]):\n",
    "        for j in range(conf_mat.shape[1]):\n",
    "            ax.text(x=j, y=i, s=conf_mat[i, j], va='center', ha='center',fontsize=19)\n",
    "    \n",
    "    plt.xlabel('Predicted label')\n",
    "    plt.ylabel('True label')\n",
    "    plt.tight_layout()\n",
    "    plt.show()\n",
    "    \n",
    "def get_clf_eval(y_test, pred=None, pred_proba=None):\n",
    "    confusion = confusion_matrix(y_test, pred)\n",
    "    accuracy = accuracy_score(y_test, pred)\n",
    "    precision = precision_score(y_test, pred)\n",
    "    recall = recall_score(y_test, pred)\n",
    "    f1 = f1_score(y_test, pred)\n",
    "    roc_auc = roc_auc_score(y_test, pred_proba)\n",
    "    print('오차 행렬')\n",
    "    plot_conf_mat(confusion)\n",
    "    print('정확도:{0:.4f}, 정밀도:{1:.4f}, 재현율:{2:.4f}, F1_score:{3:.4f},\\\n",
    "            AUC: {4:.4f}'.format(accuracy, precision, recall, f1, roc_auc))"
   ]
  },
  {
   "cell_type": "markdown",
   "metadata": {},
   "source": [
    "# Voting, Bagging, Boosting, Stacking"
   ]
  },
  {
   "cell_type": "markdown",
   "metadata": {},
   "source": [
    "* 방식별 주요 구분점\n",
    "|유형|방식|\n",
    "|:-:|:-|\n",
    "|Voting|서로 다른 알고리즘을 가진 분류기의 결합|\n",
    "|Bagging|같은 알고리즘이지만, 서로 다른  데이터 샘플링|\n",
    "|Boosting|여러개의 분류기의 순차적 학습 수행|\n",
    "|Stacking| | "
   ]
  },
  {
   "cell_type": "markdown",
   "metadata": {},
   "source": [
    "# Voting & Bagging"
   ]
  },
  {
   "cell_type": "markdown",
   "metadata": {},
   "source": [
    "분류기가 투표를 통해 최종 예측 결과를 결정하는 방식\n",
    "\n",
    "<div> <img src='https://media.vlpt.us/images/jiselectric/post/49803ffd-d915-403f-8c78-9fe5ee26ad1d/%E1%84%89%E1%85%B3%E1%84%8F%E1%85%B3%E1%84%85%E1%85%B5%E1%86%AB%E1%84%89%E1%85%A3%E1%86%BA%202021-01-14%20%E1%84%8B%E1%85%A9%E1%84%8C%E1%85%A5%E1%86%AB%201.02.01.png' width='500'/> 출처 : 파이썬 완벽 가이드</div>"
   ]
  },
  {
   "cell_type": "markdown",
   "metadata": {},
   "source": [
    "**Voting**\n",
    "\n",
    "* Generally combine different classifiers\n",
    "* Classifiers use identical dataset\n",
    "\n",
    "**Bagging**\n",
    "\n",
    "* Generally use identical classifiers\n",
    "* Classifiers use different datasets"
   ]
  },
  {
   "cell_type": "markdown",
   "metadata": {},
   "source": [
    "## Voting "
   ]
  },
  {
   "cell_type": "markdown",
   "metadata": {},
   "source": [
    "### Voting 유형\n",
    "1. 하드보팅 - Hard voting은 다수의 classifier의 예측 결과값을 다수결로 최종 class를 결정한다.\n",
    "2. 소프트보팅 - Soft voting은 다수의 classifier의 예측 결과값간 확률을 평균하여 최종 class를 결정한다.\n",
    "\n",
    "- 일반적으로 Soft voting이 성능이 우수하여 주로 사용된다. \n"
   ]
  },
  {
   "cell_type": "markdown",
   "metadata": {},
   "source": [
    "<div><img src='https://img1.daumcdn.net/thumb/R1280x0/?scode=mtistory2&fname=https%3A%2F%2Fblog.kakaocdn.net%2Fdn%2FcvYig2%2FbtqKsojGyfl%2FiKazMxfc8GKeWa1OHYjHH0%2Fimg.png' width='500' /><br> 출처 : 파이썬 완변 가이드</div>"
   ]
  },
  {
   "cell_type": "markdown",
   "metadata": {},
   "source": [
    ">하드보팅: 1 , 2 , 1, 1 --> 1: 3, 2:1 --> 최종값 `1`   \n",
    ">소프트보팅: 1: (0.7 + 0.2 + 0.8 + 0.9) / 4, 2:(0.3 + 0.8 + 0.2 + 0.1 ) / 4 --> 1: 0.65, 2: 0.35 --> 최종값:`1`"
   ]
  },
  {
   "cell_type": "markdown",
   "metadata": {},
   "source": [
    "### Voting Classifier "
   ]
  },
  {
   "cell_type": "code",
   "execution_count": 4,
   "metadata": {
    "ExecuteTime": {
     "end_time": "2021-07-24T03:59:35.836507Z",
     "start_time": "2021-07-24T03:59:34.976366Z"
    },
    "scrolled": true
   },
   "outputs": [
    {
     "data": {
      "text/html": [
       "<div>\n",
       "<style scoped>\n",
       "    .dataframe tbody tr th:only-of-type {\n",
       "        vertical-align: middle;\n",
       "    }\n",
       "\n",
       "    .dataframe tbody tr th {\n",
       "        vertical-align: top;\n",
       "    }\n",
       "\n",
       "    .dataframe thead th {\n",
       "        text-align: right;\n",
       "    }\n",
       "</style>\n",
       "<table border=\"1\" class=\"dataframe\">\n",
       "  <thead>\n",
       "    <tr style=\"text-align: right;\">\n",
       "      <th></th>\n",
       "      <th>mean radius</th>\n",
       "      <th>mean texture</th>\n",
       "      <th>mean perimeter</th>\n",
       "      <th>mean area</th>\n",
       "      <th>mean smoothness</th>\n",
       "      <th>mean compactness</th>\n",
       "      <th>mean concavity</th>\n",
       "      <th>mean concave points</th>\n",
       "      <th>mean symmetry</th>\n",
       "      <th>mean fractal dimension</th>\n",
       "      <th>...</th>\n",
       "      <th>worst radius</th>\n",
       "      <th>worst texture</th>\n",
       "      <th>worst perimeter</th>\n",
       "      <th>worst area</th>\n",
       "      <th>worst smoothness</th>\n",
       "      <th>worst compactness</th>\n",
       "      <th>worst concavity</th>\n",
       "      <th>worst concave points</th>\n",
       "      <th>worst symmetry</th>\n",
       "      <th>worst fractal dimension</th>\n",
       "    </tr>\n",
       "  </thead>\n",
       "  <tbody>\n",
       "    <tr>\n",
       "      <th>0</th>\n",
       "      <td>17.99</td>\n",
       "      <td>10.38</td>\n",
       "      <td>122.8</td>\n",
       "      <td>1001.0</td>\n",
       "      <td>0.11840</td>\n",
       "      <td>0.27760</td>\n",
       "      <td>0.3001</td>\n",
       "      <td>0.14710</td>\n",
       "      <td>0.2419</td>\n",
       "      <td>0.07871</td>\n",
       "      <td>...</td>\n",
       "      <td>25.38</td>\n",
       "      <td>17.33</td>\n",
       "      <td>184.6</td>\n",
       "      <td>2019.0</td>\n",
       "      <td>0.1622</td>\n",
       "      <td>0.6656</td>\n",
       "      <td>0.7119</td>\n",
       "      <td>0.2654</td>\n",
       "      <td>0.4601</td>\n",
       "      <td>0.11890</td>\n",
       "    </tr>\n",
       "    <tr>\n",
       "      <th>1</th>\n",
       "      <td>20.57</td>\n",
       "      <td>17.77</td>\n",
       "      <td>132.9</td>\n",
       "      <td>1326.0</td>\n",
       "      <td>0.08474</td>\n",
       "      <td>0.07864</td>\n",
       "      <td>0.0869</td>\n",
       "      <td>0.07017</td>\n",
       "      <td>0.1812</td>\n",
       "      <td>0.05667</td>\n",
       "      <td>...</td>\n",
       "      <td>24.99</td>\n",
       "      <td>23.41</td>\n",
       "      <td>158.8</td>\n",
       "      <td>1956.0</td>\n",
       "      <td>0.1238</td>\n",
       "      <td>0.1866</td>\n",
       "      <td>0.2416</td>\n",
       "      <td>0.1860</td>\n",
       "      <td>0.2750</td>\n",
       "      <td>0.08902</td>\n",
       "    </tr>\n",
       "  </tbody>\n",
       "</table>\n",
       "<p>2 rows × 30 columns</p>\n",
       "</div>"
      ],
      "text/plain": [
       "   mean radius  mean texture  mean perimeter  mean area  mean smoothness  \\\n",
       "0        17.99         10.38           122.8     1001.0          0.11840   \n",
       "1        20.57         17.77           132.9     1326.0          0.08474   \n",
       "\n",
       "   mean compactness  mean concavity  mean concave points  mean symmetry  \\\n",
       "0           0.27760          0.3001              0.14710         0.2419   \n",
       "1           0.07864          0.0869              0.07017         0.1812   \n",
       "\n",
       "   mean fractal dimension  ...  worst radius  worst texture  worst perimeter  \\\n",
       "0                 0.07871  ...         25.38          17.33            184.6   \n",
       "1                 0.05667  ...         24.99          23.41            158.8   \n",
       "\n",
       "   worst area  worst smoothness  worst compactness  worst concavity  \\\n",
       "0      2019.0            0.1622             0.6656           0.7119   \n",
       "1      1956.0            0.1238             0.1866           0.2416   \n",
       "\n",
       "   worst concave points  worst symmetry  worst fractal dimension  \n",
       "0                0.2654          0.4601                  0.11890  \n",
       "1                0.1860          0.2750                  0.08902  \n",
       "\n",
       "[2 rows x 30 columns]"
      ]
     },
     "execution_count": 4,
     "metadata": {},
     "output_type": "execute_result"
    }
   ],
   "source": [
    "# 데이터 셋팅및 import & 로드\n",
    "import pandas as pd \n",
    "\n",
    "from sklearn.linear_model import LogisticRegression\n",
    "from sklearn.neighbors import KNeighborsClassifier\n",
    "from sklearn.svm import SVC\n",
    "from sklearn.datasets import load_breast_cancer\n",
    "from sklearn.model_selection import train_test_split\n",
    "from sklearn.metrics import accuracy_score\n",
    "from sklearn.model_selection import cross_val_score\n",
    "\n",
    "cancer = load_breast_cancer()\n",
    "data_df = pd.DataFrame(cancer.data, columns=cancer.feature_names)\n",
    "data_df.head(2)\n"
   ]
  },
  {
   "cell_type": "code",
   "execution_count": 5,
   "metadata": {
    "ExecuteTime": {
     "end_time": "2021-07-24T03:59:35.851512Z",
     "start_time": "2021-07-24T03:59:35.838514Z"
    }
   },
   "outputs": [],
   "source": [
    "X_train, X_test, y_train, y_test = train_test_split(cancer.data, cancer.target, \n",
    "                                                    test_size=0.2, random_state=156)"
   ]
  },
  {
   "cell_type": "markdown",
   "metadata": {},
   "source": [
    "보팅 모델 구성\n",
    "\n",
    "* 실제로 구성을 해보면, 여러개의 모델을 같이 구성하는 것이기 때문에 , 다양한 오류가 발생한다.\n",
    "\n",
    "* 오류를 모델별로 해결 하지 않으면 작동 하지 않을수 있다. \n",
    "\n",
    "* 밑에 보면 model 설정에, `solver=`, `probability=`등은 수정을 위해서 설정한 것임"
   ]
  },
  {
   "cell_type": "code",
   "execution_count": 6,
   "metadata": {
    "ExecuteTime": {
     "end_time": "2021-07-24T03:59:35.927129Z",
     "start_time": "2021-07-24T03:59:35.854512Z"
    }
   },
   "outputs": [],
   "source": [
    "from sklearn.ensemble import VotingClassifier\n",
    "\n",
    "model1 = LogisticRegression(solver='liblinear')\n",
    "model2 = KNeighborsClassifier()\n",
    "model3 = SVC(probability=True)\n",
    "\n",
    "voting_clf = VotingClassifier(estimators=[('LR', model1),\n",
    "                                         ('KNN', model2),\n",
    "                                         ('SVM', model3)],\n",
    "                              \n",
    "                             voting='hard')"
   ]
  },
  {
   "cell_type": "code",
   "execution_count": 7,
   "metadata": {
    "ExecuteTime": {
     "end_time": "2021-07-24T03:59:35.972143Z",
     "start_time": "2021-07-24T03:59:35.929128Z"
    },
    "scrolled": false
   },
   "outputs": [
    {
     "data": {
      "text/plain": [
       "VotingClassifier(estimators=[('LR', LogisticRegression(solver='liblinear')),\n",
       "                             ('KNN', KNeighborsClassifier()),\n",
       "                             ('SVM', SVC(probability=True))])"
      ]
     },
     "execution_count": 7,
     "metadata": {},
     "output_type": "execute_result"
    }
   ],
   "source": [
    "voting_clf.fit(X_train, y_train)"
   ]
  },
  {
   "cell_type": "code",
   "execution_count": 8,
   "metadata": {
    "ExecuteTime": {
     "end_time": "2021-07-24T03:59:35.987142Z",
     "start_time": "2021-07-24T03:59:35.975140Z"
    }
   },
   "outputs": [],
   "source": [
    "pred = voting_clf.predict(X_test)"
   ]
  },
  {
   "cell_type": "code",
   "execution_count": 9,
   "metadata": {
    "ExecuteTime": {
     "end_time": "2021-07-24T03:59:36.002148Z",
     "start_time": "2021-07-24T03:59:35.990142Z"
    },
    "scrolled": false
   },
   "outputs": [
    {
     "name": "stdout",
     "output_type": "stream",
     "text": [
      "Voting 분류기 정확도: 0.9474\n"
     ]
    }
   ],
   "source": [
    "print('Voting 분류기 정확도: {0:.4f}'.format(accuracy_score(y_test, pred)))"
   ]
  },
  {
   "cell_type": "code",
   "execution_count": 10,
   "metadata": {
    "ExecuteTime": {
     "end_time": "2021-07-24T03:59:36.243199Z",
     "start_time": "2021-07-24T03:59:36.004146Z"
    }
   },
   "outputs": [
    {
     "name": "stdout",
     "output_type": "stream",
     "text": [
      "Accuracy: 0.95 (+/- 0.01) [LogisticRegression]\n",
      "Accuracy: 0.93 (+/- 0.02) [KNeighborsClassifier]\n",
      "Accuracy: 0.91 (+/- 0.04) [SVC]\n",
      "Accuracy: 0.93 (+/- 0.03) [VotingClassifier]\n"
     ]
    }
   ],
   "source": [
    "models = [model1, model2, model3, voting_clf]\n",
    "for model in models:\n",
    "    scores = cross_val_score(model, cancer.data, cancer.target, cv=5)\n",
    "    model_name = str(type(model)).split('.')[-1][:-2]\n",
    "    print('Accuracy: %0.2f (+/- %0.2f) [%s]' % (scores.mean(), scores.std(), model_name))\n",
    "    "
   ]
  },
  {
   "cell_type": "markdown",
   "metadata": {},
   "source": [
    "결과를 보면 SVC 가 상당히 낮게 노이기 때문에 SVC 대신에 RandomForest를 넣어 보겠다. "
   ]
  },
  {
   "cell_type": "code",
   "execution_count": 11,
   "metadata": {
    "ExecuteTime": {
     "end_time": "2021-07-24T03:59:36.259204Z",
     "start_time": "2021-07-24T03:59:36.245200Z"
    }
   },
   "outputs": [],
   "source": [
    "from sklearn.ensemble import VotingClassifier\n",
    "from sklearn.ensemble import RandomForestClassifier\n",
    "\n",
    "model1 = LogisticRegression(solver='liblinear')\n",
    "model2 = KNeighborsClassifier()\n",
    "model3 = RandomForestClassifier()\n",
    "\n",
    "voting_clf = VotingClassifier(estimators=[('LR', model1),\n",
    "                                         ('KNN', model2),\n",
    "                                         ('RF', model3)],\n",
    "                              \n",
    "                             voting='soft')"
   ]
  },
  {
   "cell_type": "code",
   "execution_count": 12,
   "metadata": {
    "ExecuteTime": {
     "end_time": "2021-07-24T03:59:37.779690Z",
     "start_time": "2021-07-24T03:59:36.261203Z"
    }
   },
   "outputs": [
    {
     "name": "stdout",
     "output_type": "stream",
     "text": [
      "Accuracy: 0.9526 (+/- 0.0142) [LogisticRegression]\n",
      "Accuracy: 0.9279 (+/- 0.0218) [KNeighborsClassifier]\n",
      "Accuracy: 0.9649 (+/- 0.0157) [RandomForestClassifier]\n",
      "Accuracy: 0.9561 (+/- 0.0184) [VotingClassifier]\n"
     ]
    }
   ],
   "source": [
    "models = [model1, model2, model3, voting_clf]\n",
    "for model in models:\n",
    "    scores = cross_val_score(model, cancer.data, cancer.target, cv=5)\n",
    "    model_name = str(type(model)).split('.')[-1][:-2]\n",
    "    print('Accuracy: %0.4f (+/- %0.4f) [%s]' % (scores.mean(), scores.std(), model_name))"
   ]
  },
  {
   "cell_type": "markdown",
   "metadata": {},
   "source": [
    "역시 RandomForest가 가장 잘나온다. 그렇다면 RandomForest를 2개 넣고, KNN 을 제거해 보자\n",
    "* 2개를 넣을때는 estimator 이름을 서로 다르게 해야 한다. "
   ]
  },
  {
   "cell_type": "code",
   "execution_count": 13,
   "metadata": {
    "ExecuteTime": {
     "end_time": "2021-07-24T03:59:37.794693Z",
     "start_time": "2021-07-24T03:59:37.781673Z"
    }
   },
   "outputs": [],
   "source": [
    "from sklearn.ensemble import VotingClassifier\n",
    "from sklearn.ensemble import RandomForestClassifier\n",
    "\n",
    "model1 = LogisticRegression(solver='liblinear')\n",
    "model2 = RandomForestClassifier()\n",
    "model3 = RandomForestClassifier()\n",
    "\n",
    "voting_clf = VotingClassifier(estimators=[('LR', model1),\n",
    "                                         ('RF', model2),\n",
    "                                         ('RF2', model3)],\n",
    "                              \n",
    "                             voting='soft')"
   ]
  },
  {
   "cell_type": "code",
   "execution_count": 14,
   "metadata": {
    "ExecuteTime": {
     "end_time": "2021-07-24T03:59:40.709334Z",
     "start_time": "2021-07-24T03:59:37.796676Z"
    }
   },
   "outputs": [
    {
     "name": "stdout",
     "output_type": "stream",
     "text": [
      "Accuracy: 0.9526 (+/- 0.0142) [LogisticRegression]\n",
      "Accuracy: 0.9596 (+/- 0.0226) [RandomForestClassifier]\n",
      "Accuracy: 0.9596 (+/- 0.0189) [RandomForestClassifier]\n",
      "Accuracy: 0.9649 (+/- 0.0166) [VotingClassifier]\n"
     ]
    }
   ],
   "source": [
    "models = [model1, model2, model3, voting_clf]\n",
    "for model in models:\n",
    "    scores = cross_val_score(model, cancer.data, cancer.target, cv=5)\n",
    "    model_name = str(type(model)).split('.')[-1][:-2]\n",
    "    print('Accuracy: %0.4f (+/- %0.4f) [%s]' % (scores.mean(), scores.std(), model_name))"
   ]
  },
  {
   "cell_type": "markdown",
   "metadata": {},
   "source": [
    "human_set() 해봤는데 잘나옮~"
   ]
  },
  {
   "cell_type": "code",
   "execution_count": 15,
   "metadata": {
    "ExecuteTime": {
     "end_time": "2021-07-24T03:59:40.724343Z",
     "start_time": "2021-07-24T03:59:40.711333Z"
    }
   },
   "outputs": [],
   "source": [
    "from sklearn.ensemble import VotingClassifier\n",
    "from sklearn.ensemble import RandomForestClassifier\n",
    "\n",
    "model1 = LogisticRegression(solver='liblinear')\n",
    "model2 = RandomForestClassifier()\n",
    "model3 = RandomForestClassifier()\n",
    "\n",
    "voting_clf = VotingClassifier(estimators=[('LR', model1),\n",
    "                                         ('RF', model2),\n",
    "                                         ('RF2', model3)],\n",
    "                              \n",
    "                             voting='soft')"
   ]
  },
  {
   "cell_type": "code",
   "execution_count": 16,
   "metadata": {
    "ExecuteTime": {
     "end_time": "2021-07-24T03:59:51.790103Z",
     "start_time": "2021-07-24T03:59:40.727337Z"
    }
   },
   "outputs": [
    {
     "name": "stderr",
     "output_type": "stream",
     "text": [
      "Downloading...\n",
      "From: https://drive.google.com/uc?id=16dVeNybWyjHnucmeIuLtzfdX2qFZSUEG\n",
      "To: C:\\Users\\N\\OneDrive\\WorkJ\\Machine Learning\\human_train.csv\n",
      "48.1MB [00:02, 22.7MB/s]\n",
      "Downloading...\n",
      "From: https://drive.google.com/uc?id=1WFAOJNz8Ovj2olAHB_TvSHbjUN-zDIQU\n",
      "To: C:\\Users\\N\\OneDrive\\WorkJ\\Machine Learning\\human_test.csv\n",
      "19.3MB [00:01, 13.5MB/s]\n"
     ]
    }
   ],
   "source": [
    "X_train, X_test, y_train, y_test = get_human_dataset()"
   ]
  },
  {
   "cell_type": "code",
   "execution_count": 17,
   "metadata": {
    "ExecuteTime": {
     "end_time": "2021-07-24T04:02:46.797689Z",
     "start_time": "2021-07-24T03:59:51.792104Z"
    }
   },
   "outputs": [
    {
     "name": "stdout",
     "output_type": "stream",
     "text": [
      "Train Accuracy: 0.9381 (+/- 0.0272) [LogisticRegression]\n",
      "Train Accuracy: 0.9198 (+/- 0.0167) [RandomForestClassifier]\n",
      "Train Accuracy: 0.9180 (+/- 0.0184) [RandomForestClassifier]\n",
      "Train Accuracy: 0.9372 (+/- 0.0180) [VotingClassifier]\n"
     ]
    }
   ],
   "source": [
    "models = [model1, model2, model3, voting_clf]\n",
    "for model in models:\n",
    "    scores = cross_val_score(model, X_train, y_train, cv=5)\n",
    "    model_name = str(type(model)).split('.')[-1][:-2]\n",
    "    print('Train Accuracy: %0.4f (+/- %0.4f) [%s]' % (scores.mean(), scores.std(), model_name))"
   ]
  },
  {
   "cell_type": "markdown",
   "metadata": {},
   "source": [
    "* `hard`보다는 `soft`가 비교적 잘나온다. \n",
    "* 가중치를 줌으로서 조정 가능하다. "
   ]
  },
  {
   "cell_type": "markdown",
   "metadata": {},
   "source": [
    "수동으로 웨이트 부여"
   ]
  },
  {
   "cell_type": "code",
   "execution_count": 132,
   "metadata": {
    "ExecuteTime": {
     "end_time": "2021-07-24T05:37:37.918363Z",
     "start_time": "2021-07-24T05:37:37.897340Z"
    }
   },
   "outputs": [],
   "source": [
    "from sklearn.ensemble import VotingClassifier\n",
    "from sklearn.ensemble import RandomForestClassifier\n",
    "\n",
    "model1 = LogisticRegression(solver='liblinear')\n",
    "model2 = RandomForestClassifier()\n",
    "model3 = DecisionTreeClassifier()\n",
    "\n",
    "voting_clf = VotingClassifier(estimators=[('LR', model1),\n",
    "                                         ('RF', model2),\n",
    "                                         ('DT', model3)],\n",
    "                              \n",
    "                             voting='soft')\n",
    "\n",
    "voting_clf2 = VotingClassifier(estimators=[('LR', model1),\n",
    "                                         ('RF', model2),\n",
    "                                         ('DT', model3)],\n",
    "                              \n",
    "                             voting='soft',\n",
    "                             weights=np.random.randint(1,2,3))\n",
    "\n",
    "voting_clf3 = VotingClassifier(estimators=[('LR', model1),\n",
    "                                         ('RF', model2),\n",
    "                                         ('DT', model3)],\n",
    "                              \n",
    "                             voting='soft',\n",
    "                             weights=np.random.randint(1,2,3))\n",
    "\n",
    "voting_clf4 = VotingClassifier(estimators=[('LR', model1),\n",
    "                                         ('RF', model2),\n",
    "                                         ('DT', model3)],\n",
    "                              \n",
    "                             voting='soft',\n",
    "                             weights=np.random.randint(1,2,3))\n"
   ]
  },
  {
   "cell_type": "code",
   "execution_count": 133,
   "metadata": {
    "ExecuteTime": {
     "end_time": "2021-07-24T05:37:42.209083Z",
     "start_time": "2021-07-24T05:37:39.352495Z"
    }
   },
   "outputs": [
    {
     "name": "stdout",
     "output_type": "stream",
     "text": [
      "Train Accuracy: 0.9407 (+/- 0.0256) [VotingClassifier]\n",
      "Train Accuracy: 0.9407 (+/- 0.0300) [VotingClassifier]\n",
      "Train Accuracy: 0.9407 (+/- 0.0204) [VotingClassifier]\n",
      "Train Accuracy: 0.9385 (+/- 0.0204) [VotingClassifier]\n"
     ]
    }
   ],
   "source": [
    "models = [voting_clf, voting_clf2, voting_clf3, voting_clf4]\n",
    "for model in models:\n",
    "    scores = cross_val_score(model, X_train, y_train, cv=5)\n",
    "    model_name = str(type(model)).split('.')[-1][:-2]\n",
    "    print('Train Accuracy: %0.4f (+/- %0.4f) [%s]' % (scores.mean(), scores.std(), model_name))"
   ]
  },
  {
   "cell_type": "markdown",
   "metadata": {},
   "source": [
    "## Bagging"
   ]
  },
  {
   "cell_type": "markdown",
   "metadata": {},
   "source": [
    "* 동일한 알고리즘을 다르게 샘플링한 데이터 셋으로 훈련후에 결합하여 생긴 결과    \n",
    "\n",
    "\n",
    "* 샘플을 여러 번 뽑아각 모델을 학습시켜 결과를 집계(Aggregating)하는 방법   \n",
    "  \n",
    "  \n",
    "* Bagging이 병렬로 학습\n",
    "\n",
    "\n",
    "* 대상 데이터로부터 복원 랜덤 샘플링 한 후 이렇게 추출한 데이터가 일종의 표본집단 >> 이 결과로 모델을 생성해낸다.\n",
    "\n",
    "\n",
    "\n",
    "* 배깅은 각 샘플에서 나타난 결과를 일종의 중간값으로 맞추어주기 때문에 분산을 줄이고 overfitting을 피할 수 있다.\n",
    "\n",
    "\n",
    "\n",
    "* 부트스트랩 방법을 이용해 학습데이터에서 m개의 복원 추출을 B회만큼 반복, 병렬로 학습\n",
    "\n",
    "\n",
    "\n",
    "* 각각의 학습 데이터로 학습하면서 약학습기 h를 구축한 후 통합하면 학습기 H가 된다.\n",
    "\n",
    "\n",
    "\n",
    "* H는 학습 데이터의 식별이나 확인에는 가장 우수한 결과를 선택하며 회귀일때는 h의 평균을 이용\n",
    "\n",
    "\n",
    "\n",
    "* 대표적으로 DecisionTree베이스의 RandomForest 가 주로 쓰이며, 다른 알고리즘도 사용가능하다."
   ]
  },
  {
   "cell_type": "markdown",
   "metadata": {},
   "source": [
    "### Bootstraping\n",
    "\n",
    "* Term Bagging is derived from boostrap aggregating.\n",
    "* 단순랜덤 복원 추출 방법을 활용\n",
    "\n",
    "* 샘플에 한번도 선택되지 않는 원 데이터가 발생할 수 있는 확률 : **36.8%**\n",
    "* 뽑히지 않은 데이터를 Test sets에 넣어서 활용"
   ]
  },
  {
   "cell_type": "markdown",
   "metadata": {},
   "source": [
    "<img src='https://media.vlpt.us/images/jiselectric/post/df95b0d0-08ac-4457-8d86-b06bfd75c8bc/bootrap_concept.png' width='500'/>"
   ]
  },
  {
   "cell_type": "markdown",
   "metadata": {},
   "source": [
    "### RandomForest"
   ]
  },
  {
   "cell_type": "markdown",
   "metadata": {},
   "source": [
    "* DecisionTree알고리즘의 Bagging : RandomForest    \n",
    "\n",
    "   \n",
    "* 변수를 랜덤으로 선택"
   ]
  },
  {
   "cell_type": "markdown",
   "metadata": {},
   "source": [
    "human_dataset으로 테스트"
   ]
  },
  {
   "cell_type": "code",
   "execution_count": 18,
   "metadata": {
    "ExecuteTime": {
     "end_time": "2021-07-24T04:02:54.565669Z",
     "start_time": "2021-07-24T04:02:46.800689Z"
    }
   },
   "outputs": [
    {
     "name": "stderr",
     "output_type": "stream",
     "text": [
      "Downloading...\n",
      "From: https://drive.google.com/uc?id=16dVeNybWyjHnucmeIuLtzfdX2qFZSUEG\n",
      "To: C:\\Users\\N\\OneDrive\\WorkJ\\Machine Learning\\human_train.csv\n",
      "48.1MB [00:01, 27.2MB/s]\n",
      "Downloading...\n",
      "From: https://drive.google.com/uc?id=1WFAOJNz8Ovj2olAHB_TvSHbjUN-zDIQU\n",
      "To: C:\\Users\\N\\OneDrive\\WorkJ\\Machine Learning\\human_test.csv\n",
      "19.3MB [00:00, 24.3MB/s]\n"
     ]
    }
   ],
   "source": [
    "X_train, X_test, y_train, y_test = get_human_dataset()"
   ]
  },
  {
   "cell_type": "code",
   "execution_count": 19,
   "metadata": {
    "ExecuteTime": {
     "end_time": "2021-07-24T04:03:03.340142Z",
     "start_time": "2021-07-24T04:02:54.567670Z"
    }
   },
   "outputs": [
    {
     "data": {
      "text/plain": [
       "0.9229725144214456"
      ]
     },
     "execution_count": 19,
     "metadata": {},
     "output_type": "execute_result"
    }
   ],
   "source": [
    "rf_clf = RandomForestClassifier()\n",
    "rf_clf.fit(X_train,y_train)\n",
    "pred = rf_clf.predict(X_test)\n",
    "default_score = accuracy_score(y_test, pred)\n",
    "default_score"
   ]
  },
  {
   "cell_type": "markdown",
   "metadata": {},
   "source": [
    "GridsearchCV 를 활용해서 파라미터 튜닝을 해보자. \n",
    "\n",
    "1. n_estimators:결정 트리의 개수 지정, 많이 설정할수록 좋은 성능 기대,but 수행시간이 오래 걸림\n",
    "2. max_features: 'auto' = 'sqrt', 트리 분할할는 피처를 참조할때, 전체가 아니라 sqrt(전체)만큼(16개라면 4개)\n",
    "3. max_depth or min_samples_leaf: 과적합 개선을 위해서"
   ]
  },
  {
   "cell_type": "code",
   "execution_count": 20,
   "metadata": {
    "ExecuteTime": {
     "end_time": "2021-07-24T04:03:03.355835Z",
     "start_time": "2021-07-24T04:03:03.342137Z"
    }
   },
   "outputs": [
    {
     "data": {
      "text/plain": [
       "dict_keys(['bootstrap', 'ccp_alpha', 'class_weight', 'criterion', 'max_depth', 'max_features', 'max_leaf_nodes', 'max_samples', 'min_impurity_decrease', 'min_impurity_split', 'min_samples_leaf', 'min_samples_split', 'min_weight_fraction_leaf', 'n_estimators', 'n_jobs', 'oob_score', 'random_state', 'verbose', 'warm_start'])"
      ]
     },
     "execution_count": 20,
     "metadata": {},
     "output_type": "execute_result"
    }
   ],
   "source": [
    "from sklearn.model_selection import GridSearchCV\n",
    "from multiprocessing import cpu_count\n",
    "rf_clf = RandomForestClassifier()\n",
    "rf_clf.get_params().keys()"
   ]
  },
  {
   "cell_type": "code",
   "execution_count": 21,
   "metadata": {
    "ExecuteTime": {
     "end_time": "2021-07-24T04:05:46.893933Z",
     "start_time": "2021-07-24T04:03:03.358229Z"
    }
   },
   "outputs": [
    {
     "name": "stdout",
     "output_type": "stream",
     "text": [
      "Fitting 5 folds for each of 36 candidates, totalling 180 fits\n"
     ]
    },
    {
     "name": "stderr",
     "output_type": "stream",
     "text": [
      "[Parallel(n_jobs=8)]: Using backend LokyBackend with 8 concurrent workers.\n",
      "[Parallel(n_jobs=8)]: Done  34 tasks      | elapsed:   29.7s\n",
      "[Parallel(n_jobs=8)]: Done 180 out of 180 | elapsed:  2.6min finished\n"
     ]
    },
    {
     "data": {
      "text/plain": [
       "GridSearchCV(cv=5, estimator=RandomForestClassifier(), n_jobs=8,\n",
       "             param_grid={'max_depth': [6, 8, 10, 12],\n",
       "                         'min_samples_leaf': [8, 12, 18],\n",
       "                         'min_samples_split': [8, 16, 20],\n",
       "                         'n_estimators': [100]},\n",
       "             verbose=True)"
      ]
     },
     "execution_count": 21,
     "metadata": {},
     "output_type": "execute_result"
    }
   ],
   "source": [
    "param_grid = {\\\n",
    "          'n_estimators':[100],\n",
    "          'max_depth' : [6, 8, 10, 12], \n",
    "          'min_samples_leaf' : [8, 12, 18 ],\n",
    "          'min_samples_split' : [8, 16, 20]\n",
    "         }\n",
    "\n",
    "grid_cv = GridSearchCV(estimator=rf_clf,\n",
    "                  param_grid=param_grid,\n",
    "                  cv = 5, \n",
    "                  n_jobs=cpu_count(),\n",
    "                  verbose=True\n",
    "              )\n",
    "grid_cv.fit(X_train, y_train)"
   ]
  },
  {
   "cell_type": "code",
   "execution_count": 22,
   "metadata": {
    "ExecuteTime": {
     "end_time": "2021-07-24T04:05:46.908943Z",
     "start_time": "2021-07-24T04:05:46.896939Z"
    }
   },
   "outputs": [
    {
     "name": "stdout",
     "output_type": "stream",
     "text": [
      "디펄트 정확도 0.9229725144214456\n",
      "최적 하이퍼 파라미터:\n",
      " {'max_depth': 10, 'min_samples_leaf': 8, 'min_samples_split': 16, 'n_estimators': 100}\n",
      "최고 예측 정확도: 0.9266\n"
     ]
    }
   ],
   "source": [
    "print('디펄트 정확도', default_score)\n",
    "print('최적 하이퍼 파라미터:\\n', grid_cv.best_params_)\n",
    "print('최고 예측 정확도: {0:.4f}'.format(grid_cv.best_score_))"
   ]
  },
  {
   "cell_type": "code",
   "execution_count": 23,
   "metadata": {
    "ExecuteTime": {
     "end_time": "2021-07-24T04:05:46.938948Z",
     "start_time": "2021-07-24T04:05:46.915949Z"
    }
   },
   "outputs": [
    {
     "data": {
      "text/plain": [
       "{'mean_fit_time': array([5.15917716, 5.23380036, 5.17972093, 5.22982593, 5.23430691,\n",
       "        5.21458735, 5.66488581, 5.88693461, 5.39453969, 6.84055467,\n",
       "        6.34634957, 6.45005846, 6.6116353 , 6.73124576, 6.42897143,\n",
       "        6.20804276, 6.20116601, 6.09910851, 7.10973935, 7.00600147,\n",
       "        7.12995486, 6.92275066, 6.83643341, 6.94419222, 6.54827666,\n",
       "        6.70752048, 6.68185921, 7.38632855, 7.82110963, 7.76122613,\n",
       "        7.84713898, 7.76290135, 7.98101993, 7.51772432, 8.15471425,\n",
       "        7.48250299]),\n",
       " 'std_fit_time': array([0.04531432, 0.18742635, 0.02283454, 0.18641967, 0.15610982,\n",
       "        0.03814334, 0.44538916, 0.76141989, 0.32905589, 0.42620589,\n",
       "        0.08410526, 0.26442426, 0.58273725, 0.47755944, 0.37931394,\n",
       "        0.22985521, 0.26092215, 0.03411695, 0.26303037, 0.02985866,\n",
       "        0.26507039, 0.28672026, 0.04820335, 0.3106204 , 0.06294877,\n",
       "        0.21509915, 0.24840397, 0.10262695, 0.40215016, 0.14398974,\n",
       "        0.32588118, 0.05458255, 0.23343464, 0.09656725, 0.31543175,\n",
       "        0.34262568]),\n",
       " 'mean_score_time': array([0.0392087 , 0.03840804, 0.04320941, 0.03400803, 0.03840961,\n",
       "        0.03820863, 0.03740835, 0.04881086, 0.03320713, 0.03620811,\n",
       "        0.03780851, 0.03680863, 0.04200931, 0.03960891, 0.03720822,\n",
       "        0.03460827, 0.0368082 , 0.03640785, 0.03740869, 0.0378087 ,\n",
       "        0.04120946, 0.03680859, 0.04541025, 0.04220963, 0.03760867,\n",
       "        0.03680859, 0.03640847, 0.03960896, 0.04100947, 0.04581017,\n",
       "        0.04060903, 0.04500985, 0.04240966, 0.04480996, 0.05541282,\n",
       "        0.03321352]),\n",
       " 'std_score_time': array([0.00630676, 0.00665235, 0.00515474, 0.00141522, 0.00560924,\n",
       "        0.00222723, 0.00574968, 0.01051678, 0.00098016, 0.00193972,\n",
       "        0.0041675 , 0.00240053, 0.00996202, 0.00826263, 0.0039199 ,\n",
       "        0.00101966, 0.00312492, 0.00233268, 0.00135765, 0.00116607,\n",
       "        0.00479296, 0.00040047, 0.01169188, 0.00906636, 0.00241714,\n",
       "        0.00074899, 0.00049033, 0.00049017, 0.00200055, 0.00793667,\n",
       "        0.0004898 , 0.00606794, 0.00241705, 0.00511599, 0.00886988,\n",
       "        0.00542455]),\n",
       " 'param_max_depth': masked_array(data=[6, 6, 6, 6, 6, 6, 6, 6, 6, 8, 8, 8, 8, 8, 8, 8, 8, 8,\n",
       "                    10, 10, 10, 10, 10, 10, 10, 10, 10, 12, 12, 12, 12, 12,\n",
       "                    12, 12, 12, 12],\n",
       "              mask=[False, False, False, False, False, False, False, False,\n",
       "                    False, False, False, False, False, False, False, False,\n",
       "                    False, False, False, False, False, False, False, False,\n",
       "                    False, False, False, False, False, False, False, False,\n",
       "                    False, False, False, False],\n",
       "        fill_value='?',\n",
       "             dtype=object),\n",
       " 'param_min_samples_leaf': masked_array(data=[8, 8, 8, 12, 12, 12, 18, 18, 18, 8, 8, 8, 12, 12, 12,\n",
       "                    18, 18, 18, 8, 8, 8, 12, 12, 12, 18, 18, 18, 8, 8, 8,\n",
       "                    12, 12, 12, 18, 18, 18],\n",
       "              mask=[False, False, False, False, False, False, False, False,\n",
       "                    False, False, False, False, False, False, False, False,\n",
       "                    False, False, False, False, False, False, False, False,\n",
       "                    False, False, False, False, False, False, False, False,\n",
       "                    False, False, False, False],\n",
       "        fill_value='?',\n",
       "             dtype=object),\n",
       " 'param_min_samples_split': masked_array(data=[8, 16, 20, 8, 16, 20, 8, 16, 20, 8, 16, 20, 8, 16, 20,\n",
       "                    8, 16, 20, 8, 16, 20, 8, 16, 20, 8, 16, 20, 8, 16, 20,\n",
       "                    8, 16, 20, 8, 16, 20],\n",
       "              mask=[False, False, False, False, False, False, False, False,\n",
       "                    False, False, False, False, False, False, False, False,\n",
       "                    False, False, False, False, False, False, False, False,\n",
       "                    False, False, False, False, False, False, False, False,\n",
       "                    False, False, False, False],\n",
       "        fill_value='?',\n",
       "             dtype=object),\n",
       " 'param_n_estimators': masked_array(data=[100, 100, 100, 100, 100, 100, 100, 100, 100, 100, 100,\n",
       "                    100, 100, 100, 100, 100, 100, 100, 100, 100, 100, 100,\n",
       "                    100, 100, 100, 100, 100, 100, 100, 100, 100, 100, 100,\n",
       "                    100, 100, 100],\n",
       "              mask=[False, False, False, False, False, False, False, False,\n",
       "                    False, False, False, False, False, False, False, False,\n",
       "                    False, False, False, False, False, False, False, False,\n",
       "                    False, False, False, False, False, False, False, False,\n",
       "                    False, False, False, False],\n",
       "        fill_value='?',\n",
       "             dtype=object),\n",
       " 'params': [{'max_depth': 6,\n",
       "   'min_samples_leaf': 8,\n",
       "   'min_samples_split': 8,\n",
       "   'n_estimators': 100},\n",
       "  {'max_depth': 6,\n",
       "   'min_samples_leaf': 8,\n",
       "   'min_samples_split': 16,\n",
       "   'n_estimators': 100},\n",
       "  {'max_depth': 6,\n",
       "   'min_samples_leaf': 8,\n",
       "   'min_samples_split': 20,\n",
       "   'n_estimators': 100},\n",
       "  {'max_depth': 6,\n",
       "   'min_samples_leaf': 12,\n",
       "   'min_samples_split': 8,\n",
       "   'n_estimators': 100},\n",
       "  {'max_depth': 6,\n",
       "   'min_samples_leaf': 12,\n",
       "   'min_samples_split': 16,\n",
       "   'n_estimators': 100},\n",
       "  {'max_depth': 6,\n",
       "   'min_samples_leaf': 12,\n",
       "   'min_samples_split': 20,\n",
       "   'n_estimators': 100},\n",
       "  {'max_depth': 6,\n",
       "   'min_samples_leaf': 18,\n",
       "   'min_samples_split': 8,\n",
       "   'n_estimators': 100},\n",
       "  {'max_depth': 6,\n",
       "   'min_samples_leaf': 18,\n",
       "   'min_samples_split': 16,\n",
       "   'n_estimators': 100},\n",
       "  {'max_depth': 6,\n",
       "   'min_samples_leaf': 18,\n",
       "   'min_samples_split': 20,\n",
       "   'n_estimators': 100},\n",
       "  {'max_depth': 8,\n",
       "   'min_samples_leaf': 8,\n",
       "   'min_samples_split': 8,\n",
       "   'n_estimators': 100},\n",
       "  {'max_depth': 8,\n",
       "   'min_samples_leaf': 8,\n",
       "   'min_samples_split': 16,\n",
       "   'n_estimators': 100},\n",
       "  {'max_depth': 8,\n",
       "   'min_samples_leaf': 8,\n",
       "   'min_samples_split': 20,\n",
       "   'n_estimators': 100},\n",
       "  {'max_depth': 8,\n",
       "   'min_samples_leaf': 12,\n",
       "   'min_samples_split': 8,\n",
       "   'n_estimators': 100},\n",
       "  {'max_depth': 8,\n",
       "   'min_samples_leaf': 12,\n",
       "   'min_samples_split': 16,\n",
       "   'n_estimators': 100},\n",
       "  {'max_depth': 8,\n",
       "   'min_samples_leaf': 12,\n",
       "   'min_samples_split': 20,\n",
       "   'n_estimators': 100},\n",
       "  {'max_depth': 8,\n",
       "   'min_samples_leaf': 18,\n",
       "   'min_samples_split': 8,\n",
       "   'n_estimators': 100},\n",
       "  {'max_depth': 8,\n",
       "   'min_samples_leaf': 18,\n",
       "   'min_samples_split': 16,\n",
       "   'n_estimators': 100},\n",
       "  {'max_depth': 8,\n",
       "   'min_samples_leaf': 18,\n",
       "   'min_samples_split': 20,\n",
       "   'n_estimators': 100},\n",
       "  {'max_depth': 10,\n",
       "   'min_samples_leaf': 8,\n",
       "   'min_samples_split': 8,\n",
       "   'n_estimators': 100},\n",
       "  {'max_depth': 10,\n",
       "   'min_samples_leaf': 8,\n",
       "   'min_samples_split': 16,\n",
       "   'n_estimators': 100},\n",
       "  {'max_depth': 10,\n",
       "   'min_samples_leaf': 8,\n",
       "   'min_samples_split': 20,\n",
       "   'n_estimators': 100},\n",
       "  {'max_depth': 10,\n",
       "   'min_samples_leaf': 12,\n",
       "   'min_samples_split': 8,\n",
       "   'n_estimators': 100},\n",
       "  {'max_depth': 10,\n",
       "   'min_samples_leaf': 12,\n",
       "   'min_samples_split': 16,\n",
       "   'n_estimators': 100},\n",
       "  {'max_depth': 10,\n",
       "   'min_samples_leaf': 12,\n",
       "   'min_samples_split': 20,\n",
       "   'n_estimators': 100},\n",
       "  {'max_depth': 10,\n",
       "   'min_samples_leaf': 18,\n",
       "   'min_samples_split': 8,\n",
       "   'n_estimators': 100},\n",
       "  {'max_depth': 10,\n",
       "   'min_samples_leaf': 18,\n",
       "   'min_samples_split': 16,\n",
       "   'n_estimators': 100},\n",
       "  {'max_depth': 10,\n",
       "   'min_samples_leaf': 18,\n",
       "   'min_samples_split': 20,\n",
       "   'n_estimators': 100},\n",
       "  {'max_depth': 12,\n",
       "   'min_samples_leaf': 8,\n",
       "   'min_samples_split': 8,\n",
       "   'n_estimators': 100},\n",
       "  {'max_depth': 12,\n",
       "   'min_samples_leaf': 8,\n",
       "   'min_samples_split': 16,\n",
       "   'n_estimators': 100},\n",
       "  {'max_depth': 12,\n",
       "   'min_samples_leaf': 8,\n",
       "   'min_samples_split': 20,\n",
       "   'n_estimators': 100},\n",
       "  {'max_depth': 12,\n",
       "   'min_samples_leaf': 12,\n",
       "   'min_samples_split': 8,\n",
       "   'n_estimators': 100},\n",
       "  {'max_depth': 12,\n",
       "   'min_samples_leaf': 12,\n",
       "   'min_samples_split': 16,\n",
       "   'n_estimators': 100},\n",
       "  {'max_depth': 12,\n",
       "   'min_samples_leaf': 12,\n",
       "   'min_samples_split': 20,\n",
       "   'n_estimators': 100},\n",
       "  {'max_depth': 12,\n",
       "   'min_samples_leaf': 18,\n",
       "   'min_samples_split': 8,\n",
       "   'n_estimators': 100},\n",
       "  {'max_depth': 12,\n",
       "   'min_samples_leaf': 18,\n",
       "   'min_samples_split': 16,\n",
       "   'n_estimators': 100},\n",
       "  {'max_depth': 12,\n",
       "   'min_samples_leaf': 18,\n",
       "   'min_samples_split': 20,\n",
       "   'n_estimators': 100}],\n",
       " 'split0_test_score': array([0.88171312, 0.88647179, 0.89191027, 0.88919103, 0.88987084,\n",
       "        0.89394969, 0.88579198, 0.88375255, 0.8803535 , 0.90550646,\n",
       "        0.89598912, 0.89802855, 0.8946295 , 0.89123046, 0.8946295 ,\n",
       "        0.89259007, 0.8946295 , 0.89191027, 0.9014276 , 0.90686608,\n",
       "        0.89734874, 0.89938817, 0.89666893, 0.89666893, 0.8946295 ,\n",
       "        0.8946295 , 0.90346703, 0.90686608, 0.90210741, 0.90074779,\n",
       "        0.90210741, 0.90210741, 0.90074779, 0.89259007, 0.89870836,\n",
       "        0.89191027]),\n",
       " 'split1_test_score': array([0.90074779, 0.90686608, 0.89734874, 0.9082257 , 0.90074779,\n",
       "        0.9014276 , 0.91774303, 0.91774303, 0.91638341, 0.90278722,\n",
       "        0.90686608, 0.90006798, 0.90958532, 0.91842284, 0.9082257 ,\n",
       "        0.90686608, 0.91842284, 0.91026513, 0.91366417, 0.9157036 ,\n",
       "        0.90006798, 0.90958532, 0.91298436, 0.91434398, 0.90890551,\n",
       "        0.91502379, 0.91774303, 0.90414684, 0.90754589, 0.90074779,\n",
       "        0.9082257 , 0.91230455, 0.91434398, 0.92046227, 0.90890551,\n",
       "        0.91094494]),\n",
       " 'split2_test_score': array([0.91768707, 0.91632653, 0.91564626, 0.91904762, 0.91904762,\n",
       "        0.9122449 , 0.91496599, 0.92312925, 0.91564626, 0.92857143,\n",
       "        0.92857143, 0.92789116, 0.91972789, 0.92517007, 0.92721088,\n",
       "        0.91768707, 0.92721088, 0.92789116, 0.91292517, 0.93265306,\n",
       "        0.9244898 , 0.93061224, 0.93061224, 0.92721088, 0.92244898,\n",
       "        0.92380952, 0.92244898, 0.9292517 , 0.93537415, 0.93333333,\n",
       "        0.93129252, 0.93061224, 0.93741497, 0.92721088, 0.92517007,\n",
       "        0.9292517 ]),\n",
       " 'split3_test_score': array([0.93469388, 0.9244898 , 0.90884354, 0.93129252, 0.92517007,\n",
       "        0.93129252, 0.92108844, 0.93061224, 0.91496599, 0.92789116,\n",
       "        0.93129252, 0.93537415, 0.93537415, 0.93129252, 0.92176871,\n",
       "        0.92176871, 0.92857143, 0.93265306, 0.93673469, 0.93537415,\n",
       "        0.92857143, 0.92585034, 0.92721088, 0.92857143, 0.92857143,\n",
       "        0.93197279, 0.93469388, 0.92040816, 0.93197279, 0.91564626,\n",
       "        0.93877551, 0.92789116, 0.92993197, 0.94013605, 0.93537415,\n",
       "        0.93265306]),\n",
       " 'split4_test_score': array([0.92176871, 0.93741497, 0.9244898 , 0.91904762, 0.92108844,\n",
       "        0.91836735, 0.93265306, 0.93401361, 0.93605442, 0.93469388,\n",
       "        0.9414966 , 0.94013605, 0.93333333, 0.9414966 , 0.94353741,\n",
       "        0.93537415, 0.94421769, 0.93741497, 0.95102041, 0.94217687,\n",
       "        0.94081633, 0.94489796, 0.94489796, 0.94761905, 0.94013605,\n",
       "        0.9414966 , 0.93877551, 0.94217687, 0.94285714, 0.94081633,\n",
       "        0.94353741, 0.94081633, 0.94489796, 0.93741497, 0.93265306,\n",
       "        0.93673469]),\n",
       " 'mean_test_score': array([0.91132211, 0.91431383, 0.90764772, 0.9133609 , 0.91118495,\n",
       "        0.91145641, 0.9144485 , 0.91785014, 0.91268072, 0.91989003,\n",
       "        0.92084315, 0.92029958, 0.91853004, 0.9215225 , 0.91907444,\n",
       "        0.91485722, 0.92261047, 0.92002691, 0.92315441, 0.92655475,\n",
       "        0.91825885, 0.92206681, 0.92247488, 0.92288286, 0.91893829,\n",
       "        0.92138644, 0.92342569, 0.92056993, 0.92397148, 0.9182583 ,\n",
       "        0.92478771, 0.92274634, 0.92546733, 0.92356285, 0.92016223,\n",
       "        0.92029893]),\n",
       " 'std_test_score': array([0.01835425, 0.01715758, 0.01185579, 0.0141193 , 0.01355515,\n",
       "        0.01303009, 0.01554228, 0.01797028, 0.01799503, 0.0130991 ,\n",
       "        0.01678429, 0.01779706, 0.01520224, 0.01694071, 0.01665622,\n",
       "        0.01439726, 0.01627292, 0.01678957, 0.01804269, 0.01314848,\n",
       "        0.01686508, 0.01599193, 0.0164162 , 0.01687041, 0.01578633,\n",
       "        0.01599236, 0.01260305, 0.01414053, 0.01611551, 0.01646924,\n",
       "        0.01660252, 0.01378305, 0.0159688 , 0.01702226, 0.01413849,\n",
       "        0.01671122]),\n",
       " 'rank_test_score': array([34, 30, 36, 31, 35, 33, 29, 27, 32, 21, 15, 17, 24, 13, 22, 28, 10,\n",
       "        20,  7,  1, 25, 12, 11,  8, 23, 14,  6, 16,  4, 26,  3,  9,  2,  5,\n",
       "        19, 18])}"
      ]
     },
     "execution_count": 23,
     "metadata": {},
     "output_type": "execute_result"
    }
   ],
   "source": [
    "grid_cv.cv_results_"
   ]
  },
  {
   "cell_type": "code",
   "execution_count": 24,
   "metadata": {
    "ExecuteTime": {
     "end_time": "2021-07-24T04:05:47.013958Z",
     "start_time": "2021-07-24T04:05:46.941955Z"
    }
   },
   "outputs": [
    {
     "name": "stdout",
     "output_type": "stream",
     "text": [
      "테스트set 정확도 0.9205972175093315\n"
     ]
    }
   ],
   "source": [
    "best_rf_clf = grid_cv.best_estimator_\n",
    "pred = best_rf_clf.predict(X_test)\n",
    "print('테스트set 정확도',accuracy_score(y_test, pred))"
   ]
  },
  {
   "cell_type": "markdown",
   "metadata": {},
   "source": [
    "시각화"
   ]
  },
  {
   "cell_type": "code",
   "execution_count": 25,
   "metadata": {
    "ExecuteTime": {
     "end_time": "2021-07-24T04:05:47.864475Z",
     "start_time": "2021-07-24T04:05:47.016958Z"
    }
   },
   "outputs": [
    {
     "data": {
      "image/png": "[encoded data removed]",
      "text/plain": [
       "<Figure size 936x648 with 1 Axes>"
      ]
     },
     "metadata": {},
     "output_type": "display_data"
    }
   ],
   "source": [
    "import matplotlib.pyplot as plt\n",
    "import seaborn as sns\n",
    "sns.set_style('whitegrid')\n",
    "\n",
    "best_feature = pd.Series(best_rf_clf.feature_importances_, index = X_train.columns)\n",
    "best_f_top20 = best_feature.sort_values(ascending=False)[:20]\n",
    "\n",
    "plt.figure(figsize=(13, 9))\n",
    "sns.barplot(x=best_f_top20, y = best_f_top20.index)\n",
    "plt.title('Important Feature top20')\n",
    "plt.show();"
   ]
  },
  {
   "cell_type": "markdown",
   "metadata": {},
   "source": [
    "### BaggingClassifier"
   ]
  },
  {
   "cell_type": "markdown",
   "metadata": {},
   "source": [
    "* RandomForest 는 배깅의 대표 알고리즘이다. \n",
    "\n",
    "* 위에서 보면 Logistic을 활용해서 배깅을 구성한후에 RandomForest 모델과 비교해 보자."
   ]
  },
  {
   "cell_type": "code",
   "execution_count": 26,
   "metadata": {
    "ExecuteTime": {
     "end_time": "2021-07-24T04:05:56.423397Z",
     "start_time": "2021-07-24T04:05:47.866475Z"
    }
   },
   "outputs": [
    {
     "name": "stderr",
     "output_type": "stream",
     "text": [
      "Downloading...\n",
      "From: https://drive.google.com/uc?id=16dVeNybWyjHnucmeIuLtzfdX2qFZSUEG\n",
      "To: C:\\Users\\N\\OneDrive\\WorkJ\\Machine Learning\\human_train.csv\n",
      "48.1MB [00:01, 26.7MB/s]\n",
      "Downloading...\n",
      "From: https://drive.google.com/uc?id=1WFAOJNz8Ovj2olAHB_TvSHbjUN-zDIQU\n",
      "To: C:\\Users\\N\\OneDrive\\WorkJ\\Machine Learning\\human_test.csv\n",
      "19.3MB [00:00, 24.5MB/s]\n"
     ]
    }
   ],
   "source": [
    "X_train, X_test, y_train, y_test = get_human_dataset()"
   ]
  },
  {
   "cell_type": "code",
   "execution_count": 27,
   "metadata": {
    "ExecuteTime": {
     "end_time": "2021-07-24T04:05:56.574414Z",
     "start_time": "2021-07-24T04:05:56.424386Z"
    }
   },
   "outputs": [],
   "source": [
    "from sklearn.linear_model import LogisticRegression\n",
    "from sklearn.pipeline import make_pipeline\n",
    "from sklearn.preprocessing import MinMaxScaler\n",
    "\n",
    "scaler = MinMaxScaler()\n",
    "scaler.fit(X_train)\n",
    "X_train_trans = scaler.transform(X_train)\n",
    "X_test_trans = scaler.transform(X_test)\n",
    "\n",
    "base_model = LogisticRegression(solver='liblinear')"
   ]
  },
  {
   "cell_type": "code",
   "execution_count": 28,
   "metadata": {
    "ExecuteTime": {
     "end_time": "2021-07-24T04:06:07.567956Z",
     "start_time": "2021-07-24T04:05:56.576415Z"
    },
    "scrolled": false
   },
   "outputs": [],
   "source": [
    "from sklearn.ensemble import BaggingClassifier\n",
    "\n",
    "bagging_model = BaggingClassifier( base_model, n_estimators=10,\n",
    "                                   max_samples=0.5, max_features=0.5)\n",
    "\n",
    "bagging_model.fit(X_train_trans, y_train)\n",
    "pred = bagging_model.predict(X_test_trans)"
   ]
  },
  {
   "cell_type": "code",
   "execution_count": 29,
   "metadata": {
    "ExecuteTime": {
     "end_time": "2021-07-24T04:06:07.582971Z",
     "start_time": "2021-07-24T04:06:07.568956Z"
    }
   },
   "outputs": [
    {
     "data": {
      "text/plain": [
       "0.9507974211062097"
      ]
     },
     "execution_count": 29,
     "metadata": {},
     "output_type": "execute_result"
    }
   ],
   "source": [
    "default_score = accuracy_score(y_test, pred)\n",
    "default_score"
   ]
  },
  {
   "cell_type": "markdown",
   "metadata": {},
   "source": [
    "* Random Forest 보다  좋은 점수를 가지고 있다. \n",
    "* gridSearchCV로 하이퍼 파라미터 튜닝을 해보자.  "
   ]
  },
  {
   "cell_type": "code",
   "execution_count": 30,
   "metadata": {
    "ExecuteTime": {
     "end_time": "2021-07-24T04:11:53.950014Z",
     "start_time": "2021-07-24T04:06:07.583971Z"
    }
   },
   "outputs": [
    {
     "name": "stdout",
     "output_type": "stream",
     "text": [
      "Fitting 5 folds for each of 9 candidates, totalling 45 fits\n"
     ]
    },
    {
     "name": "stderr",
     "output_type": "stream",
     "text": [
      "[Parallel(n_jobs=-1)]: Using backend LokyBackend with 8 concurrent workers.\n",
      "[Parallel(n_jobs=-1)]: Done  45 out of  45 | elapsed:  5.5min finished\n"
     ]
    },
    {
     "data": {
      "text/plain": [
       "GridSearchCV(cv=5,\n",
       "             estimator=BaggingClassifier(base_estimator=LogisticRegression(solver='liblinear')),\n",
       "             n_jobs=-1,\n",
       "             param_grid={'max_features': [0.4, 0.5, 0.7],\n",
       "                         'max_samples': [0.4, 0.5, 0.6], 'n_estimators': [10]},\n",
       "             verbose=True)"
      ]
     },
     "execution_count": 30,
     "metadata": {},
     "output_type": "execute_result"
    }
   ],
   "source": [
    "bagging_model = BaggingClassifier(base_model)\n",
    "\n",
    "param_grid = {'n_estimators':[10],\n",
    "              'max_samples':[0.4, 0.5, 0.6],\n",
    "              'max_features':[0.4, 0.5, 0.7],\n",
    "              }\n",
    "\n",
    "grid_cv = GridSearchCV(estimator=bagging_model,\n",
    "                       param_grid=param_grid,\n",
    "                       cv=5,\n",
    "                       n_jobs=-1,\n",
    "                       verbose=True)\n",
    "\n",
    "grid_cv.fit(X_train, y_train)"
   ]
  },
  {
   "cell_type": "code",
   "execution_count": 31,
   "metadata": {
    "ExecuteTime": {
     "end_time": "2021-07-24T04:11:53.966044Z",
     "start_time": "2021-07-24T04:11:53.952002Z"
    }
   },
   "outputs": [
    {
     "name": "stdout",
     "output_type": "stream",
     "text": [
      "디펄트 정확도 0.9507974211062097\n",
      "최적 하이퍼 파라미터:\n",
      " {'max_features': 0.5, 'max_samples': 0.6, 'n_estimators': 10}\n",
      "최고 예측 정확도: 0.9366\n"
     ]
    }
   ],
   "source": [
    "print('디펄트 정확도', default_score)\n",
    "print('최적 하이퍼 파라미터:\\n', grid_cv.best_params_)\n",
    "print('최고 예측 정확도: {0:.4f}'.format(grid_cv.best_score_))"
   ]
  },
  {
   "cell_type": "code",
   "execution_count": 32,
   "metadata": {
    "ExecuteTime": {
     "end_time": "2021-07-24T04:11:54.062063Z",
     "start_time": "2021-07-24T04:11:53.968048Z"
    }
   },
   "outputs": [
    {
     "name": "stdout",
     "output_type": "stream",
     "text": [
      "테스트set 정확도 0.9569053274516457\n"
     ]
    }
   ],
   "source": [
    "best_rf_clf = grid_cv.best_estimator_\n",
    "pred = best_rf_clf.predict(X_test)\n",
    "print('테스트set 정확도',accuracy_score(y_test, pred))"
   ]
  },
  {
   "cell_type": "markdown",
   "metadata": {},
   "source": [
    "* GridSearchCV로 성능 향상은 안되었지만, 랜덤 포레스트보다 좋은 결과를 보여준다."
   ]
  },
  {
   "cell_type": "markdown",
   "metadata": {},
   "source": [
    "시각화를 한번 해봅시다. 위에서 랜덤 포레스트와 비교해서 feature_importance를 계산해 봅시다. \n",
    "* feature_importance를 계산하기 위해서는 model.coef_가 필요 하기 때문에 위의 grid_cv.best_parmas_ 결과를 가지고 다시 모델을 수행후에 구해야 합니다. "
   ]
  },
  {
   "cell_type": "code",
   "execution_count": 33,
   "metadata": {
    "ExecuteTime": {
     "end_time": "2021-07-24T04:11:54.174087Z",
     "start_time": "2021-07-24T04:11:54.064062Z"
    }
   },
   "outputs": [],
   "source": [
    "scaler = MinMaxScaler()\n",
    "scaler.fit(X_train)\n",
    "X_train_trans = scaler.transform(X_train)\n",
    "X_test_trans = scaler.transform(X_test)"
   ]
  },
  {
   "cell_type": "code",
   "execution_count": 34,
   "metadata": {
    "ExecuteTime": {
     "end_time": "2021-07-24T04:12:06.925020Z",
     "start_time": "2021-07-24T04:11:54.176088Z"
    }
   },
   "outputs": [
    {
     "data": {
      "text/plain": [
       "BaggingClassifier(base_estimator=LogisticRegression(solver='liblinear'),\n",
       "                  max_features=0.5, max_samples=0.6)"
      ]
     },
     "execution_count": 34,
     "metadata": {},
     "output_type": "execute_result"
    }
   ],
   "source": [
    "Bag_lg_clf = BaggingClassifier(LogisticRegression(solver='liblinear'),max_features= 0.5, max_samples= 0.6)\n",
    "Bag_lg_clf.fit(X_train_trans, y_train)"
   ]
  },
  {
   "cell_type": "code",
   "execution_count": 35,
   "metadata": {
    "ExecuteTime": {
     "end_time": "2021-07-24T04:12:07.002023Z",
     "start_time": "2021-07-24T04:12:06.927012Z"
    }
   },
   "outputs": [
    {
     "data": {
      "text/plain": [
       "0.9460468272819816"
      ]
     },
     "execution_count": 35,
     "metadata": {},
     "output_type": "execute_result"
    }
   ],
   "source": [
    "pred = Bag_lg_clf.predict(X_test_trans)\n",
    "accuracy_score(y_test, pred)"
   ]
  },
  {
   "cell_type": "code",
   "execution_count": 36,
   "metadata": {
    "ExecuteTime": {
     "end_time": "2021-07-24T04:12:07.017025Z",
     "start_time": "2021-07-24T04:12:07.003023Z"
    }
   },
   "outputs": [
    {
     "data": {
      "text/plain": [
       "(6, 281)"
      ]
     },
     "execution_count": 36,
     "metadata": {},
     "output_type": "execute_result"
    }
   ],
   "source": [
    "import numpy as np\n",
    "feature_coef = np.mean([\n",
    "    model.coef_ for model in Bag_lg_clf.estimators_\n",
    "], axis=0)\n",
    "\n",
    "feature_coef.shape"
   ]
  },
  {
   "cell_type": "code",
   "execution_count": 37,
   "metadata": {
    "ExecuteTime": {
     "end_time": "2021-07-24T04:12:07.033028Z",
     "start_time": "2021-07-24T04:12:07.019025Z"
    }
   },
   "outputs": [
    {
     "name": "stdout",
     "output_type": "stream",
     "text": [
      "[0 1 2 3 4 5]\n",
      "[0 1 2 3 4 5]\n",
      "[0 1 2 3 4 5]\n",
      "[0 1 2 3 4 5]\n",
      "[0 1 2 3 4 5]\n",
      "[0 1 2 3 4 5]\n",
      "[0 1 2 3 4 5]\n",
      "[0 1 2 3 4 5]\n",
      "[0 1 2 3 4 5]\n",
      "[0 1 2 3 4 5]\n"
     ]
    }
   ],
   "source": [
    " for model in Bag_lg_clf.estimators_:\n",
    "    print(model.classes_)"
   ]
  },
  {
   "cell_type": "markdown",
   "metadata": {},
   "source": [
    "배깅 모델의 임포턴스를 구하는 것은 조금더 생각해봐야 겠따. \n",
    "전체의 feature가 나오는 것이 아니기 때문에 위와 같이 나오기는 하는데 결과를 시각적으로 보기는 쉽지 않다. \n",
    "어떤 피쳐가 어떤 것인지 알수가 없으므로"
   ]
  },
  {
   "cell_type": "markdown",
   "metadata": {},
   "source": [
    "# Boosting"
   ]
  },
  {
   "cell_type": "markdown",
   "metadata": {},
   "source": [
    "<img src='https://miro.medium.com/max/2000/1*zTgGBTQIMlASWm5QuS2UpA.jpeg' width='500' />https://miro.medium.com/max/2000/1*zTgGBTQIMlASWm5QuS2UpA.jpeg"
   ]
  },
  {
   "cell_type": "markdown",
   "metadata": {},
   "source": [
    "* 순차적으로 틀린 문제에 대하여 가중치를 부여함으로써 모델을 개선해 나가는 방식\n",
    "\n",
    "* 맞추기 어려운 문제를 맞추는데 초점이 되어 있음. 가중치 부여를 통해서\n",
    "\n",
    "* 순차적으로 학습, 배깅과 마찬가지로 동일하게 복원 랜덤 샘플링을 하지만 가중치를 부여 오답에 대해 높은 가중치를 부여하고, 정답에 대해 낮은 가중치를 부여하기 때문에 오답에 더욱 집중할 수 있다.\n",
    "\n",
    "* 단점, 그만큼 Outlier에 취약하다. "
   ]
  },
  {
   "cell_type": "markdown",
   "metadata": {},
   "source": [
    "## Adaboost vs GBM"
   ]
  },
  {
   "cell_type": "markdown",
   "metadata": {},
   "source": [
    "가중치를 부여하는 방식의 차이 "
   ]
  },
  {
   "cell_type": "markdown",
   "metadata": {},
   "source": [
    "Adaboost\n",
    "<img src='https://www.researchgate.net/profile/Zhuo-Wang-36/publication/288699540/figure/fig9/AS:668373486686246@1536364065786/Illustration-of-AdaBoost-algorithm-for-creating-a-strong-classifier-based-on-multiple.png' width='500' />https://www.researchgate.net/figure/Illustration-of-AdaBoost-algorithm-for-creating-a-strong-classifier-based-on-multiple_fig9_288699540"
   ]
  },
  {
   "cell_type": "markdown",
   "metadata": {},
   "source": [
    "Grdient Boost Machine\n",
    "<img src='https://media.springernature.com/original/springer-static/image/chp%3A10.1007%2F978-3-030-34482-5_25/MediaObjects/482246_1_En_25_Fig2_HTML.png' width='500' />https://datascience.eu/machine-learning/gradient-boosting-what-you-need-to-know/"
   ]
  },
  {
   "cell_type": "markdown",
   "metadata": {},
   "source": [
    "### Adaboost"
   ]
  },
  {
   "cell_type": "markdown",
   "metadata": {},
   "source": [
    "<img src='https://miro.medium.com/max/1400/1*DwvwMlOcT1T9hZwIJvMfng.png' />\n",
    "\n",
    "출처: https://vagifaliyev.medium.com/adaptive-boosting-simply-explained-through-python-eebdb988de66"
   ]
  },
  {
   "cell_type": "markdown",
   "metadata": {},
   "source": [
    "1. Step1 : 첫 번째 약한 학습기(weak learner)가 분류 기준1로 + 와 -를 분류합니다. 동그라미로 표시된 데이터는 잘못 분류된 오류 데이터입다.\n",
    "\n",
    "2. Step2 : 이 오류 데이터에 대해서 가중치를 값을 부여합니다. 가중치가 부여된 오류 +와 - 데이터는 더 잘 분류 할수 있게 크기가 커졌습니다. \n",
    "\n",
    "3. Step3 : 두번째 약한 학습기가 분류 기준 2로 +와 -를 분류했습니다. 마찬가지로 동그라미 표시된 데이터는 잘못 분류된 오류 데이터 입니다.\n",
    "\n",
    "4. Step4: 오류 데이터에 대해서 다시 가중치를 부여합니다.\n",
    "\n",
    "5. Step5: 가중치를 기반으로 다시 분류를 합니다.\n",
    "\n",
    "6. 예측 결합: 첫번째, 두번째, 세번째 약한 학습기를 모드 결합한 예측입니다. "
   ]
  },
  {
   "cell_type": "markdown",
   "metadata": {},
   "source": [
    "* adaboost 의 단점:\n",
    "    - outlier에 취약하다.  (작은 outlier에 집착하는 경향이 있다.)"
   ]
  },
  {
   "cell_type": "markdown",
   "metadata": {},
   "source": [
    "![AdaBoost](https://scikit-learn.org/stable/_images/sphx_glr_plot_adaboost_hastie_10_2_0011.png)"
   ]
  },
  {
   "cell_type": "code",
   "execution_count": 38,
   "metadata": {
    "ExecuteTime": {
     "end_time": "2021-07-24T04:12:17.306845Z",
     "start_time": "2021-07-24T04:12:07.035030Z"
    }
   },
   "outputs": [
    {
     "name": "stderr",
     "output_type": "stream",
     "text": [
      "Downloading...\n",
      "From: https://drive.google.com/uc?id=16dVeNybWyjHnucmeIuLtzfdX2qFZSUEG\n",
      "To: C:\\Users\\N\\OneDrive\\WorkJ\\Machine Learning\\human_train.csv\n",
      "48.1MB [00:01, 31.4MB/s]\n",
      "Downloading...\n",
      "From: https://drive.google.com/uc?id=1WFAOJNz8Ovj2olAHB_TvSHbjUN-zDIQU\n",
      "To: C:\\Users\\N\\OneDrive\\WorkJ\\Machine Learning\\human_test.csv\n",
      "19.3MB [00:01, 11.3MB/s]\n"
     ]
    }
   ],
   "source": [
    "X_train, X_test, y_train, y_test = get_human_dataset()"
   ]
  },
  {
   "cell_type": "code",
   "execution_count": 39,
   "metadata": {
    "ExecuteTime": {
     "end_time": "2021-07-24T04:12:17.322853Z",
     "start_time": "2021-07-24T04:12:17.308847Z"
    }
   },
   "outputs": [
    {
     "data": {
      "text/plain": [
       "0               STANDING\n",
       "1               STANDING\n",
       "2               STANDING\n",
       "3               STANDING\n",
       "4               STANDING\n",
       "              ...       \n",
       "7347    WALKING_UPSTAIRS\n",
       "7348    WALKING_UPSTAIRS\n",
       "7349    WALKING_UPSTAIRS\n",
       "7350    WALKING_UPSTAIRS\n",
       "7351    WALKING_UPSTAIRS\n",
       "Name: Activity, Length: 7352, dtype: object"
      ]
     },
     "execution_count": 39,
     "metadata": {},
     "output_type": "execute_result"
    }
   ],
   "source": [
    "y_train"
   ]
  },
  {
   "cell_type": "code",
   "execution_count": 40,
   "metadata": {
    "ExecuteTime": {
     "end_time": "2021-07-24T04:12:38.349527Z",
     "start_time": "2021-07-24T04:12:17.325850Z"
    }
   },
   "outputs": [
    {
     "name": "stdout",
     "output_type": "stream",
     "text": [
      "Adaboost 정확도: 0.5310485239226331\n",
      "Adaboost 수행 시간: 21.018675088882446 초\n"
     ]
    }
   ],
   "source": [
    "from sklearn.ensemble import AdaBoostClassifier\n",
    "import time\n",
    "\n",
    "start_time = time.time()\n",
    "\n",
    "ada_clf = AdaBoostClassifier()\n",
    "ada_clf.fit(X_train, y_train)\n",
    "pred = ada_clf.predict(X_test)\n",
    "print('Adaboost 정확도:',accuracy_score(y_test, pred))\n",
    "print('Adaboost 수행 시간:', (time.time()-start_time),'초')"
   ]
  },
  {
   "cell_type": "markdown",
   "metadata": {},
   "source": [
    "### Gradien Boosting Machine\n",
    "* adaboost 와 유사하지만, 경사 하강법(Gradient Descent)을 이용. Tree 기반\n",
    "* 경사하강법을 이용하여 손실함수를 정량화 함으로 가중치를 개선해 나가는 모델"
   ]
  },
  {
   "cell_type": "code",
   "execution_count": 41,
   "metadata": {
    "ExecuteTime": {
     "end_time": "2021-07-24T04:12:38.365531Z",
     "start_time": "2021-07-24T04:12:38.351530Z"
    }
   },
   "outputs": [],
   "source": [
    "from sklearn.ensemble import GradientBoostingClassifier\n",
    "import time\n",
    "\n",
    "# start_time = time.time()\n",
    "\n",
    "# gbm_clf = GradientBoostingClassifier()\n",
    "# gbm_clf.fit(X_train, y_train)\n",
    "# pred = gbm_clf.predict(X_test)\n",
    "# print('GBM 정확도:',accuracy_score(y_test, pred))\n",
    "# print('GBM 수행 시간:', (time.time()-start_time),'초')"
   ]
  },
  {
   "cell_type": "markdown",
   "metadata": {},
   "source": [
    "10분이 넘게 걸렸다. \n",
    "* 너무 느리기 때문에 XGBoost나 LightGBM을 사용한다.\n",
    "* adaboost는 성능이 떨어진다."
   ]
  },
  {
   "cell_type": "markdown",
   "metadata": {},
   "source": [
    "## XGBoost vs LightGBM"
   ]
  },
  {
   "cell_type": "markdown",
   "metadata": {},
   "source": [
    "* 차이점 : 출처 : https://statinknu.tistory.com/33\n",
    "* 파라미터 : 출처 : http://machinelearningkorea.com/2019/09/29/lightgbm-%ED%8C%8C%EB%9D%BC%EB%AF%B8%ED%84%B0/"
   ]
  },
  {
   "cell_type": "markdown",
   "metadata": {},
   "source": [
    "### XGBoost"
   ]
  },
  {
   "cell_type": "markdown",
   "metadata": {},
   "source": [
    "<img src='https://img1.daumcdn.net/thumb/R1280x0/?scode=mtistory2&fname=https%3A%2F%2Fblog.kakaocdn.net%2Fdn%2FrwwQd%2FbtqXBWOCMUy%2FExD4Oma2sldiF7HHZlRkH0%2Fimg.jpg' /> Decision Tree 기반의 알고리즘의 발전 과정\n",
    "\n",
    "출처 : https://towardsdatascience.com/https-medium-com-vishalmorde-xgboost-algorithm-long-she-may-rein-edd9f99be63d"
   ]
  },
  {
   "cell_type": "markdown",
   "metadata": {},
   "source": [
    "그렇다면 어떤 차이를 두었기에 XGBoost는 그렇게 좋은 성능을 낼 수 있을까?\n",
    "\n",
    "<img src='https://img1.daumcdn.net/thumb/R1280x0/?scode=mtistory2&fname=https%3A%2F%2Fblog.kakaocdn.net%2Fdn%2FHZJSQ%2FbtqXHfM6OtK%2FUna9f3JzxPa2lSCjangejK%2Fimg.png' width='500' />\n",
    "\n",
    "출처 : https://towardsdatascience.com/https-medium-com-vishalmorde-xgboost-algorithm-long-she-may-rein-edd9f99be63d"
   ]
  },
  {
   "cell_type": "markdown",
   "metadata": {},
   "source": [
    "#### System Optimization\n",
    "\n",
    "1. Parallelization(병렬 처리) : XGBoost는 병렬 처리를 지원합니다. 단순하게 2중 loop 문을 생각해보면, 기존에는 inner loop를 처리해야만 outer loop가 돌아가는 구조였다면 XGBoost에서는 실행 속도를 개선하기 위해서 모든 인스턴스의 글로벌 검색을 통한 초기화와 Parallel thread를 사용한 정렬을 통해서 루프 순서를 상호 변경할 수 있게 했습니다.(저 또한 이 말을 이해하기 어렵지만, 실행 속도 개선을 위한 병렬 처리를 위해 학습모델의 구조를 바꿨다고 이해하면 될 것 같습니다). 이러한 변화가 컴퓨팅계산에 있어 overheads를 상쇄시킴으로써 성능을 향상시킵니다.\n",
    "    \n",
    "    \n",
    "Tree Building Step 에서의 병렬처리 방식은 다음과 같다.\n",
    "\n",
    "\n",
    "* 방식1. Parallelize Node Building at Each Level\n",
    "\n",
    "    - 트리 레벨마다 노드의 생성을 병렬처리 방식으로 생성한다.Split된 노드들에 각각 cpu코어를 할당해 병렬처리한다.(병렬처리의 기준은 트리의 레벨) decision tree는 노드마다 high prediction accuracy 를 얻기 위해 과도하게 split하기 때문에 workload imbalanced problem 을 초래한다. (노드마다 인스턴스 숫자가 달라서 트리의 균형이 깨자는 현상) 그리고 속도의 개선이 별로 없는 방식이다.\n",
    "\n",
    "* 방식2. Parallelize Split Finding on Each Node\n",
    "\n",
    "     - 한 노드로부터 자식노드를 생성하기 위해서는 feature마다 enumerate 하여 split을 찾아야 한다. 위의 아이디어는  노드의 split finding을 병렬처리하는 것으로 노드별로 feature를 sorting 한 담에 가장 엔트로피가 낮아지는 지점을 계산을 해야하는데 이 sorting을 병렬처리 한다. 각기 다른 feature들을 split 하는 방식이다. 노드생성을 병렬처리하는 위의 방식보다 훨씬 빠른 방법이다. 그러나 small node에 too much overhead를 초래한다.\n",
    "\n",
    "\n",
    "* 방식3. Parallelize Split Finding at Each Level by features\n",
    "\n",
    "    - 위의 두 방식에는 두 개의 루프가 존재한다. outer loop로는 트리의 레벨마다 leaf nodes들을 돌고 있고, inner loop으로는 feature들을 돈다. 방식 3은 outer loop와 inner loop의 순서를 바꾸는 것에서 착안했다. 이를 통해 같은 레벨에서 다른 feature 의 split을 병렬처리할 수 있다. 즉 split 한 노드에서 sorting 하는게 아니라 처음부터 feature를 sorting을 대충한 다음에 추후 필요할때마다 leaf 노드에서 sorting을 진행한다 "
   ]
  },
  {
   "cell_type": "markdown",
   "metadata": {},
   "source": [
    "2. Tree Pruning(가지치기) : XGBoost는 criterion first 방식 대신에 'max_depth' 파라미터를 정해줍니다. 이러한 'depth-first' 방식은 계산상의 이득을 상당히 많이 가져와주었습니다."
   ]
  },
  {
   "cell_type": "markdown",
   "metadata": {},
   "source": [
    "3. Hardware Optimization(하드웨어 최적화) : XGBoost는 하드웨어 자원을 효율적으로 이용할 수 있도록 디자인 하였습니다. gradient 통계값을 저장하기 위해 캐쉬 메모리의 기억 저장소를 이용하여 internal buffer에 각 스레드를 할당 하였습니다. out-of-core컴퓨팅과 같은 향상된 기능은 메모리에 맞지 않는 빅데이터프레임도 처리하면서 Disk 공간을 최적화 합니다."
   ]
  },
  {
   "cell_type": "markdown",
   "metadata": {},
   "source": [
    "#### Algorithmic Enhancements\n",
    "\n",
    " \n",
    "\n",
    "1. Regularization : Lasso(L1)와 Ridge(L2) 규제를 통해서 모델에 penalty를 부여합니다. 이러한 방법은 Overfitting을 잡을 수 있습니다. \n",
    "\n",
    "2. Sparsity Awareness : XGBoost는 Training loss에 따라 최상의 결측값을 자동으로 학습함으로써 Sparsity를 인정하고 다양한 데이터 유형의 Sparse pattern을 효율적으로 처리합니다. \n",
    "\n",
    "3. Weighted Quantile Sketch : XGBoost는 \"distributed weighted Quatile sketch\" 알고리즘을 사용하여 최적의 분기점을 효율적으로 찾아냅니다.\n",
    "\n",
    "4. Cross-validation : Cross validation이 빌트인 되어있습니다.  "
   ]
  },
  {
   "cell_type": "markdown",
   "metadata": {},
   "source": [
    "#### `XGBclassifier`"
   ]
  },
  {
   "cell_type": "code",
   "execution_count": 42,
   "metadata": {
    "ExecuteTime": {
     "end_time": "2021-07-24T04:12:40.853510Z",
     "start_time": "2021-07-24T04:12:38.367531Z"
    }
   },
   "outputs": [
    {
     "data": {
      "text/plain": [
       "XGBClassifier(base_score=None, booster=None, colsample_bylevel=None,\n",
       "              colsample_bynode=None, colsample_bytree=None, gamma=None,\n",
       "              gpu_id=None, importance_type='gain', interaction_constraints=None,\n",
       "              learning_rate=None, max_delta_step=None, max_depth=None,\n",
       "              min_child_weight=None, missing=nan, monotone_constraints=None,\n",
       "              n_estimators=100, n_jobs=None, num_parallel_tree=None,\n",
       "              random_state=None, reg_alpha=None, reg_lambda=None,\n",
       "              scale_pos_weight=None, subsample=None, tree_method=None,\n",
       "              validate_parameters=None, verbosity=None)"
      ]
     },
     "execution_count": 42,
     "metadata": {},
     "output_type": "execute_result"
    }
   ],
   "source": [
    "from xgboost import XGBClassifier\n",
    "XGBClassifier()"
   ]
  },
  {
   "cell_type": "markdown",
   "metadata": {},
   "source": [
    "https://xgboost.readthedocs.io/en/latest/python/python_api.html#module-xgboost.sklearn\n",
    "\n",
    "\n",
    "* 반드시 튜닝해야할 파라미터는  min_child_weight / max_depth / gamma\n",
    "\n",
    "\n",
    "```python\n",
    "xgb.XGBClassifier(\n",
    "    \n",
    "    # General Parameter\n",
    "    booster='gbtree' # 트리,회귀(gblinear) 트리가 항상 \n",
    "                     # 더 좋은 성능을 내기 때문에 수정할 필요없다고한다.\n",
    "    \n",
    "    silent=True  # running message출력안한다.\n",
    "                 # 모델이 적합되는 과정을 이해하기위해선 False으로한다.\n",
    "    \n",
    "    min_child_weight=10   # 값이 높아지면 under-fitting 되는 \n",
    "                          # 경우가 있다. CV를 통해 튜닝되어야 한다.\n",
    "    \n",
    "    max_depth=8     # 트리의 최대 깊이를 정의함. \n",
    "                    # 루트에서 가장 긴 노드의 거리.\n",
    "                    # 8이면 중요변수에서 결론까지 변수가 9개거친다.\n",
    "                    # Typical Value는 3-10. \n",
    "    \n",
    "    gamma =0    # 노드가 split 되기 위한 loss function의 값이\n",
    "                # 감소하는 최소값을 정의한다. gamma 값이 높아질 수록 \n",
    "                # 알고리즘은 보수적으로 변하고, loss function의 정의\n",
    "                #에 따라 적정값이 달라지기때문에 반드시 튜닝.\n",
    "    \n",
    "    nthread =4    # XGBoost를 실행하기 위한 병렬처리(쓰레드)\n",
    "                  #갯수. 'n_jobs' 를 사용해라.\n",
    "    \n",
    "    colsample_bytree=0.8   # 트리를 생성할때 훈련 데이터에서 \n",
    "                           # 변수를 샘플링해주는 비율. 보통0.6~0.9\n",
    "    \n",
    "    colsample_bylevel=0.9  # 트리의 레벨별로 훈련 데이터의 \n",
    "                           #변수를 샘플링해주는 비율. 보통0.6~0.9\n",
    "    \n",
    "    n_estimators =(int)   #부스트트리의 양\n",
    "                          # 트리의 갯수. \n",
    "    \n",
    "    objective = 'reg:linear','binary:logistic','multi:softmax',\n",
    "                'multi:softprob'  # 4가지 존재.\n",
    "            # 회귀 경우 'reg', binary분류의 경우 'binary',\n",
    "            # 다중분류경우 'multi'- 분류된 class를 return하는 경우 'softmax'\n",
    "            # 각 class에 속할 확률을 return하는 경우 'softprob'\n",
    "    \n",
    "    random_state =  # random number seed.\n",
    "                    # seed 와 동일.\n",
    ")\n",
    "\n",
    "XGBClassifier.fit(\n",
    "    \n",
    "    X (array_like)     # Feature matrix ( 독립변수)\n",
    "                       # X_train\n",
    "    \n",
    "    Y (array)          # Labels (종속변수)\n",
    "                       # Y_train\n",
    "    \n",
    "    eval_set           # 빨리 끝나기 위해 검증데이터와 같이써야한다.  \n",
    "                       # =[(X_train,Y_train),(X_vld, Y_vld)]\n",
    " \n",
    "    eval_metric = 'rmse','error','mae','logloss','merror',\n",
    "                'mlogloss','auc'  \n",
    "              # validation set (검증데이터)에 적용되는 모델 선택 기준.\n",
    "              # 평가측정. \n",
    "              # 회귀 경우 rmse ,  분류 -error   이외의 옵션은 함수정의\n",
    "    \n",
    "    early_stopping_rounds=100,20\n",
    "              # 100번,20번 반복동안 최대화 되지 않으면 stop\n",
    ")\n",
    "```\n",
    "\n",
    "\n",
    "[출처] [파이썬 Scikit-Learn형식 XGBoost 파라미터](https://blog.naver.com/gustn3964/221431714122)\n",
    "\n",
    "\n",
    "\n"
   ]
  },
  {
   "cell_type": "code",
   "execution_count": 43,
   "metadata": {
    "ExecuteTime": {
     "end_time": "2021-07-24T04:12:51.008716Z",
     "start_time": "2021-07-24T04:12:40.855504Z"
    }
   },
   "outputs": [
    {
     "name": "stderr",
     "output_type": "stream",
     "text": [
      "Downloading...\n",
      "From: https://drive.google.com/uc?id=16dVeNybWyjHnucmeIuLtzfdX2qFZSUEG\n",
      "To: C:\\Users\\N\\OneDrive\\WorkJ\\Machine Learning\\human_train.csv\n",
      "48.1MB [00:03, 15.7MB/s]\n",
      "Downloading...\n",
      "From: https://drive.google.com/uc?id=1WFAOJNz8Ovj2olAHB_TvSHbjUN-zDIQU\n",
      "To: C:\\Users\\N\\OneDrive\\WorkJ\\Machine Learning\\human_test.csv\n",
      "19.3MB [00:01, 14.2MB/s]\n"
     ]
    }
   ],
   "source": [
    "X_train, X_test, y_train, y_test = get_human_dataset()"
   ]
  },
  {
   "cell_type": "code",
   "execution_count": 44,
   "metadata": {
    "ExecuteTime": {
     "end_time": "2021-07-24T04:12:51.024720Z",
     "start_time": "2021-07-24T04:12:51.010717Z"
    }
   },
   "outputs": [],
   "source": [
    "from xgboost import XGBClassifier\n",
    "xgb_clf = XGBClassifier(max_depth = 3,\n",
    "                        learning_rate=0.1,\n",
    "                        n_estimator=400,\n",
    "                        verbosity=0\n",
    "                        )"
   ]
  },
  {
   "cell_type": "code",
   "execution_count": 45,
   "metadata": {
    "ExecuteTime": {
     "end_time": "2021-07-24T04:13:27.987201Z",
     "start_time": "2021-07-24T04:12:51.028723Z"
    },
    "scrolled": true
   },
   "outputs": [
    {
     "name": "stdout",
     "output_type": "stream",
     "text": [
      "[0]\tvalidation_0-mlogloss:1.58932\n",
      "[1]\tvalidation_0-mlogloss:1.43267\n",
      "[2]\tvalidation_0-mlogloss:1.30508\n",
      "[3]\tvalidation_0-mlogloss:1.19566\n",
      "[4]\tvalidation_0-mlogloss:1.10245\n",
      "[5]\tvalidation_0-mlogloss:1.02130\n",
      "[6]\tvalidation_0-mlogloss:0.94829\n",
      "[7]\tvalidation_0-mlogloss:0.88432\n",
      "[8]\tvalidation_0-mlogloss:0.82905\n",
      "[9]\tvalidation_0-mlogloss:0.77751\n",
      "[10]\tvalidation_0-mlogloss:0.73060\n",
      "[11]\tvalidation_0-mlogloss:0.69069\n",
      "[12]\tvalidation_0-mlogloss:0.65263\n",
      "[13]\tvalidation_0-mlogloss:0.61981\n",
      "[14]\tvalidation_0-mlogloss:0.58878\n",
      "[15]\tvalidation_0-mlogloss:0.56025\n",
      "[16]\tvalidation_0-mlogloss:0.53537\n",
      "[17]\tvalidation_0-mlogloss:0.51079\n",
      "[18]\tvalidation_0-mlogloss:0.48987\n",
      "[19]\tvalidation_0-mlogloss:0.46918\n",
      "[20]\tvalidation_0-mlogloss:0.45130\n",
      "[21]\tvalidation_0-mlogloss:0.43322\n",
      "[22]\tvalidation_0-mlogloss:0.41823\n",
      "[23]\tvalidation_0-mlogloss:0.40282\n",
      "[24]\tvalidation_0-mlogloss:0.38968\n",
      "[25]\tvalidation_0-mlogloss:0.37667\n",
      "[26]\tvalidation_0-mlogloss:0.36569\n",
      "[27]\tvalidation_0-mlogloss:0.35439\n",
      "[28]\tvalidation_0-mlogloss:0.34475\n",
      "[29]\tvalidation_0-mlogloss:0.33408\n",
      "[30]\tvalidation_0-mlogloss:0.32445\n",
      "[31]\tvalidation_0-mlogloss:0.31759\n",
      "[32]\tvalidation_0-mlogloss:0.30821\n",
      "[33]\tvalidation_0-mlogloss:0.30105\n",
      "[34]\tvalidation_0-mlogloss:0.29401\n",
      "[35]\tvalidation_0-mlogloss:0.28764\n",
      "[36]\tvalidation_0-mlogloss:0.28100\n",
      "[37]\tvalidation_0-mlogloss:0.27425\n",
      "[38]\tvalidation_0-mlogloss:0.26853\n",
      "[39]\tvalidation_0-mlogloss:0.26330\n",
      "[40]\tvalidation_0-mlogloss:0.25833\n",
      "[41]\tvalidation_0-mlogloss:0.25314\n",
      "[42]\tvalidation_0-mlogloss:0.24794\n",
      "[43]\tvalidation_0-mlogloss:0.24344\n",
      "[44]\tvalidation_0-mlogloss:0.23929\n",
      "[45]\tvalidation_0-mlogloss:0.23544\n",
      "[46]\tvalidation_0-mlogloss:0.23188\n",
      "[47]\tvalidation_0-mlogloss:0.22871\n",
      "[48]\tvalidation_0-mlogloss:0.22513\n",
      "[49]\tvalidation_0-mlogloss:0.22176\n",
      "[50]\tvalidation_0-mlogloss:0.21819\n",
      "[51]\tvalidation_0-mlogloss:0.21536\n",
      "[52]\tvalidation_0-mlogloss:0.21264\n",
      "[53]\tvalidation_0-mlogloss:0.20968\n",
      "[54]\tvalidation_0-mlogloss:0.20751\n",
      "[55]\tvalidation_0-mlogloss:0.20483\n",
      "[56]\tvalidation_0-mlogloss:0.20322\n",
      "[57]\tvalidation_0-mlogloss:0.20013\n",
      "[58]\tvalidation_0-mlogloss:0.19842\n",
      "[59]\tvalidation_0-mlogloss:0.19557\n",
      "[60]\tvalidation_0-mlogloss:0.19373\n",
      "[61]\tvalidation_0-mlogloss:0.19191\n",
      "[62]\tvalidation_0-mlogloss:0.18981\n",
      "[63]\tvalidation_0-mlogloss:0.18738\n",
      "[64]\tvalidation_0-mlogloss:0.18601\n",
      "[65]\tvalidation_0-mlogloss:0.18467\n",
      "[66]\tvalidation_0-mlogloss:0.18252\n",
      "[67]\tvalidation_0-mlogloss:0.18072\n",
      "[68]\tvalidation_0-mlogloss:0.17932\n",
      "[69]\tvalidation_0-mlogloss:0.17720\n",
      "[70]\tvalidation_0-mlogloss:0.17507\n",
      "[71]\tvalidation_0-mlogloss:0.17381\n",
      "[72]\tvalidation_0-mlogloss:0.17270\n",
      "[73]\tvalidation_0-mlogloss:0.17219\n",
      "[74]\tvalidation_0-mlogloss:0.17131\n",
      "[75]\tvalidation_0-mlogloss:0.17002\n",
      "[76]\tvalidation_0-mlogloss:0.16940\n",
      "[77]\tvalidation_0-mlogloss:0.16767\n",
      "[78]\tvalidation_0-mlogloss:0.16642\n",
      "[79]\tvalidation_0-mlogloss:0.16546\n",
      "[80]\tvalidation_0-mlogloss:0.16417\n",
      "[81]\tvalidation_0-mlogloss:0.16283\n",
      "[82]\tvalidation_0-mlogloss:0.16261\n",
      "[83]\tvalidation_0-mlogloss:0.16212\n",
      "[84]\tvalidation_0-mlogloss:0.16122\n",
      "[85]\tvalidation_0-mlogloss:0.16080\n",
      "[86]\tvalidation_0-mlogloss:0.15951\n",
      "[87]\tvalidation_0-mlogloss:0.15959\n",
      "[88]\tvalidation_0-mlogloss:0.15906\n",
      "[89]\tvalidation_0-mlogloss:0.15740\n",
      "[90]\tvalidation_0-mlogloss:0.15671\n",
      "[91]\tvalidation_0-mlogloss:0.15519\n",
      "[92]\tvalidation_0-mlogloss:0.15478\n",
      "[93]\tvalidation_0-mlogloss:0.15432\n",
      "[94]\tvalidation_0-mlogloss:0.15407\n",
      "[95]\tvalidation_0-mlogloss:0.15343\n",
      "[96]\tvalidation_0-mlogloss:0.15336\n",
      "[97]\tvalidation_0-mlogloss:0.15259\n",
      "[98]\tvalidation_0-mlogloss:0.15239\n",
      "[99]\tvalidation_0-mlogloss:0.15203\n"
     ]
    },
    {
     "data": {
      "text/plain": [
       "XGBClassifier(base_score=0.5, booster='gbtree', colsample_bylevel=1,\n",
       "              colsample_bynode=1, colsample_bytree=1, gamma=0, gpu_id=-1,\n",
       "              importance_type='gain', interaction_constraints='',\n",
       "              learning_rate=0.1, max_delta_step=0, max_depth=3,\n",
       "              min_child_weight=1, missing=nan, monotone_constraints='()',\n",
       "              n_estimator=400, n_estimators=100, n_jobs=8, num_parallel_tree=1,\n",
       "              objective='multi:softprob', random_state=0, reg_alpha=0,\n",
       "              reg_lambda=1, scale_pos_weight=None, subsample=1,\n",
       "              tree_method='exact', validate_parameters=1, verbosity=0)"
      ]
     },
     "execution_count": 45,
     "metadata": {},
     "output_type": "execute_result"
    }
   ],
   "source": [
    "evals = [(X_test, y_test)]\n",
    "xgb_clf.fit(X_train, y_train, early_stopping_rounds=100, \n",
    "            eval_metric='mlogloss', eval_set=evals,  verbose=True) # multi 일때는 mlogloss, binary 일때는 logloss"
   ]
  },
  {
   "cell_type": "code",
   "execution_count": 46,
   "metadata": {
    "ExecuteTime": {
     "end_time": "2021-07-24T04:13:28.032211Z",
     "start_time": "2021-07-24T04:13:27.990202Z"
    }
   },
   "outputs": [
    {
     "data": {
      "text/plain": [
       "0.9375636240244316"
      ]
     },
     "execution_count": 46,
     "metadata": {},
     "output_type": "execute_result"
    }
   ],
   "source": [
    "pred = xgb_clf.predict(X_test)\n",
    "accuracy_score(y_test, pred)"
   ]
  },
  {
   "cell_type": "code",
   "execution_count": 47,
   "metadata": {
    "ExecuteTime": {
     "end_time": "2021-07-24T04:13:39.453997Z",
     "start_time": "2021-07-24T04:13:28.034211Z"
    }
   },
   "outputs": [
    {
     "data": {
      "image/png": "[encoded data removed]",
      "text/plain": [
       "<Figure size 432x288 with 1 Axes>"
      ]
     },
     "metadata": {},
     "output_type": "display_data"
    }
   ],
   "source": [
    "from xgboost import plot_importance, plot_tree\n",
    "\n",
    "plot_importance(xgb_clf);"
   ]
  },
  {
   "cell_type": "code",
   "execution_count": 48,
   "metadata": {
    "ExecuteTime": {
     "end_time": "2021-07-24T04:13:39.874442Z",
     "start_time": "2021-07-24T04:13:39.456006Z"
    }
   },
   "outputs": [
    {
     "data": {
      "text/plain": [
       "<AxesSubplot:>"
      ]
     },
     "execution_count": 48,
     "metadata": {},
     "output_type": "execute_result"
    },
    {
     "data": {
      "image/png": "[encoded data removed]",
      "text/plain": [
       "<Figure size 432x288 with 1 Axes>"
      ]
     },
     "metadata": {},
     "output_type": "display_data"
    }
   ],
   "source": [
    "plot_tree(xgb_clf)"
   ]
  },
  {
   "cell_type": "markdown",
   "metadata": {},
   "source": [
    "### LightGBM"
   ]
  },
  {
   "cell_type": "markdown",
   "metadata": {},
   "source": [
    "* LightGBM의 메인 기술은 GOSS(Gradient-based One-Side Sampling)입니다."
   ]
  },
  {
   "cell_type": "markdown",
   "metadata": {},
   "source": [
    "<img src='https://img1.daumcdn.net/thumb/R1280x0/?scode=mtistory2&fname=https%3A%2F%2Fblog.kakaocdn.net%2Fdn%2FdsAyLL%2FbtqXJWNRzgF%2FV0fFXLv9TXGJedlG20RIJK%2Fimg.png' width='700' />\n",
    "\n",
    "<img src= 'https://img1.daumcdn.net/thumb/R1280x0/?scode=mtistory2&fname=https%3A%2F%2Fblog.kakaocdn.net%2Fdn%2Fcarb0s%2FbtqXD29c4fG%2FpvFhJRHDUhdcGY0kU1fal1%2Fimg.png' widht='700' />\n",
    "\n",
    "출처 : https://datascience.stackexchange.com/questions/26699/decision-trees-leaf-wise-best-first-and-level-wise-tree-traverse"
   ]
  },
  {
   "cell_type": "markdown",
   "metadata": {},
   "source": [
    "* 일반 GBM 계열의 트리는 level-wise(균형 트리 분할) 방식을 채택합니다. 그림을 보시면 알겠지만 항상 균형을 이루며 2진 분할을 하고 있습니다.\n",
    "\n",
    "\n",
    "\n",
    "* 반면 LightGBM에서 채택한 leaf-wise(리프 중심 트리 분할)은 트리가 깊어지면서 소요되는 시간과 메모리 모두를 절약 할 수 있었습니다."
   ]
  },
  {
   "cell_type": "markdown",
   "metadata": {},
   "source": [
    "LightGBM은 대용량에 특화 되어 있기 때문에 , 최소 10000건 이상에서 쓰기를 추천한다. 그렇지 않으면 , Overfitting이 일어나기 쉽다."
   ]
  },
  {
   "cell_type": "markdown",
   "metadata": {},
   "source": [
    "#### 파라미터 관련\n",
    "\n",
    "|LightGBM|XGBoost|\n",
    "|:-:|:-:|\n",
    "|n_estmators|n_estmators|\n",
    "|learning_rate|learning_rate|\n",
    "|max_depth|max_depth|\n",
    "|min_child_samples|N/A|\n",
    "|subsample|subsample|\n",
    "|colsample_bytree|colsample_bytree|\n",
    "|reg_lambda|reg_lambda|\n",
    "|reg_alpha|reg_alpha|\n",
    "|eraly_stopping_rounds|eraly_stopping_rounds|\n",
    "|num_leaves|N/A|\n",
    "|min_child_weight|min_child_weight|\n",
    "\n",
    "\n",
    "출처: http://machinelearningkorea.com/2019/09/29/lightgbm-%ED%8C%8C%EB%9D%BC%EB%AF%B8%ED%84%B0/"
   ]
  },
  {
   "cell_type": "markdown",
   "metadata": {},
   "source": [
    "위스콘신 유방함 예측 예제"
   ]
  },
  {
   "cell_type": "code",
   "execution_count": 49,
   "metadata": {
    "ExecuteTime": {
     "end_time": "2021-07-24T04:13:40.635281Z",
     "start_time": "2021-07-24T04:13:39.876437Z"
    }
   },
   "outputs": [],
   "source": [
    "from lightgbm import LGBMClassifier\n",
    "from lightgbm import plot_importance, plot_metric, plot_tree"
   ]
  },
  {
   "cell_type": "code",
   "execution_count": 50,
   "metadata": {
    "ExecuteTime": {
     "end_time": "2021-07-24T04:13:40.808320Z",
     "start_time": "2021-07-24T04:13:40.637281Z"
    },
    "scrolled": true
   },
   "outputs": [
    {
     "name": "stdout",
     "output_type": "stream",
     "text": [
      "[1]\tvalid_0's binary_logloss: 0.565079\n",
      "Training until validation scores don't improve for 100 rounds\n",
      "[2]\tvalid_0's binary_logloss: 0.507451\n",
      "[3]\tvalid_0's binary_logloss: 0.458489\n",
      "[4]\tvalid_0's binary_logloss: 0.417481\n",
      "[5]\tvalid_0's binary_logloss: 0.385507\n",
      "[6]\tvalid_0's binary_logloss: 0.355773\n",
      "[7]\tvalid_0's binary_logloss: 0.329587\n",
      "[8]\tvalid_0's binary_logloss: 0.308478\n",
      "[9]\tvalid_0's binary_logloss: 0.285395\n",
      "[10]\tvalid_0's binary_logloss: 0.267055\n",
      "[11]\tvalid_0's binary_logloss: 0.252013\n",
      "[12]\tvalid_0's binary_logloss: 0.237018\n",
      "[13]\tvalid_0's binary_logloss: 0.224756\n",
      "[14]\tvalid_0's binary_logloss: 0.213383\n",
      "[15]\tvalid_0's binary_logloss: 0.203058\n",
      "[16]\tvalid_0's binary_logloss: 0.194015\n",
      "[17]\tvalid_0's binary_logloss: 0.186412\n",
      "[18]\tvalid_0's binary_logloss: 0.179108\n",
      "[19]\tvalid_0's binary_logloss: 0.174004\n",
      "[20]\tvalid_0's binary_logloss: 0.167155\n",
      "[21]\tvalid_0's binary_logloss: 0.162494\n",
      "[22]\tvalid_0's binary_logloss: 0.156886\n",
      "[23]\tvalid_0's binary_logloss: 0.152855\n",
      "[24]\tvalid_0's binary_logloss: 0.151113\n",
      "[25]\tvalid_0's binary_logloss: 0.148395\n",
      "[26]\tvalid_0's binary_logloss: 0.145869\n",
      "[27]\tvalid_0's binary_logloss: 0.143036\n",
      "[28]\tvalid_0's binary_logloss: 0.14033\n",
      "[29]\tvalid_0's binary_logloss: 0.139609\n",
      "[30]\tvalid_0's binary_logloss: 0.136109\n",
      "[31]\tvalid_0's binary_logloss: 0.134867\n",
      "[32]\tvalid_0's binary_logloss: 0.134729\n",
      "[33]\tvalid_0's binary_logloss: 0.1311\n",
      "[34]\tvalid_0's binary_logloss: 0.131143\n",
      "[35]\tvalid_0's binary_logloss: 0.129435\n",
      "[36]\tvalid_0's binary_logloss: 0.128474\n",
      "[37]\tvalid_0's binary_logloss: 0.126683\n",
      "[38]\tvalid_0's binary_logloss: 0.126112\n",
      "[39]\tvalid_0's binary_logloss: 0.122831\n",
      "[40]\tvalid_0's binary_logloss: 0.123162\n",
      "[41]\tvalid_0's binary_logloss: 0.125592\n",
      "[42]\tvalid_0's binary_logloss: 0.128293\n",
      "[43]\tvalid_0's binary_logloss: 0.128123\n",
      "[44]\tvalid_0's binary_logloss: 0.12789\n",
      "[45]\tvalid_0's binary_logloss: 0.122818\n",
      "[46]\tvalid_0's binary_logloss: 0.12496\n",
      "[47]\tvalid_0's binary_logloss: 0.125578\n",
      "[48]\tvalid_0's binary_logloss: 0.127381\n",
      "[49]\tvalid_0's binary_logloss: 0.128349\n",
      "[50]\tvalid_0's binary_logloss: 0.127004\n",
      "[51]\tvalid_0's binary_logloss: 0.130288\n",
      "[52]\tvalid_0's binary_logloss: 0.131362\n",
      "[53]\tvalid_0's binary_logloss: 0.133363\n",
      "[54]\tvalid_0's binary_logloss: 0.1332\n",
      "[55]\tvalid_0's binary_logloss: 0.134543\n",
      "[56]\tvalid_0's binary_logloss: 0.130803\n",
      "[57]\tvalid_0's binary_logloss: 0.130306\n",
      "[58]\tvalid_0's binary_logloss: 0.132514\n",
      "[59]\tvalid_0's binary_logloss: 0.133278\n",
      "[60]\tvalid_0's binary_logloss: 0.134804\n",
      "[61]\tvalid_0's binary_logloss: 0.136888\n",
      "[62]\tvalid_0's binary_logloss: 0.138745\n",
      "[63]\tvalid_0's binary_logloss: 0.140497\n",
      "[64]\tvalid_0's binary_logloss: 0.141368\n",
      "[65]\tvalid_0's binary_logloss: 0.140764\n",
      "[66]\tvalid_0's binary_logloss: 0.14348\n",
      "[67]\tvalid_0's binary_logloss: 0.143418\n",
      "[68]\tvalid_0's binary_logloss: 0.143682\n",
      "[69]\tvalid_0's binary_logloss: 0.145076\n",
      "[70]\tvalid_0's binary_logloss: 0.14686\n",
      "[71]\tvalid_0's binary_logloss: 0.148051\n",
      "[72]\tvalid_0's binary_logloss: 0.147664\n",
      "[73]\tvalid_0's binary_logloss: 0.149478\n",
      "[74]\tvalid_0's binary_logloss: 0.14708\n",
      "[75]\tvalid_0's binary_logloss: 0.14545\n",
      "[76]\tvalid_0's binary_logloss: 0.148767\n",
      "[77]\tvalid_0's binary_logloss: 0.149959\n",
      "[78]\tvalid_0's binary_logloss: 0.146083\n",
      "[79]\tvalid_0's binary_logloss: 0.14638\n",
      "[80]\tvalid_0's binary_logloss: 0.148461\n",
      "[81]\tvalid_0's binary_logloss: 0.15091\n",
      "[82]\tvalid_0's binary_logloss: 0.153011\n",
      "[83]\tvalid_0's binary_logloss: 0.154807\n",
      "[84]\tvalid_0's binary_logloss: 0.156501\n",
      "[85]\tvalid_0's binary_logloss: 0.158586\n",
      "[86]\tvalid_0's binary_logloss: 0.159819\n",
      "[87]\tvalid_0's binary_logloss: 0.161745\n",
      "[88]\tvalid_0's binary_logloss: 0.162829\n",
      "[89]\tvalid_0's binary_logloss: 0.159142\n",
      "[90]\tvalid_0's binary_logloss: 0.156765\n",
      "[91]\tvalid_0's binary_logloss: 0.158625\n",
      "[92]\tvalid_0's binary_logloss: 0.156832\n",
      "[93]\tvalid_0's binary_logloss: 0.154616\n",
      "[94]\tvalid_0's binary_logloss: 0.154263\n",
      "[95]\tvalid_0's binary_logloss: 0.157156\n",
      "[96]\tvalid_0's binary_logloss: 0.158617\n",
      "[97]\tvalid_0's binary_logloss: 0.157495\n",
      "[98]\tvalid_0's binary_logloss: 0.159413\n",
      "[99]\tvalid_0's binary_logloss: 0.15847\n",
      "[100]\tvalid_0's binary_logloss: 0.160746\n",
      "[101]\tvalid_0's binary_logloss: 0.16217\n",
      "[102]\tvalid_0's binary_logloss: 0.165293\n",
      "[103]\tvalid_0's binary_logloss: 0.164749\n",
      "[104]\tvalid_0's binary_logloss: 0.167097\n",
      "[105]\tvalid_0's binary_logloss: 0.167697\n",
      "[106]\tvalid_0's binary_logloss: 0.169462\n",
      "[107]\tvalid_0's binary_logloss: 0.169947\n",
      "[108]\tvalid_0's binary_logloss: 0.171\n",
      "[109]\tvalid_0's binary_logloss: 0.16907\n",
      "[110]\tvalid_0's binary_logloss: 0.169521\n",
      "[111]\tvalid_0's binary_logloss: 0.167719\n",
      "[112]\tvalid_0's binary_logloss: 0.166648\n",
      "[113]\tvalid_0's binary_logloss: 0.169053\n",
      "[114]\tvalid_0's binary_logloss: 0.169613\n",
      "[115]\tvalid_0's binary_logloss: 0.170059\n",
      "[116]\tvalid_0's binary_logloss: 0.1723\n",
      "[117]\tvalid_0's binary_logloss: 0.174733\n",
      "[118]\tvalid_0's binary_logloss: 0.173526\n",
      "[119]\tvalid_0's binary_logloss: 0.1751\n",
      "[120]\tvalid_0's binary_logloss: 0.178254\n",
      "[121]\tvalid_0's binary_logloss: 0.182968\n",
      "[122]\tvalid_0's binary_logloss: 0.179017\n",
      "[123]\tvalid_0's binary_logloss: 0.178326\n",
      "[124]\tvalid_0's binary_logloss: 0.177149\n",
      "[125]\tvalid_0's binary_logloss: 0.179171\n",
      "[126]\tvalid_0's binary_logloss: 0.180948\n",
      "[127]\tvalid_0's binary_logloss: 0.183861\n",
      "[128]\tvalid_0's binary_logloss: 0.187579\n",
      "[129]\tvalid_0's binary_logloss: 0.188122\n",
      "[130]\tvalid_0's binary_logloss: 0.1857\n",
      "[131]\tvalid_0's binary_logloss: 0.187442\n",
      "[132]\tvalid_0's binary_logloss: 0.188578\n",
      "[133]\tvalid_0's binary_logloss: 0.189729\n",
      "[134]\tvalid_0's binary_logloss: 0.187313\n",
      "[135]\tvalid_0's binary_logloss: 0.189279\n",
      "[136]\tvalid_0's binary_logloss: 0.191068\n",
      "[137]\tvalid_0's binary_logloss: 0.192414\n",
      "[138]\tvalid_0's binary_logloss: 0.191255\n",
      "[139]\tvalid_0's binary_logloss: 0.193453\n",
      "[140]\tvalid_0's binary_logloss: 0.196969\n",
      "[141]\tvalid_0's binary_logloss: 0.196378\n",
      "[142]\tvalid_0's binary_logloss: 0.196367\n",
      "[143]\tvalid_0's binary_logloss: 0.19869\n",
      "[144]\tvalid_0's binary_logloss: 0.200352\n",
      "[145]\tvalid_0's binary_logloss: 0.19712\n",
      "Early stopping, best iteration is:\n",
      "[45]\tvalid_0's binary_logloss: 0.122818\n"
     ]
    },
    {
     "data": {
      "text/plain": [
       "LGBMClassifier(n_estimators=400)"
      ]
     },
     "execution_count": 50,
     "metadata": {},
     "output_type": "execute_result"
    }
   ],
   "source": [
    "from sklearn.datasets import load_breast_cancer\n",
    "\n",
    "cancer = load_breast_cancer()\n",
    "\n",
    "X_train, X_test, y_train, y_test = train_test_split(cancer.data, cancer.target, test_size = 0.2, random_state=156)\n",
    "\n",
    "lgbm_clf = LGBMClassifier(n_estimators=400)\n",
    "\n",
    "evals = [(X_test, y_test)]\n",
    "lgbm_clf.fit(X_train, y_train, early_stopping_rounds=100, eval_metric='logloss',\n",
    "             eval_set=evals, verbose=True)"
   ]
  },
  {
   "cell_type": "code",
   "execution_count": 51,
   "metadata": {
    "ExecuteTime": {
     "end_time": "2021-07-24T04:13:40.824324Z",
     "start_time": "2021-07-24T04:13:40.810320Z"
    }
   },
   "outputs": [],
   "source": [
    "preds = lgbm_clf.predict(X_test)\n",
    "pred_proba = lgbm_clf.predict_proba(X_test)[:,1]"
   ]
  },
  {
   "cell_type": "code",
   "execution_count": 52,
   "metadata": {
    "ExecuteTime": {
     "end_time": "2021-07-24T04:13:41.000378Z",
     "start_time": "2021-07-24T04:13:40.826324Z"
    }
   },
   "outputs": [
    {
     "name": "stdout",
     "output_type": "stream",
     "text": [
      "오차 행렬\n"
     ]
    },
    {
     "data": {
      "image/png": "[encoded data removed]",
      "text/plain": [
       "<Figure size 180x180 with 1 Axes>"
      ]
     },
     "metadata": {},
     "output_type": "display_data"
    },
    {
     "name": "stdout",
     "output_type": "stream",
     "text": [
      "정확도:0.9561, 정밀도:0.9500, 재현율:0.9870, F1_score:0.9682,            AUC: 0.9905\n"
     ]
    }
   ],
   "source": [
    "get_clf_eval(y_test, preds, pred_proba)"
   ]
  },
  {
   "cell_type": "code",
   "execution_count": 53,
   "metadata": {
    "ExecuteTime": {
     "end_time": "2021-07-24T04:13:41.651441Z",
     "start_time": "2021-07-24T04:13:41.002374Z"
    }
   },
   "outputs": [
    {
     "data": {
      "image/png": "[encoded data removed]",
      "text/plain": [
       "<Figure size 720x864 with 1 Axes>"
      ]
     },
     "metadata": {},
     "output_type": "display_data"
    }
   ],
   "source": [
    "from lightgbm import plot_importance\n",
    "\n",
    "fig, ax = plt.subplots(figsize=(10, 12))\n",
    "plot_importance(lgbm_clf, ax=ax);"
   ]
  },
  {
   "cell_type": "markdown",
   "metadata": {},
   "source": [
    "# Stacking"
   ]
  },
  {
   "cell_type": "markdown",
   "metadata": {},
   "source": [
    "* 개별 알고리즘으로 예측한 데이터를 기반으로 다시 예측을 수행\n",
    "\n",
    "* 즉, 개별 알고리즘의 예측 결과 데이터 세트를 최종적인 메타 데이터 세트로 만들어 별도의 ML 알고리즘으로 최종 학습을 수행\n",
    "\n",
    "* 이를 기반으로 다시 최종 예측을 수행하는 방식.\n",
    "\n",
    "* 이렇게 개별 모델의 예측된 데이터 세트를 다시 기반으로 하여 학습하고 예측하는 방식을 메타 모델\n",
    "\n",
    "* 스태킹 모델은 두 종류의 모델이 필요하다. \n",
    "    - 첫번째 : 개별적인 기반 모델\n",
    "    - 두번째 : 개별 기반 모델 모델의 예측 데이터를 학습 데이터로 만들어서 학습하는 최종 메타 모델.\n",
    "\n",
    "* 스태킹 모델의 핵심 : 여러 개별 모델으 예측 데이터를 각각 스태킹 형태로 결합해 최종 메타 모델의 학습용 피처 데이터 세트와 테스트용 피처 데이터 세트를 만드는 것\n",
    "\n",
    "* 스태킹 모델이 성능 향상을 보증 하지 않지만, 대회와 같이 조금이라도 성능 수치를 높여야 하는 경유에 유용함.\n",
    "\n"
   ]
  },
  {
   "cell_type": "markdown",
   "metadata": {},
   "source": [
    "## Stacking Classifier"
   ]
  },
  {
   "cell_type": "markdown",
   "metadata": {},
   "source": [
    "<img src='http://rasbt.github.io/mlxtend/user_guide/classifier/StackingClassifier_files/stackingclassification_overview.png' width='600' />\n",
    "\n",
    "출처: http://rasbt.github.io/mlxtend/user_guide/classifier/StackingClassifier/"
   ]
  },
  {
   "cell_type": "markdown",
   "metadata": {},
   "source": [
    "### 날코딩"
   ]
  },
  {
   "cell_type": "markdown",
   "metadata": {},
   "source": [
    "Data Load"
   ]
  },
  {
   "cell_type": "code",
   "execution_count": 54,
   "metadata": {
    "ExecuteTime": {
     "end_time": "2021-07-24T04:56:17.144040Z",
     "start_time": "2021-07-24T04:56:17.116117Z"
    }
   },
   "outputs": [],
   "source": [
    "import numpy as np\n",
    "\n",
    "from sklearn.neighbors import KNeighborsClassifier\n",
    "from sklearn.ensemble import RandomForestClassifier, AdaBoostClassifier\n",
    "from sklearn.tree import DecisionTreeClassifier\n",
    "from sklearn.linear_model import LogisticRegression\n",
    "\n",
    "from sklearn.datasets import load_breast_cancer\n",
    "from sklearn.model_selection import train_test_split\n",
    "from sklearn.metrics import accuracy_score\n",
    "\n",
    "cancer= load_breast_cancer()\n",
    "\n",
    "X_train, X_test, y_train, y_test = train_test_split(cancer.data, cancer.target, \n",
    "                                                    test_size=0.2, random_state=0)\n",
    "\n",
    "\n",
    "\n"
   ]
  },
  {
   "cell_type": "markdown",
   "metadata": {},
   "source": [
    "model "
   ]
  },
  {
   "cell_type": "code",
   "execution_count": 103,
   "metadata": {
    "ExecuteTime": {
     "end_time": "2021-07-24T05:25:14.257383Z",
     "start_time": "2021-07-24T05:25:14.253270Z"
    }
   },
   "outputs": [],
   "source": [
    "# 개별 모델\n",
    "knn_clf = KNeighborsClassifier(n_neighbors=4)\n",
    "rf_clf = RandomForestClassifier(n_estimators=100, random_state=0)\n",
    "dt_clf = DecisionTreeClassifier()\n",
    "ada_clf = AdaBoostClassifier(n_estimators=100)\n",
    "\n",
    "# 최종 Stacking 모델\n",
    "lr_stacking = LogisticRegression()"
   ]
  },
  {
   "cell_type": "markdown",
   "metadata": {},
   "source": [
    "학습"
   ]
  },
  {
   "cell_type": "code",
   "execution_count": 135,
   "metadata": {
    "ExecuteTime": {
     "end_time": "2021-07-24T06:01:13.384283Z",
     "start_time": "2021-07-24T06:01:13.042978Z"
    }
   },
   "outputs": [],
   "source": [
    "models = [knn_clf, rf_clf, dt_clf, ada_clf]\n",
    "\n",
    "for model in models:\n",
    "    model.fit(X_train, y_train)"
   ]
  },
  {
   "cell_type": "markdown",
   "metadata": {},
   "source": [
    "정확도"
   ]
  },
  {
   "cell_type": "code",
   "execution_count": 105,
   "metadata": {
    "ExecuteTime": {
     "end_time": "2021-07-24T05:25:16.853603Z",
     "start_time": "2021-07-24T05:25:16.818587Z"
    }
   },
   "outputs": [
    {
     "name": "stdout",
     "output_type": "stream",
     "text": [
      "KNeighbors acc: 0.9211\n",
      "RandomForest acc: 0.9649\n",
      "DecisionTree acc: 0.9123\n",
      "AdaBoost acc: 0.9561\n"
     ]
    }
   ],
   "source": [
    "pred_stacked = np.array([])\n",
    "for model in models:\n",
    "    pred = model.predict(X_test)\n",
    "    if not pred_stacked.size:\n",
    "        pred_stacked = pred[:, np.newaxis]\n",
    "    else:\n",
    "        pred_stacked = np.append(pred_stacked, pred[:,np.newaxis], axis=1)\n",
    "    model_name = str(type(model)).split('.')[-1][:-2][:-len('crassifier')]\n",
    "    print('{} acc: {:.4f}'.format(model_name, accuracy_score(y_test, pred)))"
   ]
  },
  {
   "cell_type": "code",
   "execution_count": 106,
   "metadata": {
    "ExecuteTime": {
     "end_time": "2021-07-24T05:25:17.589273Z",
     "start_time": "2021-07-24T05:25:17.583278Z"
    }
   },
   "outputs": [
    {
     "data": {
      "text/plain": [
       "(114, 4)"
      ]
     },
     "execution_count": 106,
     "metadata": {},
     "output_type": "execute_result"
    }
   ],
   "source": [
    "pred_stacked.shape"
   ]
  },
  {
   "cell_type": "code",
   "execution_count": 107,
   "metadata": {
    "ExecuteTime": {
     "end_time": "2021-07-24T05:25:18.262499Z",
     "start_time": "2021-07-24T05:25:18.243495Z"
    }
   },
   "outputs": [
    {
     "name": "stdout",
     "output_type": "stream",
     "text": [
      "Stacking Classifier acc 0.9737\n"
     ]
    }
   ],
   "source": [
    "lr_stacking.fit(pred_stacked, y_test)\n",
    "pred_final = lr_stacking.predict(pred_stacked)\n",
    "\n",
    "print('Stacking Classifier acc {:.4f}'.format(accuracy_score(y_test, pred_final)))"
   ]
  },
  {
   "cell_type": "markdown",
   "metadata": {},
   "source": [
    "### `sklearn.ensemble.StackingClassifier`"
   ]
  },
  {
   "cell_type": "code",
   "execution_count": 108,
   "metadata": {
    "ExecuteTime": {
     "end_time": "2021-07-24T05:25:20.286463Z",
     "start_time": "2021-07-24T05:25:20.267453Z"
    }
   },
   "outputs": [
    {
     "data": {
      "text/plain": [
       "[KNeighborsClassifier(n_neighbors=4),\n",
       " RandomForestClassifier(random_state=0),\n",
       " DecisionTreeClassifier(),\n",
       " AdaBoostClassifier(n_estimators=100)]"
      ]
     },
     "execution_count": 108,
     "metadata": {},
     "output_type": "execute_result"
    }
   ],
   "source": [
    "models"
   ]
  },
  {
   "cell_type": "code",
   "execution_count": 109,
   "metadata": {
    "ExecuteTime": {
     "end_time": "2021-07-24T05:25:23.907857Z",
     "start_time": "2021-07-24T05:25:21.978473Z"
    }
   },
   "outputs": [
    {
     "name": "stdout",
     "output_type": "stream",
     "text": [
      "0.956140350877193\n"
     ]
    }
   ],
   "source": [
    "from sklearn.ensemble import StackingClassifier\n",
    "\n",
    "models = [('knn',knn_clf),\n",
    "          ('rf',rf_clf),\n",
    "          ('dt',dt_clf),\n",
    "          ('ada',ada_clf)]\n",
    "\n",
    "stc_clf = StackingClassifier(estimators=models,\n",
    "                             final_estimator=LogisticRegression())\n",
    "\n",
    "stc_clf.fit(X_train, y_train)\n",
    "\n",
    "pred = stc_clf.predict(X_test)\n",
    "\n",
    "print(accuracy_score(y_test, pred))"
   ]
  },
  {
   "cell_type": "code",
   "execution_count": 123,
   "metadata": {
    "ExecuteTime": {
     "end_time": "2021-07-24T05:26:33.526843Z",
     "start_time": "2021-07-24T05:26:31.490807Z"
    }
   },
   "outputs": [
    {
     "name": "stdout",
     "output_type": "stream",
     "text": [
      "0.9736842105263158\n"
     ]
    }
   ],
   "source": [
    "from sklearn.ensemble import StackingClassifier\n",
    "\n",
    "models = [('knn',knn_clf),\n",
    "          ('rf',rf_clf),\n",
    "          ('dt',dt_clf),\n",
    "          ('ada',ada_clf)]\n",
    "\n",
    "stc_clf = StackingClassifier(estimators=models,\n",
    "                             final_estimator=RandomForestClassifier())\n",
    "\n",
    "stc_clf.fit(X_train, y_train)\n",
    "\n",
    "pred = stc_clf.predict(X_test)\n",
    "\n",
    "print(accuracy_score(y_test, pred))"
   ]
  },
  {
   "cell_type": "markdown",
   "metadata": {},
   "source": [
    "비교: sklearn과 날코딩은 조금씩 값의 차이가 있지만, 과적합의 문제가 남아 있으니 다음 Stacking CV classifier에서 다시 자세히 다루어 보기로 하자."
   ]
  },
  {
   "cell_type": "markdown",
   "metadata": {},
   "source": [
    "## Stacking CV Classifier"
   ]
  },
  {
   "cell_type": "markdown",
   "metadata": {},
   "source": [
    "<img src='http://rasbt.github.io/mlxtend/user_guide/classifier/StackingCVClassifier_files/stacking_cv_classification_overview.png' widht='500' />\n",
    "\n",
    "출처 : http://rasbt.github.io/mlxtend/user_guide/classifier/StackingCVClassifier/"
   ]
  },
  {
   "cell_type": "markdown",
   "metadata": {},
   "source": [
    "### K_fold를 이용한 날코딩"
   ]
  },
  {
   "cell_type": "code",
   "execution_count": 196,
   "metadata": {
    "ExecuteTime": {
     "end_time": "2021-07-24T06:28:50.067211Z",
     "start_time": "2021-07-24T06:28:50.052196Z"
    }
   },
   "outputs": [],
   "source": [
    "from sklearn.model_selection import KFold\n",
    "from sklearn.metrics import mean_absolute_error\n",
    "\n",
    "def get_stacking_base_datasets(model, X_train_n, y_train_n, X_test_n, n_folds):\n",
    "    kf = KFold(n_splits=n_folds, shuffle=False, random_state=0)\n",
    "    \n",
    "    train_fold_pred = np.zeros((X_train_n.shape[0], 1))\n",
    "    test_pred = np.zeros((X_test_n.shape[0], n_folds))\n",
    "    print(model.__class__.__name__, 'model 시작', end='\\t')\n",
    "    \n",
    "    for folder_counter, (train_index, valid_index) in enumerate(kf.split(X_train_n)):\n",
    "        print('#',folder_counter,end='')\n",
    "        X_tr = X_train_n[train_index]\n",
    "        y_tr = y_train_n[train_index]\n",
    "        X_te = X_train_n[valid_index]\n",
    "        \n",
    "        # 폴드 세트 내부에서 학습\n",
    "        model.fit(X_tr, y_tr)\n",
    "        # 폴드 세트 내부에서 다시 만들어진 검증 데이터로 기반 모델 예측 후 데이터 저장\n",
    "        train_fold_pred[valid_index, :] = model.predict(X_te).reshape(-1, 1)\n",
    "        # 입력된 원본 테스트 데이터를 폴드 세트내 학습된 기반 모델에서 예측 후 데이터 저장.\n",
    "        test_pred[:, folder_counter] = model.predict(X_test_n)\n",
    "        \n",
    "    # 폴드 세트 내에서 원본 테스트 데이터를 예측한 데이터를 평균하여 테스트 데이터로 생성\n",
    "    test_pred_mean = np.mean(test_pred, axis=1).reshape(-1, 1)\n",
    "    \n",
    "    # train_fold_pred는 최종 메타 모델이 사용하는 학습 데이터, \n",
    "    # test_pred_mean은 테스트 데이터\n",
    "    print()\n",
    "    return train_fold_pred, test_pred_mean  \n",
    "    "
   ]
  },
  {
   "cell_type": "code",
   "execution_count": 197,
   "metadata": {
    "ExecuteTime": {
     "end_time": "2021-07-24T06:28:52.869201Z",
     "start_time": "2021-07-24T06:28:50.370638Z"
    }
   },
   "outputs": [
    {
     "name": "stdout",
     "output_type": "stream",
     "text": [
      "KNeighborsClassifier model 시작\t# 0# 1# 2# 3# 4# 5# 6\n",
      "RandomForestClassifier model 시작\t# 0# 1# 2# 3# 4# 5# 6\n",
      "DecisionTreeClassifier model 시작\t# 0# 1# 2# 3# 4# 5# 6\n",
      "AdaBoostClassifier model 시작\t# 0# 1# 2# 3# 4# 5# 6\n"
     ]
    }
   ],
   "source": [
    "Stack_final_X_train = np.array([])\n",
    "Stack_final_X_test = np.array([])\n",
    "models = [knn_clf, rf_clf, dt_clf, ada_clf]\n",
    "\n",
    "for model in models:\n",
    "    model_train, model_test = get_stacking_base_datasets(model, X_train, y_train, X_test, 7)\n",
    "    if not Stack_final_X_train.size:\n",
    "        Stack_final_X_train = model_train\n",
    "    else: \n",
    "        Stack_final_X_train = np.append(Stack_final_X_train, model_train, axis=1)\n",
    "    \n",
    "    if not Stack_final_X_test.size:\n",
    "        Stack_final_X_test = model_test\n",
    "    else: \n",
    "        Stack_final_X_test = np.append(Stack_final_X_test, model_test, axis=1)"
   ]
  },
  {
   "cell_type": "code",
   "execution_count": 198,
   "metadata": {
    "ExecuteTime": {
     "end_time": "2021-07-24T06:28:52.885199Z",
     "start_time": "2021-07-24T06:28:52.872185Z"
    }
   },
   "outputs": [
    {
     "name": "stdout",
     "output_type": "stream",
     "text": [
      "원본 학습 피처 데이터 Shape: (455, 30) 원본 테스트 피처 Shape: (114, 30)\n",
      "스태킹 학습 피처 데이터 Shape: (455, 4) 스태킹 테스트 피처 데이터 Shape: (114, 4)\n"
     ]
    }
   ],
   "source": [
    "print('원본 학습 피처 데이터 Shape:',X_train.shape, '원본 테스트 피처 Shape:',X_test.shape)\n",
    "print('스태킹 학습 피처 데이터 Shape:', Stack_final_X_train.shape,\n",
    "      '스태킹 테스트 피처 데이터 Shape:',Stack_final_X_test.shape)"
   ]
  },
  {
   "cell_type": "markdown",
   "metadata": {},
   "source": [
    "최종 모델"
   ]
  },
  {
   "cell_type": "code",
   "execution_count": 199,
   "metadata": {
    "ExecuteTime": {
     "end_time": "2021-07-24T06:28:52.901208Z",
     "start_time": "2021-07-24T06:28:52.887191Z"
    }
   },
   "outputs": [],
   "source": [
    "lr_final = LogisticRegression()\n",
    "\n",
    "lr_final.fit(Stack_final_X_train, y_train)\n",
    "\n",
    "stack_final = lr_final.predict(Stack_final_X_test)"
   ]
  },
  {
   "cell_type": "code",
   "execution_count": 200,
   "metadata": {
    "ExecuteTime": {
     "end_time": "2021-07-24T06:28:52.917212Z",
     "start_time": "2021-07-24T06:28:52.904200Z"
    }
   },
   "outputs": [
    {
     "data": {
      "text/plain": [
       "0.9736842105263158"
      ]
     },
     "execution_count": 200,
     "metadata": {},
     "output_type": "execute_result"
    }
   ],
   "source": [
    "accuracy_score(y_test, stack_final)"
   ]
  },
  {
   "cell_type": "markdown",
   "metadata": {},
   "source": [
    "### `sklearn` 활용"
   ]
  },
  {
   "cell_type": "code",
   "execution_count": 201,
   "metadata": {
    "ExecuteTime": {
     "end_time": "2021-07-24T06:28:52.933215Z",
     "start_time": "2021-07-24T06:28:52.919194Z"
    }
   },
   "outputs": [],
   "source": [
    "models = [knn_clf, rf_clf, dt_clf, ada_clf]\n",
    "\n",
    "models = [('knn',knn_clf),\n",
    "          ('rf',rf_clf),\n",
    "          ('dt',dt_clf),\n",
    "          ('ada',ada_clf)]"
   ]
  },
  {
   "cell_type": "code",
   "execution_count": 202,
   "metadata": {
    "ExecuteTime": {
     "end_time": "2021-07-24T06:28:52.993229Z",
     "start_time": "2021-07-24T06:28:52.980215Z"
    }
   },
   "outputs": [],
   "source": [
    "stacking_clf = StackingClassifier(estimators=models,\n",
    "                                  final_estimator=LogisticRegression(),\n",
    "                          \n",
    "                                  cv=7)"
   ]
  },
  {
   "cell_type": "code",
   "execution_count": 203,
   "metadata": {
    "ExecuteTime": {
     "end_time": "2021-07-24T06:28:56.421909Z",
     "start_time": "2021-07-24T06:28:53.741264Z"
    },
    "scrolled": true
   },
   "outputs": [],
   "source": [
    "stacking_clf.fit(X_train, y_train)\n",
    "stack_final = stacking_clf.predict(X_test)"
   ]
  },
  {
   "cell_type": "code",
   "execution_count": 204,
   "metadata": {
    "ExecuteTime": {
     "end_time": "2021-07-24T06:28:56.436934Z",
     "start_time": "2021-07-24T06:28:56.423925Z"
    }
   },
   "outputs": [
    {
     "data": {
      "text/plain": [
       "0.9649122807017544"
      ]
     },
     "execution_count": 204,
     "metadata": {},
     "output_type": "execute_result"
    }
   ],
   "source": [
    "accuracy_score(y_test, stack_final)"
   ]
  },
  {
   "cell_type": "markdown",
   "metadata": {},
   "source": [
    "날코딩과 다소 차이가 나고 방식에도 차이가 있다. \n",
    "하지만 성능 을 보기에는 확실하게 빠른 `sklearn` 압승"
   ]
  },
  {
   "cell_type": "markdown",
   "metadata": {},
   "source": [
    "# 앙상블 총평 "
   ]
  },
  {
   "cell_type": "markdown",
   "metadata": {},
   "source": [
    "Voting, Bagging, Boosting, Stacking 이 4가지의 앙상블은 머신러닝의 핵심 중 하나인데, 실제로 많은 지식과 코드가 필요로 하다. \n",
    "\n",
    "단순히 sklearn을 활용하는 것을 넘어서 개념을 이해하고, 날코딩을 할수 있는 실력을 갖추는 것도 중요하다. "
   ]
  },
  {
   "cell_type": "markdown",
   "metadata": {},
   "source": [
    "**Reference**\n",
    "\n",
    "* <a href='https://github.com/SeWonKwon' ><div> <img src ='https://slid-capture.s3.ap-northeast-2.amazonaws.com/public/image_upload/6556674324ed41a289a354258718280d/964e5a8b-75ad-41fc-ae75-0ca66d06fbc7.png' align='left' /> </div></a>\n",
    "\n",
    "<br>\n",
    "\n",
    "* 파이썬 머신러닝 완벽 가이드, 권철민\n",
    "* [이수안 컴퓨터 연구소](http://suanlab.com/)\n",
    "* https://velog.io/@jiselectric/Ensemble-Learning-Voting-and-Bagging-at6219ae\n"
   ]
  }
 ],
 "metadata": {
  "kernelspec": {
   "display_name": "Python 3",
   "language": "python",
   "name": "python3"
  },
  "language_info": {
   "codemirror_mode": {
    "name": "ipython",
    "version": 3
   },
   "file_extension": ".py",
   "mimetype": "text/x-python",
   "name": "python",
   "nbconvert_exporter": "python",
   "pygments_lexer": "ipython3",
   "version": "3.8.5"
  },
  "toc": {
   "base_numbering": 1,
   "nav_menu": {},
   "number_sections": true,
   "sideBar": true,
   "skip_h1_title": false,
   "title_cell": "Table of Contents",
   "title_sidebar": "Contents",
   "toc_cell": false,
   "toc_position": {
    "height": "calc(100% - 180px)",
    "left": "10px",
    "top": "150px",
    "width": "165px"
   },
   "toc_section_display": true,
   "toc_window_display": true
  }
 },
 "nbformat": 4,
 "nbformat_minor": 4
}
