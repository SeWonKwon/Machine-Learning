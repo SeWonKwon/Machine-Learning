{
 "cells": [
  {
   "cell_type": "markdown",
   "metadata": {},
   "source": [
    "<a href='https://github.com/SeWonKwon' ><div> <img src ='https://slid-capture.s3.ap-northeast-2.amazonaws.com/public/image_upload/6556674324ed41a289a354258718280d/964e5a8b-75ad-41fc-ae75-0ca66d06fbc7.png' align='left' /> </div></a>\n"
   ]
  },
  {
   "cell_type": "markdown",
   "metadata": {},
   "source": [
    "군집화 기법은 활용도가 아주 높지만, 실제로 분류와 다르게 많이 사용하는 방식의 알고리즘은 아니다.  실제로 빅데이터에서 군집화의 기능은 점점 높아 질 것이라고 생각한다.  현재는 분류가 주된 목적이 되는 사례가 많지만, 이제 앞으로 새로운 자료에대한 우리가 모르는 어떤 특성을 발견해 낼 수 있는 군집화가 주요한 알고리즘이라고 생각된다. "
   ]
  },
  {
   "cell_type": "markdown",
   "metadata": {},
   "source": [
    "단순히 군집화 하는대에 목적이 있는 것이 아니라, 분류나 회귀를 할시에도 데이터의 피쳐에 군집화한 결과값을 반영함으로서 자료의 활용을 극대화 할수 있다. "
   ]
  },
  {
   "cell_type": "markdown",
   "metadata": {},
   "source": [
    "# Cluster analysis "
   ]
  },
  {
   "cell_type": "markdown",
   "metadata": {},
   "source": [
    "**Cluster analysis** or **clustering** is the task of grouping a set of objects in such a way that objects in the same group (called a cluster) are more similar (in some sense) to each other than to those in other groups (clusters). It is a main task of exploratory data analysis, and a common technique for statistical data analysis, used in many fields, including pattern recognition, image analysis, information retrieval, bioinformatics, data compression, computer graphics and machine learning.\n",
    "\n",
    "출처: https://en.wikipedia.org/wiki/Cluster_analysis"
   ]
  },
  {
   "cell_type": "markdown",
   "metadata": {},
   "source": [
    "즉, 다시 말해서 비슷한 개체끼리 한 그룹으로, 다른 개체는 다른 그룹으로 묶어보자는 것이다. "
   ]
  },
  {
   "cell_type": "markdown",
   "metadata": {},
   "source": [
    "## **Classification VS Clustering**\n",
    "\n",
    "Classification and clustering are two methods of **pattern identification used in machine learning**. Although both techniques have certain similarities, the difference lies in the fact that *classification* uses **predefined classes** in which objects are assigned, while *clustering* **identifies similarities between objects**, which it **groups** according to those characteristics in common and which differentiate them from other groups of objects. These groups are known as **\"clusters\"**.\n",
    "\n",
    "<img src='https://blog.bismart.com/hs-fs/hubfs/Imported_Blog_Media/ClassificationAndClustering/Clustering%26clasification-Animales.gif?width=1200&name=Clustering%26clasification-Animales.gif' width='800' />"
   ]
  },
  {
   "cell_type": "markdown",
   "metadata": {},
   "source": [
    "In the field of **machine learning**, *clustering* is framed in **unsupervised learning**; that is, for this type of algorithm we only have one set of input data (not labelled), about which we must obtain information, without previously knowing what the output will be.\n",
    "\n",
    "*Clustering* is used in projects for companies that want to find **common aspects within their customers** to apply customer segmentation, create customer journey maps or find groups and focus products or services. Thus, if a significant percentage of customers have certain aspects in common (age, type of family, etc.) the company can justify a particular campaign, service or product. Clustering is also useful to obtain general insights and information.\n",
    "\n",
    "On the other hand, *classification* belongs to **supervised learning**, which means that we know the input data (labeled in this case) and we know the possible output of the algorithm. There is the binary classification that responds to problems with categorical answers (such as \"yes\" and \"no\", for example), and the multiclassification, for problems where we find more than two classes, responding to more open answers such as \"great\", \"regular\" and \"insufficient\".\n",
    "\n",
    "\n",
    "출처: https://blog.bismart.com/en/classification-vs.-clustering-a-practical-explanation"
   ]
  },
  {
   "cell_type": "markdown",
   "metadata": {},
   "source": [
    "다시 말해서, **분류<sub>Classification</sub>**와 **군집화<sub>Clustering</sub>**는 목적이 다르다. 분류는 속성을 통하여 정해진 **정답**을 찾는 과정이고, 군집화는 속성을 통하여 어떤 **군집에 가까운지를 찾는 과정**이다. "
   ]
  },
  {
   "cell_type": "markdown",
   "metadata": {},
   "source": [
    "**그러므로 군집화 과정을 통해서 대상의 새로운 특성을 찾아 낼수 있고, 군집화하는 알고리즘 및 기준에 따라서 군집을 정의 하는 과정이라고 할수 있다.**"
   ]
  },
  {
   "cell_type": "markdown",
   "metadata": {},
   "source": [
    "## Kinds of Clustering "
   ]
  },
  {
   "cell_type": "markdown",
   "metadata": {},
   "source": [
    "다양한 군집화 방식이 존재하며, 데이타의 특성과 군집화의 목적에 맞게 다양해 질수 있다. "
   ]
  },
  {
   "cell_type": "markdown",
   "metadata": {},
   "source": [
    "예를 들어서 동물을 분류할때 단순하게 포유류인지 파충류인지를 구분할때는 분할적 군집<sub>Partitional clustering</sub>을 사용하면 되지만, 생물을 분류할때 동물, 포유류, 조류, ...., 등 위에서 내려가는 계층적 군집<sub>Hierarchical clustering</sub>을 사용하는 것이 더 효과 적일 수 있다. "
   ]
  },
  {
   "cell_type": "markdown",
   "metadata": {},
   "source": [
    "> hard clustering : 한 개체가 여러 군집에 속하는 경우를 허용하지 않는 군집화 방법입니다\n",
    ">\n",
    ">soft clustering : 한 개체가 여러 군집에 속할 수 있습니다.\n",
    "\n",
    "> pational clustering : 전체 데이터의 영역을 특정 기준에 의해 동시에 구분하는 군집화 방법입니다. 각 개체들은 사전에 정의된 개수의 군집 가운데 하나에 속하게 됩니다. K-mean 군집화가 대표적입니다.\n",
    ">\n",
    "> hierarchical clustering : 개체들을 가까운 집단부터 차근차근 묶어나가는 방식입니다. 군집화 결과뿐 아니라 유사한 개체들이 결합되는 덴드로그램(dendrogram)을 생성합니다.\n",
    "\n",
    "> Self-Organizing Map : 뉴럴넷 기반의 군집화 알고리즘입니다.\n",
    ">\n",
    "> Spectual clustering : 그래프 기반의 군집화 방법론입니다"
   ]
  },
  {
   "cell_type": "markdown",
   "metadata": {},
   "source": [
    "## Clustering Algorithm"
   ]
  },
  {
   "cell_type": "markdown",
   "metadata": {},
   "source": [
    "|Method name|Parameters|Scalability|Usecase|Geometry (metric used)|\n",
    "|:---------:|:----------|:-----------|:-------|:---------------------|\n",
    "|K-Means|number of clusters|Very large n_samples, medium n_clusters with MiniBatch code|General-purpose, even cluster size, flat geometry, not too many clusters,inductive|Distances between points|\n",
    "|Affinity propagation|damping, sample preference|Not scalable with n_samples|Many clusters, uneven cluster size, non-flat geometry, inductive|Graph distance (e.g. nearest-neighbor graph)|\n",
    "|Mean-shift|bandwidth|Not scalable with n_samples|Many clusters, uneven cluster size, non-flat geometry, inductive|Distances between points|\n",
    "|Spectral clustering|number of clusters|Medium n_samples, small n_clusters|Few clusters, even cluster size, non-flat geometry, transductive|Graph distance (e.g. nearest-neighbor graph)|\n",
    "|Ward hierarchical clustering|number of clusters or distance threshold|Large n_samples and n_clusters|Many clusters, possibly connectivity constraints, transductive|Distances between points|\n",
    "|Agglomerative clustering|number of clusters or distance threshold, linkage type, distance|Large n_samples and n_clusters|Many clusters, possibly connectivity constraints, non Euclidean distances, transductive|Any pairwise distance|\n",
    "|DBSCAN|neighborhood size|Very large n_samples, medium n_clusters|Non-flat geometry, uneven cluster sizes, transductive|Distances between nearest points|\n",
    "|OPTICS|minimum cluster membership|Very large n_samples, large n_clusters|Non-flat geometry, uneven cluster sizes, variable cluster density, transductive|Distances between points|\n",
    "|Gaussian mixtures|many|Not scalable|Flat geometry, good for density estimation, inductive|Mahalanobis distances to  centers|\n",
    "|BIRCH|branching factor, threshold, optional global clusterer.|Large n_clusters and n_samples|Large dataset, outlier removal, data reduction, inductive|Euclidean distance between points|\n",
    "\n",
    "<img src='https://scikit-learn.org/stable/_images/sphx_glr_plot_cluster_comparison_0011.png' />\n",
    "\n",
    "\n",
    "\n",
    "출처 : https://scikit-learn.org/stable/modules/clustering.html"
   ]
  },
  {
   "cell_type": "markdown",
   "metadata": {},
   "source": [
    "## What is Aim of Clustering?\n",
    "\n",
    "1. 군집 간 분산 최대화(inter-cluster variance Maximization)\n",
    "2. 군집 내 분산 최소화(inner-cluster variance Minimization)\n",
    "\n",
    "즉, **같은 군집 끼리는 붙어있고, 다른 군집 끼리는 떨어져 있게 군집을 형성**"
   ]
  },
  {
   "cell_type": "markdown",
   "metadata": {},
   "source": [
    "## Metrics of Clustering"
   ]
  },
  {
   "cell_type": "markdown",
   "metadata": {},
   "source": [
    "*분류*<sub>classification</sub>와는 다르게 비지도 학습<sub>unsupervised learning</sub>인 **군집화**<sub>clustering</sub>에는 정확한 Metrics가 없다고 볼수 있다. \n",
    "\n",
    "클러스터링의 대표적인 목적을 넘어서 다양한 방법으로 그 가치를 이야기 할수 있다. \n",
    "\n",
    "https://uhlibraries.pressbooks.pub/buildingskillsfordatascience/chapter/cluster-validity/ 에서 이야기 하듯이 군집 분석을 하더라도 레이블 값이 존재 할수 있다. ( 단, 알고리즘에는 레이블이 영향을 미치지 않지만, 결과 값을 분석할때 사용하려는 의도 ) 그럴때는 분류와 비슷한 방식으로  순수도<sub>purity</sub>를 측정 할수 있다. 다양한 방식으로 결과값을 측정 할수 있으며, 목적에 맞게 사용하는 것이 중요하다. "
   ]
  },
  {
   "cell_type": "markdown",
   "metadata": {},
   "source": [
    "### 군집타당성지표"
   ]
  },
  {
   "cell_type": "markdown",
   "metadata": {},
   "source": [
    "군집화를 단순하게 숫자만의 높고 낮음으로 판별 할 수 없기 때문이다. 다만 얼마나 유용한지 평가하는 **군집타당성지표**<sub>Clustering Validity Index</sub>가 있다. \n",
    "\n",
    ">**군집타당성지표**\n",
    ">1. 군집 간 거리\n",
    ">2. 군집의 지름\n",
    ">3. 군집의 분산"
   ]
  },
  {
   "cell_type": "markdown",
   "metadata": {},
   "source": [
    "<img src='http://i.imgur.com/dFliYHp.png' width='800' />"
   ]
  },
  {
   "cell_type": "markdown",
   "metadata": {},
   "source": [
    "####  Dunn Index"
   ]
  },
  {
   "attachments": {
    "image.png": {
     "image/png": "[encoded data removed]"
    }
   },
   "cell_type": "markdown",
   "metadata": {},
   "source": [
    "![image.png](attachment:image.png)"
   ]
  },
  {
   "cell_type": "code",
   "execution_count": null,
   "metadata": {},
   "outputs": [],
   "source": []
  },
  {
   "cell_type": "markdown",
   "metadata": {},
   "source": [
    "#### Silhouette"
   ]
  },
  {
   "cell_type": "code",
   "execution_count": null,
   "metadata": {},
   "outputs": [],
   "source": []
  },
  {
   "cell_type": "markdown",
   "metadata": {},
   "source": [
    "## Distance"
   ]
  },
  {
   "cell_type": "markdown",
   "metadata": {},
   "source": [
    "군집화의 기본 원리는 비슷한 것끼리 묶는 것이고, 다른 것끼리는 분리하는 것이다. 즉, 두 포인트에서의 유사성을 이용하여 구분하는 것이다. \n",
    "\n",
    "어떤 거리를 사용하는냐는 상당히 중요한 문제이다.  거리를 측정하는 것이기 때문에 단위(즉, scaling) 중요한 영향을 미치게 된다.   \n",
    "\n",
    "피쳐의 특징이 단순히 숫자로만 이루어진 연속형이 아니기 때문에 범주형의 경우 다른 거리가 적용된다. "
   ]
  },
  {
   "cell_type": "markdown",
   "metadata": {},
   "source": [
    "관련 자료 : https://www.datanovia.com/en/lessons/clustering-distance-measures/"
   ]
  },
  {
   "cell_type": "markdown",
   "metadata": {},
   "source": [
    "###  연속형 변수의 경우"
   ]
  },
  {
   "cell_type": "markdown",
   "metadata": {},
   "source": [
    "###### 유클리디안 거리( Euclidean Distance)"
   ]
  },
  {
   "cell_type": "markdown",
   "metadata": {},
   "source": [
    "###### 표준화 거리(Standardized Distance)"
   ]
  },
  {
   "cell_type": "markdown",
   "metadata": {},
   "source": [
    "###### 마할라노비스 거리(Mahalanobis Distance)"
   ]
  },
  {
   "cell_type": "markdown",
   "metadata": {},
   "source": [
    "###### 체비셰프 거리(Chebyshev Distance)"
   ]
  },
  {
   "cell_type": "markdown",
   "metadata": {},
   "source": [
    "###### 맨하탄 거리(Manhattan Distance)"
   ]
  },
  {
   "cell_type": "markdown",
   "metadata": {},
   "source": [
    "###### 캔버라 거리(Canberra Distance)"
   ]
  },
  {
   "cell_type": "markdown",
   "metadata": {},
   "source": [
    "###### 민코우스키 거리(Minkowski Distance)"
   ]
  },
  {
   "cell_type": "markdown",
   "metadata": {},
   "source": [
    "### 범주형 변수의 경우"
   ]
  },
  {
   "cell_type": "markdown",
   "metadata": {},
   "source": [
    "###### 자카드 계수(Jaccard Distance)"
   ]
  },
  {
   "cell_type": "markdown",
   "metadata": {},
   "source": [
    "###### 자카드 유사도(Jaccard Similarity)"
   ]
  },
  {
   "cell_type": "markdown",
   "metadata": {},
   "source": [
    "###### 코사인 유사도(Cosine Similarity)"
   ]
  },
  {
   "cell_type": "markdown",
   "metadata": {},
   "source": [
    "###### 코사인 거리(Cosine Distance)"
   ]
  },
  {
   "cell_type": "code",
   "execution_count": null,
   "metadata": {},
   "outputs": [],
   "source": []
  },
  {
   "cell_type": "markdown",
   "metadata": {},
   "source": [
    "# K-means"
   ]
  },
  {
   "cell_type": "markdown",
   "metadata": {},
   "source": [
    "자세한 설명 : https://towardsdatascience.com/k-means-clustering-algorithm-applications-evaluation-methods-and-drawbacks-aa03e644b48a"
   ]
  },
  {
   "cell_type": "markdown",
   "metadata": {},
   "source": [
    "장단점.\n",
    "\n",
    "* 장점\n",
    "    1. 일반적인 군집화에서 가장 많이 활용되는 알고리즘.\n",
    "    2. 알고리즘이 쉽고 간결하다(설명력이 좋으며, 이해 하기가 쉽다. )\n",
    "    \n",
    "    \n",
    "* 단점\n",
    "    1. 거리 기반 알고리즘으로서 속성의 개수가 매우 많을 경우 군집화 정확도가 떨어진다.( PCA로 차원 감소를 적용 해야 하는 것이 대처법)\n",
    "    2. 반복을 수행하는데, 반복 횟수가 많을 경우 매우 느려질수 있다. \n",
    "    3. 몇 개의 군집(cluster)을 선택해야 할지 가이드하기가 어렵다. \n",
    "     "
   ]
  },
  {
   "cell_type": "markdown",
   "metadata": {},
   "source": [
    "## Sklearn.cluster.KMeans"
   ]
  },
  {
   "cell_type": "code",
   "execution_count": 1,
   "metadata": {
    "ExecuteTime": {
     "end_time": "2021-09-02T09:10:56.960571Z",
     "start_time": "2021-09-02T09:10:56.953563Z"
    }
   },
   "outputs": [],
   "source": [
    "from sklearn.cluster import KMeans"
   ]
  },
  {
   "cell_type": "code",
   "execution_count": 7,
   "metadata": {
    "ExecuteTime": {
     "end_time": "2021-09-02T09:12:31.368443Z",
     "start_time": "2021-09-02T09:12:31.362734Z"
    }
   },
   "outputs": [],
   "source": [
    "kmeans= KMeans()"
   ]
  },
  {
   "cell_type": "code",
   "execution_count": 9,
   "metadata": {
    "ExecuteTime": {
     "end_time": "2021-09-02T09:12:42.240009Z",
     "start_time": "2021-09-02T09:12:42.230001Z"
    }
   },
   "outputs": [
    {
     "data": {
      "text/plain": [
       "{'algorithm': 'auto',\n",
       " 'copy_x': True,\n",
       " 'init': 'k-means++',\n",
       " 'max_iter': 300,\n",
       " 'n_clusters': 8,\n",
       " 'n_init': 10,\n",
       " 'n_jobs': 'deprecated',\n",
       " 'precompute_distances': 'deprecated',\n",
       " 'random_state': None,\n",
       " 'tol': 0.0001,\n",
       " 'verbose': 0}"
      ]
     },
     "execution_count": 9,
     "metadata": {},
     "output_type": "execute_result"
    }
   ],
   "source": [
    "kmeans.get_params()"
   ]
  },
  {
   "cell_type": "markdown",
   "metadata": {},
   "source": [
    "* 주요 파라미터\n",
    "    * n_clusters : 군집 중심점의 개수\n",
    "    * init : 초기 중심점 설정 방법\n",
    "    * max_iter : 최대 반복 횟수\n",
    "    \n",
    "* 주요 속성값\n",
    "    * labels_ : 각 데이터 포인트가 속한 군집 중심점 레이블\n",
    "    * cluster_centers_ : 각 군집 중심점 좌표"
   ]
  },
  {
   "cell_type": "markdown",
   "metadata": {},
   "source": [
    "## Iris 실습"
   ]
  },
  {
   "cell_type": "code",
   "execution_count": 10,
   "metadata": {
    "ExecuteTime": {
     "end_time": "2021-09-02T09:27:27.301415Z",
     "start_time": "2021-09-02T09:27:26.483963Z"
    }
   },
   "outputs": [],
   "source": [
    "from sklearn.preprocessing import scale\n",
    "from sklearn.datasets import load_iris\n",
    "from sklearn.cluster import KMeans\n",
    "import matplotlib.pyplot as plt\n",
    "import seaborn as sns\n",
    "import numpy as np\n",
    "import pandas as pd\n",
    "%matplotlib inline\n",
    "\n",
    "import warnings\n",
    "warnings.filterwarnings('ignore')"
   ]
  },
  {
   "cell_type": "code",
   "execution_count": 13,
   "metadata": {
    "ExecuteTime": {
     "end_time": "2021-09-02T09:28:18.698597Z",
     "start_time": "2021-09-02T09:28:18.691574Z"
    }
   },
   "outputs": [],
   "source": [
    "iris = load_iris()"
   ]
  },
  {
   "cell_type": "code",
   "execution_count": 27,
   "metadata": {
    "ExecuteTime": {
     "end_time": "2021-09-02T09:35:40.849601Z",
     "start_time": "2021-09-02T09:35:40.841595Z"
    }
   },
   "outputs": [
    {
     "data": {
      "text/html": [
       "<div>\n",
       "<style scoped>\n",
       "    .dataframe tbody tr th:only-of-type {\n",
       "        vertical-align: middle;\n",
       "    }\n",
       "\n",
       "    .dataframe tbody tr th {\n",
       "        vertical-align: top;\n",
       "    }\n",
       "\n",
       "    .dataframe thead th {\n",
       "        text-align: right;\n",
       "    }\n",
       "</style>\n",
       "<table border=\"1\" class=\"dataframe\">\n",
       "  <thead>\n",
       "    <tr style=\"text-align: right;\">\n",
       "      <th></th>\n",
       "      <th>sepal_length</th>\n",
       "      <th>sepal_width</th>\n",
       "      <th>petal_length</th>\n",
       "      <th>petal_width</th>\n",
       "    </tr>\n",
       "  </thead>\n",
       "  <tbody>\n",
       "    <tr>\n",
       "      <th>0</th>\n",
       "      <td>5.1</td>\n",
       "      <td>3.5</td>\n",
       "      <td>1.4</td>\n",
       "      <td>0.2</td>\n",
       "    </tr>\n",
       "    <tr>\n",
       "      <th>1</th>\n",
       "      <td>4.9</td>\n",
       "      <td>3.0</td>\n",
       "      <td>1.4</td>\n",
       "      <td>0.2</td>\n",
       "    </tr>\n",
       "    <tr>\n",
       "      <th>2</th>\n",
       "      <td>4.7</td>\n",
       "      <td>3.2</td>\n",
       "      <td>1.3</td>\n",
       "      <td>0.2</td>\n",
       "    </tr>\n",
       "    <tr>\n",
       "      <th>3</th>\n",
       "      <td>4.6</td>\n",
       "      <td>3.1</td>\n",
       "      <td>1.5</td>\n",
       "      <td>0.2</td>\n",
       "    </tr>\n",
       "    <tr>\n",
       "      <th>4</th>\n",
       "      <td>5.0</td>\n",
       "      <td>3.6</td>\n",
       "      <td>1.4</td>\n",
       "      <td>0.2</td>\n",
       "    </tr>\n",
       "  </tbody>\n",
       "</table>\n",
       "</div>"
      ],
      "text/plain": [
       "   sepal_length  sepal_width  petal_length  petal_width\n",
       "0           5.1          3.5           1.4          0.2\n",
       "1           4.9          3.0           1.4          0.2\n",
       "2           4.7          3.2           1.3          0.2\n",
       "3           4.6          3.1           1.5          0.2\n",
       "4           5.0          3.6           1.4          0.2"
      ]
     },
     "execution_count": 27,
     "metadata": {},
     "output_type": "execute_result"
    }
   ],
   "source": [
    "iris_df = pd.DataFrame(data=iris.data, columns=[x[:-5].replace(' ','_') for x in iris.feature_names])\n",
    "iris_df.head()"
   ]
  },
  {
   "cell_type": "code",
   "execution_count": 28,
   "metadata": {
    "ExecuteTime": {
     "end_time": "2021-09-02T09:35:43.092554Z",
     "start_time": "2021-09-02T09:35:43.065007Z"
    }
   },
   "outputs": [
    {
     "data": {
      "text/plain": [
       "KMeans(n_clusters=3, random_state=0)"
      ]
     },
     "execution_count": 28,
     "metadata": {},
     "output_type": "execute_result"
    }
   ],
   "source": [
    "kmeans = KMeans(n_clusters=3, init='k-means++', max_iter=300, random_state=0)\n",
    "kmeans.fit(iris_df)"
   ]
  },
  {
   "cell_type": "code",
   "execution_count": 29,
   "metadata": {
    "ExecuteTime": {
     "end_time": "2021-09-02T09:35:43.257857Z",
     "start_time": "2021-09-02T09:35:43.254760Z"
    }
   },
   "outputs": [
    {
     "data": {
      "text/plain": [
       "array([1, 1, 1, 1, 1, 1, 1, 1, 1, 1, 1, 1, 1, 1, 1, 1, 1, 1, 1, 1, 1, 1,\n",
       "       1, 1, 1, 1, 1, 1, 1, 1, 1, 1, 1, 1, 1, 1, 1, 1, 1, 1, 1, 1, 1, 1,\n",
       "       1, 1, 1, 1, 1, 1, 2, 2, 0, 2, 2, 2, 2, 2, 2, 2, 2, 2, 2, 2, 2, 2,\n",
       "       2, 2, 2, 2, 2, 2, 2, 2, 2, 2, 2, 0, 2, 2, 2, 2, 2, 2, 2, 2, 2, 2,\n",
       "       2, 2, 2, 2, 2, 2, 2, 2, 2, 2, 2, 2, 0, 2, 0, 0, 0, 0, 2, 0, 0, 0,\n",
       "       0, 0, 0, 2, 2, 0, 0, 0, 0, 2, 0, 2, 0, 2, 0, 0, 2, 2, 0, 0, 0, 0,\n",
       "       0, 2, 0, 0, 0, 0, 2, 0, 0, 0, 2, 0, 0, 0, 2, 0, 0, 2])"
      ]
     },
     "execution_count": 29,
     "metadata": {},
     "output_type": "execute_result"
    }
   ],
   "source": [
    "kmeans.labels_"
   ]
  },
  {
   "cell_type": "code",
   "execution_count": 30,
   "metadata": {
    "ExecuteTime": {
     "end_time": "2021-09-02T09:35:43.648082Z",
     "start_time": "2021-09-02T09:35:43.631066Z"
    }
   },
   "outputs": [],
   "source": [
    "iris_df['target'] = iris.target\n",
    "iris_df['cluster'] = kmeans.labels_"
   ]
  },
  {
   "cell_type": "code",
   "execution_count": 53,
   "metadata": {
    "ExecuteTime": {
     "end_time": "2021-09-02T09:44:03.552472Z",
     "start_time": "2021-09-02T09:44:03.545291Z"
    }
   },
   "outputs": [
    {
     "data": {
      "text/plain": [
       "target  cluster\n",
       "0       1          50\n",
       "1       0           2\n",
       "        2          48\n",
       "2       0          36\n",
       "        2          14\n",
       "Name: sepal_length, dtype: int64"
      ]
     },
     "execution_count": 53,
     "metadata": {},
     "output_type": "execute_result"
    }
   ],
   "source": [
    "iris_kemans_result = iris_df.groupby(['target','cluster'])['sepal_length'].count()\n",
    "iris_kemans_result"
   ]
  },
  {
   "cell_type": "code",
   "execution_count": 66,
   "metadata": {
    "ExecuteTime": {
     "end_time": "2021-09-02T09:49:57.347261Z",
     "start_time": "2021-09-02T09:49:57.339252Z"
    }
   },
   "outputs": [
    {
     "name": "stdout",
     "output_type": "stream",
     "text": [
      "정확도 0.8933333333333333\n"
     ]
    }
   ],
   "source": [
    "acc = 0 \n",
    "for i in iris_df['target'].unique():\n",
    "    acc += iris_kemans_result[i].max()\n",
    "print('정확도',acc/iris_df.shape[0])"
   ]
  },
  {
   "cell_type": "code",
   "execution_count": 69,
   "metadata": {
    "ExecuteTime": {
     "end_time": "2021-09-02T09:53:11.605330Z",
     "start_time": "2021-09-02T09:53:11.591319Z"
    }
   },
   "outputs": [
    {
     "data": {
      "text/html": [
       "<div>\n",
       "<style scoped>\n",
       "    .dataframe tbody tr th:only-of-type {\n",
       "        vertical-align: middle;\n",
       "    }\n",
       "\n",
       "    .dataframe tbody tr th {\n",
       "        vertical-align: top;\n",
       "    }\n",
       "\n",
       "    .dataframe thead th {\n",
       "        text-align: right;\n",
       "    }\n",
       "</style>\n",
       "<table border=\"1\" class=\"dataframe\">\n",
       "  <thead>\n",
       "    <tr style=\"text-align: right;\">\n",
       "      <th></th>\n",
       "      <th>sepal_length</th>\n",
       "      <th>sepal_width</th>\n",
       "      <th>petal_length</th>\n",
       "      <th>petal_width</th>\n",
       "      <th>target</th>\n",
       "      <th>cluster</th>\n",
       "      <th>pca_x</th>\n",
       "      <th>pca_y</th>\n",
       "    </tr>\n",
       "  </thead>\n",
       "  <tbody>\n",
       "    <tr>\n",
       "      <th>0</th>\n",
       "      <td>5.1</td>\n",
       "      <td>3.5</td>\n",
       "      <td>1.4</td>\n",
       "      <td>0.2</td>\n",
       "      <td>0</td>\n",
       "      <td>1</td>\n",
       "      <td>-2.684126</td>\n",
       "      <td>0.319397</td>\n",
       "    </tr>\n",
       "    <tr>\n",
       "      <th>1</th>\n",
       "      <td>4.9</td>\n",
       "      <td>3.0</td>\n",
       "      <td>1.4</td>\n",
       "      <td>0.2</td>\n",
       "      <td>0</td>\n",
       "      <td>1</td>\n",
       "      <td>-2.714142</td>\n",
       "      <td>-0.177001</td>\n",
       "    </tr>\n",
       "    <tr>\n",
       "      <th>2</th>\n",
       "      <td>4.7</td>\n",
       "      <td>3.2</td>\n",
       "      <td>1.3</td>\n",
       "      <td>0.2</td>\n",
       "      <td>0</td>\n",
       "      <td>1</td>\n",
       "      <td>-2.888991</td>\n",
       "      <td>-0.144949</td>\n",
       "    </tr>\n",
       "  </tbody>\n",
       "</table>\n",
       "</div>"
      ],
      "text/plain": [
       "   sepal_length  sepal_width  petal_length  petal_width  target  cluster  \\\n",
       "0           5.1          3.5           1.4          0.2       0        1   \n",
       "1           4.9          3.0           1.4          0.2       0        1   \n",
       "2           4.7          3.2           1.3          0.2       0        1   \n",
       "\n",
       "      pca_x     pca_y  \n",
       "0 -2.684126  0.319397  \n",
       "1 -2.714142 -0.177001  \n",
       "2 -2.888991 -0.144949  "
      ]
     },
     "execution_count": 69,
     "metadata": {},
     "output_type": "execute_result"
    }
   ],
   "source": [
    "from sklearn.decomposition import PCA\n",
    "\n",
    "pca = PCA(n_components=2)\n",
    "iris_pca_trans = pca.fit_transform(iris.data)\n",
    "\n",
    "iris_df['pca_x'] = iris_pca_trans[:,0]\n",
    "iris_df['pca_y'] = iris_pca_trans[:,1]\n",
    "iris_df.head(3)"
   ]
  },
  {
   "cell_type": "code",
   "execution_count": 71,
   "metadata": {
    "ExecuteTime": {
     "end_time": "2021-09-02T09:57:47.385513Z",
     "start_time": "2021-09-02T09:57:47.267899Z"
    }
   },
   "outputs": [
    {
     "data": {
      "image/png": "[encoded data removed]",
      "text/plain": [
       "<Figure size 432x288 with 1 Axes>"
      ]
     },
     "metadata": {
      "needs_background": "light"
     },
     "output_type": "display_data"
    }
   ],
   "source": [
    "marker0_ind = iris_df[iris_df['cluster']==0].index\n",
    "marker1_ind = iris_df[iris_df['cluster']==1].index\n",
    "marker2_ind = iris_df[iris_df['cluster']==2].index\n",
    "\n",
    "plt.scatter(x=iris_df.loc[marker0_ind,'pca_x'], y=iris_df.loc[marker0_ind,'pca_y'], marker='o')\n",
    "plt.scatter(x=iris_df.loc[marker1_ind,'pca_x'], y=iris_df.loc[marker1_ind,'pca_y'], marker='s')\n",
    "plt.scatter(x=iris_df.loc[marker2_ind,'pca_x'], y=iris_df.loc[marker2_ind,'pca_y'], marker='^')\n",
    "\n",
    "plt.xlabel('PCA 1')\n",
    "plt.ylabel('PCA 2')\n",
    "plt.title('3 Clusters Visualization by 4 Components with PCA components')\n",
    "plt.show()"
   ]
  },
  {
   "cell_type": "markdown",
   "metadata": {},
   "source": [
    "PCA를 이용해서 2개로 함축 한후에 Clustering"
   ]
  },
  {
   "cell_type": "code",
   "execution_count": 72,
   "metadata": {
    "ExecuteTime": {
     "end_time": "2021-09-02T09:58:49.109271Z",
     "start_time": "2021-09-02T09:58:49.089369Z"
    }
   },
   "outputs": [
    {
     "data": {
      "text/html": [
       "<div>\n",
       "<style scoped>\n",
       "    .dataframe tbody tr th:only-of-type {\n",
       "        vertical-align: middle;\n",
       "    }\n",
       "\n",
       "    .dataframe tbody tr th {\n",
       "        vertical-align: top;\n",
       "    }\n",
       "\n",
       "    .dataframe thead th {\n",
       "        text-align: right;\n",
       "    }\n",
       "</style>\n",
       "<table border=\"1\" class=\"dataframe\">\n",
       "  <thead>\n",
       "    <tr style=\"text-align: right;\">\n",
       "      <th></th>\n",
       "      <th>sepal_length</th>\n",
       "      <th>sepal_width</th>\n",
       "      <th>petal_length</th>\n",
       "      <th>petal_width</th>\n",
       "      <th>target</th>\n",
       "      <th>cluster</th>\n",
       "      <th>pca_x</th>\n",
       "      <th>pca_y</th>\n",
       "    </tr>\n",
       "  </thead>\n",
       "  <tbody>\n",
       "    <tr>\n",
       "      <th>0</th>\n",
       "      <td>5.1</td>\n",
       "      <td>3.5</td>\n",
       "      <td>1.4</td>\n",
       "      <td>0.2</td>\n",
       "      <td>0</td>\n",
       "      <td>1</td>\n",
       "      <td>-2.684126</td>\n",
       "      <td>0.319397</td>\n",
       "    </tr>\n",
       "    <tr>\n",
       "      <th>1</th>\n",
       "      <td>4.9</td>\n",
       "      <td>3.0</td>\n",
       "      <td>1.4</td>\n",
       "      <td>0.2</td>\n",
       "      <td>0</td>\n",
       "      <td>1</td>\n",
       "      <td>-2.714142</td>\n",
       "      <td>-0.177001</td>\n",
       "    </tr>\n",
       "    <tr>\n",
       "      <th>2</th>\n",
       "      <td>4.7</td>\n",
       "      <td>3.2</td>\n",
       "      <td>1.3</td>\n",
       "      <td>0.2</td>\n",
       "      <td>0</td>\n",
       "      <td>1</td>\n",
       "      <td>-2.888991</td>\n",
       "      <td>-0.144949</td>\n",
       "    </tr>\n",
       "    <tr>\n",
       "      <th>3</th>\n",
       "      <td>4.6</td>\n",
       "      <td>3.1</td>\n",
       "      <td>1.5</td>\n",
       "      <td>0.2</td>\n",
       "      <td>0</td>\n",
       "      <td>1</td>\n",
       "      <td>-2.745343</td>\n",
       "      <td>-0.318299</td>\n",
       "    </tr>\n",
       "    <tr>\n",
       "      <th>4</th>\n",
       "      <td>5.0</td>\n",
       "      <td>3.6</td>\n",
       "      <td>1.4</td>\n",
       "      <td>0.2</td>\n",
       "      <td>0</td>\n",
       "      <td>1</td>\n",
       "      <td>-2.728717</td>\n",
       "      <td>0.326755</td>\n",
       "    </tr>\n",
       "  </tbody>\n",
       "</table>\n",
       "</div>"
      ],
      "text/plain": [
       "   sepal_length  sepal_width  petal_length  petal_width  target  cluster  \\\n",
       "0           5.1          3.5           1.4          0.2       0        1   \n",
       "1           4.9          3.0           1.4          0.2       0        1   \n",
       "2           4.7          3.2           1.3          0.2       0        1   \n",
       "3           4.6          3.1           1.5          0.2       0        1   \n",
       "4           5.0          3.6           1.4          0.2       0        1   \n",
       "\n",
       "      pca_x     pca_y  \n",
       "0 -2.684126  0.319397  \n",
       "1 -2.714142 -0.177001  \n",
       "2 -2.888991 -0.144949  \n",
       "3 -2.745343 -0.318299  \n",
       "4 -2.728717  0.326755  "
      ]
     },
     "execution_count": 72,
     "metadata": {},
     "output_type": "execute_result"
    }
   ],
   "source": [
    "iris_df.head()"
   ]
  },
  {
   "cell_type": "code",
   "execution_count": 73,
   "metadata": {
    "ExecuteTime": {
     "end_time": "2021-09-02T10:00:11.173931Z",
     "start_time": "2021-09-02T10:00:11.154913Z"
    }
   },
   "outputs": [
    {
     "data": {
      "text/plain": [
       "KMeans(n_clusters=3, random_state=0)"
      ]
     },
     "execution_count": 73,
     "metadata": {},
     "output_type": "execute_result"
    }
   ],
   "source": [
    "kmeans = KMeans(n_clusters=3, init='k-means++', max_iter=300, random_state=0)\n",
    "kmeans.fit(iris_df[['pca_x','pca_y']])"
   ]
  },
  {
   "cell_type": "code",
   "execution_count": 74,
   "metadata": {
    "ExecuteTime": {
     "end_time": "2021-09-02T10:00:11.714398Z",
     "start_time": "2021-09-02T10:00:11.699530Z"
    }
   },
   "outputs": [
    {
     "data": {
      "text/plain": [
       "array([0, 0, 0, 0, 0, 0, 0, 0, 0, 0, 0, 0, 0, 0, 0, 0, 0, 0, 0, 0, 0, 0,\n",
       "       0, 0, 0, 0, 0, 0, 0, 0, 0, 0, 0, 0, 0, 0, 0, 0, 0, 0, 0, 0, 0, 0,\n",
       "       0, 0, 0, 0, 0, 0, 2, 1, 2, 1, 1, 1, 1, 1, 1, 1, 1, 1, 1, 1, 1, 1,\n",
       "       1, 1, 1, 1, 1, 1, 1, 1, 1, 1, 1, 2, 1, 1, 1, 1, 1, 1, 1, 1, 1, 1,\n",
       "       1, 1, 1, 1, 1, 1, 1, 1, 1, 1, 1, 1, 2, 1, 2, 2, 2, 2, 1, 2, 2, 2,\n",
       "       2, 2, 2, 1, 1, 2, 2, 2, 2, 1, 2, 1, 2, 1, 2, 2, 1, 1, 2, 2, 2, 2,\n",
       "       2, 1, 2, 2, 2, 2, 1, 2, 2, 2, 1, 2, 2, 2, 1, 2, 2, 1])"
      ]
     },
     "execution_count": 74,
     "metadata": {},
     "output_type": "execute_result"
    }
   ],
   "source": [
    "kmeans.labels_"
   ]
  },
  {
   "cell_type": "code",
   "execution_count": 75,
   "metadata": {
    "ExecuteTime": {
     "end_time": "2021-09-02T10:00:21.095273Z",
     "start_time": "2021-09-02T10:00:21.092273Z"
    }
   },
   "outputs": [],
   "source": [
    "iris_df['cluster'] = kmeans.labels_"
   ]
  },
  {
   "cell_type": "code",
   "execution_count": 76,
   "metadata": {
    "ExecuteTime": {
     "end_time": "2021-09-02T10:00:21.758059Z",
     "start_time": "2021-09-02T10:00:21.743044Z"
    }
   },
   "outputs": [
    {
     "data": {
      "text/plain": [
       "target  cluster\n",
       "0       0          50\n",
       "1       1          47\n",
       "        2           3\n",
       "2       1          14\n",
       "        2          36\n",
       "Name: sepal_length, dtype: int64"
      ]
     },
     "execution_count": 76,
     "metadata": {},
     "output_type": "execute_result"
    }
   ],
   "source": [
    "iris_kemans_result = iris_df.groupby(['target','cluster'])['sepal_length'].count()\n",
    "iris_kemans_result"
   ]
  },
  {
   "cell_type": "code",
   "execution_count": 78,
   "metadata": {
    "ExecuteTime": {
     "end_time": "2021-09-02T10:00:39.575918Z",
     "start_time": "2021-09-02T10:00:39.560904Z"
    }
   },
   "outputs": [
    {
     "name": "stdout",
     "output_type": "stream",
     "text": [
      "정확도 0.8866666666666667\n"
     ]
    }
   ],
   "source": [
    "acc = 0 \n",
    "for i in iris_df['target'].unique():\n",
    "    acc += iris_kemans_result[i].max()\n",
    "print('정확도',acc/iris_df.shape[0])"
   ]
  },
  {
   "cell_type": "code",
   "execution_count": 79,
   "metadata": {
    "ExecuteTime": {
     "end_time": "2021-09-02T10:00:55.550506Z",
     "start_time": "2021-09-02T10:00:55.430938Z"
    }
   },
   "outputs": [
    {
     "data": {
      "image/png": "[encoded data removed]",
      "text/plain": [
       "<Figure size 432x288 with 1 Axes>"
      ]
     },
     "metadata": {
      "needs_background": "light"
     },
     "output_type": "display_data"
    }
   ],
   "source": [
    "marker0_ind = iris_df[iris_df['cluster']==0].index\n",
    "marker1_ind = iris_df[iris_df['cluster']==1].index\n",
    "marker2_ind = iris_df[iris_df['cluster']==2].index\n",
    "\n",
    "plt.scatter(x=iris_df.loc[marker0_ind,'pca_x'], y=iris_df.loc[marker0_ind,'pca_y'], marker='o')\n",
    "plt.scatter(x=iris_df.loc[marker1_ind,'pca_x'], y=iris_df.loc[marker1_ind,'pca_y'], marker='s')\n",
    "plt.scatter(x=iris_df.loc[marker2_ind,'pca_x'], y=iris_df.loc[marker2_ind,'pca_y'], marker='^')\n",
    "\n",
    "plt.xlabel('PCA 1')\n",
    "plt.ylabel('PCA 2')\n",
    "plt.title('3 Clusters Visualization by 2 Components ')\n",
    "plt.show()"
   ]
  },
  {
   "cell_type": "markdown",
   "metadata": {},
   "source": [
    "PCA로 축소 한 후에도 소폭 하락"
   ]
  },
  {
   "cell_type": "code",
   "execution_count": null,
   "metadata": {},
   "outputs": [],
   "source": []
  },
  {
   "cell_type": "code",
   "execution_count": null,
   "metadata": {},
   "outputs": [],
   "source": []
  },
  {
   "cell_type": "code",
   "execution_count": null,
   "metadata": {},
   "outputs": [],
   "source": []
  },
  {
   "cell_type": "code",
   "execution_count": null,
   "metadata": {},
   "outputs": [],
   "source": []
  },
  {
   "cell_type": "code",
   "execution_count": null,
   "metadata": {},
   "outputs": [],
   "source": []
  },
  {
   "cell_type": "code",
   "execution_count": null,
   "metadata": {},
   "outputs": [],
   "source": []
  },
  {
   "cell_type": "code",
   "execution_count": null,
   "metadata": {},
   "outputs": [],
   "source": []
  },
  {
   "cell_type": "code",
   "execution_count": null,
   "metadata": {},
   "outputs": [],
   "source": []
  },
  {
   "cell_type": "code",
   "execution_count": null,
   "metadata": {},
   "outputs": [],
   "source": []
  },
  {
   "cell_type": "code",
   "execution_count": null,
   "metadata": {},
   "outputs": [],
   "source": []
  },
  {
   "cell_type": "code",
   "execution_count": null,
   "metadata": {},
   "outputs": [],
   "source": []
  },
  {
   "cell_type": "code",
   "execution_count": null,
   "metadata": {},
   "outputs": [],
   "source": []
  },
  {
   "cell_type": "code",
   "execution_count": null,
   "metadata": {},
   "outputs": [],
   "source": []
  },
  {
   "cell_type": "code",
   "execution_count": null,
   "metadata": {},
   "outputs": [],
   "source": []
  },
  {
   "cell_type": "code",
   "execution_count": null,
   "metadata": {},
   "outputs": [],
   "source": []
  },
  {
   "cell_type": "code",
   "execution_count": null,
   "metadata": {},
   "outputs": [],
   "source": []
  },
  {
   "cell_type": "code",
   "execution_count": null,
   "metadata": {},
   "outputs": [],
   "source": []
  },
  {
   "cell_type": "code",
   "execution_count": null,
   "metadata": {},
   "outputs": [],
   "source": []
  },
  {
   "cell_type": "code",
   "execution_count": null,
   "metadata": {},
   "outputs": [],
   "source": []
  },
  {
   "cell_type": "code",
   "execution_count": null,
   "metadata": {},
   "outputs": [],
   "source": []
  },
  {
   "cell_type": "code",
   "execution_count": null,
   "metadata": {},
   "outputs": [],
   "source": []
  },
  {
   "cell_type": "code",
   "execution_count": null,
   "metadata": {},
   "outputs": [],
   "source": []
  },
  {
   "cell_type": "code",
   "execution_count": null,
   "metadata": {},
   "outputs": [],
   "source": []
  },
  {
   "cell_type": "code",
   "execution_count": null,
   "metadata": {},
   "outputs": [],
   "source": []
  },
  {
   "cell_type": "code",
   "execution_count": null,
   "metadata": {},
   "outputs": [],
   "source": []
  },
  {
   "cell_type": "code",
   "execution_count": null,
   "metadata": {},
   "outputs": [],
   "source": []
  },
  {
   "cell_type": "code",
   "execution_count": null,
   "metadata": {},
   "outputs": [],
   "source": []
  },
  {
   "cell_type": "code",
   "execution_count": null,
   "metadata": {},
   "outputs": [],
   "source": []
  },
  {
   "cell_type": "code",
   "execution_count": null,
   "metadata": {},
   "outputs": [],
   "source": []
  },
  {
   "cell_type": "code",
   "execution_count": null,
   "metadata": {},
   "outputs": [],
   "source": []
  },
  {
   "cell_type": "markdown",
   "metadata": {},
   "source": [
    "**Reference**\n",
    "\n",
    "* <a href='https://github.com/SeWonKwon' ><div> <img src ='https://slid-capture.s3.ap-northeast-2.amazonaws.com/public/image_upload/6556674324ed41a289a354258718280d/964e5a8b-75ad-41fc-ae75-0ca66d06fbc7.png' align='left' /> </div></a>\n",
    "\n",
    "<br>\n",
    "\n",
    "* 파이썬 머신러닝 완벽 가이드, 권철민\n",
    "* Wiki, https://en.wikipedia.org/wiki/Cluster_analysis\n",
    "* https://ratsgo.github.io/machine%20learning/2017/04/16/clustering/\n"
   ]
  }
 ],
 "metadata": {
  "kernelspec": {
   "display_name": "Python 3",
   "language": "python",
   "name": "python3"
  },
  "language_info": {
   "codemirror_mode": {
    "name": "ipython",
    "version": 3
   },
   "file_extension": ".py",
   "mimetype": "text/x-python",
   "name": "python",
   "nbconvert_exporter": "python",
   "pygments_lexer": "ipython3",
   "version": "3.8.5"
  },
  "toc": {
   "base_numbering": 1,
   "nav_menu": {},
   "number_sections": true,
   "sideBar": true,
   "skip_h1_title": false,
   "title_cell": "Table of Contents",
   "title_sidebar": "Contents",
   "toc_cell": false,
   "toc_position": {},
   "toc_section_display": true,
   "toc_window_display": false
  }
 },
 "nbformat": 4,
 "nbformat_minor": 4
}
