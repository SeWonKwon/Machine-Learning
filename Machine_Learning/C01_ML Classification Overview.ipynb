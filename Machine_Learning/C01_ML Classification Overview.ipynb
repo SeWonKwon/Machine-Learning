{
 "cells": [
  {
   "cell_type": "markdown",
   "metadata": {},
   "source": [
    "<a href='https://github.com/SeWonKwon' ><div> <img src ='https://slid-capture.s3.ap-northeast-2.amazonaws.com/public/image_upload/6556674324ed41a289a354258718280d/964e5a8b-75ad-41fc-ae75-0ca66d06fbc7.png' align='left' /> </div></a>\n"
   ]
  },
  {
   "cell_type": "markdown",
   "metadata": {},
   "source": [
    "# Classifiation"
   ]
  },
  {
   "cell_type": "markdown",
   "metadata": {},
   "source": [
    "## Classification의 개념\n",
    "\n",
    "* 학습 데이터로 주어진 데이터의 피처와 레이블값(결정 값, 클래스 값)을 머신러닝 알고리즘으로 학습해 모델을 생성하고, 이렇게 생성된 모델에 새로운 데이터 값이 주어졌을 때 미지의 레이블 값을 예측하는 것\n",
    "\n",
    "* 즉, 기존 데이터가 어떤 레이블에 속하는지 패턴을 알고리즘으로 인지 한 뒤에 새롭게 관측된 데이터에 대한 레이블을 판별하는 것입니다. \n",
    "\n",
    "* 지도학습으로 레이블이 꼭 필요하다. \n",
    "    - Clustering과 가장 구분 되는 것이 Label의 유무."
   ]
  },
  {
   "cell_type": "markdown",
   "metadata": {},
   "source": [
    "## Classification의 알고리즘 별 구분"
   ]
  },
  {
   "cell_type": "markdown",
   "metadata": {},
   "source": [
    "|알고리즘|원리|\n",
    "|:-|:--|\n",
    "|나이브 베이즈(Naive Bayes)|베이즈(Bayes) 통계|\n",
    "|로지스틱 회귀(Logistic Regression)|독립변수와 종속변수의 선형관계성|\n",
    "|서포트 벡터 머신(Support Vector Machine)|최대 분류 마진|\n",
    "|최소 근접 (Nearest Neighbor)|근접 거리를 기준|\n",
    "|신경망(Neural Network)|신경망 기반|\n",
    "|앙상블(Endemble)|알고리즘들의 결합|"
   ]
  },
  {
   "cell_type": "markdown",
   "metadata": {},
   "source": [
    "**Reference**\n",
    "* <a href='https://github.com/SeWonKwon' ><div> <img src ='https://slid-capture.s3.ap-northeast-2.amazonaws.com/public/image_upload/6556674324ed41a289a354258718280d/964e5a8b-75ad-41fc-ae75-0ca66d06fbc7.png' align='left' /> </div></a>\n",
    "\n",
    "<br>\n",
    "\n",
    "* 파이썬 머신러닝 완변가이드, 권철민"
   ]
  }
 ],
 "metadata": {
  "kernelspec": {
   "display_name": "Python 3",
   "language": "python",
   "name": "python3"
  },
  "language_info": {
   "codemirror_mode": {
    "name": "ipython",
    "version": 3
   },
   "file_extension": ".py",
   "mimetype": "text/x-python",
   "name": "python",
   "nbconvert_exporter": "python",
   "pygments_lexer": "ipython3",
   "version": "3.8.5"
  },
  "toc": {
   "base_numbering": 1,
   "nav_menu": {},
   "number_sections": true,
   "sideBar": true,
   "skip_h1_title": false,
   "title_cell": "Table of Contents",
   "title_sidebar": "Contents",
   "toc_cell": false,
   "toc_position": {},
   "toc_section_display": true,
   "toc_window_display": false
  }
 },
 "nbformat": 4,
 "nbformat_minor": 4
}
