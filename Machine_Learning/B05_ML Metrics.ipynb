{
 "cells": [
  {
   "cell_type": "markdown",
   "metadata": {},
   "source": [
    "<a href='https://github.com/SeWonKwon' ><div> <img src ='https://slid-capture.s3.ap-northeast-2.amazonaws.com/public/image_upload/6556674324ed41a289a354258718280d/964e5a8b-75ad-41fc-ae75-0ca66d06fbc7.png' align='left' /> </div></a>"
   ]
  },
  {
   "cell_type": "markdown",
   "metadata": {},
   "source": [
    "# Classification_성능평가지표"
   ]
  },
  {
   "cell_type": "markdown",
   "metadata": {},
   "source": [
    "## 한눈에 먼저 보고 갈께요~"
   ]
  },
  {
   "cell_type": "markdown",
   "metadata": {},
   "source": [
    "||`True Positive`|`False Positive`|`True Negative`|`False Negative`|\n",
    "|:--:|:--:|:--:|:--:|:--:|\n",
    "|예측값|`Positive`, 1|`Positive`, 1|`Negative`, 0|`Negative`, 0|\n",
    "|실재값|`Positive`|`Negative`|`Positive`|`Negative`|\n",
    "|예측값과 실재값|일치|불일치|일치|불일치|\n",
    "\n",
    "<a> <div> <img align='cneter' src='https://slid-capture.s3.ap-northeast-2.amazonaws.com/public/image_upload/a8c4f31d50cd44e8bb6be48ec445798f/49c6af87-06e8-4170-a309-af35e659020d.png' width='500' /> </div></a>"
   ]
  },
  {
   "cell_type": "markdown",
   "metadata": {},
   "source": [
    "\n",
    "|지표|공식|의미|\n",
    "|:-|:-|:-|\n",
    "|정확도|`(TN + TP) / (TN + FP + FN + TP)`|예측 값이 일치하는 비율|\n",
    "|오류율|`(FN + FP) / (TN + FP + FN + TP)`|예측 값이 불일치하는 비율|\n",
    "|정밀도(Precision)|`TP / (FP + TP)`|예측 값 `Positive, 1` 중 `Positive` 인 비율|\n",
    "|재현율(Recall)|`TP / (FN + TP)`|실재 값 `Positive` 중에 `Positive, 1`으로 예측한 비율|\n",
    "|민감도(Sensitivity)|`TP / (TP + FN)`|실재 값 `Positive` 중에 `Positive, 1`으로 예측한 비율|\n",
    "|특이도(specificity)|`TN / (TN + FP)`|실재 값 `Negative` 중에 `Negative, 0`으로 예측한 비율|"
   ]
  },
  {
   "cell_type": "markdown",
   "metadata": {},
   "source": [
    "\\begin{equation}\n",
    "F1 = 2 \\times \\frac{정밀도 \\times 재현율}{정밀도 + 재현율}\n",
    "\\end{equation}\n"
   ]
  },
  {
   "cell_type": "markdown",
   "metadata": {},
   "source": [
    "##  classification_report\n",
    "* Precision, Recall, F1-score 를 한눈에"
   ]
  },
  {
   "cell_type": "code",
   "execution_count": 2,
   "metadata": {
    "ExecuteTime": {
     "end_time": "2021-07-05T05:09:23.725943Z",
     "start_time": "2021-07-05T05:09:23.710954Z"
    }
   },
   "outputs": [
    {
     "name": "stdout",
     "output_type": "stream",
     "text": [
      "학습 데이터 점수: 0.9385714285714286\n",
      "평가 데이터 점수: 0.9033333333333333\n"
     ]
    }
   ],
   "source": [
    "from sklearn.datasets import make_classification\n",
    "from sklearn.model_selection import train_test_split\n",
    "from sklearn.linear_model import LogisticRegression\n",
    "X, y = make_classification(n_samples=1000, n_features=2, n_informative=2,\n",
    "                           n_redundant=0, n_clusters_per_class=1)\n",
    "\n",
    "X_train, X_test, y_train, y_test = train_test_split(X, y, test_size=0.3)\n",
    "\n",
    "model = LogisticRegression()\n",
    "model.fit(X_train, y_train)\n",
    "predict = model.predict(X_test)\n",
    "\n",
    "print(\"학습 데이터 점수: {}\".format(model.score(X_train, y_train)))\n",
    "print(\"평가 데이터 점수: {}\".format(model.score(X_test, y_test)))\n"
   ]
  },
  {
   "cell_type": "code",
   "execution_count": 15,
   "metadata": {
    "ExecuteTime": {
     "end_time": "2021-07-05T08:46:15.503149Z",
     "start_time": "2021-07-05T08:46:15.490132Z"
    }
   },
   "outputs": [
    {
     "name": "stdout",
     "output_type": "stream",
     "text": [
      "              precision    recall  f1-score   support\n",
      "\n",
      "           0       0.93      0.87      0.90       147\n",
      "           1       0.88      0.93      0.91       153\n",
      "\n",
      "    accuracy                           0.90       300\n",
      "   macro avg       0.91      0.90      0.90       300\n",
      "weighted avg       0.90      0.90      0.90       300\n",
      "\n"
     ]
    }
   ],
   "source": [
    "from sklearn.metrics import classification_report\n",
    "model_report = classification_report(y_pred=predict, y_true= y_test)\n",
    "\n",
    "print(model_report)"
   ]
  },
  {
   "cell_type": "code",
   "execution_count": 16,
   "metadata": {
    "ExecuteTime": {
     "end_time": "2021-07-05T08:46:16.267981Z",
     "start_time": "2021-07-05T08:46:16.254984Z"
    }
   },
   "outputs": [
    {
     "data": {
      "text/plain": [
       "{'0': {'precision': 0.927536231884058,\n",
       "  'recall': 0.8707482993197279,\n",
       "  'f1-score': 0.8982456140350877,\n",
       "  'support': 147},\n",
       " '1': {'precision': 0.8827160493827161,\n",
       "  'recall': 0.934640522875817,\n",
       "  'f1-score': 0.9079365079365078,\n",
       "  'support': 153},\n",
       " 'accuracy': 0.9033333333333333,\n",
       " 'macro avg': {'precision': 0.905126140633387,\n",
       "  'recall': 0.9026944110977724,\n",
       "  'f1-score': 0.9030910609857978,\n",
       "  'support': 300},\n",
       " 'weighted avg': {'precision': 0.9046779388083737,\n",
       "  'recall': 0.9033333333333333,\n",
       "  'f1-score': 0.9031879699248119,\n",
       "  'support': 300}}"
      ]
     },
     "execution_count": 16,
     "metadata": {},
     "output_type": "execute_result"
    }
   ],
   "source": [
    "model_report_dict = classification_report(y_pred=predict, y_true=y_test, output_dict=True)\n",
    "model_report_dict"
   ]
  },
  {
   "cell_type": "markdown",
   "metadata": {},
   "source": [
    "## 오차 행렬(Confusion Matrix)\n",
    "\n",
    "||`True`|`False`|\n",
    "|--|----|----|\n",
    "|예측값과 실재값|일치|불일치|\n",
    "\n",
    "||`Positive`|`Negative`|\n",
    "|-|-|-|\n",
    "|예측값|`Positive`, 1|`Negative`, 0|\n",
    "\n",
    "||`True Positive`|`False Positive`|`True Negative`|`False Negative`|\n",
    "|:--:|:--:|:--:|:--:|:--:|\n",
    "|예측값|`Positive`, 1|`Positive`, 1|`Negative`, 0|`Negative`, 0|\n",
    "|실재값|`Positive`|`Negative`|`Positive`|`Negative`|\n",
    "|예측값과 실재값|일치|불일치|일치|불일치|\n",
    "\n",
    "* True Negative: 예측값을 Negative 값 0으로 예측했고, 실제 값도 Negative 값 0\n",
    "    \n",
    "    \n",
    "    \n",
    "* False Positive: 예측값을 Positive 값 1로 예측했는데, 실제 값은 Negative 값 0\n",
    "\n",
    "\n",
    "\n",
    "* False Negative: 예측값을 Negative 값 0으로 예측했는데, 실제 값은 Positive 값 1\n",
    "\n",
    "\n",
    "\n",
    "* True Positive: 예측값을 Positive 값 1로 예측했고, 실제 값도 Positive 값 1\n",
    "\n"
   ]
  },
  {
   "cell_type": "code",
   "execution_count": 11,
   "metadata": {
    "ExecuteTime": {
     "end_time": "2021-07-03T13:10:51.683673Z",
     "start_time": "2021-07-03T13:10:51.667659Z"
    }
   },
   "outputs": [
    {
     "name": "stdout",
     "output_type": "stream",
     "text": [
      "[[147   3]\n",
      " [  1 149]]\n"
     ]
    }
   ],
   "source": [
    "from sklearn.metrics import confusion_matrix\n",
    "\n",
    "conf_mat = confusion_matrix(y_true=y_test, y_pred=predict)\n",
    "\n",
    "print(conf_mat)"
   ]
  },
  {
   "cell_type": "code",
   "execution_count": 12,
   "metadata": {
    "ExecuteTime": {
     "end_time": "2021-07-03T13:10:53.194342Z",
     "start_time": "2021-07-03T13:10:53.090813Z"
    }
   },
   "outputs": [
    {
     "data": {
      "image/png": "[encoded data removed]",
      "text/plain": [
       "<Figure size 180x180 with 1 Axes>"
      ]
     },
     "metadata": {
      "needs_background": "light"
     },
     "output_type": "display_data"
    }
   ],
   "source": [
    "import matplotlib.pyplot as plt\n",
    "\n",
    "fig, ax = plt.subplots(figsize=(2.5, 2.5))\n",
    "ax.matshow(conf_mat, cmap=plt.cm.Blues, alpha=0.3)\n",
    "for i in range(conf_mat.shape[0]):\n",
    "    for j in range(conf_mat.shape[1]):\n",
    "        ax.text(x=j, y=i, s=conf_mat[i, j], va='center', ha='center', fontsize=19 )\n",
    "        \n",
    "plt.xlabel('Predicted label')\n",
    "plt.ylabel('True label')\n",
    "plt.tight_layout()\n",
    "plt.show()"
   ]
  },
  {
   "cell_type": "markdown",
   "metadata": {},
   "source": [
    "<div> <img align='left' src='https://slid-capture.s3.ap-northeast-2.amazonaws.com/public/image_upload/a8c4f31d50cd44e8bb6be48ec445798f/49c6af87-06e8-4170-a309-af35e659020d.png' width='500' /> </div>"
   ]
  },
  {
   "cell_type": "markdown",
   "metadata": {},
   "source": [
    "## 정확도(Accuracy)\n",
    "\n",
    "* 정확도는 전체 예측 데이터 건수 중 예측 결과가 동일한 데이터 건수로 계산\n",
    "* scikit-learn에서는 `accuracy_score` 함수를 제공\n"
   ]
  },
  {
   "cell_type": "markdown",
   "metadata": {},
   "source": [
    "* 정확도 = (TN + TP) / (TN + FP + FN + TP)\n",
    "* 오류율 = (FN + FP) / (TN + FP + FN + TP)"
   ]
  },
  {
   "cell_type": "code",
   "execution_count": 13,
   "metadata": {
    "ExecuteTime": {
     "end_time": "2021-07-03T13:10:57.713415Z",
     "start_time": "2021-07-03T13:10:57.696865Z"
    }
   },
   "outputs": [
    {
     "name": "stdout",
     "output_type": "stream",
     "text": [
      "정확도:0.9866666666666667\n"
     ]
    }
   ],
   "source": [
    "from sklearn.metrics import accuracy_score\n",
    "\n",
    "print(\"정확도:{}\".format(accuracy_score(y_test, predict)))"
   ]
  },
  {
   "cell_type": "markdown",
   "metadata": {},
   "source": [
    "## 정밀도(Precision)와 재현율(Recall)\n",
    "\n",
    "\n",
    "\n",
    "* 정밀도(Precision) \n",
    "     - = TP / (FP + TP) :  예측 값 `Positive, 1` 중 `Positive` 인 비율   \n",
    "     \n",
    "     \n",
    "     \n",
    "\n",
    "* 재현율(Recall)  , 민감도(Sensitivity), TPR(True Positive Rate)\n",
    "    - = TP / (FN + TP) : 실재 값 `Positive` 중에 `Positive, 1`으로 예측한 비율"
   ]
  },
  {
   "cell_type": "code",
   "execution_count": 14,
   "metadata": {
    "ExecuteTime": {
     "end_time": "2021-07-03T13:11:01.022467Z",
     "start_time": "2021-07-03T13:11:01.006461Z"
    }
   },
   "outputs": [
    {
     "name": "stdout",
     "output_type": "stream",
     "text": [
      "정밀도: 0.9802631578947368\n",
      "재현율: 0.9933333333333333\n"
     ]
    }
   ],
   "source": [
    "from sklearn.metrics import precision_score, recall_score\n",
    "\n",
    "precision = precision_score(y_test, predict)\n",
    "recall = recall_score(y_test, predict)\n",
    "\n",
    "print(\"정밀도: {}\".format(precision))\n",
    "print(\"재현율: {}\".format(recall))"
   ]
  },
  {
   "cell_type": "markdown",
   "metadata": {},
   "source": [
    "##  민감도(sensitivity) 와  특이도(specificity) \n",
    "\n",
    "* 민감도(Sensitivity), 재현율(Recall), TPR(True Positive Rate)\n",
    "    - = TP / (TP + FN) : 실재 값 `Positive` 중에 `Positive, 1`으로 예측한 비율    \n",
    "    \n",
    "    \n",
    "\n",
    "* 특이도(specificity), TNR(True Negative Rate)\n",
    "    - = TN / (TN + FP) : 실재 값 `Negative` 중에 `Negative, 0`으로 예측한 비율"
   ]
  },
  {
   "cell_type": "markdown",
   "metadata": {},
   "source": [
    "## F1 Score(F-measure)\n",
    "\n",
    "* 정밀도와 재현율을 결합한 지표 ( 정밀도와 재현율의 조화평균)\n",
    "* 정밀도와 재현율이 어느 한쪽으로 치우치지 않을 때 높은 값을 가짐\n",
    "\n",
    "\\begin{equation}\n",
    "F1 = 2 \\times \\frac{정밀도 \\times 재현율}{정밀도 + 재현율}\n",
    "\\end{equation}\n",
    "\n",
    "\\begin{equation}\n",
    "F1 = 2 \\times \\frac{precision \\times recall}{precision + recall}\n",
    "\\end{equation}\n"
   ]
  },
  {
   "cell_type": "code",
   "execution_count": 15,
   "metadata": {
    "ExecuteTime": {
     "end_time": "2021-07-03T13:11:04.256114Z",
     "start_time": "2021-07-03T13:11:04.252110Z"
    }
   },
   "outputs": [
    {
     "name": "stdout",
     "output_type": "stream",
     "text": [
      "F1 Score: 0.9867549668874172\n"
     ]
    }
   ],
   "source": [
    "from sklearn.metrics import f1_score\n",
    "\n",
    "f1 = f1_score(y_test, predict)\n",
    "print(\"F1 Score: {}\".format(f1))"
   ]
  },
  {
   "cell_type": "markdown",
   "metadata": {},
   "source": [
    "## ROC Curve and AUC \n",
    "\n",
    "* ROC 곡선은 FPR(False Positive Rate)이 변할 때 TPR(True Positive Rate)이 어떻게 변하는지 나타내는 곡선\n",
    "  + TPR(True Positive Rate): TP / (FN + TP), 재현율\n",
    "  + TNR(True Negative Rate): TN / (FP + TN)\n",
    "  + FPR(False Positive Rate): FP / (FP + TN), 1 - TNR\n",
    "\n",
    "* AUC(Area Under Curve) 값은 ROC 곡선 밑에 면적을 구한 값 (1이 가까울수록 좋은 값)"
   ]
  },
  {
   "cell_type": "code",
   "execution_count": 30,
   "metadata": {
    "ExecuteTime": {
     "end_time": "2021-07-03T13:18:00.052029Z",
     "start_time": "2021-07-03T13:17:59.899889Z"
    },
    "scrolled": false
   },
   "outputs": [
    {
     "data": {
      "image/png": "[encoded data removed]",
      "text/plain": [
       "<Figure size 432x288 with 1 Axes>"
      ]
     },
     "metadata": {
      "needs_background": "light"
     },
     "output_type": "display_data"
    }
   ],
   "source": [
    "from sklearn.metrics import roc_curve\n",
    "import numpy as np\n",
    "\n",
    "pred_proba_class1 = model.predict_proba(X_test)[:, 1] # 클래스가 1인것에 대한 확률\n",
    "fprs, tprs, thresholds = roc_curve(y_test, pred_proba_class1)\n",
    "\n",
    "plt.plot(fprs, tprs, label='ROC')\n",
    "\n",
    "plt.plot([-0.05, 1.1], [-0.05, 1.1], '--k', label='Random')\n",
    "start,end = plt.xlim()\n",
    "plt.xticks(np.round(np.arange(start, end, 0.1), 2))\n",
    "plt.xlim(-0.05, 1.1)\n",
    "plt.ylim(-0.05, 1.1)\n",
    "plt.xlabel('FPR(1-Sensitivity)')\n",
    "plt.ylabel('TPR(Recall)')\n",
    "plt.axvline(x=0, color = 'k', ls=':')  # draw x =0 axes\n",
    "plt.axhline(y=0, color = 'k', ls=':')   # draw y =0 axes\n",
    "plt.legend();"
   ]
  },
  {
   "cell_type": "markdown",
   "metadata": {},
   "source": [
    "## KAPPA 통계량"
   ]
  },
  {
   "cell_type": "markdown",
   "metadata": {},
   "source": [
    "# Regression_성능평가지표"
   ]
  },
  {
   "cell_type": "code",
   "execution_count": null,
   "metadata": {},
   "outputs": [],
   "source": []
  },
  {
   "cell_type": "code",
   "execution_count": null,
   "metadata": {},
   "outputs": [],
   "source": []
  },
  {
   "cell_type": "code",
   "execution_count": null,
   "metadata": {},
   "outputs": [],
   "source": []
  },
  {
   "cell_type": "code",
   "execution_count": null,
   "metadata": {},
   "outputs": [],
   "source": []
  },
  {
   "cell_type": "code",
   "execution_count": null,
   "metadata": {},
   "outputs": [],
   "source": []
  },
  {
   "cell_type": "code",
   "execution_count": null,
   "metadata": {},
   "outputs": [],
   "source": []
  },
  {
   "cell_type": "code",
   "execution_count": null,
   "metadata": {},
   "outputs": [],
   "source": []
  },
  {
   "cell_type": "markdown",
   "metadata": {},
   "source": [
    "# Clustering_성능평가지표"
   ]
  },
  {
   "cell_type": "code",
   "execution_count": null,
   "metadata": {},
   "outputs": [],
   "source": []
  },
  {
   "cell_type": "code",
   "execution_count": null,
   "metadata": {},
   "outputs": [],
   "source": []
  },
  {
   "cell_type": "code",
   "execution_count": null,
   "metadata": {},
   "outputs": [],
   "source": []
  },
  {
   "cell_type": "code",
   "execution_count": null,
   "metadata": {},
   "outputs": [],
   "source": []
  },
  {
   "cell_type": "code",
   "execution_count": null,
   "metadata": {},
   "outputs": [],
   "source": []
  },
  {
   "cell_type": "code",
   "execution_count": null,
   "metadata": {},
   "outputs": [],
   "source": []
  },
  {
   "cell_type": "code",
   "execution_count": null,
   "metadata": {},
   "outputs": [],
   "source": []
  },
  {
   "cell_type": "code",
   "execution_count": null,
   "metadata": {},
   "outputs": [],
   "source": []
  },
  {
   "cell_type": "markdown",
   "metadata": {},
   "source": [
    "# 출처:\n",
    "\n",
    "* <a href='https://github.com/SeWonKwon' ><div> <img src ='https://slid-capture.s3.ap-northeast-2.amazonaws.com/public/image_upload/6556674324ed41a289a354258718280d/964e5a8b-75ad-41fc-ae75-0ca66d06fbc7.png' align='left' /> </div></a>\n",
    "\n",
    "<br>\n",
    "\n",
    "\n",
    "\n",
    "* [이수안컴퓨터연구소](https://www.youtube.com/c/%EC%9D%B4%EC%88%98%EC%95%88%EC%BB%B4%ED%93%A8%ED%84%B0%EC%97%B0%EA%B5%AC%EC%86%8C)\n",
    "\n",
    "* [파이썬 머신러닝 완변가이드, 권철민](https://book.naver.com/bookdb/book_detail.nhn?bid=16238302)\n",
    "\n",
    "* 빅데이터분석기사 필기, DataEDU\n",
    "\n",
    "* [R Friend](https://rfriend.tistory.com/636)\n",
    "\n",
    "* [sklearn](https://scikit-learn.org/)"
   ]
  },
  {
   "cell_type": "code",
   "execution_count": null,
   "metadata": {},
   "outputs": [],
   "source": []
  }
 ],
 "metadata": {
  "kernelspec": {
   "display_name": "Python 3",
   "language": "python",
   "name": "python3"
  },
  "language_info": {
   "codemirror_mode": {
    "name": "ipython",
    "version": 3
   },
   "file_extension": ".py",
   "mimetype": "text/x-python",
   "name": "python",
   "nbconvert_exporter": "python",
   "pygments_lexer": "ipython3",
   "version": "3.8.5"
  },
  "toc": {
   "base_numbering": 1,
   "nav_menu": {},
   "number_sections": true,
   "sideBar": true,
   "skip_h1_title": false,
   "title_cell": "Table of Contents",
   "title_sidebar": "Contents",
   "toc_cell": false,
   "toc_position": {
    "height": "calc(100% - 180px)",
    "left": "10px",
    "top": "150px",
    "width": "341.449px"
   },
   "toc_section_display": true,
   "toc_window_display": true
  }
 },
 "nbformat": 4,
 "nbformat_minor": 4
}
