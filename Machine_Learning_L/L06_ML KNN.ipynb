{
 "cells": [
  {
   "cell_type": "markdown",
   "metadata": {
    "id": "reeeTTbVY28O"
   },
   "source": [
    "# 최근접 이웃(K-Nearest Neighbor)\n",
    "\n",
    "* 특별한 예측 모델 없이 가장 가까운 데이터 포인트를 기반으로 예측을 수행하는 방법\n",
    "* 분류와 회귀 모두 지원\n",
    "* Non-paramatic model\n",
    "\n",
    "![k nearest neighbor](https://upload.wikimedia.org/wikipedia/commons/thumb/e/e7/KnnClassification.svg/220px-KnnClassification.svg.png)"
   ]
  },
  {
   "cell_type": "code",
   "execution_count": null,
   "metadata": {
    "ExecuteTime": {
     "end_time": "2021-07-07T12:10:34.355140Z",
     "start_time": "2021-07-07T12:07:45.571Z"
    },
    "id": "svnGpXfcXfW5"
   },
   "outputs": [],
   "source": [
    "import pandas as pd\n",
    "import numpy as np\n",
    "import multiprocessing\n",
    "import matplotlib.pyplot as plt\n",
    "plt.style.use(['seaborn-whitegrid'])"
   ]
  },
  {
   "cell_type": "code",
   "execution_count": null,
   "metadata": {
    "ExecuteTime": {
     "end_time": "2021-07-07T12:10:34.356143Z",
     "start_time": "2021-07-07T12:07:45.572Z"
    },
    "id": "x2kel7ZODqtO"
   },
   "outputs": [],
   "source": [
    "from sklearn.neighbors import KNeighborsClassifier, KNeighborsRegressor\n",
    "from sklearn.manifold import TSNE\n",
    "from sklearn.datasets import load_iris, load_breast_cancer, load_wine\n",
    "from sklearn.datasets import load_boston, fetch_california_housing\n",
    "from sklearn.model_selection import train_test_split, GridSearchCV, cross_validate\n",
    "from sklearn.preprocessing import StandardScaler, MinMaxScaler\n",
    "from sklearn.pipeline import make_pipeline, Pipeline"
   ]
  },
  {
   "cell_type": "markdown",
   "metadata": {
    "id": "D8CFyHPobqYh"
   },
   "source": [
    "## K 최근접 이웃 분류\n",
    "\n",
    "* 입력 데이터 포인트와 가장 가까운 k개의 훈련 데이터 포인트가 출력\n",
    "* k개의 데이터 포인트 중 가장 많은 클래스가 예측 결과"
   ]
  },
  {
   "cell_type": "markdown",
   "metadata": {
    "id": "BprG81sWlegb"
   },
   "source": [
    "### 붓꽃 데이터"
   ]
  },
  {
   "cell_type": "code",
   "execution_count": null,
   "metadata": {
    "ExecuteTime": {
     "end_time": "2021-07-07T12:10:34.356143Z",
     "start_time": "2021-07-07T12:07:45.574Z"
    },
    "id": "10ODxzU3m9H2"
   },
   "outputs": [],
   "source": [
    "iris = load_iris()"
   ]
  },
  {
   "cell_type": "code",
   "execution_count": null,
   "metadata": {
    "ExecuteTime": {
     "end_time": "2021-07-07T12:10:34.357142Z",
     "start_time": "2021-07-07T12:07:45.575Z"
    },
    "id": "hJCGT4wanoYb"
   },
   "outputs": [],
   "source": [
    "iris_df = pd.DataFrame(data=iris.data, columns=iris.feature_names)\n",
    "iris_df"
   ]
  },
  {
   "cell_type": "code",
   "execution_count": null,
   "metadata": {
    "ExecuteTime": {
     "end_time": "2021-07-07T12:10:34.357142Z",
     "start_time": "2021-07-07T12:07:45.576Z"
    },
    "id": "BAud-8VXo4wh"
   },
   "outputs": [],
   "source": [
    "X, y = load_iris(return_X_y=True)\n",
    "X_train, X_test, y_train, y_test = train_test_split(X, y, test_size=0.2)"
   ]
  },
  {
   "cell_type": "code",
   "execution_count": null,
   "metadata": {
    "ExecuteTime": {
     "end_time": "2021-07-07T12:10:34.358145Z",
     "start_time": "2021-07-07T12:07:45.577Z"
    },
    "id": "rI00rdHNqnIb"
   },
   "outputs": [],
   "source": [
    "scaler = StandardScaler()\n",
    "# scaler = MinMaxScaler()\n",
    "X_train_scale = scaler.fit_transform(X_train)\n",
    "X_test_scale = scaler.transform(X_test)"
   ]
  },
  {
   "cell_type": "code",
   "execution_count": null,
   "metadata": {
    "ExecuteTime": {
     "end_time": "2021-07-07T12:10:34.358145Z",
     "start_time": "2021-07-07T12:07:45.579Z"
    },
    "id": "j4uOlqY3p40w"
   },
   "outputs": [],
   "source": [
    "model = KNeighborsClassifier()\n",
    "model.fit(X_train, y_train)"
   ]
  },
  {
   "cell_type": "code",
   "execution_count": null,
   "metadata": {
    "ExecuteTime": {
     "end_time": "2021-07-07T12:10:34.358145Z",
     "start_time": "2021-07-07T12:07:45.580Z"
    },
    "id": "YilSBzS7qEth"
   },
   "outputs": [],
   "source": [
    "print(\"학습 데이터 점수: {}\".format(model.score(X_train, y_train)))\n",
    "print(\"평가 데이터 점수: {}\".format(model.score(X_test, y_test)))"
   ]
  },
  {
   "cell_type": "code",
   "execution_count": null,
   "metadata": {
    "ExecuteTime": {
     "end_time": "2021-07-07T12:10:34.359146Z",
     "start_time": "2021-07-07T12:07:45.581Z"
    },
    "id": "ed4b7JFlq9_z"
   },
   "outputs": [],
   "source": [
    "model = KNeighborsClassifier()\n",
    "model.fit(X_train_scale, y_train)"
   ]
  },
  {
   "cell_type": "code",
   "execution_count": null,
   "metadata": {
    "ExecuteTime": {
     "end_time": "2021-07-07T12:10:34.359146Z",
     "start_time": "2021-07-07T12:07:45.583Z"
    },
    "id": "qQwyWWaTrBCH"
   },
   "outputs": [],
   "source": [
    "print(\"학습 데이터 점수: {}\".format(model.score(X_train_scale, y_train)))\n",
    "print(\"평가 데이터 점수: {}\".format(model.score(X_test_scale, y_test)))"
   ]
  },
  {
   "cell_type": "code",
   "execution_count": null,
   "metadata": {
    "ExecuteTime": {
     "end_time": "2021-07-07T12:10:34.360146Z",
     "start_time": "2021-07-07T12:07:45.587Z"
    },
    "id": "1Is-4l_Brd4v"
   },
   "outputs": [],
   "source": [
    "cross_validator = cross_validate(model,\n",
    "                                 X=X, y=y,\n",
    "                                 cv=5,\n",
    "                                 n_jobs=multiprocessing.cpu_count(),\n",
    "                                 verbose=True\n",
    "                                )\n",
    "cross_validator"
   ]
  },
  {
   "cell_type": "code",
   "execution_count": null,
   "metadata": {
    "ExecuteTime": {
     "end_time": "2021-07-07T12:10:34.360146Z",
     "start_time": "2021-07-07T12:07:45.588Z"
    }
   },
   "outputs": [],
   "source": [
    "param_grid = [{ 'n_neighbors': [3, 5, 7],\n",
    "                'weights': ['uniform', 'distance'],\n",
    "                'algorithm': ['ball_tree', 'kd_tree', 'brute']}]\n"
   ]
  },
  {
   "cell_type": "code",
   "execution_count": null,
   "metadata": {
    "ExecuteTime": {
     "end_time": "2021-07-07T12:10:34.361148Z",
     "start_time": "2021-07-07T12:07:45.589Z"
    }
   },
   "outputs": [],
   "source": [
    "# from sklearn.model_selection import GridSearchCV\n",
    "gs = GridSearchCV(\n",
    "          estimator=KNeighborsClassifier(),\n",
    "          param_grid=param_grid,\n",
    "          n_jobs=multiprocessing.cpu_count(),\n",
    "          verbose=True\n",
    "          )"
   ]
  },
  {
   "cell_type": "code",
   "execution_count": null,
   "metadata": {
    "ExecuteTime": {
     "end_time": "2021-07-07T12:10:34.361148Z",
     "start_time": "2021-07-07T12:07:45.590Z"
    },
    "scrolled": true
   },
   "outputs": [],
   "source": [
    "gs.fit(X, y)"
   ]
  },
  {
   "cell_type": "code",
   "execution_count": null,
   "metadata": {
    "ExecuteTime": {
     "end_time": "2021-07-07T12:10:34.361148Z",
     "start_time": "2021-07-07T12:07:45.590Z"
    },
    "id": "Snxw6iGJsEHZ"
   },
   "outputs": [],
   "source": [
    "from sklearn.model_selection import GridSearchCV\n",
    "gs = GridSearchCV(\n",
    "            estimator=KNeighborsClassifier(),\n",
    "            param_grid=param_grid,\n",
    "            n_jobs=multiprocessing.cpu_count(),\n",
    "            verbose=True\n",
    "            )"
   ]
  },
  {
   "cell_type": "code",
   "execution_count": null,
   "metadata": {
    "ExecuteTime": {
     "end_time": "2021-07-07T12:10:34.362149Z",
     "start_time": "2021-07-07T12:07:45.591Z"
    }
   },
   "outputs": [],
   "source": [
    "gs.fit(X, y)"
   ]
  },
  {
   "cell_type": "code",
   "execution_count": null,
   "metadata": {
    "ExecuteTime": {
     "end_time": "2021-07-07T12:10:34.362149Z",
     "start_time": "2021-07-07T12:07:45.592Z"
    }
   },
   "outputs": [],
   "source": [
    "gs.best_estimator_.get_params()"
   ]
  },
  {
   "cell_type": "code",
   "execution_count": null,
   "metadata": {
    "ExecuteTime": {
     "end_time": "2021-07-07T12:10:34.363150Z",
     "start_time": "2021-07-07T12:07:45.593Z"
    },
    "id": "-LfDDNAiv57J"
   },
   "outputs": [],
   "source": [
    "print('GridSearchCV best score:', gs.best_score_)"
   ]
  },
  {
   "cell_type": "code",
   "execution_count": null,
   "metadata": {
    "ExecuteTime": {
     "end_time": "2021-07-07T12:10:34.364151Z",
     "start_time": "2021-07-07T12:07:45.594Z"
    },
    "id": "c0hBhsA5t9gm"
   },
   "outputs": [],
   "source": [
    "def make_meshgrid(x, y, h=.02):\n",
    "    x_min, y_min = x.min()-1, y.min()-1\n",
    "    x_max, y_max = x.max()+1, y.max()+1\n",
    "    xx, yy = np.meshgrid(np.arange(x_min, x_max, h),\n",
    "                         np.arange(y_min, y_max, h))\n",
    "    \n",
    "    return xx, yy\n",
    "\n",
    "def plot_contours(clf, xx, yy, **params):\n",
    "    Z = clf.predict(np.c_[xx.ravel(), yy.ravel()])\n",
    "    Z = Z.reshape(xx.shape)\n",
    "    out = plt.contourf(xx, yy, Z, **params)\n",
    "    \n",
    "    return out"
   ]
  },
  {
   "cell_type": "code",
   "execution_count": null,
   "metadata": {
    "ExecuteTime": {
     "end_time": "2021-07-07T12:10:34.364151Z",
     "start_time": "2021-07-07T12:07:45.594Z"
    },
    "id": "MKvBwrWpu1Pj"
   },
   "outputs": [],
   "source": [
    "tsne = TSNE(n_components=2)\n",
    "X_comp = tsne.fit_transform(X)\n",
    "\n"
   ]
  },
  {
   "cell_type": "code",
   "execution_count": null,
   "metadata": {
    "ExecuteTime": {
     "end_time": "2021-07-07T12:10:34.365149Z",
     "start_time": "2021-07-07T12:07:45.595Z"
    },
    "id": "KlahPPU3ve5o"
   },
   "outputs": [],
   "source": [
    "iris_comp_df = pd.DataFrame(data=X_comp)\n",
    "iris_comp_df['Target'] = y\n",
    "iris_comp_df"
   ]
  },
  {
   "cell_type": "code",
   "execution_count": null,
   "metadata": {
    "ExecuteTime": {
     "end_time": "2021-07-07T12:10:34.365149Z",
     "start_time": "2021-07-07T12:07:45.596Z"
    },
    "id": "eezclwChwRj3"
   },
   "outputs": [],
   "source": [
    "plt.scatter(X_comp[:, 0], X_comp[:, 1],\n",
    "            c=y, cmap=plt.cm.coolwarm, s=20, edgecolors='k');"
   ]
  },
  {
   "cell_type": "code",
   "execution_count": null,
   "metadata": {
    "ExecuteTime": {
     "end_time": "2021-07-07T12:10:34.365149Z",
     "start_time": "2021-07-07T12:07:45.597Z"
    },
    "id": "97WK8W7xwbcD"
   },
   "outputs": [],
   "source": [
    "model =  KNeighborsClassifier()\n",
    "\n",
    "model.fit(X_comp, y)\n",
    "predict = model.predict(X_comp)"
   ]
  },
  {
   "cell_type": "code",
   "execution_count": null,
   "metadata": {
    "ExecuteTime": {
     "end_time": "2021-07-07T12:10:34.366150Z",
     "start_time": "2021-07-07T12:07:45.598Z"
    }
   },
   "outputs": [],
   "source": [
    "xx, yy = make_meshgrid(X_comp[:, 0], X_comp[:, 1])\n",
    "plot_contours(model, xx, yy, cmap=plt.cm.coolwarm, alpha=0.8)\n",
    "plt.scatter(X_comp[:, 0], X_comp[:, 1], c=y, \n",
    "            cmap=plt.cm.coolwarm, s=20, edgecolors='k');"
   ]
  },
  {
   "cell_type": "markdown",
   "metadata": {
    "id": "kO4Tw_xdxrxK"
   },
   "source": [
    "### 유방암 데이터"
   ]
  },
  {
   "cell_type": "code",
   "execution_count": null,
   "metadata": {
    "ExecuteTime": {
     "end_time": "2021-07-07T12:10:34.366150Z",
     "start_time": "2021-07-07T12:07:45.599Z"
    },
    "id": "m6evoryU1lyM"
   },
   "outputs": [],
   "source": [
    "cancer = load_breast_cancer()"
   ]
  },
  {
   "cell_type": "code",
   "execution_count": null,
   "metadata": {
    "ExecuteTime": {
     "end_time": "2021-07-07T12:10:34.367151Z",
     "start_time": "2021-07-07T12:07:45.600Z"
    },
    "id": "v2KjbEk12Ek5"
   },
   "outputs": [],
   "source": [
    "cancer_df = pd.DataFrame(data=cancer.data, columns=cancer.feature_names)\n",
    "cancer_df['target'] = cancer.target\n",
    "cancer_df"
   ]
  },
  {
   "cell_type": "code",
   "execution_count": null,
   "metadata": {
    "ExecuteTime": {
     "end_time": "2021-07-07T12:10:34.367151Z",
     "start_time": "2021-07-07T12:07:45.601Z"
    },
    "id": "PQvMjAQs1mnW"
   },
   "outputs": [],
   "source": [
    "cancer_df.target.value_counts()"
   ]
  },
  {
   "cell_type": "code",
   "execution_count": null,
   "metadata": {
    "ExecuteTime": {
     "end_time": "2021-07-07T12:10:34.368154Z",
     "start_time": "2021-07-07T12:07:45.601Z"
    },
    "id": "yNm_0maP2llw"
   },
   "outputs": [],
   "source": [
    "X, y = cancer.data, cancer.target\n",
    "X_train, X_test, y_train, y_test = train_test_split(X, y , test_size=0.2)\n"
   ]
  },
  {
   "cell_type": "code",
   "execution_count": null,
   "metadata": {
    "ExecuteTime": {
     "end_time": "2021-07-07T12:10:34.368154Z",
     "start_time": "2021-07-07T12:07:45.602Z"
    },
    "id": "sqJYpuiU218G"
   },
   "outputs": [],
   "source": [
    "cancer_train_df = pd.DataFrame(data=X_train, columns=cancer.feature_names)\n",
    "cancer_train_df['target'] = y_train\n",
    "cancer_train_df"
   ]
  },
  {
   "cell_type": "code",
   "execution_count": null,
   "metadata": {
    "ExecuteTime": {
     "end_time": "2021-07-07T12:10:34.369155Z",
     "start_time": "2021-07-07T12:07:45.603Z"
    },
    "id": "sqJYpuiU218G"
   },
   "outputs": [],
   "source": [
    "cancer_test_df = pd.DataFrame(data=X_test, columns=cancer.feature_names)\n",
    "cancer_test_df['target'] = y_test\n",
    "cancer_test_df"
   ]
  },
  {
   "cell_type": "code",
   "execution_count": null,
   "metadata": {
    "ExecuteTime": {
     "end_time": "2021-07-07T12:10:34.369155Z",
     "start_time": "2021-07-07T12:07:45.604Z"
    }
   },
   "outputs": [],
   "source": [
    "cancer_train_df.target.value_counts()"
   ]
  },
  {
   "cell_type": "code",
   "execution_count": null,
   "metadata": {
    "ExecuteTime": {
     "end_time": "2021-07-07T12:10:34.370156Z",
     "start_time": "2021-07-07T12:07:45.604Z"
    },
    "id": "KdqErM1h1nMP"
   },
   "outputs": [],
   "source": [
    "cancer_test_df.target.value_counts()"
   ]
  },
  {
   "cell_type": "code",
   "execution_count": null,
   "metadata": {
    "ExecuteTime": {
     "end_time": "2021-07-07T12:10:34.370156Z",
     "start_time": "2021-07-07T12:07:45.605Z"
    },
    "id": "tcIuzg0-1owj"
   },
   "outputs": [],
   "source": [
    "scaler = StandardScaler()\n",
    "\n",
    "X_train_data = scaler.fit_transform(X_train)\n",
    "X_test_data = scaler.transform(X_test)"
   ]
  },
  {
   "cell_type": "markdown",
   "metadata": {},
   "source": [
    "## 표준화  안된 자료로 모델구성"
   ]
  },
  {
   "cell_type": "code",
   "execution_count": null,
   "metadata": {
    "ExecuteTime": {
     "end_time": "2021-07-07T12:10:34.371155Z",
     "start_time": "2021-07-07T12:07:45.606Z"
    },
    "id": "i17Z0oOK3t8b"
   },
   "outputs": [],
   "source": [
    "model = KNeighborsClassifier()\n",
    "model.fit(X_train, y_train)"
   ]
  },
  {
   "cell_type": "code",
   "execution_count": null,
   "metadata": {
    "ExecuteTime": {
     "end_time": "2021-07-07T12:10:34.371155Z",
     "start_time": "2021-07-07T12:07:45.607Z"
    },
    "id": "VlLOXgFZ3wVR"
   },
   "outputs": [],
   "source": [
    "print(\"학습 데이터 점수: {}\".format(model.score(X_train, y_train)))\n",
    "print(\"평가 데이터 점수: {}\".format(model.score(X_test, y_test)))"
   ]
  },
  {
   "cell_type": "markdown",
   "metadata": {
    "ExecuteTime": {
     "end_time": "2021-07-07T11:20:38.202858Z",
     "start_time": "2021-07-07T11:20:38.198854Z"
    }
   },
   "source": [
    "## 표준화 후 모델구성"
   ]
  },
  {
   "cell_type": "code",
   "execution_count": null,
   "metadata": {
    "ExecuteTime": {
     "end_time": "2021-07-07T12:10:34.372157Z",
     "start_time": "2021-07-07T12:07:45.608Z"
    },
    "id": "fsbDqEkH3zNN"
   },
   "outputs": [],
   "source": [
    "model = KNeighborsClassifier()\n",
    "model.fit(X_train_data, y_train)"
   ]
  },
  {
   "cell_type": "code",
   "execution_count": null,
   "metadata": {
    "ExecuteTime": {
     "end_time": "2021-07-07T12:10:34.372157Z",
     "start_time": "2021-07-07T12:07:45.609Z"
    },
    "id": "yAt5yeNX4NVn"
   },
   "outputs": [],
   "source": [
    "print(\"학습 데이터 점수: {}\".format(model.score(X_train_data, y_train)))\n",
    "print(\"평가 데이터 점수: {}\".format(model.score(X_test_data, y_test)))"
   ]
  },
  {
   "cell_type": "code",
   "execution_count": null,
   "metadata": {
    "ExecuteTime": {
     "end_time": "2021-07-07T12:10:34.373159Z",
     "start_time": "2021-07-07T12:07:45.610Z"
    },
    "id": "_Q18DbEd1oTt"
   },
   "outputs": [],
   "source": [
    "estimator = make_pipeline(\n",
    "            StandardScaler(),\n",
    "            KNeighborsClassifier())\n"
   ]
  },
  {
   "cell_type": "code",
   "execution_count": null,
   "metadata": {
    "ExecuteTime": {
     "end_time": "2021-07-07T12:10:34.373159Z",
     "start_time": "2021-07-07T12:07:45.610Z"
    },
    "id": "t_9qDhbP53Yp"
   },
   "outputs": [],
   "source": [
    "cross_validate( estimator = estimator,\n",
    "               X=X, y=y,\n",
    "               cv=5, \n",
    "               n_jobs = multiprocessing.cpu_count(),\n",
    "               verbose=True)\n"
   ]
  },
  {
   "cell_type": "code",
   "execution_count": null,
   "metadata": {
    "ExecuteTime": {
     "end_time": "2021-07-07T12:10:34.374158Z",
     "start_time": "2021-07-07T12:07:45.611Z"
    },
    "id": "eih3ashG1n_U"
   },
   "outputs": [],
   "source": [
    "pipe = Pipeline( \n",
    "    [('scaler', StandardScaler()),\n",
    "     ('model', KNeighborsClassifier())])\n",
    "\n"
   ]
  },
  {
   "cell_type": "code",
   "execution_count": null,
   "metadata": {
    "ExecuteTime": {
     "end_time": "2021-07-07T12:10:34.374158Z",
     "start_time": "2021-07-07T12:07:45.612Z"
    },
    "id": "yEvpmI4t5ayE"
   },
   "outputs": [],
   "source": [
    "param_grid = [{'model__n_neighbors': [3, 5, 7],\n",
    "               'model__weights': ['uniform', 'distance'],\n",
    "               'model__algorithm': ['ball_tree', 'kd_tree', 'brute']}]\n"
   ]
  },
  {
   "cell_type": "code",
   "execution_count": null,
   "metadata": {
    "ExecuteTime": {
     "end_time": "2021-07-07T12:10:34.375160Z",
     "start_time": "2021-07-07T12:07:45.613Z"
    },
    "id": "o6Hh3mT45eLw"
   },
   "outputs": [],
   "source": [
    "gs = GridSearchCV(estimator= pipe,\n",
    "                  param_grid=param_grid,\n",
    "                  n_jobs=multiprocessing.cpu_count(),\n",
    "                  verbose=True)\n",
    "\n",
    "gs.fit(X, y)"
   ]
  },
  {
   "cell_type": "code",
   "execution_count": null,
   "metadata": {
    "ExecuteTime": {
     "end_time": "2021-07-07T12:10:34.375160Z",
     "start_time": "2021-07-07T12:07:45.614Z"
    },
    "id": "wNuYBM4G5gUT"
   },
   "outputs": [],
   "source": [
    "gs.best_estimator_.get_params()"
   ]
  },
  {
   "cell_type": "code",
   "execution_count": null,
   "metadata": {
    "ExecuteTime": {
     "end_time": "2021-07-07T12:10:34.376162Z",
     "start_time": "2021-07-07T12:07:45.615Z"
    },
    "id": "OTh_pcWK5jb7"
   },
   "outputs": [],
   "source": [
    "print('GridSearchCV best score {}'.format(gs.best_score_))"
   ]
  },
  {
   "cell_type": "code",
   "execution_count": null,
   "metadata": {
    "ExecuteTime": {
     "end_time": "2021-07-07T12:10:34.376162Z",
     "start_time": "2021-07-07T12:07:45.616Z"
    },
    "id": "FNcgeKFZ1nrd"
   },
   "outputs": [],
   "source": [
    "tsne = TSNE(n_components=2)\n",
    "X_comp = tsne.fit_transform(X)"
   ]
  },
  {
   "cell_type": "code",
   "execution_count": null,
   "metadata": {
    "ExecuteTime": {
     "end_time": "2021-07-07T12:10:34.377163Z",
     "start_time": "2021-07-07T12:07:45.617Z"
    },
    "id": "iQoPlWdh6UpR"
   },
   "outputs": [],
   "source": [
    "cancer_comp_df = pd.DataFrame(data=X_comp)\n",
    "cancer_comp_df['target'] = y\n",
    "cancer_comp_df"
   ]
  },
  {
   "cell_type": "code",
   "execution_count": null,
   "metadata": {
    "ExecuteTime": {
     "end_time": "2021-07-07T12:10:34.377163Z",
     "start_time": "2021-07-07T12:07:45.617Z"
    },
    "id": "A3MhD6Jc6X3Q"
   },
   "outputs": [],
   "source": [
    "plt.scatter(X_comp[:, 0], X_comp[:, 1], c=y, cmap=plt.cm.coolwarm, \n",
    "            s= 20 , edgecolors='k');"
   ]
  },
  {
   "cell_type": "code",
   "execution_count": null,
   "metadata": {
    "ExecuteTime": {
     "end_time": "2021-07-07T12:10:34.378163Z",
     "start_time": "2021-07-07T12:07:45.618Z"
    },
    "id": "NJVvI3px6ceB"
   },
   "outputs": [],
   "source": [
    "model = KNeighborsClassifier()\n",
    "model.fit(X_comp, y)\n",
    "predict = model.predict(X_comp)"
   ]
  },
  {
   "cell_type": "code",
   "execution_count": null,
   "metadata": {
    "ExecuteTime": {
     "end_time": "2021-07-07T12:10:34.379163Z",
     "start_time": "2021-07-07T12:07:45.619Z"
    },
    "id": "1ws6Nrmo6gGW"
   },
   "outputs": [],
   "source": [
    "xx, yy = make_meshgrid(X_comp[:, 0], X_comp[:, 1])\n",
    "plot_contours(model, xx, yy, cmap=plt.cm.coolwarm, alpha=0.8)\n",
    "plt.scatter(X_comp[:, 0], X_comp[:, 1], c=y, cmap=plt.cm.coolwarm, \n",
    "            s= 20 , edgecolors='k');"
   ]
  },
  {
   "cell_type": "code",
   "execution_count": null,
   "metadata": {},
   "outputs": [],
   "source": []
  },
  {
   "cell_type": "code",
   "execution_count": null,
   "metadata": {},
   "outputs": [],
   "source": []
  },
  {
   "cell_type": "code",
   "execution_count": null,
   "metadata": {},
   "outputs": [],
   "source": []
  },
  {
   "cell_type": "markdown",
   "metadata": {
    "id": "kO4Tw_xdxrxK"
   },
   "source": [
    "### 와인 데이터"
   ]
  },
  {
   "cell_type": "code",
   "execution_count": null,
   "metadata": {
    "ExecuteTime": {
     "end_time": "2021-07-07T12:10:34.379163Z",
     "start_time": "2021-07-07T12:07:45.622Z"
    },
    "id": "m6evoryU1lyM"
   },
   "outputs": [],
   "source": [
    "wine = load_wine()"
   ]
  },
  {
   "cell_type": "code",
   "execution_count": null,
   "metadata": {
    "ExecuteTime": {
     "end_time": "2021-07-07T12:10:34.380165Z",
     "start_time": "2021-07-07T12:07:45.623Z"
    },
    "id": "v2KjbEk12Ek5"
   },
   "outputs": [],
   "source": [
    "wine_df = pd.DataFrame(data=wine.data, columns=wine.feature_names)\n",
    "wine_df['target'] = cancer.target\n",
    "wine_df"
   ]
  },
  {
   "cell_type": "code",
   "execution_count": null,
   "metadata": {
    "ExecuteTime": {
     "end_time": "2021-07-07T12:10:34.380165Z",
     "start_time": "2021-07-07T12:07:45.623Z"
    },
    "id": "PQvMjAQs1mnW"
   },
   "outputs": [],
   "source": [
    "wine_df.target.value_counts()"
   ]
  },
  {
   "cell_type": "code",
   "execution_count": null,
   "metadata": {
    "ExecuteTime": {
     "end_time": "2021-07-07T12:10:34.381166Z",
     "start_time": "2021-07-07T12:07:45.624Z"
    },
    "id": "yNm_0maP2llw"
   },
   "outputs": [],
   "source": [
    "X, y = wine.data, wine.target\n",
    "X_train, X_test, y_train, y_test = train_test_split(X, y , test_size=0.2)\n"
   ]
  },
  {
   "cell_type": "code",
   "execution_count": null,
   "metadata": {
    "ExecuteTime": {
     "end_time": "2021-07-07T12:10:34.381166Z",
     "start_time": "2021-07-07T12:07:45.625Z"
    },
    "id": "sqJYpuiU218G"
   },
   "outputs": [],
   "source": [
    "wine_train_df = pd.DataFrame(data=X_train, columns=wine.feature_names)\n",
    "wine_train_df['target'] = y_train\n",
    "wine_train_df"
   ]
  },
  {
   "cell_type": "code",
   "execution_count": null,
   "metadata": {
    "ExecuteTime": {
     "end_time": "2021-07-07T12:10:34.382165Z",
     "start_time": "2021-07-07T12:07:45.626Z"
    },
    "id": "sqJYpuiU218G"
   },
   "outputs": [],
   "source": [
    "wine_test_df = pd.DataFrame(data=X_test, columns=cancer.feature_names)\n",
    "wine_test_df['target'] = y_test\n",
    "wine_test_df"
   ]
  },
  {
   "cell_type": "code",
   "execution_count": null,
   "metadata": {
    "ExecuteTime": {
     "end_time": "2021-07-07T12:10:34.382165Z",
     "start_time": "2021-07-07T12:07:45.627Z"
    }
   },
   "outputs": [],
   "source": [
    "wine_train_df.target.value_counts()"
   ]
  },
  {
   "cell_type": "code",
   "execution_count": null,
   "metadata": {
    "ExecuteTime": {
     "end_time": "2021-07-07T12:10:34.383169Z",
     "start_time": "2021-07-07T12:07:45.628Z"
    },
    "id": "KdqErM1h1nMP"
   },
   "outputs": [],
   "source": [
    "wine_test_df.target.value_counts()"
   ]
  },
  {
   "cell_type": "code",
   "execution_count": null,
   "metadata": {
    "ExecuteTime": {
     "end_time": "2021-07-07T12:10:34.383169Z",
     "start_time": "2021-07-07T12:07:45.628Z"
    },
    "id": "tcIuzg0-1owj"
   },
   "outputs": [],
   "source": [
    "scaler = StandardScaler()\n",
    "\n",
    "X_train_data = scaler.fit_transform(X_train)\n",
    "X_test_data = scaler.transform(X_test)"
   ]
  },
  {
   "cell_type": "markdown",
   "metadata": {},
   "source": [
    "## 표준화  안된 자료로 모델구성"
   ]
  },
  {
   "cell_type": "code",
   "execution_count": null,
   "metadata": {
    "ExecuteTime": {
     "end_time": "2021-07-07T12:10:34.383169Z",
     "start_time": "2021-07-07T12:07:45.630Z"
    },
    "id": "i17Z0oOK3t8b"
   },
   "outputs": [],
   "source": [
    "model = KNeighborsClassifier()\n",
    "model.fit(X_train, y_train)"
   ]
  },
  {
   "cell_type": "code",
   "execution_count": null,
   "metadata": {
    "ExecuteTime": {
     "end_time": "2021-07-07T12:10:34.384170Z",
     "start_time": "2021-07-07T12:07:45.630Z"
    },
    "id": "VlLOXgFZ3wVR"
   },
   "outputs": [],
   "source": [
    "print(\"학습 데이터 점수: {}\".format(model.score(X_train, y_train)))\n",
    "print(\"평가 데이터 점수: {}\".format(model.score(X_test, y_test)))"
   ]
  },
  {
   "cell_type": "markdown",
   "metadata": {
    "ExecuteTime": {
     "end_time": "2021-07-07T11:20:38.202858Z",
     "start_time": "2021-07-07T11:20:38.198854Z"
    }
   },
   "source": [
    "## 표준화 후 모델구성"
   ]
  },
  {
   "cell_type": "code",
   "execution_count": null,
   "metadata": {
    "ExecuteTime": {
     "end_time": "2021-07-07T12:10:34.384170Z",
     "start_time": "2021-07-07T12:07:45.631Z"
    },
    "id": "fsbDqEkH3zNN"
   },
   "outputs": [],
   "source": [
    "model = KNeighborsClassifier()\n",
    "model.fit(X_train_data, y_train)"
   ]
  },
  {
   "cell_type": "code",
   "execution_count": null,
   "metadata": {
    "ExecuteTime": {
     "end_time": "2021-07-07T12:10:34.385169Z",
     "start_time": "2021-07-07T12:07:45.632Z"
    },
    "id": "yAt5yeNX4NVn"
   },
   "outputs": [],
   "source": [
    "print(\"학습 데이터 점수: {}\".format(model.score(X_train_data, y_train)))\n",
    "print(\"평가 데이터 점수: {}\".format(model.score(X_test_data, y_test)))"
   ]
  },
  {
   "cell_type": "code",
   "execution_count": null,
   "metadata": {
    "ExecuteTime": {
     "end_time": "2021-07-07T12:10:34.386170Z",
     "start_time": "2021-07-07T12:07:45.633Z"
    },
    "id": "_Q18DbEd1oTt"
   },
   "outputs": [],
   "source": [
    "estimator = make_pipeline(\n",
    "            StandardScaler(),\n",
    "            KNeighborsClassifier())\n"
   ]
  },
  {
   "cell_type": "code",
   "execution_count": null,
   "metadata": {
    "ExecuteTime": {
     "end_time": "2021-07-07T12:10:34.386170Z",
     "start_time": "2021-07-07T12:07:45.634Z"
    },
    "id": "t_9qDhbP53Yp"
   },
   "outputs": [],
   "source": [
    "cross_validate( estimator = estimator,\n",
    "               X=X, y=y,\n",
    "               cv=5, \n",
    "               n_jobs = multiprocessing.cpu_count(),\n",
    "               verbose=True)\n"
   ]
  },
  {
   "cell_type": "code",
   "execution_count": null,
   "metadata": {
    "ExecuteTime": {
     "end_time": "2021-07-07T12:10:34.387171Z",
     "start_time": "2021-07-07T12:07:45.635Z"
    },
    "id": "eih3ashG1n_U"
   },
   "outputs": [],
   "source": [
    "pipe = Pipeline( \n",
    "    [('scaler', StandardScaler()),\n",
    "     ('model', KNeighborsClassifier())])\n",
    "\n"
   ]
  },
  {
   "cell_type": "code",
   "execution_count": null,
   "metadata": {
    "ExecuteTime": {
     "end_time": "2021-07-07T12:10:34.387171Z",
     "start_time": "2021-07-07T12:07:45.635Z"
    },
    "id": "yEvpmI4t5ayE"
   },
   "outputs": [],
   "source": [
    "param_grid = [{'model__n_neighbors': [3, 5, 7],\n",
    "               'model__weights': ['uniform', 'distance'],\n",
    "               'model__algorithm': ['ball_tree', 'kd_tree', 'brute']}]\n"
   ]
  },
  {
   "cell_type": "code",
   "execution_count": null,
   "metadata": {
    "ExecuteTime": {
     "end_time": "2021-07-07T12:10:34.388170Z",
     "start_time": "2021-07-07T12:07:45.636Z"
    },
    "id": "o6Hh3mT45eLw"
   },
   "outputs": [],
   "source": [
    "gs = GridSearchCV(estimator= pipe,\n",
    "                  param_grid=param_grid,\n",
    "                  n_jobs=multiprocessing.cpu_count(),\n",
    "                  verbose=True)\n",
    "\n",
    "gs.fit(X, y)"
   ]
  },
  {
   "cell_type": "code",
   "execution_count": null,
   "metadata": {
    "ExecuteTime": {
     "end_time": "2021-07-07T12:10:34.388170Z",
     "start_time": "2021-07-07T12:07:45.637Z"
    },
    "id": "wNuYBM4G5gUT"
   },
   "outputs": [],
   "source": [
    "gs.best_estimator_.get_params()"
   ]
  },
  {
   "cell_type": "code",
   "execution_count": null,
   "metadata": {
    "ExecuteTime": {
     "end_time": "2021-07-07T12:10:34.389173Z",
     "start_time": "2021-07-07T12:07:45.638Z"
    },
    "id": "OTh_pcWK5jb7"
   },
   "outputs": [],
   "source": [
    "print('GridSearchCV best score {}'.format(gs.best_score_))"
   ]
  },
  {
   "cell_type": "code",
   "execution_count": null,
   "metadata": {
    "ExecuteTime": {
     "end_time": "2021-07-07T12:10:34.389173Z",
     "start_time": "2021-07-07T12:07:45.639Z"
    },
    "id": "FNcgeKFZ1nrd"
   },
   "outputs": [],
   "source": [
    "tsne = TSNE(n_components=2)\n",
    "X_comp = tsne.fit_transform(X)"
   ]
  },
  {
   "cell_type": "code",
   "execution_count": null,
   "metadata": {
    "ExecuteTime": {
     "end_time": "2021-07-07T12:10:34.390172Z",
     "start_time": "2021-07-07T12:07:45.640Z"
    },
    "id": "iQoPlWdh6UpR"
   },
   "outputs": [],
   "source": [
    "wine_comp_df = pd.DataFrame(data=X_comp)\n",
    "wine_comp_df['target'] = y\n",
    "wine_comp_df"
   ]
  },
  {
   "cell_type": "code",
   "execution_count": null,
   "metadata": {
    "ExecuteTime": {
     "end_time": "2021-07-07T12:10:34.390172Z",
     "start_time": "2021-07-07T12:07:45.640Z"
    },
    "id": "A3MhD6Jc6X3Q"
   },
   "outputs": [],
   "source": [
    "plt.scatter(X_comp[:, 0], X_comp[:, 1], c=y, cmap=plt.cm.coolwarm, \n",
    "            s= 20 , edgecolors='k');"
   ]
  },
  {
   "cell_type": "code",
   "execution_count": null,
   "metadata": {
    "ExecuteTime": {
     "end_time": "2021-07-07T12:10:34.391175Z",
     "start_time": "2021-07-07T12:07:45.641Z"
    },
    "id": "NJVvI3px6ceB"
   },
   "outputs": [],
   "source": [
    "model = KNeighborsClassifier()\n",
    "model.fit(X_comp, y)\n",
    "predict = model.predict(X_comp)"
   ]
  },
  {
   "cell_type": "code",
   "execution_count": null,
   "metadata": {
    "ExecuteTime": {
     "end_time": "2021-07-07T12:10:34.391175Z",
     "start_time": "2021-07-07T12:07:45.642Z"
    },
    "id": "1ws6Nrmo6gGW"
   },
   "outputs": [],
   "source": [
    "xx, yy = make_meshgrid(X_comp[:, 0], X_comp[:, 1])\n",
    "plot_contours(model, xx, yy, cmap=plt.cm.coolwarm, alpha=0.8)\n",
    "plt.scatter(X_comp[:, 0], X_comp[:, 1], c=y, cmap=plt.cm.coolwarm, \n",
    "            s= 20 , edgecolors='k');"
   ]
  },
  {
   "cell_type": "markdown",
   "metadata": {
    "id": "YE7NMnwI7QGz"
   },
   "source": [
    "## k 최근접 이웃 회귀\n",
    "\n",
    "* k 최근접 이웃 분류와 마찬가지로 예측에 이웃 데이터 포인트 사용\n",
    "* 이웃 데이터 포인트의 평균이 예측 결과"
   ]
  },
  {
   "cell_type": "markdown",
   "metadata": {
    "id": "L5pfum_T7WZ5"
   },
   "source": [
    "### 보스턴 주택 가격 데이터"
   ]
  },
  {
   "cell_type": "code",
   "execution_count": null,
   "metadata": {
    "ExecuteTime": {
     "end_time": "2021-07-07T12:10:34.392174Z",
     "start_time": "2021-07-07T12:07:45.644Z"
    },
    "id": "Cyx9kp2q8iMe"
   },
   "outputs": [],
   "source": [
    "boston = load_boston()"
   ]
  },
  {
   "cell_type": "code",
   "execution_count": null,
   "metadata": {
    "ExecuteTime": {
     "end_time": "2021-07-07T12:10:34.392174Z",
     "start_time": "2021-07-07T12:07:45.645Z"
    },
    "id": "izbZUMVS8lnN"
   },
   "outputs": [],
   "source": [
    "boston_df = pd.DataFrame(data=boston.data, columns=boston.feature_names)\n",
    "boston_df['Target'] = boston.target\n",
    "boston_df"
   ]
  },
  {
   "cell_type": "code",
   "execution_count": null,
   "metadata": {
    "ExecuteTime": {
     "end_time": "2021-07-07T12:10:34.393177Z",
     "start_time": "2021-07-07T12:07:45.646Z"
    },
    "id": "iHws6emj81kp"
   },
   "outputs": [],
   "source": [
    "X, y = boston.data, boston.target\n",
    "X_train, X_test, y_train, y_test = train_test_split(X, y,test_size=0.2)"
   ]
  },
  {
   "cell_type": "code",
   "execution_count": null,
   "metadata": {
    "ExecuteTime": {
     "end_time": "2021-07-07T12:10:34.393177Z",
     "start_time": "2021-07-07T12:07:45.647Z"
    },
    "id": "Cp-WqutF9kjF"
   },
   "outputs": [],
   "source": [
    "scaler = StandardScaler()\n",
    "X_train_scale = scaler.fit_transform(X_train)\n",
    "X_test_scale= scaler.transform(X_test)"
   ]
  },
  {
   "cell_type": "code",
   "execution_count": null,
   "metadata": {
    "ExecuteTime": {
     "end_time": "2021-07-07T12:10:34.394176Z",
     "start_time": "2021-07-07T12:07:45.647Z"
    },
    "id": "nUQDbwd692qF"
   },
   "outputs": [],
   "source": [
    "model = KNeighborsRegressor()\n",
    "model.fit(X_train, y_train)"
   ]
  },
  {
   "cell_type": "code",
   "execution_count": null,
   "metadata": {
    "ExecuteTime": {
     "end_time": "2021-07-07T12:10:34.394176Z",
     "start_time": "2021-07-07T12:07:45.648Z"
    },
    "id": "VpdP6eeW_KFB"
   },
   "outputs": [],
   "source": [
    "print(\"학습 데이터 점수: {}\".format(model.score(X_train, y_train)))\n",
    "print(\"학습 데이터 점수: {}\".format(model.score(X_test, y_test)))\n"
   ]
  },
  {
   "cell_type": "code",
   "execution_count": null,
   "metadata": {
    "ExecuteTime": {
     "end_time": "2021-07-07T12:10:34.395178Z",
     "start_time": "2021-07-07T12:07:45.649Z"
    },
    "id": "cSKGUaSp_VaT"
   },
   "outputs": [],
   "source": [
    "model = KNeighborsRegressor()\n",
    "model.fit(X_train_scale, y_train)"
   ]
  },
  {
   "cell_type": "code",
   "execution_count": null,
   "metadata": {
    "ExecuteTime": {
     "end_time": "2021-07-07T12:10:34.396178Z",
     "start_time": "2021-07-07T12:07:45.650Z"
    },
    "id": "UYzm6TnO_e2H"
   },
   "outputs": [],
   "source": [
    "print(\"학습 데이터 점수: {}\".format(model.score(X_train_scale, y_train)))\n",
    "print(\"학습 데이터 점수: {}\".format(model.score(X_test_scale, y_test)))\n"
   ]
  },
  {
   "cell_type": "code",
   "execution_count": null,
   "metadata": {
    "ExecuteTime": {
     "end_time": "2021-07-07T12:10:34.396178Z",
     "start_time": "2021-07-07T12:07:45.651Z"
    },
    "id": "_Q18DbEd1oTt"
   },
   "outputs": [],
   "source": [
    "estimator = make_pipeline(\n",
    "            StandardScaler(),\n",
    "            KNeighborsRegressor())\n"
   ]
  },
  {
   "cell_type": "code",
   "execution_count": null,
   "metadata": {
    "ExecuteTime": {
     "end_time": "2021-07-07T12:10:34.397180Z",
     "start_time": "2021-07-07T12:07:45.652Z"
    },
    "id": "t_9qDhbP53Yp"
   },
   "outputs": [],
   "source": [
    "cross_validate( estimator = estimator,\n",
    "               X=X, y=y,\n",
    "               cv=5, \n",
    "               n_jobs = multiprocessing.cpu_count(),\n",
    "               verbose=True)\n"
   ]
  },
  {
   "cell_type": "code",
   "execution_count": null,
   "metadata": {
    "ExecuteTime": {
     "end_time": "2021-07-07T12:10:34.397180Z",
     "start_time": "2021-07-07T12:07:45.653Z"
    },
    "id": "eih3ashG1n_U"
   },
   "outputs": [],
   "source": [
    "pipe = Pipeline( \n",
    "    [('scaler', StandardScaler()),\n",
    "     ('model', KNeighborsRegressor())])\n",
    "\n"
   ]
  },
  {
   "cell_type": "code",
   "execution_count": null,
   "metadata": {
    "ExecuteTime": {
     "end_time": "2021-07-07T12:10:34.398182Z",
     "start_time": "2021-07-07T12:07:45.653Z"
    },
    "id": "yEvpmI4t5ayE"
   },
   "outputs": [],
   "source": [
    "param_grid = [{'model__n_neighbors': [3, 5, 7],\n",
    "               'model__weights': ['uniform', 'distance'],\n",
    "               'model__algorithm': ['ball_tree', 'kd_tree', 'brute']}]\n"
   ]
  },
  {
   "cell_type": "code",
   "execution_count": null,
   "metadata": {
    "ExecuteTime": {
     "end_time": "2021-07-07T12:10:34.398182Z",
     "start_time": "2021-07-07T12:07:45.654Z"
    },
    "id": "o6Hh3mT45eLw"
   },
   "outputs": [],
   "source": [
    "gs = GridSearchCV(estimator= pipe,\n",
    "                  param_grid=param_grid,\n",
    "                  n_jobs=multiprocessing.cpu_count(),\n",
    "                  verbose=True)\n",
    "\n",
    "gs.fit(X, y)"
   ]
  },
  {
   "cell_type": "code",
   "execution_count": null,
   "metadata": {
    "ExecuteTime": {
     "end_time": "2021-07-07T12:10:34.399182Z",
     "start_time": "2021-07-07T12:07:45.655Z"
    },
    "id": "wNuYBM4G5gUT"
   },
   "outputs": [],
   "source": [
    "gs.best_estimator_.get_params()"
   ]
  },
  {
   "cell_type": "code",
   "execution_count": null,
   "metadata": {
    "ExecuteTime": {
     "end_time": "2021-07-07T12:10:34.399182Z",
     "start_time": "2021-07-07T12:07:45.656Z"
    },
    "id": "OTh_pcWK5jb7"
   },
   "outputs": [],
   "source": [
    "print('GridSearchCV best score {}'.format(gs.best_score_))"
   ]
  },
  {
   "cell_type": "code",
   "execution_count": null,
   "metadata": {
    "ExecuteTime": {
     "end_time": "2021-07-07T12:10:34.400183Z",
     "start_time": "2021-07-07T12:07:45.657Z"
    },
    "id": "FNcgeKFZ1nrd"
   },
   "outputs": [],
   "source": [
    "tsne = TSNE(n_components=1)\n",
    "X_comp = tsne.fit_transform(X)"
   ]
  },
  {
   "cell_type": "code",
   "execution_count": null,
   "metadata": {
    "ExecuteTime": {
     "end_time": "2021-07-07T12:10:34.400183Z",
     "start_time": "2021-07-07T12:07:45.658Z"
    },
    "id": "iQoPlWdh6UpR"
   },
   "outputs": [],
   "source": [
    "boston_comp_df = pd.DataFrame(data=X_comp)\n",
    "boston_comp_df['target'] = y\n",
    "boston_comp_df"
   ]
  },
  {
   "cell_type": "code",
   "execution_count": null,
   "metadata": {
    "ExecuteTime": {
     "end_time": "2021-07-07T12:10:34.401184Z",
     "start_time": "2021-07-07T12:07:45.659Z"
    },
    "id": "A3MhD6Jc6X3Q"
   },
   "outputs": [],
   "source": [
    "plt.scatter(X_comp, y, c='b', cmap=plt.cm.coolwarm, \n",
    "            s= 20 , edgecolors='k');"
   ]
  },
  {
   "cell_type": "code",
   "execution_count": null,
   "metadata": {
    "ExecuteTime": {
     "end_time": "2021-07-07T12:10:34.401184Z",
     "start_time": "2021-07-07T12:07:45.659Z"
    },
    "id": "NJVvI3px6ceB"
   },
   "outputs": [],
   "source": [
    "model = KNeighborsRegressor()\n",
    "model.fit(X_comp, y)\n",
    "predict = model.predict(X_comp)"
   ]
  },
  {
   "cell_type": "code",
   "execution_count": null,
   "metadata": {
    "ExecuteTime": {
     "end_time": "2021-07-07T12:10:34.402183Z",
     "start_time": "2021-07-07T12:07:45.660Z"
    },
    "id": "1ws6Nrmo6gGW"
   },
   "outputs": [],
   "source": [
    "plt.scatter(X_comp, y, c='b', cmap=plt.cm.coolwarm, \n",
    "            s= 20 , edgecolors='k')\n",
    "plt.scatter(X_comp, predict, c='r', cmap=plt.cm.coolwarm, \n",
    "            s= 20 , edgecolors='k');"
   ]
  },
  {
   "cell_type": "markdown",
   "metadata": {
    "id": "wiJPOXS37WGG"
   },
   "source": [
    "### 캘리포니아 주택 가격 데이터"
   ]
  },
  {
   "cell_type": "code",
   "execution_count": null,
   "metadata": {
    "ExecuteTime": {
     "end_time": "2021-07-07T12:10:34.402183Z",
     "start_time": "2021-07-07T12:07:45.662Z"
    },
    "id": "Cyx9kp2q8iMe"
   },
   "outputs": [],
   "source": [
    "california = fetch_california_housing()"
   ]
  },
  {
   "cell_type": "code",
   "execution_count": null,
   "metadata": {
    "ExecuteTime": {
     "end_time": "2021-07-07T12:10:34.403185Z",
     "start_time": "2021-07-07T12:07:45.662Z"
    },
    "id": "izbZUMVS8lnN"
   },
   "outputs": [],
   "source": [
    "california_df = pd.DataFrame(data=california.data, columns=california.feature_names)\n",
    "california_df['Target'] = california.target\n",
    "california_df"
   ]
  },
  {
   "cell_type": "code",
   "execution_count": null,
   "metadata": {
    "ExecuteTime": {
     "end_time": "2021-07-07T12:10:34.403185Z",
     "start_time": "2021-07-07T12:07:45.663Z"
    },
    "id": "iHws6emj81kp"
   },
   "outputs": [],
   "source": [
    "X, y = california.data, california.target\n",
    "X_train, X_test, y_train, y_test = train_test_split(X, y,test_size=0.2)"
   ]
  },
  {
   "cell_type": "code",
   "execution_count": null,
   "metadata": {
    "ExecuteTime": {
     "end_time": "2021-07-07T12:10:34.404187Z",
     "start_time": "2021-07-07T12:07:45.664Z"
    },
    "id": "Cp-WqutF9kjF"
   },
   "outputs": [],
   "source": [
    "scaler = StandardScaler()\n",
    "X_train_scale = scaler.fit_transform(X_train)\n",
    "X_test_scale= scaler.transform(X_test)"
   ]
  },
  {
   "cell_type": "code",
   "execution_count": null,
   "metadata": {
    "ExecuteTime": {
     "end_time": "2021-07-07T12:10:34.404187Z",
     "start_time": "2021-07-07T12:07:45.665Z"
    },
    "id": "nUQDbwd692qF"
   },
   "outputs": [],
   "source": [
    "model = KNeighborsRegressor()\n",
    "model.fit(X_train, y_train)"
   ]
  },
  {
   "cell_type": "code",
   "execution_count": null,
   "metadata": {
    "ExecuteTime": {
     "end_time": "2021-07-07T12:10:34.405188Z",
     "start_time": "2021-07-07T12:07:45.666Z"
    },
    "id": "VpdP6eeW_KFB"
   },
   "outputs": [],
   "source": [
    "print(\"학습 데이터 점수: {}\".format(model.score(X_train, y_train)))\n",
    "print(\"학습 데이터 점수: {}\".format(model.score(X_test, y_test)))\n"
   ]
  },
  {
   "cell_type": "code",
   "execution_count": null,
   "metadata": {
    "ExecuteTime": {
     "end_time": "2021-07-07T12:10:34.405188Z",
     "start_time": "2021-07-07T12:07:45.667Z"
    },
    "id": "cSKGUaSp_VaT"
   },
   "outputs": [],
   "source": [
    "model = KNeighborsRegressor()\n",
    "model.fit(X_train_scale, y_train)"
   ]
  },
  {
   "cell_type": "code",
   "execution_count": null,
   "metadata": {
    "ExecuteTime": {
     "end_time": "2021-07-07T12:10:34.406189Z",
     "start_time": "2021-07-07T12:07:45.667Z"
    },
    "id": "UYzm6TnO_e2H"
   },
   "outputs": [],
   "source": [
    "print(\"학습 데이터 점수: {}\".format(model.score(X_train_scale, y_train)))\n",
    "print(\"학습 데이터 점수: {}\".format(model.score(X_test_scale, y_test)))\n"
   ]
  },
  {
   "cell_type": "code",
   "execution_count": null,
   "metadata": {
    "ExecuteTime": {
     "end_time": "2021-07-07T12:10:34.406189Z",
     "start_time": "2021-07-07T12:07:45.668Z"
    },
    "id": "_Q18DbEd1oTt"
   },
   "outputs": [],
   "source": [
    "estimator = make_pipeline(\n",
    "            StandardScaler(),\n",
    "            KNeighborsRegressor())\n"
   ]
  },
  {
   "cell_type": "code",
   "execution_count": null,
   "metadata": {
    "ExecuteTime": {
     "end_time": "2021-07-07T12:10:34.407188Z",
     "start_time": "2021-07-07T12:07:45.669Z"
    },
    "id": "t_9qDhbP53Yp"
   },
   "outputs": [],
   "source": [
    "cross_validate( estimator = estimator,\n",
    "               X=X, y=y,\n",
    "               cv=5, \n",
    "               n_jobs = multiprocessing.cpu_count(),\n",
    "               verbose=True)\n"
   ]
  },
  {
   "cell_type": "code",
   "execution_count": null,
   "metadata": {
    "ExecuteTime": {
     "end_time": "2021-07-07T12:10:34.407188Z",
     "start_time": "2021-07-07T12:07:45.670Z"
    },
    "id": "eih3ashG1n_U"
   },
   "outputs": [],
   "source": [
    "pipe = Pipeline( \n",
    "    [('scaler', StandardScaler()),\n",
    "     ('model', KNeighborsRegressor())])\n",
    "\n"
   ]
  },
  {
   "cell_type": "code",
   "execution_count": null,
   "metadata": {
    "ExecuteTime": {
     "end_time": "2021-07-07T12:10:34.408190Z",
     "start_time": "2021-07-07T12:07:45.671Z"
    },
    "id": "yEvpmI4t5ayE"
   },
   "outputs": [],
   "source": [
    "param_grid = [{'model__n_neighbors': [ 9, 11, 13, 15],\n",
    "               'model__weights': ['uniform', 'distance'],\n",
    "               'model__algorithm': ['ball_tree', 'kd_tree', 'brute']}]\n"
   ]
  },
  {
   "cell_type": "code",
   "execution_count": null,
   "metadata": {
    "ExecuteTime": {
     "end_time": "2021-07-07T12:10:34.408190Z",
     "start_time": "2021-07-07T12:07:45.671Z"
    },
    "id": "o6Hh3mT45eLw"
   },
   "outputs": [],
   "source": [
    "gs = GridSearchCV(estimator= pipe,\n",
    "                  param_grid=param_grid,\n",
    "                  n_jobs=multiprocessing.cpu_count(),\n",
    "                  verbose=True)\n",
    "\n",
    "gs.fit(X, y)\n"
   ]
  },
  {
   "cell_type": "code",
   "execution_count": null,
   "metadata": {
    "ExecuteTime": {
     "end_time": "2021-07-07T12:10:34.409190Z",
     "start_time": "2021-07-07T12:07:45.672Z"
    },
    "id": "wNuYBM4G5gUT"
   },
   "outputs": [],
   "source": [
    "gs.best_estimator_.get_params()"
   ]
  },
  {
   "cell_type": "code",
   "execution_count": null,
   "metadata": {
    "ExecuteTime": {
     "end_time": "2021-07-07T12:10:34.409190Z",
     "start_time": "2021-07-07T12:07:45.673Z"
    },
    "id": "OTh_pcWK5jb7"
   },
   "outputs": [],
   "source": [
    "print('GridSearchCV best score {}'.format(gs.best_score_))"
   ]
  },
  {
   "cell_type": "code",
   "execution_count": null,
   "metadata": {
    "ExecuteTime": {
     "end_time": "2021-07-07T12:10:34.410192Z",
     "start_time": "2021-07-07T12:07:45.674Z"
    },
    "id": "FNcgeKFZ1nrd"
   },
   "outputs": [],
   "source": [
    "tsne = TSNE(n_components=1)\n",
    "X_comp = tsne.fit_transform(X)"
   ]
  },
  {
   "cell_type": "code",
   "execution_count": null,
   "metadata": {
    "ExecuteTime": {
     "end_time": "2021-07-07T12:10:34.410192Z",
     "start_time": "2021-07-07T12:07:45.675Z"
    },
    "id": "iQoPlWdh6UpR"
   },
   "outputs": [],
   "source": [
    "california_comp_df = pd.DataFrame(data=X_comp)\n",
    "california_comp_df['target'] = y\n",
    "california_comp_df"
   ]
  },
  {
   "cell_type": "code",
   "execution_count": null,
   "metadata": {
    "ExecuteTime": {
     "end_time": "2021-07-07T12:10:34.411193Z",
     "start_time": "2021-07-07T12:07:45.676Z"
    },
    "id": "A3MhD6Jc6X3Q"
   },
   "outputs": [],
   "source": [
    "plt.scatter(X_comp, y, c='b', cmap=plt.cm.coolwarm, \n",
    "            s= 20 , edgecolors='k');"
   ]
  },
  {
   "cell_type": "code",
   "execution_count": null,
   "metadata": {
    "ExecuteTime": {
     "end_time": "2021-07-07T12:10:34.412194Z",
     "start_time": "2021-07-07T12:07:45.676Z"
    },
    "id": "NJVvI3px6ceB"
   },
   "outputs": [],
   "source": [
    "model = KNeighborsRegressor()\n",
    "model.fit(X_comp, y)\n",
    "predict = model.predict(X_comp)"
   ]
  },
  {
   "cell_type": "code",
   "execution_count": null,
   "metadata": {
    "ExecuteTime": {
     "end_time": "2021-07-07T12:10:34.412194Z",
     "start_time": "2021-07-07T12:07:45.677Z"
    },
    "id": "1ws6Nrmo6gGW"
   },
   "outputs": [],
   "source": [
    "plt.scatter(X_comp, y, c='b', cmap=plt.cm.coolwarm, \n",
    "            s= 20 , edgecolors='k')\n",
    "plt.scatter(X_comp, predict, c='r', cmap=plt.cm.coolwarm, \n",
    "            s= 20 , edgecolors='k');"
   ]
  }
 ],
 "metadata": {
  "colab": {
   "collapsed_sections": [],
   "name": "_6 최근접 이웃(K-Nearest Neighbor).ipynb",
   "provenance": [],
   "toc_visible": true
  },
  "kernelspec": {
   "display_name": "Python 3",
   "language": "python",
   "name": "python3"
  },
  "language_info": {
   "codemirror_mode": {
    "name": "ipython",
    "version": 3
   },
   "file_extension": ".py",
   "mimetype": "text/x-python",
   "name": "python",
   "nbconvert_exporter": "python",
   "pygments_lexer": "ipython3",
   "version": "3.8.5"
  },
  "toc": {
   "base_numbering": 1,
   "nav_menu": {},
   "number_sections": true,
   "sideBar": true,
   "skip_h1_title": false,
   "title_cell": "Table of Contents",
   "title_sidebar": "Contents",
   "toc_cell": false,
   "toc_position": {
    "height": "calc(100% - 180px)",
    "left": "10px",
    "top": "150px",
    "width": "249.198px"
   },
   "toc_section_display": true,
   "toc_window_display": false
  }
 },
 "nbformat": 4,
 "nbformat_minor": 1
}
