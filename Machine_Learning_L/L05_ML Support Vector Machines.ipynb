{
 "cells": [
  {
   "cell_type": "markdown",
   "metadata": {
    "id": "g63soNOvFUSa"
   },
   "source": [
    "# 서포트 벡터 머신(Support Vector Machines)"
   ]
  },
  {
   "cell_type": "markdown",
   "metadata": {
    "id": "Rrbp02Mk5CDA"
   },
   "source": [
    "* 회귀, 분류, 이상치 탐지 등에 사용되는 지도학습 방법\n",
    "* 클래스 사이의 경계에 위치한 데이터 포인트를 서포트 벡터(support vector)라고 함\n",
    "* 각 지지 벡터가 클래스 사이의 결정 경계를 구분하는데 얼마나 중요한지를 학습\n",
    "* 각 지지 벡터 사이의 마진이 가장 큰 방향으로 학습\n",
    "* 지지 벡터 까지의 거리와 지지 벡터의 중요도를 기반으로 예측을 수행\n",
    "\n",
    "![support vector machine](https://upload.wikimedia.org/wikipedia/commons/thumb/2/20/Svm_separating_hyperplanes.png/220px-Svm_separating_hyperplanes.png)\n",
    "\n",
    "* H3은 두 클래스의 점들을 제대로 분류하고 있지 않음\n",
    "* H1과 H2는 두 클래스의 점들을 분류하는데, H2가 H1보다 더 큰 마진을 갖고 분류하는 것을 확인할 수 있음"
   ]
  },
  {
   "cell_type": "code",
   "execution_count": 155,
   "metadata": {
    "ExecuteTime": {
     "end_time": "2021-07-04T15:32:23.112535Z",
     "start_time": "2021-07-04T15:32:23.101523Z"
    },
    "id": "zBilnkAn4_U3"
   },
   "outputs": [],
   "source": [
    "import multiprocessing\n",
    "import pandas as pd\n",
    "import numpy as np\n",
    "import matplotlib.pyplot as plt\n",
    "plt.style.use(['seaborn-whitegrid'])"
   ]
  },
  {
   "cell_type": "code",
   "execution_count": 156,
   "metadata": {
    "ExecuteTime": {
     "end_time": "2021-07-04T15:32:23.127548Z",
     "start_time": "2021-07-04T15:32:23.113534Z"
    },
    "id": "1YRJRPy6hTe0"
   },
   "outputs": [],
   "source": [
    "# SVR : Regrresion, SVC : Classfication\n",
    "from sklearn.svm import SVR, SVC\n",
    "from sklearn.datasets import load_boston, load_diabetes\n",
    "from sklearn.datasets import load_breast_cancer, load_iris, load_wine\n",
    "from sklearn.pipeline import make_pipeline, Pipeline\n",
    "from sklearn.model_selection import train_test_split, cross_validate, GridSearchCV\n",
    "from sklearn.preprocessing import StandardScaler, MinMaxScaler\n",
    "from sklearn.manifold import TSNE\n"
   ]
  },
  {
   "cell_type": "markdown",
   "metadata": {
    "id": "UxS0mPsCh4l0"
   },
   "source": [
    "## SVM을 이용한 회귀 모델과 분류 모델\n",
    "\n",
    " SVR : Regrresion, SVC : Classfication"
   ]
  },
  {
   "cell_type": "markdown",
   "metadata": {
    "id": "NTtcx3p8wtNX"
   },
   "source": [
    "### SVM을 사용한 회귀 모델 (SVR)"
   ]
  },
  {
   "cell_type": "code",
   "execution_count": 157,
   "metadata": {
    "ExecuteTime": {
     "end_time": "2021-07-04T15:32:23.142562Z",
     "start_time": "2021-07-04T15:32:23.128547Z"
    },
    "id": "sCrhSrMf5BqB"
   },
   "outputs": [
    {
     "name": "stdout",
     "output_type": "stream",
     "text": [
      "학습 데이터 점수: 0.2177283706374875\n",
      "평가 데이터 점수: 0.13544178468518187\n"
     ]
    }
   ],
   "source": [
    "X, y = load_boston(return_X_y=True)\n",
    "X_train, X_test, y_train, y_test = train_test_split(X, y, random_state=123)\n",
    "\n",
    "model = SVR()\n",
    "model.fit(X_train, y_train)\n",
    "\n",
    "print(\"학습 데이터 점수: {}\".format(model.score(X_train, y_train)))\n",
    "print(\"평가 데이터 점수: {}\".format(model.score(X_test, y_test)))\n"
   ]
  },
  {
   "cell_type": "markdown",
   "metadata": {
    "id": "CQraX6MzwvtE"
   },
   "source": [
    "### SVM을 사용한 분류 모델 (SVC)"
   ]
  },
  {
   "cell_type": "code",
   "execution_count": 158,
   "metadata": {
    "ExecuteTime": {
     "end_time": "2021-07-04T15:32:23.157574Z",
     "start_time": "2021-07-04T15:32:23.143561Z"
    },
    "id": "bnh5fS8gFbtK"
   },
   "outputs": [
    {
     "name": "stdout",
     "output_type": "stream",
     "text": [
      "학습 데이터 점수: 0.9014084507042254\n",
      "평가 데이터 점수: 0.9230769230769231\n"
     ]
    }
   ],
   "source": [
    "X, y = load_breast_cancer(return_X_y=True)\n",
    "X_train, X_test, y_train, y_test = train_test_split(X, y, random_state=123)\n",
    "\n",
    "\n",
    "model = SVC()\n",
    "model.fit(X_train, y_train)\n",
    "\n",
    "print(\"학습 데이터 점수: {}\".format(model.score(X_train, y_train)))\n",
    "print(\"평가 데이터 점수: {}\".format(model.score(X_test, y_test)))\n"
   ]
  },
  {
   "cell_type": "markdown",
   "metadata": {
    "id": "zgd_dvKrGeFh"
   },
   "source": [
    "## 커널 기법\n",
    "\n",
    "* 입력 데이터를 고차원 공간에 사상해서 비선형 특징을 학습할 수 있도록 확장하는 방법\n",
    "* scikit-learn에서는 Linear, Polynomial, RBF(Radial Basis Function)등 다양한 커널 기법을 지원\n",
    "\n",
    "![kernel trick](https://scikit-learn.org/stable/_images/sphx_glr_plot_iris_svc_0011.png)"
   ]
  },
  {
   "cell_type": "code",
   "execution_count": 159,
   "metadata": {
    "ExecuteTime": {
     "end_time": "2021-07-04T15:32:24.839985Z",
     "start_time": "2021-07-04T15:32:23.158576Z"
    },
    "id": "Azq1UJtZF8sU"
   },
   "outputs": [
    {
     "name": "stdout",
     "output_type": "stream",
     "text": [
      "Linear SVR 학습 데이터 점수: 0.715506620496448\n",
      "Linear SVR 평가 데이터 점수: 0.6380398541506058\n",
      "Linear SVR 학습 데이터 점수: 0.2024454261446289\n",
      "Linear SVR 평가 데이터 점수: 0.133668450367462\n",
      "Linear SVR 학습 데이터 점수: 0.2177283706374875\n",
      "Linear SVR 평가 데이터 점수: 0.13544178468518187\n"
     ]
    }
   ],
   "source": [
    "X, y = load_boston(return_X_y=True)\n",
    "X_train, X_test, y_train, y_test = train_test_split(X, y, random_state=123)\n",
    "\n",
    "linear_svr = SVR(kernel='linear')\n",
    "linear_svr.fit(X_train, y_train)\n",
    "\n",
    "print(\"Linear SVR 학습 데이터 점수: {}\".format(linear_svr.score(X_train, y_train)))\n",
    "print(\"Linear SVR 평가 데이터 점수: {}\".format(linear_svr.score(X_test, y_test)))\n",
    "\n",
    "polynomial_svr = SVR(kernel='poly')\n",
    "polynomial_svr.fit(X_train, y_train)\n",
    "\n",
    "print(\"Linear SVR 학습 데이터 점수: {}\".format(polynomial_svr.score(X_train, y_train)))\n",
    "print(\"Linear SVR 평가 데이터 점수: {}\".format(polynomial_svr.score(X_test, y_test)))\n",
    "\n",
    "rbf_svr = SVR(kernel='rbf') # default\n",
    "rbf_svr.fit(X_train, y_train)\n",
    "\n",
    "print(\"Linear SVR 학습 데이터 점수: {}\".format(rbf_svr.score(X_train, y_train)))\n",
    "print(\"Linear SVR 평가 데이터 점수: {}\".format(rbf_svr.score(X_test, y_test)))\n"
   ]
  },
  {
   "cell_type": "code",
   "execution_count": 160,
   "metadata": {
    "ExecuteTime": {
     "end_time": "2021-07-04T15:32:25.200607Z",
     "start_time": "2021-07-04T15:32:24.840987Z"
    },
    "id": "KuvRIzarJO0H"
   },
   "outputs": [
    {
     "name": "stdout",
     "output_type": "stream",
     "text": [
      "Linear SVC 학습 데이터 점수: 0.960093896713615\n",
      "Linear SVC 평가 데이터 점수: 0.986013986013986\n",
      "Linear SVC 학습 데이터 점수: 0.9014084507042254\n",
      "Linear SVC 평가 데이터 점수: 0.9230769230769231\n",
      "Linear SVC 학습 데이터 점수: 0.9014084507042254\n",
      "Linear SVC 평가 데이터 점수: 0.9230769230769231\n"
     ]
    }
   ],
   "source": [
    "X, y = load_breast_cancer(return_X_y=True)\n",
    "X_train, X_test, y_train, y_test = train_test_split(X, y, random_state=123)\n",
    "\n",
    "linear_svc = SVC(kernel='linear')\n",
    "linear_svc.fit(X_train, y_train)\n",
    "\n",
    "print(\"Linear SVC 학습 데이터 점수: {}\".format(linear_svc.score(X_train, y_train)))\n",
    "print(\"Linear SVC 평가 데이터 점수: {}\".format(linear_svc.score(X_test, y_test)))\n",
    "\n",
    "polynomial_svc = SVC(kernel='poly')\n",
    "polynomial_svc.fit(X_train, y_train)\n",
    "\n",
    "print(\"Linear SVC 학습 데이터 점수: {}\".format(polynomial_svc.score(X_train, y_train)))\n",
    "print(\"Linear SVC 평가 데이터 점수: {}\".format(polynomial_svc.score(X_test, y_test)))\n",
    "\n",
    "rbf_svc = SVC(kernel='rbf') # default\n",
    "rbf_svc.fit(X_train, y_train)\n",
    "\n",
    "print(\"Linear SVC 학습 데이터 점수: {}\".format(rbf_svc.score(X_train, y_train)))\n",
    "print(\"Linear SVC 평가 데이터 점수: {}\".format(rbf_svc.score(X_test, y_test)))\n"
   ]
  },
  {
   "cell_type": "markdown",
   "metadata": {
    "id": "ysbUu5o3Lm2V"
   },
   "source": [
    "## 매개변수 튜닝\n",
    "\n",
    "* SVM은 사용하는 커널에 따라 다양한 매개변수 설정 가능\n",
    "* 매개변수를 변경하면서 성능변화를 관찰"
   ]
  },
  {
   "cell_type": "code",
   "execution_count": 161,
   "metadata": {
    "ExecuteTime": {
     "end_time": "2021-07-04T15:32:25.215540Z",
     "start_time": "2021-07-04T15:32:25.201612Z"
    },
    "id": "JyCxM4abOZyO"
   },
   "outputs": [],
   "source": [
    "X, y = load_breast_cancer(return_X_y=True)\n",
    "X_train, X_test, y_train, y_test = train_test_split(X, y, random_state=123)\n"
   ]
  },
  {
   "cell_type": "code",
   "execution_count": 162,
   "metadata": {
    "ExecuteTime": {
     "end_time": "2021-07-04T15:32:38.288980Z",
     "start_time": "2021-07-04T15:32:25.216542Z"
    },
    "id": "QN4BSxiaJspb"
   },
   "outputs": [
    {
     "name": "stdout",
     "output_type": "stream",
     "text": [
      "kernel=poly, degree=2, C=0.1, gamma=auto\n",
      "Linear SVC 학습 데이터 점수: 0.9835680751173709\n",
      "Linear SVC 평가 데이터 점수: 0.993006993006993\n"
     ]
    }
   ],
   "source": [
    "polynomial_svc = SVC(kernel='poly',degree=2, C=0.1, gamma='auto')\n",
    "polynomial_svc.fit(X_train, y_train)\n",
    "\n",
    "params = polynomial_svc.get_params()\n",
    "print(\"kernel={}, degree={}, C={}, gamma={}\".format(params['kernel'],params['degree'], \n",
    "                                                    params['C'],params['gamma']))\n",
    "\n",
    "print(\"Linear SVC 학습 데이터 점수: {}\".format(polynomial_svc.score(X_train, y_train)))\n",
    "print(\"Linear SVC 평가 데이터 점수: {}\".format(polynomial_svc.score(X_test, y_test)))\n"
   ]
  },
  {
   "cell_type": "code",
   "execution_count": 163,
   "metadata": {
    "ExecuteTime": {
     "end_time": "2021-07-04T15:32:38.303996Z",
     "start_time": "2021-07-04T15:32:38.289983Z"
    },
    "id": "P7hOhO1oOvVC"
   },
   "outputs": [
    {
     "name": "stdout",
     "output_type": "stream",
     "text": [
      "kernel=rbf, C=2.0, gamma=scale\n",
      "Linear SVC 학습 데이터 점수: 0.9154929577464789\n",
      "Linear SVC 평가 데이터 점수: 0.9370629370629371\n"
     ]
    }
   ],
   "source": [
    "rbf_svc = SVC(kernel='rbf', C=2.0, gamma='scale') \n",
    "rbf_svc.fit(X_train, y_train)\n",
    "\n",
    "params = rbf_svc.get_params()\n",
    "print(\"kernel={}, C={}, gamma={}\".format(params['kernel'], \n",
    "                                         params['C'],params['gamma']))\n",
    "\n",
    "print(\"Linear SVC 학습 데이터 점수: {}\".format(rbf_svc.score(X_train, y_train)))\n",
    "print(\"Linear SVC 평가 데이터 점수: {}\".format(rbf_svc.score(X_test, y_test)))\n"
   ]
  },
  {
   "cell_type": "markdown",
   "metadata": {
    "id": "aEQL8h8WU0An"
   },
   "source": [
    "## 데이터 전처리\n",
    "\n",
    "* SVM은 입력 데이터가 정규화 되어야 좋은 성능을 보임\n",
    "* 주로 모든 특성 값을 [0, 1] 범위로 맞추는 방법을 사용\n",
    "* scikit-learn의 StandardScaler 또는 MinMaxScaler를 사용해 정규화"
   ]
  },
  {
   "cell_type": "code",
   "execution_count": 164,
   "metadata": {
    "ExecuteTime": {
     "end_time": "2021-07-04T15:32:38.319008Z",
     "start_time": "2021-07-04T15:32:38.304997Z"
    },
    "id": "RujhqUOsVU73"
   },
   "outputs": [
    {
     "name": "stdout",
     "output_type": "stream",
     "text": [
      "SVC 학습 데이터 점수: 0.9014084507042254\n",
      "SVC 평가 데이터 점수: 0.9230769230769231\n"
     ]
    }
   ],
   "source": [
    "X, y = load_breast_cancer(return_X_y=True)\n",
    "X_train, X_test, y_train, y_test = train_test_split(X, y, random_state=123)\n",
    "\n",
    "model = SVC()\n",
    "model.fit(X_train, y_train)\n",
    "\n",
    "print(\"SVC 학습 데이터 점수: {}\".format(model.score(X_train, y_train)))\n",
    "print(\"SVC 평가 데이터 점수: {}\".format(model.score(X_test, y_test)))\n"
   ]
  },
  {
   "cell_type": "markdown",
   "metadata": {},
   "source": [
    "StandardScaler()"
   ]
  },
  {
   "cell_type": "code",
   "execution_count": 165,
   "metadata": {
    "ExecuteTime": {
     "end_time": "2021-07-04T15:32:38.334022Z",
     "start_time": "2021-07-04T15:32:38.320008Z"
    },
    "id": "DWau9A6UWds4"
   },
   "outputs": [],
   "source": [
    "scaler = StandardScaler()\n",
    "X_train = scaler.fit_transform(X_train) # fit은 한번만 해야한다.\n",
    "X_test = scaler.transform(X_test)"
   ]
  },
  {
   "cell_type": "code",
   "execution_count": 166,
   "metadata": {
    "ExecuteTime": {
     "end_time": "2021-07-04T15:32:38.349036Z",
     "start_time": "2021-07-04T15:32:38.335023Z"
    },
    "id": "y_ScHENS0ssY"
   },
   "outputs": [
    {
     "name": "stdout",
     "output_type": "stream",
     "text": [
      "SVC 학습 데이터 점수: 0.9835680751173709\n",
      "SVC 평가 데이터 점수: 0.986013986013986\n"
     ]
    }
   ],
   "source": [
    "model = SVC()\n",
    "model.fit(X_train, y_train)\n",
    "\n",
    "print(\"SVC 학습 데이터 점수: {}\".format(model.score(X_train, y_train)))\n",
    "print(\"SVC 평가 데이터 점수: {}\".format(model.score(X_test, y_test)))\n"
   ]
  },
  {
   "cell_type": "markdown",
   "metadata": {},
   "source": [
    "MinMaxScaler()"
   ]
  },
  {
   "cell_type": "code",
   "execution_count": 167,
   "metadata": {
    "ExecuteTime": {
     "end_time": "2021-07-04T15:32:38.364050Z",
     "start_time": "2021-07-04T15:32:38.350037Z"
    },
    "id": "R2_4R6JE0ssi"
   },
   "outputs": [],
   "source": [
    "X_train, X_test, y_train, y_test = train_test_split(X, y, random_state=123)\n",
    "\n",
    "scaler = MinMaxScaler()\n",
    "X_train = scaler.fit_transform(X_train) # fit은 한번만 해야한다.\n",
    "X_test = scaler.transform(X_test)"
   ]
  },
  {
   "cell_type": "code",
   "execution_count": 168,
   "metadata": {
    "ExecuteTime": {
     "end_time": "2021-07-04T15:32:38.379063Z",
     "start_time": "2021-07-04T15:32:38.365051Z"
    },
    "id": "_EVkj33WVQOu"
   },
   "outputs": [
    {
     "name": "stdout",
     "output_type": "stream",
     "text": [
      "SVC 학습 데이터 점수: 0.9812206572769953\n",
      "SVC 평가 데이터 점수: 0.986013986013986\n"
     ]
    }
   ],
   "source": [
    "model = SVC()\n",
    "model.fit(X_train, y_train)\n",
    "\n",
    "print(\"SVC 학습 데이터 점수: {}\".format(model.score(X_train, y_train)))\n",
    "print(\"SVC 평가 데이터 점수: {}\".format(model.score(X_test, y_test)))\n"
   ]
  },
  {
   "cell_type": "markdown",
   "metadata": {
    "id": "zLjtZC7gYr7R"
   },
   "source": [
    "## Linear SVR"
   ]
  },
  {
   "cell_type": "markdown",
   "metadata": {
    "id": "tbZicmjAZBZp"
   },
   "source": [
    "### 보스턴 주택 가격"
   ]
  },
  {
   "cell_type": "code",
   "execution_count": 169,
   "metadata": {
    "ExecuteTime": {
     "end_time": "2021-07-04T15:32:38.394077Z",
     "start_time": "2021-07-04T15:32:38.380065Z"
    },
    "id": "X39InXCSYuPf"
   },
   "outputs": [],
   "source": [
    "X, y = load_boston(return_X_y=True)\n",
    "X_train, X_test, y_train, y_test = train_test_split(X, y , test_size= 0.2 , random_state=123)"
   ]
  },
  {
   "cell_type": "code",
   "execution_count": 170,
   "metadata": {
    "ExecuteTime": {
     "end_time": "2021-07-04T15:32:38.409091Z",
     "start_time": "2021-07-04T15:32:38.395078Z"
    },
    "id": "I1TKwSKhdLaU"
   },
   "outputs": [],
   "source": [
    "scaler = StandardScaler()\n",
    "scaler.fit(X_train)\n",
    "X_train = scaler.transform(X_train)\n",
    "X_test = scaler.transform(X_test)"
   ]
  },
  {
   "cell_type": "code",
   "execution_count": 171,
   "metadata": {
    "ExecuteTime": {
     "end_time": "2021-07-04T15:32:38.424104Z",
     "start_time": "2021-07-04T15:32:38.410092Z"
    },
    "id": "deIvkeKRZqTU"
   },
   "outputs": [
    {
     "data": {
      "text/plain": [
       "SVR(kernel='linear')"
      ]
     },
     "execution_count": 171,
     "metadata": {},
     "output_type": "execute_result"
    }
   ],
   "source": [
    "model = SVR(kernel='linear')\n",
    "model.fit(X_train, y_train)"
   ]
  },
  {
   "cell_type": "code",
   "execution_count": 172,
   "metadata": {
    "ExecuteTime": {
     "end_time": "2021-07-04T15:32:38.439118Z",
     "start_time": "2021-07-04T15:32:38.425104Z"
    },
    "id": "zEknoMb5aRBt"
   },
   "outputs": [
    {
     "data": {
      "text/plain": [
       "{'C': 1.0,\n",
       " 'cache_size': 200,\n",
       " 'coef0': 0.0,\n",
       " 'degree': 3,\n",
       " 'epsilon': 0.1,\n",
       " 'gamma': 'scale',\n",
       " 'kernel': 'linear',\n",
       " 'max_iter': -1,\n",
       " 'shrinking': True,\n",
       " 'tol': 0.001,\n",
       " 'verbose': False}"
      ]
     },
     "execution_count": 172,
     "metadata": {},
     "output_type": "execute_result"
    }
   ],
   "source": [
    "model.get_params() # default"
   ]
  },
  {
   "cell_type": "code",
   "execution_count": 173,
   "metadata": {
    "ExecuteTime": {
     "end_time": "2021-07-04T15:32:38.454130Z",
     "start_time": "2021-07-04T15:32:38.440120Z"
    },
    "id": "S3ipWjbFiete"
   },
   "outputs": [
    {
     "name": "stdout",
     "output_type": "stream",
     "text": [
      "표준화 학습 데이터 점수: 0.7245983513691931\n",
      "표준화 평가 데이터 점수: 0.6147612862092505\n"
     ]
    }
   ],
   "source": [
    "print(\"표준화 학습 데이터 점수: {}\".format(model.score(X_train, y_train)))\n",
    "print(\"표준화 평가 데이터 점수: {}\".format(model.score(X_test, y_test)))\n"
   ]
  },
  {
   "cell_type": "code",
   "execution_count": 174,
   "metadata": {
    "ExecuteTime": {
     "end_time": "2021-07-04T15:32:39.176308Z",
     "start_time": "2021-07-04T15:32:38.455133Z"
    },
    "id": "IqLc69hojcIr"
   },
   "outputs": [
    {
     "data": {
      "image/png": "[encoded data removed]",
      "text/plain": [
       "<Figure size 432x288 with 1 Axes>"
      ]
     },
     "metadata": {},
     "output_type": "display_data"
    }
   ],
   "source": [
    "X_comp = TSNE(n_components=1).fit_transform(X)\n",
    "plt.scatter(X_comp, y);"
   ]
  },
  {
   "cell_type": "code",
   "execution_count": 175,
   "metadata": {
    "ExecuteTime": {
     "end_time": "2021-07-04T15:32:39.326613Z",
     "start_time": "2021-07-04T15:32:39.177310Z"
    },
    "id": "YzGeXLmZbGY7"
   },
   "outputs": [
    {
     "data": {
      "image/png": "[encoded data removed]",
      "text/plain": [
       "<Figure size 432x288 with 1 Axes>"
      ]
     },
     "metadata": {},
     "output_type": "display_data"
    }
   ],
   "source": [
    "model.fit(X_comp, y)\n",
    "predict = model.predict(X_comp)\n",
    "plt.scatter(X_comp, y)\n",
    "plt.scatter(X_comp, predict, color='r');"
   ]
  },
  {
   "cell_type": "code",
   "execution_count": 176,
   "metadata": {
    "ExecuteTime": {
     "end_time": "2021-07-04T15:32:39.356642Z",
     "start_time": "2021-07-04T15:32:39.327617Z"
    },
    "id": "Hfo2Z6T5jo73",
    "scrolled": true
   },
   "outputs": [
    {
     "name": "stderr",
     "output_type": "stream",
     "text": [
      "[Parallel(n_jobs=12)]: Using backend LokyBackend with 12 concurrent workers.\n",
      "[Parallel(n_jobs=12)]: Done   5 out of   5 | elapsed:    0.0s finished\n"
     ]
    },
    {
     "data": {
      "text/plain": [
       "{'fit_time': array([0.00700331, 0.00600386, 0.00600386, 0.00600386, 0.00600386]),\n",
       " 'score_time': array([0.        , 0.00099945, 0.00099945, 0.        , 0.00100279]),\n",
       " 'test_score': array([0.76908568, 0.72180141, 0.56428426, 0.14083339, 0.07810211])}"
      ]
     },
     "execution_count": 176,
     "metadata": {},
     "output_type": "execute_result"
    }
   ],
   "source": [
    "estimator = make_pipeline(StandardScaler(), SVR(kernel='linear'))\n",
    "\n",
    "cross_validator = cross_validate(\n",
    "                    estimator=estimator,\n",
    "                    X=X, y=y,\n",
    "                    cv=5, \n",
    "                    n_jobs=multiprocessing.cpu_count(),\n",
    "                    verbose=True)\n",
    "\n",
    "cross_validator"
   ]
  },
  {
   "cell_type": "code",
   "execution_count": 177,
   "metadata": {
    "ExecuteTime": {
     "end_time": "2021-07-04T15:32:39.479754Z",
     "start_time": "2021-07-04T15:32:39.358644Z"
    },
    "id": "G1BG0w50iUNF",
    "scrolled": true
   },
   "outputs": [
    {
     "name": "stdout",
     "output_type": "stream",
     "text": [
      "Fitting 5 folds for each of 18 candidates, totalling 90 fits\n"
     ]
    },
    {
     "name": "stderr",
     "output_type": "stream",
     "text": [
      "[Parallel(n_jobs=12)]: Using backend LokyBackend with 12 concurrent workers.\n",
      "[Parallel(n_jobs=12)]: Done  28 tasks      | elapsed:    0.0s\n",
      "[Parallel(n_jobs=12)]: Done  90 out of  90 | elapsed:    0.0s finished\n"
     ]
    },
    {
     "data": {
      "text/plain": [
       "GridSearchCV(cv=5,\n",
       "             estimator=Pipeline(steps=[('scaler', StandardScaler()),\n",
       "                                       ('model', SVR(kernel='linear'))]),\n",
       "             n_jobs=12,\n",
       "             param_grid=[{'model__C': [1.0, 0.1, 0.01],\n",
       "                          'model__epsilon': [1.0, 0.1, 0.01],\n",
       "                          'model__gamma': ['scale', 'auto']}],\n",
       "             verbose=True)"
      ]
     },
     "execution_count": 177,
     "metadata": {},
     "output_type": "execute_result"
    }
   ],
   "source": [
    "pipe = Pipeline([('scaler', StandardScaler()),\n",
    "                 ('model', SVR(kernel='linear'))])\n",
    "\n",
    "param_grid = [{'model__gamma': ['scale', 'auto'],\n",
    "               'model__C':[1.0, 0.1, 0.01],\n",
    "               'model__epsilon': [1.0, 0.1, 0.01]}]\n",
    "\n",
    "gs = GridSearchCV(\n",
    "            estimator=pipe,\n",
    "            param_grid=param_grid,\n",
    "            n_jobs=multiprocessing.cpu_count(),\n",
    "            cv=5, \n",
    "            verbose=True)\n",
    "\n",
    "gs.fit(X, y)\n"
   ]
  },
  {
   "cell_type": "code",
   "execution_count": 178,
   "metadata": {
    "ExecuteTime": {
     "end_time": "2021-07-04T15:32:39.616880Z",
     "start_time": "2021-07-04T15:32:39.480753Z"
    },
    "scrolled": false
   },
   "outputs": [
    {
     "name": "stderr",
     "output_type": "stream",
     "text": [
      "[Parallel(n_jobs=12)]: Using backend LokyBackend with 12 concurrent workers.\n",
      "[Parallel(n_jobs=12)]: Done  28 tasks      | elapsed:    0.0s\n"
     ]
    },
    {
     "name": "stdout",
     "output_type": "stream",
     "text": [
      "Pipeline(steps=[('scaler', StandardScaler()),\n",
      "                ('model', SVR(C=0.1, epsilon=1.0, kernel='linear'))])\n",
      "최적 점수: 0.49854468515517\n",
      "최적 파라미터: {'model__C': 0.1, 'model__epsilon': 1.0, 'model__gamma': 'scale'}\n",
      "Fitting 5 folds for each of 18 candidates, totalling 90 fits\n"
     ]
    },
    {
     "name": "stderr",
     "output_type": "stream",
     "text": [
      "[Parallel(n_jobs=12)]: Done  67 out of  90 | elapsed:    0.0s remaining:    0.0s\n",
      "[Parallel(n_jobs=12)]: Done  90 out of  90 | elapsed:    0.0s finished\n"
     ]
    },
    {
     "data": {
      "text/html": [
       "<div>\n",
       "<style scoped>\n",
       "    .dataframe tbody tr th:only-of-type {\n",
       "        vertical-align: middle;\n",
       "    }\n",
       "\n",
       "    .dataframe tbody tr th {\n",
       "        vertical-align: top;\n",
       "    }\n",
       "\n",
       "    .dataframe thead th {\n",
       "        text-align: right;\n",
       "    }\n",
       "</style>\n",
       "<table border=\"1\" class=\"dataframe\">\n",
       "  <thead>\n",
       "    <tr style=\"text-align: right;\">\n",
       "      <th></th>\n",
       "      <th>mean_fit_time</th>\n",
       "      <th>std_fit_time</th>\n",
       "      <th>mean_score_time</th>\n",
       "      <th>std_score_time</th>\n",
       "      <th>param_model__C</th>\n",
       "      <th>param_model__epsilon</th>\n",
       "      <th>param_model__gamma</th>\n",
       "      <th>params</th>\n",
       "      <th>split0_test_score</th>\n",
       "      <th>split1_test_score</th>\n",
       "      <th>split2_test_score</th>\n",
       "      <th>split3_test_score</th>\n",
       "      <th>split4_test_score</th>\n",
       "      <th>mean_test_score</th>\n",
       "      <th>std_test_score</th>\n",
       "      <th>rank_test_score</th>\n",
       "    </tr>\n",
       "  </thead>\n",
       "  <tbody>\n",
       "    <tr>\n",
       "      <th>6</th>\n",
       "      <td>0.005806</td>\n",
       "      <td>0.001167</td>\n",
       "      <td>0.0002</td>\n",
       "      <td>0.00040</td>\n",
       "      <td>0.1</td>\n",
       "      <td>1</td>\n",
       "      <td>scale</td>\n",
       "      <td>{'model__C': 0.1, 'model__epsilon': 1.0, 'mode...</td>\n",
       "      <td>0.764240</td>\n",
       "      <td>0.714182</td>\n",
       "      <td>0.502571</td>\n",
       "      <td>0.224690</td>\n",
       "      <td>0.287040</td>\n",
       "      <td>0.498545</td>\n",
       "      <td>0.217642</td>\n",
       "      <td>1</td>\n",
       "    </tr>\n",
       "    <tr>\n",
       "      <th>7</th>\n",
       "      <td>0.004605</td>\n",
       "      <td>0.000490</td>\n",
       "      <td>0.0006</td>\n",
       "      <td>0.00080</td>\n",
       "      <td>0.1</td>\n",
       "      <td>1</td>\n",
       "      <td>auto</td>\n",
       "      <td>{'model__C': 0.1, 'model__epsilon': 1.0, 'mode...</td>\n",
       "      <td>0.764240</td>\n",
       "      <td>0.714182</td>\n",
       "      <td>0.502571</td>\n",
       "      <td>0.224690</td>\n",
       "      <td>0.287040</td>\n",
       "      <td>0.498545</td>\n",
       "      <td>0.217642</td>\n",
       "      <td>1</td>\n",
       "    </tr>\n",
       "    <tr>\n",
       "      <th>11</th>\n",
       "      <td>0.005005</td>\n",
       "      <td>0.000633</td>\n",
       "      <td>0.0006</td>\n",
       "      <td>0.00049</td>\n",
       "      <td>0.1</td>\n",
       "      <td>0.01</td>\n",
       "      <td>auto</td>\n",
       "      <td>{'model__C': 0.1, 'model__epsilon': 0.01, 'mod...</td>\n",
       "      <td>0.764167</td>\n",
       "      <td>0.705551</td>\n",
       "      <td>0.502004</td>\n",
       "      <td>0.192918</td>\n",
       "      <td>0.231339</td>\n",
       "      <td>0.479196</td>\n",
       "      <td>0.235097</td>\n",
       "      <td>3</td>\n",
       "    </tr>\n",
       "  </tbody>\n",
       "</table>\n",
       "</div>"
      ],
      "text/plain": [
       "    mean_fit_time  std_fit_time  mean_score_time  std_score_time  \\\n",
       "6        0.005806      0.001167           0.0002         0.00040   \n",
       "7        0.004605      0.000490           0.0006         0.00080   \n",
       "11       0.005005      0.000633           0.0006         0.00049   \n",
       "\n",
       "   param_model__C param_model__epsilon param_model__gamma  \\\n",
       "6             0.1                    1              scale   \n",
       "7             0.1                    1               auto   \n",
       "11            0.1                 0.01               auto   \n",
       "\n",
       "                                               params  split0_test_score  \\\n",
       "6   {'model__C': 0.1, 'model__epsilon': 1.0, 'mode...           0.764240   \n",
       "7   {'model__C': 0.1, 'model__epsilon': 1.0, 'mode...           0.764240   \n",
       "11  {'model__C': 0.1, 'model__epsilon': 0.01, 'mod...           0.764167   \n",
       "\n",
       "    split1_test_score  split2_test_score  split3_test_score  \\\n",
       "6            0.714182           0.502571           0.224690   \n",
       "7            0.714182           0.502571           0.224690   \n",
       "11           0.705551           0.502004           0.192918   \n",
       "\n",
       "    split4_test_score  mean_test_score  std_test_score  rank_test_score  \n",
       "6            0.287040         0.498545        0.217642                1  \n",
       "7            0.287040         0.498545        0.217642                1  \n",
       "11           0.231339         0.479196        0.235097                3  "
      ]
     },
     "execution_count": 178,
     "metadata": {},
     "output_type": "execute_result"
    }
   ],
   "source": [
    "print(gs.best_estimator_)\n",
    "print(\"최적 점수: {}\".format(gs.best_score_))\n",
    "print(\"최적 파라미터: {}\".format(gs.best_params_))\n",
    "result = gs.fit(X, y)\n",
    "pd.DataFrame(result.cv_results_).sort_values('rank_test_score').head(3)"
   ]
  },
  {
   "cell_type": "markdown",
   "metadata": {
    "id": "Tlmsj9sHlB_i"
   },
   "source": [
    "### 당뇨병"
   ]
  },
  {
   "cell_type": "code",
   "execution_count": 179,
   "metadata": {
    "ExecuteTime": {
     "end_time": "2021-07-04T15:32:39.631892Z",
     "start_time": "2021-07-04T15:32:39.617878Z"
    },
    "id": "X39InXCSYuPf"
   },
   "outputs": [],
   "source": [
    "X, y = load_diabetes(return_X_y=True)\n",
    "X_train, X_test, y_train, y_test = train_test_split(X, y , test_size= 0.2 , random_state=123)"
   ]
  },
  {
   "cell_type": "code",
   "execution_count": 180,
   "metadata": {
    "ExecuteTime": {
     "end_time": "2021-07-04T15:32:39.646907Z",
     "start_time": "2021-07-04T15:32:39.632893Z"
    },
    "id": "I1TKwSKhdLaU"
   },
   "outputs": [],
   "source": [
    "scaler = StandardScaler()\n",
    "scaler.fit(X_train)\n",
    "X_train = scaler.transform(X_train)\n",
    "X_test = scaler.transform(X_test)"
   ]
  },
  {
   "cell_type": "code",
   "execution_count": 181,
   "metadata": {
    "ExecuteTime": {
     "end_time": "2021-07-04T15:32:39.661919Z",
     "start_time": "2021-07-04T15:32:39.647907Z"
    },
    "id": "deIvkeKRZqTU"
   },
   "outputs": [
    {
     "data": {
      "text/plain": [
       "SVR(kernel='linear')"
      ]
     },
     "execution_count": 181,
     "metadata": {},
     "output_type": "execute_result"
    }
   ],
   "source": [
    "model = SVR(kernel='linear')\n",
    "model.fit(X_train, y_train)"
   ]
  },
  {
   "cell_type": "code",
   "execution_count": 182,
   "metadata": {
    "ExecuteTime": {
     "end_time": "2021-07-04T15:32:39.676934Z",
     "start_time": "2021-07-04T15:32:39.662921Z"
    },
    "id": "zEknoMb5aRBt",
    "scrolled": true
   },
   "outputs": [
    {
     "data": {
      "text/plain": [
       "{'C': 1.0,\n",
       " 'cache_size': 200,\n",
       " 'coef0': 0.0,\n",
       " 'degree': 3,\n",
       " 'epsilon': 0.1,\n",
       " 'gamma': 'scale',\n",
       " 'kernel': 'linear',\n",
       " 'max_iter': -1,\n",
       " 'shrinking': True,\n",
       " 'tol': 0.001,\n",
       " 'verbose': False}"
      ]
     },
     "execution_count": 182,
     "metadata": {},
     "output_type": "execute_result"
    }
   ],
   "source": [
    "model.get_params() # default"
   ]
  },
  {
   "cell_type": "code",
   "execution_count": 183,
   "metadata": {
    "ExecuteTime": {
     "end_time": "2021-07-04T15:32:39.692459Z",
     "start_time": "2021-07-04T15:32:39.677934Z"
    },
    "id": "S3ipWjbFiete"
   },
   "outputs": [
    {
     "name": "stdout",
     "output_type": "stream",
     "text": [
      "표준화 학습 데이터 점수: 0.492458871681117\n",
      "표준화 평가 데이터 점수: 0.5570136940699909\n"
     ]
    }
   ],
   "source": [
    "print(\"표준화 학습 데이터 점수: {}\".format(model.score(X_train, y_train)))\n",
    "print(\"표준화 평가 데이터 점수: {}\".format(model.score(X_test, y_test)))\n"
   ]
  },
  {
   "cell_type": "code",
   "execution_count": 184,
   "metadata": {
    "ExecuteTime": {
     "end_time": "2021-07-04T15:32:40.353691Z",
     "start_time": "2021-07-04T15:32:39.693460Z"
    },
    "id": "IqLc69hojcIr"
   },
   "outputs": [
    {
     "data": {
      "image/png": "[encoded data removed]",
      "text/plain": [
       "<Figure size 432x288 with 1 Axes>"
      ]
     },
     "metadata": {},
     "output_type": "display_data"
    }
   ],
   "source": [
    "X_comp = TSNE(n_components=1).fit_transform(X)\n",
    "plt.scatter(X_comp, y);"
   ]
  },
  {
   "cell_type": "code",
   "execution_count": 185,
   "metadata": {
    "ExecuteTime": {
     "end_time": "2021-07-04T15:32:40.473806Z",
     "start_time": "2021-07-04T15:32:40.354692Z"
    },
    "id": "YzGeXLmZbGY7"
   },
   "outputs": [
    {
     "data": {
      "image/png": "[encoded data removed]",
      "text/plain": [
       "<Figure size 432x288 with 1 Axes>"
      ]
     },
     "metadata": {},
     "output_type": "display_data"
    }
   ],
   "source": [
    "model.fit(X_comp, y)\n",
    "predict = model.predict(X_comp)\n",
    "plt.scatter(X_comp, y)\n",
    "plt.scatter(X_comp, predict, color='r');"
   ]
  },
  {
   "cell_type": "code",
   "execution_count": 186,
   "metadata": {
    "ExecuteTime": {
     "end_time": "2021-07-04T15:32:40.503834Z",
     "start_time": "2021-07-04T15:32:40.474807Z"
    },
    "id": "Hfo2Z6T5jo73",
    "scrolled": true
   },
   "outputs": [
    {
     "name": "stderr",
     "output_type": "stream",
     "text": [
      "[Parallel(n_jobs=12)]: Using backend LokyBackend with 12 concurrent workers.\n",
      "[Parallel(n_jobs=12)]: Done   5 out of   5 | elapsed:    0.0s finished\n"
     ]
    },
    {
     "data": {
      "text/plain": [
       "{'fit_time': array([0.00400352, 0.0030005 , 0.0030005 , 0.00400352, 0.00500417]),\n",
       " 'score_time': array([0.       , 0.       , 0.       , 0.0010004, 0.       ]),\n",
       " 'test_score': array([0.43037242, 0.51653341, 0.48275332, 0.42247202, 0.53076481])}"
      ]
     },
     "execution_count": 186,
     "metadata": {},
     "output_type": "execute_result"
    }
   ],
   "source": [
    "estimator = make_pipeline(StandardScaler(), SVR(kernel='linear'))\n",
    "\n",
    "cross_validator = cross_validate(\n",
    "                    estimator=estimator,\n",
    "                    X=X, y=y,\n",
    "                    cv=5, \n",
    "                    n_jobs=multiprocessing.cpu_count(),\n",
    "                    verbose=True)\n",
    "\n",
    "cross_validator"
   ]
  },
  {
   "cell_type": "code",
   "execution_count": 187,
   "metadata": {
    "ExecuteTime": {
     "end_time": "2021-07-04T15:32:40.625944Z",
     "start_time": "2021-07-04T15:32:40.504833Z"
    },
    "id": "G1BG0w50iUNF",
    "scrolled": true
   },
   "outputs": [
    {
     "name": "stdout",
     "output_type": "stream",
     "text": [
      "Fitting 5 folds for each of 24 candidates, totalling 120 fits\n"
     ]
    },
    {
     "name": "stderr",
     "output_type": "stream",
     "text": [
      "[Parallel(n_jobs=12)]: Using backend LokyBackend with 12 concurrent workers.\n",
      "[Parallel(n_jobs=12)]: Done  28 tasks      | elapsed:    0.0s\n",
      "[Parallel(n_jobs=12)]: Done 120 out of 120 | elapsed:    0.0s finished\n"
     ]
    },
    {
     "data": {
      "text/plain": [
       "GridSearchCV(cv=5,\n",
       "             estimator=Pipeline(steps=[('scaler', StandardScaler()),\n",
       "                                       ('model', SVR(kernel='linear'))]),\n",
       "             n_jobs=12,\n",
       "             param_grid=[{'model__C': [1.0, 0.1, 0.01],\n",
       "                          'model__epsilon': [1.5, 1.0, 0.1, 0.01],\n",
       "                          'model__gamma': ['scale', 'auto']}],\n",
       "             verbose=True)"
      ]
     },
     "execution_count": 187,
     "metadata": {},
     "output_type": "execute_result"
    }
   ],
   "source": [
    "pipe = Pipeline([('scaler', StandardScaler()),\n",
    "                 ('model', SVR(kernel='linear'))])\n",
    "\n",
    "param_grid = [{'model__gamma': ['scale', 'auto'],\n",
    "               'model__C':[1.0, 0.1, 0.01],\n",
    "               'model__epsilon': [1.5, 1.0, 0.1, 0.01]}]\n",
    "\n",
    "gs = GridSearchCV(\n",
    "            estimator=pipe,\n",
    "            param_grid=param_grid,\n",
    "            n_jobs=multiprocessing.cpu_count(),\n",
    "            cv=5, \n",
    "            verbose=True)\n",
    "\n",
    "gs.fit(X, y)\n"
   ]
  },
  {
   "cell_type": "code",
   "execution_count": 188,
   "metadata": {
    "ExecuteTime": {
     "end_time": "2021-07-04T15:32:40.763069Z",
     "start_time": "2021-07-04T15:32:40.626947Z"
    },
    "scrolled": false
   },
   "outputs": [
    {
     "name": "stderr",
     "output_type": "stream",
     "text": [
      "[Parallel(n_jobs=12)]: Using backend LokyBackend with 12 concurrent workers.\n",
      "[Parallel(n_jobs=12)]: Done  28 tasks      | elapsed:    0.0s\n"
     ]
    },
    {
     "name": "stdout",
     "output_type": "stream",
     "text": [
      "Pipeline(steps=[('scaler', StandardScaler()),\n",
      "                ('model', SVR(epsilon=1.0, kernel='linear'))])\n",
      "최적 점수: 0.4780769992158147\n",
      "최적 파라미터: {'model__C': 1.0, 'model__epsilon': 1.0, 'model__gamma': 'scale'}\n",
      "Fitting 5 folds for each of 24 candidates, totalling 120 fits\n"
     ]
    },
    {
     "name": "stderr",
     "output_type": "stream",
     "text": [
      "[Parallel(n_jobs=12)]: Done 120 out of 120 | elapsed:    0.0s finished\n"
     ]
    },
    {
     "data": {
      "text/html": [
       "<div>\n",
       "<style scoped>\n",
       "    .dataframe tbody tr th:only-of-type {\n",
       "        vertical-align: middle;\n",
       "    }\n",
       "\n",
       "    .dataframe tbody tr th {\n",
       "        vertical-align: top;\n",
       "    }\n",
       "\n",
       "    .dataframe thead th {\n",
       "        text-align: right;\n",
       "    }\n",
       "</style>\n",
       "<table border=\"1\" class=\"dataframe\">\n",
       "  <thead>\n",
       "    <tr style=\"text-align: right;\">\n",
       "      <th></th>\n",
       "      <th>mean_fit_time</th>\n",
       "      <th>std_fit_time</th>\n",
       "      <th>mean_score_time</th>\n",
       "      <th>std_score_time</th>\n",
       "      <th>param_model__C</th>\n",
       "      <th>param_model__epsilon</th>\n",
       "      <th>param_model__gamma</th>\n",
       "      <th>params</th>\n",
       "      <th>split0_test_score</th>\n",
       "      <th>split1_test_score</th>\n",
       "      <th>split2_test_score</th>\n",
       "      <th>split3_test_score</th>\n",
       "      <th>split4_test_score</th>\n",
       "      <th>mean_test_score</th>\n",
       "      <th>std_test_score</th>\n",
       "      <th>rank_test_score</th>\n",
       "    </tr>\n",
       "  </thead>\n",
       "  <tbody>\n",
       "    <tr>\n",
       "      <th>2</th>\n",
       "      <td>0.003804</td>\n",
       "      <td>0.001168</td>\n",
       "      <td>0.000400</td>\n",
       "      <td>0.000490</td>\n",
       "      <td>1</td>\n",
       "      <td>1</td>\n",
       "      <td>scale</td>\n",
       "      <td>{'model__C': 1.0, 'model__epsilon': 1.0, 'mode...</td>\n",
       "      <td>0.432624</td>\n",
       "      <td>0.519202</td>\n",
       "      <td>0.484555</td>\n",
       "      <td>0.421738</td>\n",
       "      <td>0.532266</td>\n",
       "      <td>0.478077</td>\n",
       "      <td>0.044519</td>\n",
       "      <td>1</td>\n",
       "    </tr>\n",
       "    <tr>\n",
       "      <th>3</th>\n",
       "      <td>0.004405</td>\n",
       "      <td>0.001358</td>\n",
       "      <td>0.000601</td>\n",
       "      <td>0.000491</td>\n",
       "      <td>1</td>\n",
       "      <td>1</td>\n",
       "      <td>auto</td>\n",
       "      <td>{'model__C': 1.0, 'model__epsilon': 1.0, 'mode...</td>\n",
       "      <td>0.432624</td>\n",
       "      <td>0.519202</td>\n",
       "      <td>0.484555</td>\n",
       "      <td>0.421738</td>\n",
       "      <td>0.532266</td>\n",
       "      <td>0.478077</td>\n",
       "      <td>0.044519</td>\n",
       "      <td>1</td>\n",
       "    </tr>\n",
       "    <tr>\n",
       "      <th>0</th>\n",
       "      <td>0.004002</td>\n",
       "      <td>0.000000</td>\n",
       "      <td>0.000801</td>\n",
       "      <td>0.000400</td>\n",
       "      <td>1</td>\n",
       "      <td>1.5</td>\n",
       "      <td>scale</td>\n",
       "      <td>{'model__C': 1.0, 'model__epsilon': 1.5, 'mode...</td>\n",
       "      <td>0.430545</td>\n",
       "      <td>0.518453</td>\n",
       "      <td>0.484242</td>\n",
       "      <td>0.420315</td>\n",
       "      <td>0.531761</td>\n",
       "      <td>0.477063</td>\n",
       "      <td>0.045035</td>\n",
       "      <td>3</td>\n",
       "    </tr>\n",
       "  </tbody>\n",
       "</table>\n",
       "</div>"
      ],
      "text/plain": [
       "   mean_fit_time  std_fit_time  mean_score_time  std_score_time  \\\n",
       "2       0.003804      0.001168         0.000400        0.000490   \n",
       "3       0.004405      0.001358         0.000601        0.000491   \n",
       "0       0.004002      0.000000         0.000801        0.000400   \n",
       "\n",
       "  param_model__C param_model__epsilon param_model__gamma  \\\n",
       "2              1                    1              scale   \n",
       "3              1                    1               auto   \n",
       "0              1                  1.5              scale   \n",
       "\n",
       "                                              params  split0_test_score  \\\n",
       "2  {'model__C': 1.0, 'model__epsilon': 1.0, 'mode...           0.432624   \n",
       "3  {'model__C': 1.0, 'model__epsilon': 1.0, 'mode...           0.432624   \n",
       "0  {'model__C': 1.0, 'model__epsilon': 1.5, 'mode...           0.430545   \n",
       "\n",
       "   split1_test_score  split2_test_score  split3_test_score  split4_test_score  \\\n",
       "2           0.519202           0.484555           0.421738           0.532266   \n",
       "3           0.519202           0.484555           0.421738           0.532266   \n",
       "0           0.518453           0.484242           0.420315           0.531761   \n",
       "\n",
       "   mean_test_score  std_test_score  rank_test_score  \n",
       "2         0.478077        0.044519                1  \n",
       "3         0.478077        0.044519                1  \n",
       "0         0.477063        0.045035                3  "
      ]
     },
     "execution_count": 188,
     "metadata": {},
     "output_type": "execute_result"
    }
   ],
   "source": [
    "print(gs.best_estimator_)\n",
    "print(\"최적 점수: {}\".format(gs.best_score_))\n",
    "print(\"최적 파라미터: {}\".format(gs.best_params_))\n",
    "result = gs.fit(X, y)\n",
    "pd.DataFrame(result.cv_results_).sort_values('rank_test_score').head(3)"
   ]
  },
  {
   "cell_type": "markdown",
   "metadata": {
    "id": "4d3ZxGT-rzSF"
   },
   "source": [
    "## Kernel SVR "
   ]
  },
  {
   "cell_type": "markdown",
   "metadata": {
    "id": "sJ4hf_LMr6i4"
   },
   "source": [
    "### 보스턴 주택 가격"
   ]
  },
  {
   "cell_type": "code",
   "execution_count": 189,
   "metadata": {
    "ExecuteTime": {
     "end_time": "2021-07-04T15:32:40.778082Z",
     "start_time": "2021-07-04T15:32:40.764070Z"
    },
    "id": "X39InXCSYuPf"
   },
   "outputs": [],
   "source": [
    "X, y = load_boston(return_X_y=True)\n",
    "X_train, X_test, y_train, y_test = train_test_split(X, y , test_size= 0.2 , random_state=123)"
   ]
  },
  {
   "cell_type": "code",
   "execution_count": 190,
   "metadata": {
    "ExecuteTime": {
     "end_time": "2021-07-04T15:32:40.793095Z",
     "start_time": "2021-07-04T15:32:40.779083Z"
    },
    "id": "I1TKwSKhdLaU"
   },
   "outputs": [],
   "source": [
    "scaler = StandardScaler()\n",
    "scaler.fit(X_train)\n",
    "X_train = scaler.transform(X_train)\n",
    "X_test = scaler.transform(X_test)"
   ]
  },
  {
   "cell_type": "code",
   "execution_count": 191,
   "metadata": {
    "ExecuteTime": {
     "end_time": "2021-07-04T15:32:40.808109Z",
     "start_time": "2021-07-04T15:32:40.794098Z"
    },
    "id": "deIvkeKRZqTU"
   },
   "outputs": [
    {
     "data": {
      "text/plain": [
       "SVR()"
      ]
     },
     "execution_count": 191,
     "metadata": {},
     "output_type": "execute_result"
    }
   ],
   "source": [
    "model = SVR(kernel='rbf')\n",
    "model.fit(X_train, y_train)"
   ]
  },
  {
   "cell_type": "code",
   "execution_count": 192,
   "metadata": {
    "ExecuteTime": {
     "end_time": "2021-07-04T15:32:40.823124Z",
     "start_time": "2021-07-04T15:32:40.809111Z"
    },
    "id": "zEknoMb5aRBt"
   },
   "outputs": [
    {
     "data": {
      "text/plain": [
       "{'C': 1.0,\n",
       " 'cache_size': 200,\n",
       " 'coef0': 0.0,\n",
       " 'degree': 3,\n",
       " 'epsilon': 0.1,\n",
       " 'gamma': 'scale',\n",
       " 'kernel': 'rbf',\n",
       " 'max_iter': -1,\n",
       " 'shrinking': True,\n",
       " 'tol': 0.001,\n",
       " 'verbose': False}"
      ]
     },
     "execution_count": 192,
     "metadata": {},
     "output_type": "execute_result"
    }
   ],
   "source": [
    "model.get_params() # default"
   ]
  },
  {
   "cell_type": "code",
   "execution_count": 193,
   "metadata": {
    "ExecuteTime": {
     "end_time": "2021-07-04T15:32:40.838137Z",
     "start_time": "2021-07-04T15:32:40.824125Z"
    },
    "id": "S3ipWjbFiete"
   },
   "outputs": [
    {
     "name": "stdout",
     "output_type": "stream",
     "text": [
      "표준화 학습 데이터 점수: 0.6804558691341751\n",
      "표준화 평가 데이터 점수: 0.5895829313193316\n"
     ]
    }
   ],
   "source": [
    "print(\"표준화 학습 데이터 점수: {}\".format(model.score(X_train, y_train)))\n",
    "print(\"표준화 평가 데이터 점수: {}\".format(model.score(X_test, y_test)))\n"
   ]
  },
  {
   "cell_type": "code",
   "execution_count": 194,
   "metadata": {
    "ExecuteTime": {
     "end_time": "2021-07-04T15:32:41.529114Z",
     "start_time": "2021-07-04T15:32:40.839138Z"
    },
    "id": "IqLc69hojcIr"
   },
   "outputs": [
    {
     "data": {
      "image/png": "[encoded data removed]",
      "text/plain": [
       "<Figure size 432x288 with 1 Axes>"
      ]
     },
     "metadata": {},
     "output_type": "display_data"
    }
   ],
   "source": [
    "X_comp = TSNE(n_components=1).fit_transform(X)\n",
    "plt.scatter(X_comp, y);"
   ]
  },
  {
   "cell_type": "code",
   "execution_count": 195,
   "metadata": {
    "ExecuteTime": {
     "end_time": "2021-07-04T15:32:41.634229Z",
     "start_time": "2021-07-04T15:32:41.530115Z"
    },
    "id": "YzGeXLmZbGY7"
   },
   "outputs": [
    {
     "data": {
      "image/png": "[encoded data removed]",
      "text/plain": [
       "<Figure size 432x288 with 1 Axes>"
      ]
     },
     "metadata": {},
     "output_type": "display_data"
    }
   ],
   "source": [
    "model.fit(X_comp, y)\n",
    "predict = model.predict(X_comp)\n",
    "plt.scatter(X_comp, y)\n",
    "plt.scatter(X_comp, predict, color='r');"
   ]
  },
  {
   "cell_type": "code",
   "execution_count": 196,
   "metadata": {
    "ExecuteTime": {
     "end_time": "2021-07-04T15:32:41.664259Z",
     "start_time": "2021-07-04T15:32:41.635234Z"
    },
    "id": "Hfo2Z6T5jo73",
    "scrolled": true
   },
   "outputs": [
    {
     "name": "stderr",
     "output_type": "stream",
     "text": [
      "[Parallel(n_jobs=12)]: Using backend LokyBackend with 12 concurrent workers.\n",
      "[Parallel(n_jobs=12)]: Done   5 out of   5 | elapsed:    0.0s finished\n"
     ]
    },
    {
     "data": {
      "text/plain": [
       "{'fit_time': array([0.00400543, 0.00500607, 0.00400496, 0.00600815, 0.00500631]),\n",
       " 'score_time': array([0.00100064, 0.        , 0.00100136, 0.00099969, 0.        ]),\n",
       " 'test_score': array([ 0.75781445,  0.50211018,  0.04310107,  0.33851703, -0.75997942])}"
      ]
     },
     "execution_count": 196,
     "metadata": {},
     "output_type": "execute_result"
    }
   ],
   "source": [
    "estimator = make_pipeline(StandardScaler(), SVR(kernel='rbf'))\n",
    "\n",
    "cross_validator = cross_validate(\n",
    "                    estimator=estimator,\n",
    "                    X=X, y=y,\n",
    "                    cv=5, \n",
    "                    n_jobs=multiprocessing.cpu_count(),\n",
    "                    verbose=True)\n",
    "\n",
    "cross_validator"
   ]
  },
  {
   "cell_type": "markdown",
   "metadata": {},
   "source": [
    "여기서는 모든 커널을 해보도록 하자"
   ]
  },
  {
   "cell_type": "code",
   "execution_count": 197,
   "metadata": {
    "ExecuteTime": {
     "end_time": "2021-07-04T15:32:41.710301Z",
     "start_time": "2021-07-04T15:32:41.665259Z"
    },
    "id": "G1BG0w50iUNF",
    "scrolled": true
   },
   "outputs": [
    {
     "name": "stdout",
     "output_type": "stream",
     "text": [
      "Fitting 5 folds for each of 3 candidates, totalling 15 fits\n"
     ]
    },
    {
     "name": "stderr",
     "output_type": "stream",
     "text": [
      "[Parallel(n_jobs=12)]: Using backend LokyBackend with 12 concurrent workers.\n",
      "[Parallel(n_jobs=12)]: Done   8 out of  15 | elapsed:    0.0s remaining:    0.0s\n",
      "[Parallel(n_jobs=12)]: Done  15 out of  15 | elapsed:    0.0s finished\n"
     ]
    },
    {
     "data": {
      "text/plain": [
       "GridSearchCV(cv=5,\n",
       "             estimator=Pipeline(steps=[('scaler', StandardScaler()),\n",
       "                                       ('model', SVR())]),\n",
       "             n_jobs=12,\n",
       "             param_grid=[{'model__kernel': ['rbf', 'poly', 'sigmoid']}],\n",
       "             verbose=True)"
      ]
     },
     "execution_count": 197,
     "metadata": {},
     "output_type": "execute_result"
    }
   ],
   "source": [
    "pipe = Pipeline([('scaler', StandardScaler()),\n",
    "                 ('model', SVR(kernel='rbf'))])\n",
    "\n",
    "param_grid = [{'model__kernel': ['rbf', 'poly', 'sigmoid']}]\n",
    "\n",
    "gs = GridSearchCV(\n",
    "            estimator=pipe,\n",
    "            param_grid=param_grid,\n",
    "            n_jobs=multiprocessing.cpu_count(),\n",
    "            cv=5, \n",
    "            verbose=True)\n",
    "\n",
    "gs.fit(X, y)\n"
   ]
  },
  {
   "cell_type": "code",
   "execution_count": 198,
   "metadata": {
    "ExecuteTime": {
     "end_time": "2021-07-04T15:32:41.756342Z",
     "start_time": "2021-07-04T15:32:41.711301Z"
    },
    "scrolled": true
   },
   "outputs": [
    {
     "name": "stdout",
     "output_type": "stream",
     "text": [
      "Pipeline(steps=[('scaler', StandardScaler()), ('model', SVR())])\n",
      "최적 점수: 0.17631266230186618\n",
      "최적 파라미터: {'model__kernel': 'rbf'}\n",
      "Fitting 5 folds for each of 3 candidates, totalling 15 fits\n"
     ]
    },
    {
     "name": "stderr",
     "output_type": "stream",
     "text": [
      "[Parallel(n_jobs=12)]: Using backend LokyBackend with 12 concurrent workers.\n",
      "[Parallel(n_jobs=12)]: Done   8 out of  15 | elapsed:    0.0s remaining:    0.0s\n",
      "[Parallel(n_jobs=12)]: Done  15 out of  15 | elapsed:    0.0s finished\n"
     ]
    },
    {
     "data": {
      "text/html": [
       "<div>\n",
       "<style scoped>\n",
       "    .dataframe tbody tr th:only-of-type {\n",
       "        vertical-align: middle;\n",
       "    }\n",
       "\n",
       "    .dataframe tbody tr th {\n",
       "        vertical-align: top;\n",
       "    }\n",
       "\n",
       "    .dataframe thead th {\n",
       "        text-align: right;\n",
       "    }\n",
       "</style>\n",
       "<table border=\"1\" class=\"dataframe\">\n",
       "  <thead>\n",
       "    <tr style=\"text-align: right;\">\n",
       "      <th></th>\n",
       "      <th>mean_fit_time</th>\n",
       "      <th>std_fit_time</th>\n",
       "      <th>mean_score_time</th>\n",
       "      <th>std_score_time</th>\n",
       "      <th>param_model__kernel</th>\n",
       "      <th>params</th>\n",
       "      <th>split0_test_score</th>\n",
       "      <th>split1_test_score</th>\n",
       "      <th>split2_test_score</th>\n",
       "      <th>split3_test_score</th>\n",
       "      <th>split4_test_score</th>\n",
       "      <th>mean_test_score</th>\n",
       "      <th>std_test_score</th>\n",
       "      <th>rank_test_score</th>\n",
       "    </tr>\n",
       "  </thead>\n",
       "  <tbody>\n",
       "    <tr>\n",
       "      <th>0</th>\n",
       "      <td>0.007005</td>\n",
       "      <td>0.000633</td>\n",
       "      <td>0.001201</td>\n",
       "      <td>4.002095e-04</td>\n",
       "      <td>rbf</td>\n",
       "      <td>{'model__kernel': 'rbf'}</td>\n",
       "      <td>0.757814</td>\n",
       "      <td>0.502110</td>\n",
       "      <td>0.043101</td>\n",
       "      <td>0.338517</td>\n",
       "      <td>-0.759979</td>\n",
       "      <td>0.176313</td>\n",
       "      <td>0.522491</td>\n",
       "      <td>1</td>\n",
       "    </tr>\n",
       "    <tr>\n",
       "      <th>2</th>\n",
       "      <td>0.006206</td>\n",
       "      <td>0.001472</td>\n",
       "      <td>0.001001</td>\n",
       "      <td>8.740569e-07</td>\n",
       "      <td>sigmoid</td>\n",
       "      <td>{'model__kernel': 'sigmoid'}</td>\n",
       "      <td>0.649210</td>\n",
       "      <td>0.542143</td>\n",
       "      <td>0.188191</td>\n",
       "      <td>0.107161</td>\n",
       "      <td>-0.737625</td>\n",
       "      <td>0.149816</td>\n",
       "      <td>0.488704</td>\n",
       "      <td>2</td>\n",
       "    </tr>\n",
       "    <tr>\n",
       "      <th>1</th>\n",
       "      <td>0.008608</td>\n",
       "      <td>0.000490</td>\n",
       "      <td>0.000801</td>\n",
       "      <td>4.006866e-04</td>\n",
       "      <td>poly</td>\n",
       "      <td>{'model__kernel': 'poly'}</td>\n",
       "      <td>0.553776</td>\n",
       "      <td>0.555012</td>\n",
       "      <td>0.317362</td>\n",
       "      <td>0.048646</td>\n",
       "      <td>-2.373356</td>\n",
       "      <td>-0.179712</td>\n",
       "      <td>1.112576</td>\n",
       "      <td>3</td>\n",
       "    </tr>\n",
       "  </tbody>\n",
       "</table>\n",
       "</div>"
      ],
      "text/plain": [
       "   mean_fit_time  std_fit_time  mean_score_time  std_score_time  \\\n",
       "0       0.007005      0.000633         0.001201    4.002095e-04   \n",
       "2       0.006206      0.001472         0.001001    8.740569e-07   \n",
       "1       0.008608      0.000490         0.000801    4.006866e-04   \n",
       "\n",
       "  param_model__kernel                        params  split0_test_score  \\\n",
       "0                 rbf      {'model__kernel': 'rbf'}           0.757814   \n",
       "2             sigmoid  {'model__kernel': 'sigmoid'}           0.649210   \n",
       "1                poly     {'model__kernel': 'poly'}           0.553776   \n",
       "\n",
       "   split1_test_score  split2_test_score  split3_test_score  split4_test_score  \\\n",
       "0           0.502110           0.043101           0.338517          -0.759979   \n",
       "2           0.542143           0.188191           0.107161          -0.737625   \n",
       "1           0.555012           0.317362           0.048646          -2.373356   \n",
       "\n",
       "   mean_test_score  std_test_score  rank_test_score  \n",
       "0         0.176313        0.522491                1  \n",
       "2         0.149816        0.488704                2  \n",
       "1        -0.179712        1.112576                3  "
      ]
     },
     "execution_count": 198,
     "metadata": {},
     "output_type": "execute_result"
    }
   ],
   "source": [
    "print(gs.best_estimator_)\n",
    "print(\"최적 점수: {}\".format(gs.best_score_))\n",
    "print(\"최적 파라미터: {}\".format(gs.best_params_))\n",
    "result = gs.fit(X, y)\n",
    "pd.DataFrame(result.cv_results_).sort_values('rank_test_score').head(3)"
   ]
  },
  {
   "cell_type": "markdown",
   "metadata": {},
   "source": [
    "rbf가 가장 좋으니까~ rbf로 정하고, 다른 파라미터를 조정해 보자."
   ]
  },
  {
   "cell_type": "code",
   "execution_count": 199,
   "metadata": {
    "ExecuteTime": {
     "end_time": "2021-07-04T15:32:41.907482Z",
     "start_time": "2021-07-04T15:32:41.757344Z"
    },
    "id": "G1BG0w50iUNF",
    "scrolled": true
   },
   "outputs": [
    {
     "name": "stderr",
     "output_type": "stream",
     "text": [
      "[Parallel(n_jobs=12)]: Using backend LokyBackend with 12 concurrent workers.\n",
      "[Parallel(n_jobs=12)]: Done  28 tasks      | elapsed:    0.0s\n",
      "[Parallel(n_jobs=12)]: Done 120 out of 120 | elapsed:    0.0s finished\n"
     ]
    },
    {
     "name": "stdout",
     "output_type": "stream",
     "text": [
      "Fitting 5 folds for each of 24 candidates, totalling 120 fits\n"
     ]
    },
    {
     "data": {
      "text/plain": [
       "GridSearchCV(cv=5,\n",
       "             estimator=Pipeline(steps=[('scaler', StandardScaler()),\n",
       "                                       ('model', SVR())]),\n",
       "             n_jobs=12,\n",
       "             param_grid=[{'model__C': [1.0, 0.1, 0.01],\n",
       "                          'model__epsilon': [1.5, 1.0, 0.1, 0.01],\n",
       "                          'model__gamma': ['scale', 'auto']}],\n",
       "             verbose=True)"
      ]
     },
     "execution_count": 199,
     "metadata": {},
     "output_type": "execute_result"
    }
   ],
   "source": [
    "pipe = Pipeline([('scaler', StandardScaler()),\n",
    "                 ('model', SVR(kernel='rbf'))])\n",
    "\n",
    "param_grid = [{'model__gamma': ['scale', 'auto'],\n",
    "               'model__C':[1.0, 0.1, 0.01],\n",
    "               'model__epsilon': [1.5, 1.0, 0.1, 0.01]}]\n",
    "\n",
    "gs = GridSearchCV(\n",
    "            estimator=pipe,\n",
    "            param_grid=param_grid,\n",
    "            n_jobs=multiprocessing.cpu_count(),\n",
    "            cv=5, \n",
    "            verbose=True)\n",
    "\n",
    "gs.fit(X, y)\n"
   ]
  },
  {
   "cell_type": "code",
   "execution_count": 200,
   "metadata": {
    "ExecuteTime": {
     "end_time": "2021-07-04T15:32:42.059619Z",
     "start_time": "2021-07-04T15:32:41.908482Z"
    },
    "scrolled": true
   },
   "outputs": [
    {
     "name": "stdout",
     "output_type": "stream",
     "text": [
      "Pipeline(steps=[('scaler', StandardScaler()), ('model', SVR(epsilon=0.01))])\n",
      "최적 점수: 0.1780747543330848\n",
      "최적 파라미터: {'model__C': 1.0, 'model__epsilon': 0.01, 'model__gamma': 'scale'}\n",
      "Fitting 5 folds for each of 24 candidates, totalling 120 fits\n"
     ]
    },
    {
     "name": "stderr",
     "output_type": "stream",
     "text": [
      "[Parallel(n_jobs=12)]: Using backend LokyBackend with 12 concurrent workers.\n",
      "[Parallel(n_jobs=12)]: Done  28 tasks      | elapsed:    0.0s\n",
      "[Parallel(n_jobs=12)]: Done 120 out of 120 | elapsed:    0.0s finished\n"
     ]
    },
    {
     "data": {
      "text/html": [
       "<div>\n",
       "<style scoped>\n",
       "    .dataframe tbody tr th:only-of-type {\n",
       "        vertical-align: middle;\n",
       "    }\n",
       "\n",
       "    .dataframe tbody tr th {\n",
       "        vertical-align: top;\n",
       "    }\n",
       "\n",
       "    .dataframe thead th {\n",
       "        text-align: right;\n",
       "    }\n",
       "</style>\n",
       "<table border=\"1\" class=\"dataframe\">\n",
       "  <thead>\n",
       "    <tr style=\"text-align: right;\">\n",
       "      <th></th>\n",
       "      <th>mean_fit_time</th>\n",
       "      <th>std_fit_time</th>\n",
       "      <th>mean_score_time</th>\n",
       "      <th>std_score_time</th>\n",
       "      <th>param_model__C</th>\n",
       "      <th>param_model__epsilon</th>\n",
       "      <th>param_model__gamma</th>\n",
       "      <th>params</th>\n",
       "      <th>split0_test_score</th>\n",
       "      <th>split1_test_score</th>\n",
       "      <th>split2_test_score</th>\n",
       "      <th>split3_test_score</th>\n",
       "      <th>split4_test_score</th>\n",
       "      <th>mean_test_score</th>\n",
       "      <th>std_test_score</th>\n",
       "      <th>rank_test_score</th>\n",
       "    </tr>\n",
       "  </thead>\n",
       "  <tbody>\n",
       "    <tr>\n",
       "      <th>6</th>\n",
       "      <td>0.006605</td>\n",
       "      <td>0.000491</td>\n",
       "      <td>0.001402</td>\n",
       "      <td>0.00049</td>\n",
       "      <td>1</td>\n",
       "      <td>0.01</td>\n",
       "      <td>scale</td>\n",
       "      <td>{'model__C': 1.0, 'model__epsilon': 0.01, 'mod...</td>\n",
       "      <td>0.758271</td>\n",
       "      <td>0.501058</td>\n",
       "      <td>0.044908</td>\n",
       "      <td>0.339123</td>\n",
       "      <td>-0.752987</td>\n",
       "      <td>0.178075</td>\n",
       "      <td>0.519902</td>\n",
       "      <td>1</td>\n",
       "    </tr>\n",
       "    <tr>\n",
       "      <th>7</th>\n",
       "      <td>0.006205</td>\n",
       "      <td>0.000400</td>\n",
       "      <td>0.001201</td>\n",
       "      <td>0.00040</td>\n",
       "      <td>1</td>\n",
       "      <td>0.01</td>\n",
       "      <td>auto</td>\n",
       "      <td>{'model__C': 1.0, 'model__epsilon': 0.01, 'mod...</td>\n",
       "      <td>0.758271</td>\n",
       "      <td>0.501058</td>\n",
       "      <td>0.044908</td>\n",
       "      <td>0.339123</td>\n",
       "      <td>-0.752987</td>\n",
       "      <td>0.178075</td>\n",
       "      <td>0.519902</td>\n",
       "      <td>1</td>\n",
       "    </tr>\n",
       "    <tr>\n",
       "      <th>4</th>\n",
       "      <td>0.006406</td>\n",
       "      <td>0.000490</td>\n",
       "      <td>0.001201</td>\n",
       "      <td>0.00040</td>\n",
       "      <td>1</td>\n",
       "      <td>0.1</td>\n",
       "      <td>scale</td>\n",
       "      <td>{'model__C': 1.0, 'model__epsilon': 0.1, 'mode...</td>\n",
       "      <td>0.757814</td>\n",
       "      <td>0.502110</td>\n",
       "      <td>0.043101</td>\n",
       "      <td>0.338517</td>\n",
       "      <td>-0.759979</td>\n",
       "      <td>0.176313</td>\n",
       "      <td>0.522491</td>\n",
       "      <td>3</td>\n",
       "    </tr>\n",
       "  </tbody>\n",
       "</table>\n",
       "</div>"
      ],
      "text/plain": [
       "   mean_fit_time  std_fit_time  mean_score_time  std_score_time  \\\n",
       "6       0.006605      0.000491         0.001402         0.00049   \n",
       "7       0.006205      0.000400         0.001201         0.00040   \n",
       "4       0.006406      0.000490         0.001201         0.00040   \n",
       "\n",
       "  param_model__C param_model__epsilon param_model__gamma  \\\n",
       "6              1                 0.01              scale   \n",
       "7              1                 0.01               auto   \n",
       "4              1                  0.1              scale   \n",
       "\n",
       "                                              params  split0_test_score  \\\n",
       "6  {'model__C': 1.0, 'model__epsilon': 0.01, 'mod...           0.758271   \n",
       "7  {'model__C': 1.0, 'model__epsilon': 0.01, 'mod...           0.758271   \n",
       "4  {'model__C': 1.0, 'model__epsilon': 0.1, 'mode...           0.757814   \n",
       "\n",
       "   split1_test_score  split2_test_score  split3_test_score  split4_test_score  \\\n",
       "6           0.501058           0.044908           0.339123          -0.752987   \n",
       "7           0.501058           0.044908           0.339123          -0.752987   \n",
       "4           0.502110           0.043101           0.338517          -0.759979   \n",
       "\n",
       "   mean_test_score  std_test_score  rank_test_score  \n",
       "6         0.178075        0.519902                1  \n",
       "7         0.178075        0.519902                1  \n",
       "4         0.176313        0.522491                3  "
      ]
     },
     "execution_count": 200,
     "metadata": {},
     "output_type": "execute_result"
    }
   ],
   "source": [
    "print(gs.best_estimator_)\n",
    "print(\"최적 점수: {}\".format(gs.best_score_))\n",
    "print(\"최적 파라미터: {}\".format(gs.best_params_))\n",
    "result = gs.fit(X, y)\n",
    "pd.DataFrame(result.cv_results_).sort_values('rank_test_score').head(3)"
   ]
  },
  {
   "cell_type": "markdown",
   "metadata": {
    "id": "WjmIL-u1r9qU"
   },
   "source": [
    "### 당뇨병"
   ]
  },
  {
   "cell_type": "code",
   "execution_count": 201,
   "metadata": {
    "ExecuteTime": {
     "end_time": "2021-07-04T15:32:42.074633Z",
     "start_time": "2021-07-04T15:32:42.060620Z"
    },
    "id": "X39InXCSYuPf"
   },
   "outputs": [],
   "source": [
    "X, y = load_diabetes(return_X_y=True)\n",
    "X_train, X_test, y_train, y_test = train_test_split(X, y , test_size= 0.2 , random_state=123)"
   ]
  },
  {
   "cell_type": "code",
   "execution_count": 202,
   "metadata": {
    "ExecuteTime": {
     "end_time": "2021-07-04T15:32:42.089646Z",
     "start_time": "2021-07-04T15:32:42.075633Z"
    },
    "id": "I1TKwSKhdLaU"
   },
   "outputs": [],
   "source": [
    "scaler = StandardScaler()\n",
    "scaler.fit(X_train)\n",
    "X_train = scaler.transform(X_train)\n",
    "X_test = scaler.transform(X_test)"
   ]
  },
  {
   "cell_type": "code",
   "execution_count": 203,
   "metadata": {
    "ExecuteTime": {
     "end_time": "2021-07-04T15:32:42.104660Z",
     "start_time": "2021-07-04T15:32:42.090647Z"
    },
    "id": "deIvkeKRZqTU"
   },
   "outputs": [
    {
     "data": {
      "text/plain": [
       "SVR()"
      ]
     },
     "execution_count": 203,
     "metadata": {},
     "output_type": "execute_result"
    }
   ],
   "source": [
    "model = SVR(kernel='rbf')\n",
    "model.fit(X_train, y_train)"
   ]
  },
  {
   "cell_type": "code",
   "execution_count": 204,
   "metadata": {
    "ExecuteTime": {
     "end_time": "2021-07-04T15:32:42.119672Z",
     "start_time": "2021-07-04T15:32:42.105662Z"
    },
    "id": "zEknoMb5aRBt"
   },
   "outputs": [
    {
     "data": {
      "text/plain": [
       "{'C': 1.0,\n",
       " 'cache_size': 200,\n",
       " 'coef0': 0.0,\n",
       " 'degree': 3,\n",
       " 'epsilon': 0.1,\n",
       " 'gamma': 'scale',\n",
       " 'kernel': 'rbf',\n",
       " 'max_iter': -1,\n",
       " 'shrinking': True,\n",
       " 'tol': 0.001,\n",
       " 'verbose': False}"
      ]
     },
     "execution_count": 204,
     "metadata": {},
     "output_type": "execute_result"
    }
   ],
   "source": [
    "model.get_params() # default"
   ]
  },
  {
   "cell_type": "code",
   "execution_count": 205,
   "metadata": {
    "ExecuteTime": {
     "end_time": "2021-07-04T15:32:42.134688Z",
     "start_time": "2021-07-04T15:32:42.120675Z"
    },
    "id": "S3ipWjbFiete"
   },
   "outputs": [
    {
     "name": "stdout",
     "output_type": "stream",
     "text": [
      "표준화 학습 데이터 점수: 0.15345164466149963\n",
      "표준화 평가 데이터 점수: 0.1809671882441687\n"
     ]
    }
   ],
   "source": [
    "print(\"표준화 학습 데이터 점수: {}\".format(model.score(X_train, y_train)))\n",
    "print(\"표준화 평가 데이터 점수: {}\".format(model.score(X_test, y_test)))\n"
   ]
  },
  {
   "cell_type": "code",
   "execution_count": 206,
   "metadata": {
    "ExecuteTime": {
     "end_time": "2021-07-04T15:32:42.795288Z",
     "start_time": "2021-07-04T15:32:42.135688Z"
    },
    "id": "IqLc69hojcIr"
   },
   "outputs": [
    {
     "data": {
      "image/png": "[encoded data removed]",
      "text/plain": [
       "<Figure size 432x288 with 1 Axes>"
      ]
     },
     "metadata": {},
     "output_type": "display_data"
    }
   ],
   "source": [
    "X_comp = TSNE(n_components=1).fit_transform(X)\n",
    "plt.scatter(X_comp, y);"
   ]
  },
  {
   "cell_type": "code",
   "execution_count": 207,
   "metadata": {
    "ExecuteTime": {
     "end_time": "2021-07-04T15:32:42.915905Z",
     "start_time": "2021-07-04T15:32:42.796289Z"
    },
    "id": "YzGeXLmZbGY7"
   },
   "outputs": [
    {
     "data": {
      "image/png": "[encoded data removed]",
      "text/plain": [
       "<Figure size 432x288 with 1 Axes>"
      ]
     },
     "metadata": {},
     "output_type": "display_data"
    }
   ],
   "source": [
    "model.fit(X_comp, y)\n",
    "predict = model.predict(X_comp)\n",
    "plt.scatter(X_comp, y)\n",
    "plt.scatter(X_comp, predict, color='r');"
   ]
  },
  {
   "cell_type": "code",
   "execution_count": 208,
   "metadata": {
    "ExecuteTime": {
     "end_time": "2021-07-04T15:32:42.945932Z",
     "start_time": "2021-07-04T15:32:42.916904Z"
    },
    "id": "Hfo2Z6T5jo73",
    "scrolled": true
   },
   "outputs": [
    {
     "name": "stderr",
     "output_type": "stream",
     "text": [
      "[Parallel(n_jobs=12)]: Using backend LokyBackend with 12 concurrent workers.\n",
      "[Parallel(n_jobs=12)]: Done   5 out of   5 | elapsed:    0.0s finished\n"
     ]
    },
    {
     "data": {
      "text/plain": [
       "{'fit_time': array([0.00500512, 0.00300241, 0.00400305, 0.00400639, 0.00400639]),\n",
       " 'score_time': array([0.        , 0.00100064, 0.        , 0.00100017, 0.00100017]),\n",
       " 'test_score': array([0.14580789, 0.12539919, 0.18163816, 0.12223073, 0.15792085])}"
      ]
     },
     "execution_count": 208,
     "metadata": {},
     "output_type": "execute_result"
    }
   ],
   "source": [
    "estimator = make_pipeline(StandardScaler(), SVR(kernel='rbf'))\n",
    "\n",
    "cross_validator = cross_validate(\n",
    "                    estimator=estimator,\n",
    "                    X=X, y=y,\n",
    "                    cv=5, \n",
    "                    n_jobs=multiprocessing.cpu_count(),\n",
    "                    verbose=True)\n",
    "\n",
    "cross_validator"
   ]
  },
  {
   "cell_type": "markdown",
   "metadata": {},
   "source": [
    "여기서는 모든 커널을 해보도록 하자"
   ]
  },
  {
   "cell_type": "code",
   "execution_count": 209,
   "metadata": {
    "ExecuteTime": {
     "end_time": "2021-07-04T15:32:42.991975Z",
     "start_time": "2021-07-04T15:32:42.946932Z"
    },
    "id": "G1BG0w50iUNF",
    "scrolled": true
   },
   "outputs": [
    {
     "name": "stdout",
     "output_type": "stream",
     "text": [
      "Fitting 5 folds for each of 3 candidates, totalling 15 fits\n"
     ]
    },
    {
     "name": "stderr",
     "output_type": "stream",
     "text": [
      "[Parallel(n_jobs=12)]: Using backend LokyBackend with 12 concurrent workers.\n",
      "[Parallel(n_jobs=12)]: Done   8 out of  15 | elapsed:    0.0s remaining:    0.0s\n",
      "[Parallel(n_jobs=12)]: Done  15 out of  15 | elapsed:    0.0s finished\n"
     ]
    },
    {
     "data": {
      "text/plain": [
       "GridSearchCV(cv=5,\n",
       "             estimator=Pipeline(steps=[('scaler', StandardScaler()),\n",
       "                                       ('model', SVR())]),\n",
       "             n_jobs=12,\n",
       "             param_grid=[{'model__kernel': ['rbf', 'poly', 'sigmoid']}],\n",
       "             verbose=True)"
      ]
     },
     "execution_count": 209,
     "metadata": {},
     "output_type": "execute_result"
    }
   ],
   "source": [
    "pipe = Pipeline([('scaler', StandardScaler()),\n",
    "                 ('model', SVR(kernel='rbf'))])\n",
    "\n",
    "param_grid = [{'model__kernel': ['rbf', 'poly', 'sigmoid']}]\n",
    "\n",
    "gs = GridSearchCV(\n",
    "            estimator=pipe,\n",
    "            param_grid=param_grid,\n",
    "            n_jobs=multiprocessing.cpu_count(),\n",
    "            cv=5, \n",
    "            verbose=True)\n",
    "\n",
    "gs.fit(X, y)\n"
   ]
  },
  {
   "cell_type": "code",
   "execution_count": 210,
   "metadata": {
    "ExecuteTime": {
     "end_time": "2021-07-04T15:32:43.038015Z",
     "start_time": "2021-07-04T15:32:42.992975Z"
    },
    "scrolled": false
   },
   "outputs": [
    {
     "name": "stdout",
     "output_type": "stream",
     "text": [
      "Pipeline(steps=[('scaler', StandardScaler()), ('model', SVR(kernel='sigmoid'))])\n",
      "최적 점수: 0.3491358880113567\n",
      "최적 파라미터: {'model__kernel': 'sigmoid'}\n",
      "Fitting 5 folds for each of 3 candidates, totalling 15 fits\n"
     ]
    },
    {
     "name": "stderr",
     "output_type": "stream",
     "text": [
      "[Parallel(n_jobs=12)]: Using backend LokyBackend with 12 concurrent workers.\n",
      "[Parallel(n_jobs=12)]: Done   8 out of  15 | elapsed:    0.0s remaining:    0.0s\n",
      "[Parallel(n_jobs=12)]: Done  15 out of  15 | elapsed:    0.0s finished\n"
     ]
    },
    {
     "data": {
      "text/html": [
       "<div>\n",
       "<style scoped>\n",
       "    .dataframe tbody tr th:only-of-type {\n",
       "        vertical-align: middle;\n",
       "    }\n",
       "\n",
       "    .dataframe tbody tr th {\n",
       "        vertical-align: top;\n",
       "    }\n",
       "\n",
       "    .dataframe thead th {\n",
       "        text-align: right;\n",
       "    }\n",
       "</style>\n",
       "<table border=\"1\" class=\"dataframe\">\n",
       "  <thead>\n",
       "    <tr style=\"text-align: right;\">\n",
       "      <th></th>\n",
       "      <th>mean_fit_time</th>\n",
       "      <th>std_fit_time</th>\n",
       "      <th>mean_score_time</th>\n",
       "      <th>std_score_time</th>\n",
       "      <th>param_model__kernel</th>\n",
       "      <th>params</th>\n",
       "      <th>split0_test_score</th>\n",
       "      <th>split1_test_score</th>\n",
       "      <th>split2_test_score</th>\n",
       "      <th>split3_test_score</th>\n",
       "      <th>split4_test_score</th>\n",
       "      <th>mean_test_score</th>\n",
       "      <th>std_test_score</th>\n",
       "      <th>rank_test_score</th>\n",
       "    </tr>\n",
       "  </thead>\n",
       "  <tbody>\n",
       "    <tr>\n",
       "      <th>2</th>\n",
       "      <td>0.004804</td>\n",
       "      <td>0.000750</td>\n",
       "      <td>0.000801</td>\n",
       "      <td>0.0004</td>\n",
       "      <td>sigmoid</td>\n",
       "      <td>{'model__kernel': 'sigmoid'}</td>\n",
       "      <td>0.288537</td>\n",
       "      <td>0.354180</td>\n",
       "      <td>0.377656</td>\n",
       "      <td>0.359160</td>\n",
       "      <td>0.366147</td>\n",
       "      <td>0.349136</td>\n",
       "      <td>0.031308</td>\n",
       "      <td>1</td>\n",
       "    </tr>\n",
       "    <tr>\n",
       "      <th>1</th>\n",
       "      <td>0.004203</td>\n",
       "      <td>0.000400</td>\n",
       "      <td>0.000801</td>\n",
       "      <td>0.0004</td>\n",
       "      <td>poly</td>\n",
       "      <td>{'model__kernel': 'poly'}</td>\n",
       "      <td>0.242391</td>\n",
       "      <td>0.184059</td>\n",
       "      <td>0.272529</td>\n",
       "      <td>0.243369</td>\n",
       "      <td>0.230417</td>\n",
       "      <td>0.234553</td>\n",
       "      <td>0.028803</td>\n",
       "      <td>2</td>\n",
       "    </tr>\n",
       "    <tr>\n",
       "      <th>0</th>\n",
       "      <td>0.004803</td>\n",
       "      <td>0.000401</td>\n",
       "      <td>0.001001</td>\n",
       "      <td>0.0000</td>\n",
       "      <td>rbf</td>\n",
       "      <td>{'model__kernel': 'rbf'}</td>\n",
       "      <td>0.145808</td>\n",
       "      <td>0.125399</td>\n",
       "      <td>0.181638</td>\n",
       "      <td>0.122231</td>\n",
       "      <td>0.157921</td>\n",
       "      <td>0.146599</td>\n",
       "      <td>0.021908</td>\n",
       "      <td>3</td>\n",
       "    </tr>\n",
       "  </tbody>\n",
       "</table>\n",
       "</div>"
      ],
      "text/plain": [
       "   mean_fit_time  std_fit_time  mean_score_time  std_score_time  \\\n",
       "2       0.004804      0.000750         0.000801          0.0004   \n",
       "1       0.004203      0.000400         0.000801          0.0004   \n",
       "0       0.004803      0.000401         0.001001          0.0000   \n",
       "\n",
       "  param_model__kernel                        params  split0_test_score  \\\n",
       "2             sigmoid  {'model__kernel': 'sigmoid'}           0.288537   \n",
       "1                poly     {'model__kernel': 'poly'}           0.242391   \n",
       "0                 rbf      {'model__kernel': 'rbf'}           0.145808   \n",
       "\n",
       "   split1_test_score  split2_test_score  split3_test_score  split4_test_score  \\\n",
       "2           0.354180           0.377656           0.359160           0.366147   \n",
       "1           0.184059           0.272529           0.243369           0.230417   \n",
       "0           0.125399           0.181638           0.122231           0.157921   \n",
       "\n",
       "   mean_test_score  std_test_score  rank_test_score  \n",
       "2         0.349136        0.031308                1  \n",
       "1         0.234553        0.028803                2  \n",
       "0         0.146599        0.021908                3  "
      ]
     },
     "execution_count": 210,
     "metadata": {},
     "output_type": "execute_result"
    }
   ],
   "source": [
    "print(gs.best_estimator_)\n",
    "print(\"최적 점수: {}\".format(gs.best_score_))\n",
    "print(\"최적 파라미터: {}\".format(gs.best_params_))\n",
    "result = gs.fit(X, y)\n",
    "pd.DataFrame(result.cv_results_).sort_values('rank_test_score').head(3)"
   ]
  },
  {
   "cell_type": "markdown",
   "metadata": {},
   "source": [
    "rbf가 가장 좋으니까~ rbf로 정하고, 다른 파라미터를 조정해 보자."
   ]
  },
  {
   "cell_type": "code",
   "execution_count": 211,
   "metadata": {
    "ExecuteTime": {
     "end_time": "2021-07-04T15:32:43.191156Z",
     "start_time": "2021-07-04T15:32:43.039015Z"
    },
    "id": "G1BG0w50iUNF",
    "scrolled": true
   },
   "outputs": [
    {
     "name": "stderr",
     "output_type": "stream",
     "text": [
      "[Parallel(n_jobs=12)]: Using backend LokyBackend with 12 concurrent workers.\n",
      "[Parallel(n_jobs=12)]: Done  28 tasks      | elapsed:    0.0s\n"
     ]
    },
    {
     "name": "stdout",
     "output_type": "stream",
     "text": [
      "Fitting 5 folds for each of 24 candidates, totalling 120 fits\n"
     ]
    },
    {
     "name": "stderr",
     "output_type": "stream",
     "text": [
      "[Parallel(n_jobs=12)]: Done 120 out of 120 | elapsed:    0.0s finished\n"
     ]
    },
    {
     "data": {
      "text/plain": [
       "GridSearchCV(cv=5,\n",
       "             estimator=Pipeline(steps=[('scaler', StandardScaler()),\n",
       "                                       ('model', SVR(kernel='sigmoid'))]),\n",
       "             n_jobs=12,\n",
       "             param_grid=[{'model__C': [1.0, 0.1, 0.01],\n",
       "                          'model__epsilon': [1.5, 1.0, 0.1, 0.01],\n",
       "                          'model__gamma': ['scale', 'auto']}],\n",
       "             verbose=True)"
      ]
     },
     "execution_count": 211,
     "metadata": {},
     "output_type": "execute_result"
    }
   ],
   "source": [
    "pipe = Pipeline([('scaler', StandardScaler()),\n",
    "                 ('model', SVR(kernel='sigmoid'))])\n",
    "\n",
    "param_grid = [{'model__gamma': ['scale', 'auto'],\n",
    "               'model__C':[1.0, 0.1, 0.01],\n",
    "               'model__epsilon': [1.5, 1.0, 0.1, 0.01]}]\n",
    "\n",
    "gs = GridSearchCV(\n",
    "            estimator=pipe,\n",
    "            param_grid=param_grid,\n",
    "            n_jobs=multiprocessing.cpu_count(),\n",
    "            cv=5, \n",
    "            verbose=True)\n",
    "\n",
    "gs.fit(X, y)\n"
   ]
  },
  {
   "cell_type": "code",
   "execution_count": 212,
   "metadata": {
    "ExecuteTime": {
     "end_time": "2021-07-04T15:32:43.359315Z",
     "start_time": "2021-07-04T15:32:43.192156Z"
    },
    "scrolled": false
   },
   "outputs": [
    {
     "name": "stdout",
     "output_type": "stream",
     "text": [
      "Pipeline(steps=[('scaler', StandardScaler()),\n",
      "                ('model', SVR(epsilon=1.0, gamma='auto', kernel='sigmoid'))])\n",
      "최적 점수: 0.35001409316735377\n",
      "최적 파라미터: {'model__C': 1.0, 'model__epsilon': 1.0, 'model__gamma': 'auto'}\n",
      "Fitting 5 folds for each of 24 candidates, totalling 120 fits\n"
     ]
    },
    {
     "name": "stderr",
     "output_type": "stream",
     "text": [
      "[Parallel(n_jobs=12)]: Using backend LokyBackend with 12 concurrent workers.\n",
      "[Parallel(n_jobs=12)]: Done  28 tasks      | elapsed:    0.0s\n",
      "[Parallel(n_jobs=12)]: Done 120 out of 120 | elapsed:    0.0s finished\n"
     ]
    },
    {
     "data": {
      "text/html": [
       "<div>\n",
       "<style scoped>\n",
       "    .dataframe tbody tr th:only-of-type {\n",
       "        vertical-align: middle;\n",
       "    }\n",
       "\n",
       "    .dataframe tbody tr th {\n",
       "        vertical-align: top;\n",
       "    }\n",
       "\n",
       "    .dataframe thead th {\n",
       "        text-align: right;\n",
       "    }\n",
       "</style>\n",
       "<table border=\"1\" class=\"dataframe\">\n",
       "  <thead>\n",
       "    <tr style=\"text-align: right;\">\n",
       "      <th></th>\n",
       "      <th>mean_fit_time</th>\n",
       "      <th>std_fit_time</th>\n",
       "      <th>mean_score_time</th>\n",
       "      <th>std_score_time</th>\n",
       "      <th>param_model__C</th>\n",
       "      <th>param_model__epsilon</th>\n",
       "      <th>param_model__gamma</th>\n",
       "      <th>params</th>\n",
       "      <th>split0_test_score</th>\n",
       "      <th>split1_test_score</th>\n",
       "      <th>split2_test_score</th>\n",
       "      <th>split3_test_score</th>\n",
       "      <th>split4_test_score</th>\n",
       "      <th>mean_test_score</th>\n",
       "      <th>std_test_score</th>\n",
       "      <th>rank_test_score</th>\n",
       "    </tr>\n",
       "  </thead>\n",
       "  <tbody>\n",
       "    <tr>\n",
       "      <th>3</th>\n",
       "      <td>0.005605</td>\n",
       "      <td>0.000490</td>\n",
       "      <td>0.001001</td>\n",
       "      <td>1.907349e-07</td>\n",
       "      <td>1</td>\n",
       "      <td>1</td>\n",
       "      <td>auto</td>\n",
       "      <td>{'model__C': 1.0, 'model__epsilon': 1.0, 'mode...</td>\n",
       "      <td>0.288537</td>\n",
       "      <td>0.353443</td>\n",
       "      <td>0.376918</td>\n",
       "      <td>0.361575</td>\n",
       "      <td>0.369598</td>\n",
       "      <td>0.350014</td>\n",
       "      <td>0.031725</td>\n",
       "      <td>1</td>\n",
       "    </tr>\n",
       "    <tr>\n",
       "      <th>2</th>\n",
       "      <td>0.005205</td>\n",
       "      <td>0.000749</td>\n",
       "      <td>0.001001</td>\n",
       "      <td>5.436780e-07</td>\n",
       "      <td>1</td>\n",
       "      <td>1</td>\n",
       "      <td>scale</td>\n",
       "      <td>{'model__C': 1.0, 'model__epsilon': 1.0, 'mode...</td>\n",
       "      <td>0.288537</td>\n",
       "      <td>0.353443</td>\n",
       "      <td>0.376918</td>\n",
       "      <td>0.361575</td>\n",
       "      <td>0.369598</td>\n",
       "      <td>0.350014</td>\n",
       "      <td>0.031725</td>\n",
       "      <td>2</td>\n",
       "    </tr>\n",
       "    <tr>\n",
       "      <th>0</th>\n",
       "      <td>0.005405</td>\n",
       "      <td>0.000490</td>\n",
       "      <td>0.001201</td>\n",
       "      <td>4.004002e-04</td>\n",
       "      <td>1</td>\n",
       "      <td>1.5</td>\n",
       "      <td>scale</td>\n",
       "      <td>{'model__C': 1.0, 'model__epsilon': 1.5, 'mode...</td>\n",
       "      <td>0.287025</td>\n",
       "      <td>0.352093</td>\n",
       "      <td>0.377427</td>\n",
       "      <td>0.361263</td>\n",
       "      <td>0.371662</td>\n",
       "      <td>0.349894</td>\n",
       "      <td>0.032615</td>\n",
       "      <td>3</td>\n",
       "    </tr>\n",
       "  </tbody>\n",
       "</table>\n",
       "</div>"
      ],
      "text/plain": [
       "   mean_fit_time  std_fit_time  mean_score_time  std_score_time  \\\n",
       "3       0.005605      0.000490         0.001001    1.907349e-07   \n",
       "2       0.005205      0.000749         0.001001    5.436780e-07   \n",
       "0       0.005405      0.000490         0.001201    4.004002e-04   \n",
       "\n",
       "  param_model__C param_model__epsilon param_model__gamma  \\\n",
       "3              1                    1               auto   \n",
       "2              1                    1              scale   \n",
       "0              1                  1.5              scale   \n",
       "\n",
       "                                              params  split0_test_score  \\\n",
       "3  {'model__C': 1.0, 'model__epsilon': 1.0, 'mode...           0.288537   \n",
       "2  {'model__C': 1.0, 'model__epsilon': 1.0, 'mode...           0.288537   \n",
       "0  {'model__C': 1.0, 'model__epsilon': 1.5, 'mode...           0.287025   \n",
       "\n",
       "   split1_test_score  split2_test_score  split3_test_score  split4_test_score  \\\n",
       "3           0.353443           0.376918           0.361575           0.369598   \n",
       "2           0.353443           0.376918           0.361575           0.369598   \n",
       "0           0.352093           0.377427           0.361263           0.371662   \n",
       "\n",
       "   mean_test_score  std_test_score  rank_test_score  \n",
       "3         0.350014        0.031725                1  \n",
       "2         0.350014        0.031725                2  \n",
       "0         0.349894        0.032615                3  "
      ]
     },
     "execution_count": 212,
     "metadata": {},
     "output_type": "execute_result"
    }
   ],
   "source": [
    "print(gs.best_estimator_)\n",
    "print(\"최적 점수: {}\".format(gs.best_score_))\n",
    "print(\"최적 파라미터: {}\".format(gs.best_params_))\n",
    "result = gs.fit(X, y)\n",
    "pd.DataFrame(result.cv_results_).sort_values('rank_test_score').head(3)"
   ]
  },
  {
   "cell_type": "markdown",
   "metadata": {},
   "source": [
    "최적으로 찾은 것으로 다시 한번 평가해 보자"
   ]
  },
  {
   "cell_type": "code",
   "execution_count": 213,
   "metadata": {
    "ExecuteTime": {
     "end_time": "2021-07-04T15:32:43.374328Z",
     "start_time": "2021-07-04T15:32:43.360316Z"
    },
    "id": "vT1lWiqFK8dd"
   },
   "outputs": [
    {
     "data": {
      "text/plain": [
       "Pipeline(steps=[('scaler', StandardScaler()),\n",
       "                ('model', SVR(epsilon=1.0, gamma='auto', kernel='sigmoid'))])"
      ]
     },
     "execution_count": 213,
     "metadata": {},
     "output_type": "execute_result"
    }
   ],
   "source": [
    "model = gs.best_estimator_\n",
    "model.fit(X_train,y_train)"
   ]
  },
  {
   "cell_type": "code",
   "execution_count": 214,
   "metadata": {
    "ExecuteTime": {
     "end_time": "2021-07-04T15:32:43.389343Z",
     "start_time": "2021-07-04T15:32:43.375330Z"
    },
    "id": "XuWFQJ8GvZXa"
   },
   "outputs": [
    {
     "name": "stdout",
     "output_type": "stream",
     "text": [
      "표준화 학습 데이터 점수: 0.3726520070304975\n",
      "표준화 평가 데이터 점수: 0.3905617056363222\n"
     ]
    }
   ],
   "source": [
    "print(\"표준화 학습 데이터 점수: {}\".format(model.score(X_train, y_train)))\n",
    "print(\"표준화 평가 데이터 점수: {}\".format(model.score(X_test, y_test)))\n"
   ]
  },
  {
   "cell_type": "markdown",
   "metadata": {},
   "source": [
    "위에 kernel='rbf' 는 0.17 수준이었는데 2배 이상 오른것을 볼수 있다."
   ]
  },
  {
   "cell_type": "code",
   "execution_count": 215,
   "metadata": {
    "ExecuteTime": {
     "end_time": "2021-07-04T15:32:44.064973Z",
     "start_time": "2021-07-04T15:32:43.390343Z"
    },
    "id": "IqLc69hojcIr"
   },
   "outputs": [
    {
     "data": {
      "image/png": "[encoded data removed]",
      "text/plain": [
       "<Figure size 432x288 with 1 Axes>"
      ]
     },
     "metadata": {},
     "output_type": "display_data"
    }
   ],
   "source": [
    "X_comp = TSNE(n_components=1).fit_transform(X)\n",
    "plt.scatter(X_comp, y);"
   ]
  },
  {
   "cell_type": "code",
   "execution_count": 216,
   "metadata": {
    "ExecuteTime": {
     "end_time": "2021-07-04T15:32:44.185086Z",
     "start_time": "2021-07-04T15:32:44.065972Z"
    },
    "id": "YzGeXLmZbGY7"
   },
   "outputs": [
    {
     "data": {
      "image/png": "[encoded data removed]",
      "text/plain": [
       "<Figure size 432x288 with 1 Axes>"
      ]
     },
     "metadata": {},
     "output_type": "display_data"
    }
   ],
   "source": [
    "model.fit(X_comp, y)\n",
    "predict = model.predict(X_comp)\n",
    "plt.scatter(X_comp, y)\n",
    "plt.scatter(X_comp, predict, color='r');"
   ]
  },
  {
   "cell_type": "markdown",
   "metadata": {
    "id": "sZoj8zj8LI6W"
   },
   "source": [
    "시각화한 결과도 뭔가 조금 더 나아 보인다. "
   ]
  },
  {
   "cell_type": "markdown",
   "metadata": {
    "id": "iW0DXTLrNya-"
   },
   "source": [
    "## Linear SVC"
   ]
  },
  {
   "cell_type": "markdown",
   "metadata": {
    "id": "1b30IAFxN8XR"
   },
   "source": [
    "### 유방암"
   ]
  },
  {
   "cell_type": "code",
   "execution_count": 217,
   "metadata": {
    "ExecuteTime": {
     "end_time": "2021-07-04T15:32:44.200103Z",
     "start_time": "2021-07-04T15:32:44.186091Z"
    },
    "id": "X39InXCSYuPf"
   },
   "outputs": [],
   "source": [
    "X, y = load_breast_cancer(return_X_y=True)\n",
    "X_train, X_test, y_train, y_test = train_test_split(X, y , test_size= 0.2 , random_state=123)"
   ]
  },
  {
   "cell_type": "code",
   "execution_count": 218,
   "metadata": {
    "ExecuteTime": {
     "end_time": "2021-07-04T15:32:44.215117Z",
     "start_time": "2021-07-04T15:32:44.201103Z"
    },
    "id": "I1TKwSKhdLaU"
   },
   "outputs": [],
   "source": [
    "scaler = StandardScaler()\n",
    "scaler.fit(X_train)\n",
    "X_train = scaler.transform(X_train)\n",
    "X_test = scaler.transform(X_test)"
   ]
  },
  {
   "cell_type": "code",
   "execution_count": 219,
   "metadata": {
    "ExecuteTime": {
     "end_time": "2021-07-04T15:32:44.230131Z",
     "start_time": "2021-07-04T15:32:44.216116Z"
    },
    "id": "deIvkeKRZqTU"
   },
   "outputs": [
    {
     "data": {
      "text/plain": [
       "SVC(kernel='linear')"
      ]
     },
     "execution_count": 219,
     "metadata": {},
     "output_type": "execute_result"
    }
   ],
   "source": [
    "model = SVC(kernel='linear')\n",
    "model.fit(X_train, y_train)"
   ]
  },
  {
   "cell_type": "code",
   "execution_count": 220,
   "metadata": {
    "ExecuteTime": {
     "end_time": "2021-07-04T15:32:44.245144Z",
     "start_time": "2021-07-04T15:32:44.231132Z"
    },
    "id": "zEknoMb5aRBt"
   },
   "outputs": [
    {
     "data": {
      "text/plain": [
       "{'C': 1.0,\n",
       " 'break_ties': False,\n",
       " 'cache_size': 200,\n",
       " 'class_weight': None,\n",
       " 'coef0': 0.0,\n",
       " 'decision_function_shape': 'ovr',\n",
       " 'degree': 3,\n",
       " 'gamma': 'scale',\n",
       " 'kernel': 'linear',\n",
       " 'max_iter': -1,\n",
       " 'probability': False,\n",
       " 'random_state': None,\n",
       " 'shrinking': True,\n",
       " 'tol': 0.001,\n",
       " 'verbose': False}"
      ]
     },
     "execution_count": 220,
     "metadata": {},
     "output_type": "execute_result"
    }
   ],
   "source": [
    "model.get_params() # default"
   ]
  },
  {
   "cell_type": "code",
   "execution_count": 221,
   "metadata": {
    "ExecuteTime": {
     "end_time": "2021-07-04T15:32:44.260158Z",
     "start_time": "2021-07-04T15:32:44.246145Z"
    },
    "id": "S3ipWjbFiete"
   },
   "outputs": [
    {
     "name": "stdout",
     "output_type": "stream",
     "text": [
      "표준화 학습 데이터 점수: 0.9868131868131869\n",
      "표준화 평가 데이터 점수: 0.9912280701754386\n"
     ]
    }
   ],
   "source": [
    "print(\"표준화 학습 데이터 점수: {}\".format(model.score(X_train, y_train)))\n",
    "print(\"표준화 평가 데이터 점수: {}\".format(model.score(X_test, y_test)))\n"
   ]
  },
  {
   "cell_type": "markdown",
   "metadata": {},
   "source": [
    "시각화"
   ]
  },
  {
   "cell_type": "code",
   "execution_count": 222,
   "metadata": {
    "ExecuteTime": {
     "end_time": "2021-07-04T15:32:44.275171Z",
     "start_time": "2021-07-04T15:32:44.264160Z"
    }
   },
   "outputs": [],
   "source": [
    "def make_meshgrid(x, y, h=0.2):\n",
    "    x_min, x_max = x.min()-1, x.max()+1\n",
    "    y_min, y_max = y.min()-1, y.max()+1\n",
    "    xx, yy = np.meshgrid(np.arange(x_min, x_max, h),\n",
    "                         np.arange(y_min, y_max, h))\n",
    "    return xx, yy"
   ]
  },
  {
   "cell_type": "code",
   "execution_count": 223,
   "metadata": {
    "ExecuteTime": {
     "end_time": "2021-07-04T15:32:44.290185Z",
     "start_time": "2021-07-04T15:32:44.277175Z"
    }
   },
   "outputs": [],
   "source": [
    "def plot_contours(clf, xx, yy, **params):\n",
    "    Z = clf.predict(np.c_[xx.ravel(), yy.ravel()])\n",
    "    Z = Z.reshape(xx.shape)\n",
    "    out = plt.contourf(xx, yy, Z, **params)\n",
    "    \n",
    "    return out"
   ]
  },
  {
   "cell_type": "code",
   "execution_count": 224,
   "metadata": {
    "ExecuteTime": {
     "end_time": "2021-07-04T15:32:45.162513Z",
     "start_time": "2021-07-04T15:32:44.291187Z"
    },
    "id": "IqLc69hojcIr"
   },
   "outputs": [],
   "source": [
    "X_comp = TSNE(n_components=2).fit_transform(X)\n",
    "X0, X1 = X_comp[:, 0], X_comp[:, 1]\n",
    "xx, yy = make_meshgrid(X0, X1)"
   ]
  },
  {
   "cell_type": "code",
   "execution_count": 225,
   "metadata": {
    "ExecuteTime": {
     "end_time": "2021-07-04T15:32:45.357699Z",
     "start_time": "2021-07-04T15:32:45.163515Z"
    },
    "id": "YzGeXLmZbGY7",
    "scrolled": true
   },
   "outputs": [
    {
     "data": {
      "image/png": "[encoded data removed]",
      "text/plain": [
       "<Figure size 432x288 with 1 Axes>"
      ]
     },
     "metadata": {},
     "output_type": "display_data"
    }
   ],
   "source": [
    "model.fit(X_comp, y)\n",
    "\n",
    "plot_contours(model, xx, yy, cmap=plt.cm.coolwarm, alpha=0.7)\n",
    "plt.scatter(X0, X1, c=y, cmap=plt.cm.coolwarm, s=20, edgecolors='k');\n"
   ]
  },
  {
   "cell_type": "markdown",
   "metadata": {},
   "source": [
    "저차원으로 구분한것이기 때문에 고차원에서는 또 다르게 잘 구분되었기 때문에 score가 0.98이상 이 나온것이다."
   ]
  },
  {
   "cell_type": "code",
   "execution_count": 226,
   "metadata": {
    "ExecuteTime": {
     "end_time": "2021-07-04T15:32:45.372713Z",
     "start_time": "2021-07-04T15:32:45.358700Z"
    },
    "id": "Hfo2Z6T5jo73",
    "scrolled": true
   },
   "outputs": [
    {
     "name": "stderr",
     "output_type": "stream",
     "text": [
      "[Parallel(n_jobs=12)]: Using backend LokyBackend with 12 concurrent workers.\n",
      "[Parallel(n_jobs=12)]: Done   5 out of   5 | elapsed:    0.0s finished\n"
     ]
    },
    {
     "data": {
      "text/plain": [
       "{'fit_time': array([0.00300336, 0.00200152, 0.0030067 , 0.00200415, 0.0030067 ]),\n",
       " 'score_time': array([0.        , 0.00100183, 0.        , 0.        , 0.0009985 ]),\n",
       " 'test_score': array([0.96491228, 0.98245614, 0.96491228, 0.96491228, 0.98230088])}"
      ]
     },
     "execution_count": 226,
     "metadata": {},
     "output_type": "execute_result"
    }
   ],
   "source": [
    "estimator = make_pipeline(StandardScaler(), SVC(kernel='linear'))\n",
    "\n",
    "cross_validator = cross_validate(\n",
    "                    estimator=estimator,\n",
    "                    X=X, y=y,\n",
    "                    cv=5, \n",
    "                    n_jobs=multiprocessing.cpu_count(),\n",
    "                    verbose=True)\n",
    "\n",
    "cross_validator"
   ]
  },
  {
   "cell_type": "code",
   "execution_count": 227,
   "metadata": {
    "ExecuteTime": {
     "end_time": "2021-07-04T15:32:45.432767Z",
     "start_time": "2021-07-04T15:32:45.373713Z"
    },
    "id": "G1BG0w50iUNF",
    "scrolled": true
   },
   "outputs": [
    {
     "name": "stdout",
     "output_type": "stream",
     "text": [
      "Fitting 5 folds for each of 8 candidates, totalling 40 fits\n"
     ]
    },
    {
     "name": "stderr",
     "output_type": "stream",
     "text": [
      "[Parallel(n_jobs=12)]: Using backend LokyBackend with 12 concurrent workers.\n",
      "[Parallel(n_jobs=12)]: Done  40 out of  40 | elapsed:    0.0s finished\n"
     ]
    },
    {
     "data": {
      "text/plain": [
       "GridSearchCV(cv=5,\n",
       "             estimator=Pipeline(steps=[('scaler', StandardScaler()),\n",
       "                                       ('model', SVC(kernel='linear'))]),\n",
       "             n_jobs=12,\n",
       "             param_grid=[{'model__C': [1.0, 0.14, 0.1, 0.01],\n",
       "                          'model__gamma': ['scale', 'auto']}],\n",
       "             verbose=True)"
      ]
     },
     "execution_count": 227,
     "metadata": {},
     "output_type": "execute_result"
    }
   ],
   "source": [
    "pipe = Pipeline([('scaler', StandardScaler()),\n",
    "                 ('model', SVC(kernel='linear'))])\n",
    "\n",
    "param_grid = [{'model__gamma': ['scale','auto'],\n",
    "               'model__C': [1.,0.14, 0.1, 0.01]}]\n",
    "\n",
    "gs = GridSearchCV(\n",
    "            estimator=pipe,\n",
    "            param_grid=param_grid,\n",
    "            n_jobs=multiprocessing.cpu_count(),\n",
    "            cv=5, \n",
    "            verbose=True)\n",
    "\n",
    "gs.fit(X, y)\n"
   ]
  },
  {
   "cell_type": "code",
   "execution_count": 228,
   "metadata": {
    "ExecuteTime": {
     "end_time": "2021-07-04T15:32:45.507835Z",
     "start_time": "2021-07-04T15:32:45.433769Z"
    },
    "scrolled": true
   },
   "outputs": [
    {
     "name": "stdout",
     "output_type": "stream",
     "text": [
      "best Pipeline(steps=[('scaler', StandardScaler()),\n",
      "                ('model', SVC(C=0.1, kernel='linear'))])\n",
      "최적 점수: 0.9736531594472908\n",
      "최적 파라미터: {'model__C': 0.1, 'model__gamma': 'scale'}\n",
      "Fitting 5 folds for each of 8 candidates, totalling 40 fits\n"
     ]
    },
    {
     "name": "stderr",
     "output_type": "stream",
     "text": [
      "[Parallel(n_jobs=12)]: Using backend LokyBackend with 12 concurrent workers.\n",
      "[Parallel(n_jobs=12)]: Done  40 out of  40 | elapsed:    0.0s finished\n"
     ]
    },
    {
     "data": {
      "text/html": [
       "<div>\n",
       "<style scoped>\n",
       "    .dataframe tbody tr th:only-of-type {\n",
       "        vertical-align: middle;\n",
       "    }\n",
       "\n",
       "    .dataframe tbody tr th {\n",
       "        vertical-align: top;\n",
       "    }\n",
       "\n",
       "    .dataframe thead th {\n",
       "        text-align: right;\n",
       "    }\n",
       "</style>\n",
       "<table border=\"1\" class=\"dataframe\">\n",
       "  <thead>\n",
       "    <tr style=\"text-align: right;\">\n",
       "      <th></th>\n",
       "      <th>mean_fit_time</th>\n",
       "      <th>std_fit_time</th>\n",
       "      <th>mean_score_time</th>\n",
       "      <th>std_score_time</th>\n",
       "      <th>param_model__C</th>\n",
       "      <th>param_model__gamma</th>\n",
       "      <th>params</th>\n",
       "      <th>split0_test_score</th>\n",
       "      <th>split1_test_score</th>\n",
       "      <th>split2_test_score</th>\n",
       "      <th>split3_test_score</th>\n",
       "      <th>split4_test_score</th>\n",
       "      <th>mean_test_score</th>\n",
       "      <th>std_test_score</th>\n",
       "      <th>rank_test_score</th>\n",
       "    </tr>\n",
       "  </thead>\n",
       "  <tbody>\n",
       "    <tr>\n",
       "      <th>4</th>\n",
       "      <td>0.002402</td>\n",
       "      <td>0.00049</td>\n",
       "      <td>0.0004</td>\n",
       "      <td>0.00049</td>\n",
       "      <td>0.1</td>\n",
       "      <td>scale</td>\n",
       "      <td>{'model__C': 0.1, 'model__gamma': 'scale'}</td>\n",
       "      <td>0.973684</td>\n",
       "      <td>0.973684</td>\n",
       "      <td>0.973684</td>\n",
       "      <td>0.964912</td>\n",
       "      <td>0.982301</td>\n",
       "      <td>0.973653</td>\n",
       "      <td>0.005499</td>\n",
       "      <td>1</td>\n",
       "    </tr>\n",
       "    <tr>\n",
       "      <th>5</th>\n",
       "      <td>0.002803</td>\n",
       "      <td>0.00040</td>\n",
       "      <td>0.0002</td>\n",
       "      <td>0.00040</td>\n",
       "      <td>0.1</td>\n",
       "      <td>auto</td>\n",
       "      <td>{'model__C': 0.1, 'model__gamma': 'auto'}</td>\n",
       "      <td>0.973684</td>\n",
       "      <td>0.973684</td>\n",
       "      <td>0.973684</td>\n",
       "      <td>0.964912</td>\n",
       "      <td>0.982301</td>\n",
       "      <td>0.973653</td>\n",
       "      <td>0.005499</td>\n",
       "      <td>1</td>\n",
       "    </tr>\n",
       "    <tr>\n",
       "      <th>0</th>\n",
       "      <td>0.003203</td>\n",
       "      <td>0.00040</td>\n",
       "      <td>0.0004</td>\n",
       "      <td>0.00049</td>\n",
       "      <td>1</td>\n",
       "      <td>scale</td>\n",
       "      <td>{'model__C': 1.0, 'model__gamma': 'scale'}</td>\n",
       "      <td>0.964912</td>\n",
       "      <td>0.982456</td>\n",
       "      <td>0.964912</td>\n",
       "      <td>0.964912</td>\n",
       "      <td>0.982301</td>\n",
       "      <td>0.971899</td>\n",
       "      <td>0.008557</td>\n",
       "      <td>3</td>\n",
       "    </tr>\n",
       "  </tbody>\n",
       "</table>\n",
       "</div>"
      ],
      "text/plain": [
       "   mean_fit_time  std_fit_time  mean_score_time  std_score_time  \\\n",
       "4       0.002402       0.00049           0.0004         0.00049   \n",
       "5       0.002803       0.00040           0.0002         0.00040   \n",
       "0       0.003203       0.00040           0.0004         0.00049   \n",
       "\n",
       "  param_model__C param_model__gamma  \\\n",
       "4            0.1              scale   \n",
       "5            0.1               auto   \n",
       "0              1              scale   \n",
       "\n",
       "                                       params  split0_test_score  \\\n",
       "4  {'model__C': 0.1, 'model__gamma': 'scale'}           0.973684   \n",
       "5   {'model__C': 0.1, 'model__gamma': 'auto'}           0.973684   \n",
       "0  {'model__C': 1.0, 'model__gamma': 'scale'}           0.964912   \n",
       "\n",
       "   split1_test_score  split2_test_score  split3_test_score  split4_test_score  \\\n",
       "4           0.973684           0.973684           0.964912           0.982301   \n",
       "5           0.973684           0.973684           0.964912           0.982301   \n",
       "0           0.982456           0.964912           0.964912           0.982301   \n",
       "\n",
       "   mean_test_score  std_test_score  rank_test_score  \n",
       "4         0.973653        0.005499                1  \n",
       "5         0.973653        0.005499                1  \n",
       "0         0.971899        0.008557                3  "
      ]
     },
     "execution_count": 228,
     "metadata": {},
     "output_type": "execute_result"
    }
   ],
   "source": [
    "print('best',gs.best_estimator_)\n",
    "print(\"최적 점수: {}\".format(gs.best_score_))\n",
    "print(\"최적 파라미터: {}\".format(gs.best_params_))\n",
    "result = gs.fit(X, y)\n",
    "pd.DataFrame(result.cv_results_).sort_values('rank_test_score').head(3)"
   ]
  },
  {
   "cell_type": "markdown",
   "metadata": {
    "id": "jJfcIODbN6ec"
   },
   "source": [
    "### 붓꽃"
   ]
  },
  {
   "cell_type": "code",
   "execution_count": 229,
   "metadata": {
    "ExecuteTime": {
     "end_time": "2021-07-04T15:32:45.522847Z",
     "start_time": "2021-07-04T15:32:45.508837Z"
    },
    "id": "X39InXCSYuPf"
   },
   "outputs": [],
   "source": [
    "X, y = load_iris(return_X_y=True)\n",
    "X_train, X_test, y_train, y_test = train_test_split(X, y , test_size= 0.2 , random_state=123)"
   ]
  },
  {
   "cell_type": "code",
   "execution_count": 230,
   "metadata": {
    "ExecuteTime": {
     "end_time": "2021-07-04T15:32:45.537862Z",
     "start_time": "2021-07-04T15:32:45.523848Z"
    },
    "id": "I1TKwSKhdLaU"
   },
   "outputs": [],
   "source": [
    "scaler = StandardScaler()\n",
    "scaler.fit(X_train)\n",
    "X_train = scaler.transform(X_train)\n",
    "X_test = scaler.transform(X_test)"
   ]
  },
  {
   "cell_type": "code",
   "execution_count": 231,
   "metadata": {
    "ExecuteTime": {
     "end_time": "2021-07-04T15:32:45.552876Z",
     "start_time": "2021-07-04T15:32:45.538863Z"
    },
    "id": "deIvkeKRZqTU"
   },
   "outputs": [
    {
     "data": {
      "text/plain": [
       "SVC(kernel='linear')"
      ]
     },
     "execution_count": 231,
     "metadata": {},
     "output_type": "execute_result"
    }
   ],
   "source": [
    "model = SVC(kernel='linear')\n",
    "model.fit(X_train, y_train)"
   ]
  },
  {
   "cell_type": "code",
   "execution_count": 232,
   "metadata": {
    "ExecuteTime": {
     "end_time": "2021-07-04T15:32:45.567890Z",
     "start_time": "2021-07-04T15:32:45.553877Z"
    },
    "id": "zEknoMb5aRBt"
   },
   "outputs": [
    {
     "data": {
      "text/plain": [
       "{'C': 1.0,\n",
       " 'break_ties': False,\n",
       " 'cache_size': 200,\n",
       " 'class_weight': None,\n",
       " 'coef0': 0.0,\n",
       " 'decision_function_shape': 'ovr',\n",
       " 'degree': 3,\n",
       " 'gamma': 'scale',\n",
       " 'kernel': 'linear',\n",
       " 'max_iter': -1,\n",
       " 'probability': False,\n",
       " 'random_state': None,\n",
       " 'shrinking': True,\n",
       " 'tol': 0.001,\n",
       " 'verbose': False}"
      ]
     },
     "execution_count": 232,
     "metadata": {},
     "output_type": "execute_result"
    }
   ],
   "source": [
    "model.get_params() # default"
   ]
  },
  {
   "cell_type": "code",
   "execution_count": 233,
   "metadata": {
    "ExecuteTime": {
     "end_time": "2021-07-04T15:32:45.582904Z",
     "start_time": "2021-07-04T15:32:45.568891Z"
    },
    "id": "S3ipWjbFiete"
   },
   "outputs": [
    {
     "name": "stdout",
     "output_type": "stream",
     "text": [
      "표준화 학습 데이터 점수: 0.9833333333333333\n",
      "표준화 평가 데이터 점수: 0.9333333333333333\n"
     ]
    }
   ],
   "source": [
    "print(\"표준화 학습 데이터 점수: {}\".format(model.score(X_train, y_train)))\n",
    "print(\"표준화 평가 데이터 점수: {}\".format(model.score(X_test, y_test)))\n"
   ]
  },
  {
   "cell_type": "markdown",
   "metadata": {},
   "source": [
    "시각화"
   ]
  },
  {
   "cell_type": "code",
   "execution_count": 234,
   "metadata": {
    "ExecuteTime": {
     "end_time": "2021-07-04T15:32:45.597917Z",
     "start_time": "2021-07-04T15:32:45.583905Z"
    }
   },
   "outputs": [],
   "source": [
    "def make_meshgrid(x, y, h=0.2):\n",
    "    x_min, x_max = x.min()-1, x.max()+1\n",
    "    y_min, y_max = y.min()-1, y.max()+1\n",
    "    xx, yy = np.meshgrid(np.arange(x_min, x_max, h),\n",
    "                         np.arange(y_min, y_max, h))\n",
    "    return xx, yy"
   ]
  },
  {
   "cell_type": "code",
   "execution_count": 235,
   "metadata": {
    "ExecuteTime": {
     "end_time": "2021-07-04T15:32:45.612931Z",
     "start_time": "2021-07-04T15:32:45.598920Z"
    }
   },
   "outputs": [],
   "source": [
    "def plot_contours(clf, xx, yy, **params):\n",
    "    Z = clf.predict(np.c_[xx.ravel(), yy.ravel()])\n",
    "    Z = Z.reshape(xx.shape)\n",
    "    out = plt.contourf(xx, yy, Z, **params)\n",
    "    \n",
    "    return out"
   ]
  },
  {
   "cell_type": "code",
   "execution_count": 236,
   "metadata": {
    "ExecuteTime": {
     "end_time": "2021-07-04T15:32:45.943779Z",
     "start_time": "2021-07-04T15:32:45.613932Z"
    },
    "id": "IqLc69hojcIr"
   },
   "outputs": [],
   "source": [
    "X_comp = TSNE(n_components=2).fit_transform(X)"
   ]
  },
  {
   "cell_type": "code",
   "execution_count": 237,
   "metadata": {
    "ExecuteTime": {
     "end_time": "2021-07-04T15:32:45.958793Z",
     "start_time": "2021-07-04T15:32:45.944781Z"
    },
    "id": "IqLc69hojcIr"
   },
   "outputs": [],
   "source": [
    "X0, X1 = X_comp[:, 0], X_comp[:, 1]\n",
    "xx, yy = make_meshgrid(X0, X1)"
   ]
  },
  {
   "cell_type": "code",
   "execution_count": 238,
   "metadata": {
    "ExecuteTime": {
     "end_time": "2021-07-04T15:32:46.093917Z",
     "start_time": "2021-07-04T15:32:45.959794Z"
    },
    "id": "YzGeXLmZbGY7",
    "scrolled": false
   },
   "outputs": [
    {
     "data": {
      "image/png": "[encoded data removed]",
      "text/plain": [
       "<Figure size 432x288 with 1 Axes>"
      ]
     },
     "metadata": {},
     "output_type": "display_data"
    }
   ],
   "source": [
    "model.fit(X_comp, y)\n",
    "\n",
    "plot_contours(model, xx, yy, cmap=plt.cm.coolwarm, alpha=0.7)\n",
    "plt.scatter(X0, X1, c=y, cmap=plt.cm.coolwarm, s=20, edgecolors='k');\n"
   ]
  },
  {
   "cell_type": "code",
   "execution_count": 239,
   "metadata": {
    "ExecuteTime": {
     "end_time": "2021-07-04T15:32:46.108931Z",
     "start_time": "2021-07-04T15:32:46.094918Z"
    },
    "id": "Hfo2Z6T5jo73",
    "scrolled": true
   },
   "outputs": [
    {
     "name": "stderr",
     "output_type": "stream",
     "text": [
      "[Parallel(n_jobs=12)]: Using backend LokyBackend with 12 concurrent workers.\n",
      "[Parallel(n_jobs=12)]: Done   5 out of   5 | elapsed:    0.0s finished\n"
     ]
    },
    {
     "data": {
      "text/plain": [
       "{'fit_time': array([0.00099921, 0.00099921, 0.00099921, 0.00100112, 0.00100112]),\n",
       " 'score_time': array([0.        , 0.00100112, 0.00100112, 0.        , 0.        ]),\n",
       " 'test_score': array([0.96666667, 1.        , 0.93333333, 0.93333333, 1.        ])}"
      ]
     },
     "execution_count": 239,
     "metadata": {},
     "output_type": "execute_result"
    }
   ],
   "source": [
    "estimator = make_pipeline(StandardScaler(), SVC(kernel='linear'))\n",
    "\n",
    "cross_validator = cross_validate(\n",
    "                    estimator=estimator,\n",
    "                    X=X, y=y,\n",
    "                    cv=5, \n",
    "                    n_jobs=multiprocessing.cpu_count(),\n",
    "                    verbose=True)\n",
    "\n",
    "cross_validator"
   ]
  },
  {
   "cell_type": "code",
   "execution_count": 241,
   "metadata": {
    "ExecuteTime": {
     "end_time": "2021-07-04T15:32:59.338224Z",
     "start_time": "2021-07-04T15:32:59.273165Z"
    },
    "id": "G1BG0w50iUNF",
    "scrolled": true
   },
   "outputs": [
    {
     "name": "stdout",
     "output_type": "stream",
     "text": [
      "Fitting 5 folds for each of 10 candidates, totalling 50 fits\n"
     ]
    },
    {
     "name": "stderr",
     "output_type": "stream",
     "text": [
      "[Parallel(n_jobs=12)]: Using backend LokyBackend with 12 concurrent workers.\n",
      "[Parallel(n_jobs=12)]: Done  50 out of  50 | elapsed:    0.0s finished\n"
     ]
    },
    {
     "data": {
      "text/plain": [
       "GridSearchCV(cv=5,\n",
       "             estimator=Pipeline(steps=[('scaler', StandardScaler()),\n",
       "                                       ('model', SVC(kernel='linear'))]),\n",
       "             n_jobs=12,\n",
       "             param_grid=[{'model__C': [0.15, 0.14, 0.12, 0.1, 0.01],\n",
       "                          'model__gamma': ['scale', 'auto']}],\n",
       "             verbose=True)"
      ]
     },
     "execution_count": 241,
     "metadata": {},
     "output_type": "execute_result"
    }
   ],
   "source": [
    "pipe = Pipeline([('scaler', StandardScaler()),\n",
    "                 ('model', SVC(kernel='linear'))])\n",
    "\n",
    "param_grid = [{'model__gamma': ['scale','auto'],\n",
    "               'model__C': [0.15,0.14,0.12, 0.1, 0.01]}]\n",
    "\n",
    "gs = GridSearchCV(\n",
    "            estimator=pipe,\n",
    "            param_grid=param_grid,\n",
    "            n_jobs=multiprocessing.cpu_count(),\n",
    "            cv=5, \n",
    "            verbose=True)\n",
    "\n",
    "gs.fit(X, y)\n"
   ]
  },
  {
   "cell_type": "code",
   "execution_count": 242,
   "metadata": {
    "ExecuteTime": {
     "end_time": "2021-07-04T15:33:00.060235Z",
     "start_time": "2021-07-04T15:32:59.985167Z"
    },
    "scrolled": false
   },
   "outputs": [
    {
     "name": "stdout",
     "output_type": "stream",
     "text": [
      "best Pipeline(steps=[('scaler', StandardScaler()),\n",
      "                ('model', SVC(C=0.15, kernel='linear'))])\n",
      "최적 점수: 0.9800000000000001\n",
      "최적 파라미터: {'model__C': 0.15, 'model__gamma': 'scale'}\n",
      "Fitting 5 folds for each of 10 candidates, totalling 50 fits\n"
     ]
    },
    {
     "name": "stderr",
     "output_type": "stream",
     "text": [
      "[Parallel(n_jobs=12)]: Using backend LokyBackend with 12 concurrent workers.\n",
      "[Parallel(n_jobs=12)]: Done  50 out of  50 | elapsed:    0.0s finished\n"
     ]
    },
    {
     "data": {
      "text/html": [
       "<div>\n",
       "<style scoped>\n",
       "    .dataframe tbody tr th:only-of-type {\n",
       "        vertical-align: middle;\n",
       "    }\n",
       "\n",
       "    .dataframe tbody tr th {\n",
       "        vertical-align: top;\n",
       "    }\n",
       "\n",
       "    .dataframe thead th {\n",
       "        text-align: right;\n",
       "    }\n",
       "</style>\n",
       "<table border=\"1\" class=\"dataframe\">\n",
       "  <thead>\n",
       "    <tr style=\"text-align: right;\">\n",
       "      <th></th>\n",
       "      <th>mean_fit_time</th>\n",
       "      <th>std_fit_time</th>\n",
       "      <th>mean_score_time</th>\n",
       "      <th>std_score_time</th>\n",
       "      <th>param_model__C</th>\n",
       "      <th>param_model__gamma</th>\n",
       "      <th>params</th>\n",
       "      <th>split0_test_score</th>\n",
       "      <th>split1_test_score</th>\n",
       "      <th>split2_test_score</th>\n",
       "      <th>split3_test_score</th>\n",
       "      <th>split4_test_score</th>\n",
       "      <th>mean_test_score</th>\n",
       "      <th>std_test_score</th>\n",
       "      <th>rank_test_score</th>\n",
       "    </tr>\n",
       "  </thead>\n",
       "  <tbody>\n",
       "    <tr>\n",
       "      <th>0</th>\n",
       "      <td>0.001200</td>\n",
       "      <td>4.001382e-04</td>\n",
       "      <td>0.0004</td>\n",
       "      <td>0.000490</td>\n",
       "      <td>0.15</td>\n",
       "      <td>scale</td>\n",
       "      <td>{'model__C': 0.15, 'model__gamma': 'scale'}</td>\n",
       "      <td>0.966667</td>\n",
       "      <td>1.0</td>\n",
       "      <td>1.000000</td>\n",
       "      <td>0.933333</td>\n",
       "      <td>1.0</td>\n",
       "      <td>0.980000</td>\n",
       "      <td>0.026667</td>\n",
       "      <td>1</td>\n",
       "    </tr>\n",
       "    <tr>\n",
       "      <th>1</th>\n",
       "      <td>0.001001</td>\n",
       "      <td>1.168008e-07</td>\n",
       "      <td>0.0004</td>\n",
       "      <td>0.000490</td>\n",
       "      <td>0.15</td>\n",
       "      <td>auto</td>\n",
       "      <td>{'model__C': 0.15, 'model__gamma': 'auto'}</td>\n",
       "      <td>0.966667</td>\n",
       "      <td>1.0</td>\n",
       "      <td>1.000000</td>\n",
       "      <td>0.933333</td>\n",
       "      <td>1.0</td>\n",
       "      <td>0.980000</td>\n",
       "      <td>0.026667</td>\n",
       "      <td>1</td>\n",
       "    </tr>\n",
       "    <tr>\n",
       "      <th>2</th>\n",
       "      <td>0.001200</td>\n",
       "      <td>4.002118e-04</td>\n",
       "      <td>0.0002</td>\n",
       "      <td>0.000401</td>\n",
       "      <td>0.14</td>\n",
       "      <td>scale</td>\n",
       "      <td>{'model__C': 0.14, 'model__gamma': 'scale'}</td>\n",
       "      <td>0.966667</td>\n",
       "      <td>1.0</td>\n",
       "      <td>0.966667</td>\n",
       "      <td>0.933333</td>\n",
       "      <td>1.0</td>\n",
       "      <td>0.973333</td>\n",
       "      <td>0.024944</td>\n",
       "      <td>3</td>\n",
       "    </tr>\n",
       "  </tbody>\n",
       "</table>\n",
       "</div>"
      ],
      "text/plain": [
       "   mean_fit_time  std_fit_time  mean_score_time  std_score_time  \\\n",
       "0       0.001200  4.001382e-04           0.0004        0.000490   \n",
       "1       0.001001  1.168008e-07           0.0004        0.000490   \n",
       "2       0.001200  4.002118e-04           0.0002        0.000401   \n",
       "\n",
       "  param_model__C param_model__gamma  \\\n",
       "0           0.15              scale   \n",
       "1           0.15               auto   \n",
       "2           0.14              scale   \n",
       "\n",
       "                                        params  split0_test_score  \\\n",
       "0  {'model__C': 0.15, 'model__gamma': 'scale'}           0.966667   \n",
       "1   {'model__C': 0.15, 'model__gamma': 'auto'}           0.966667   \n",
       "2  {'model__C': 0.14, 'model__gamma': 'scale'}           0.966667   \n",
       "\n",
       "   split1_test_score  split2_test_score  split3_test_score  split4_test_score  \\\n",
       "0                1.0           1.000000           0.933333                1.0   \n",
       "1                1.0           1.000000           0.933333                1.0   \n",
       "2                1.0           0.966667           0.933333                1.0   \n",
       "\n",
       "   mean_test_score  std_test_score  rank_test_score  \n",
       "0         0.980000        0.026667                1  \n",
       "1         0.980000        0.026667                1  \n",
       "2         0.973333        0.024944                3  "
      ]
     },
     "execution_count": 242,
     "metadata": {},
     "output_type": "execute_result"
    }
   ],
   "source": [
    "print('best',gs.best_estimator_)\n",
    "print(\"최적 점수: {}\".format(gs.best_score_))\n",
    "print(\"최적 파라미터: {}\".format(gs.best_params_))\n",
    "result = gs.fit(X, y)\n",
    "pd.DataFrame(result.cv_results_).sort_values('rank_test_score').head(3)"
   ]
  },
  {
   "cell_type": "markdown",
   "metadata": {
    "id": "fGErBCXR3P_p"
   },
   "source": [
    "### 와인"
   ]
  },
  {
   "cell_type": "code",
   "execution_count": 243,
   "metadata": {
    "ExecuteTime": {
     "end_time": "2021-07-04T15:33:13.670348Z",
     "start_time": "2021-07-04T15:33:13.663341Z"
    },
    "id": "X39InXCSYuPf"
   },
   "outputs": [],
   "source": [
    "X, y = load_wine(return_X_y=True)\n",
    "X_train, X_test, y_train, y_test = train_test_split(X, y , test_size= 0.2 , random_state=123)"
   ]
  },
  {
   "cell_type": "code",
   "execution_count": 244,
   "metadata": {
    "ExecuteTime": {
     "end_time": "2021-07-04T15:33:13.880469Z",
     "start_time": "2021-07-04T15:33:13.874464Z"
    },
    "id": "I1TKwSKhdLaU"
   },
   "outputs": [],
   "source": [
    "scaler = StandardScaler()\n",
    "scaler.fit(X_train)\n",
    "X_train = scaler.transform(X_train)\n",
    "X_test = scaler.transform(X_test)"
   ]
  },
  {
   "cell_type": "code",
   "execution_count": 245,
   "metadata": {
    "ExecuteTime": {
     "end_time": "2021-07-04T15:33:14.075538Z",
     "start_time": "2021-07-04T15:33:14.061527Z"
    },
    "id": "deIvkeKRZqTU"
   },
   "outputs": [
    {
     "data": {
      "text/plain": [
       "SVC(kernel='linear')"
      ]
     },
     "execution_count": 245,
     "metadata": {},
     "output_type": "execute_result"
    }
   ],
   "source": [
    "model = SVC(kernel='linear')\n",
    "model.fit(X_train, y_train)"
   ]
  },
  {
   "cell_type": "code",
   "execution_count": 246,
   "metadata": {
    "ExecuteTime": {
     "end_time": "2021-07-04T15:33:14.255447Z",
     "start_time": "2021-07-04T15:33:14.249442Z"
    },
    "id": "zEknoMb5aRBt"
   },
   "outputs": [
    {
     "data": {
      "text/plain": [
       "{'C': 1.0,\n",
       " 'break_ties': False,\n",
       " 'cache_size': 200,\n",
       " 'class_weight': None,\n",
       " 'coef0': 0.0,\n",
       " 'decision_function_shape': 'ovr',\n",
       " 'degree': 3,\n",
       " 'gamma': 'scale',\n",
       " 'kernel': 'linear',\n",
       " 'max_iter': -1,\n",
       " 'probability': False,\n",
       " 'random_state': None,\n",
       " 'shrinking': True,\n",
       " 'tol': 0.001,\n",
       " 'verbose': False}"
      ]
     },
     "execution_count": 246,
     "metadata": {},
     "output_type": "execute_result"
    }
   ],
   "source": [
    "model.get_params() # default"
   ]
  },
  {
   "cell_type": "code",
   "execution_count": 247,
   "metadata": {
    "ExecuteTime": {
     "end_time": "2021-07-04T15:33:15.049874Z",
     "start_time": "2021-07-04T15:33:15.045879Z"
    },
    "id": "S3ipWjbFiete"
   },
   "outputs": [
    {
     "name": "stdout",
     "output_type": "stream",
     "text": [
      "표준화 학습 데이터 점수: 1.0\n",
      "표준화 평가 데이터 점수: 0.9444444444444444\n"
     ]
    }
   ],
   "source": [
    "print(\"표준화 학습 데이터 점수: {}\".format(model.score(X_train, y_train)))\n",
    "print(\"표준화 평가 데이터 점수: {}\".format(model.score(X_test, y_test)))\n"
   ]
  },
  {
   "cell_type": "markdown",
   "metadata": {},
   "source": [
    "시각화"
   ]
  },
  {
   "cell_type": "code",
   "execution_count": 248,
   "metadata": {
    "ExecuteTime": {
     "end_time": "2021-07-04T15:33:15.771502Z",
     "start_time": "2021-07-04T15:33:15.757490Z"
    }
   },
   "outputs": [],
   "source": [
    "def make_meshgrid(x, y, h=0.2):\n",
    "    x_min, x_max = x.min()-1, x.max()+1\n",
    "    y_min, y_max = y.min()-1, y.max()+1\n",
    "    xx, yy = np.meshgrid(np.arange(x_min, x_max, h),\n",
    "                         np.arange(y_min, y_max, h))\n",
    "    return xx, yy"
   ]
  },
  {
   "cell_type": "code",
   "execution_count": 249,
   "metadata": {
    "ExecuteTime": {
     "end_time": "2021-07-04T15:33:16.147648Z",
     "start_time": "2021-07-04T15:33:16.136632Z"
    }
   },
   "outputs": [],
   "source": [
    "def plot_contours(clf, xx, yy, **params):\n",
    "    Z = clf.predict(np.c_[xx.ravel(), yy.ravel()])\n",
    "    Z = Z.reshape(xx.shape)\n",
    "    out = plt.contourf(xx, yy, Z, **params)\n",
    "    \n",
    "    return out"
   ]
  },
  {
   "cell_type": "code",
   "execution_count": 250,
   "metadata": {
    "ExecuteTime": {
     "end_time": "2021-07-04T15:33:16.853149Z",
     "start_time": "2021-07-04T15:33:16.554372Z"
    },
    "id": "IqLc69hojcIr"
   },
   "outputs": [],
   "source": [
    "X_comp = TSNE(n_components=2).fit_transform(X)"
   ]
  },
  {
   "cell_type": "code",
   "execution_count": 251,
   "metadata": {
    "ExecuteTime": {
     "end_time": "2021-07-04T15:33:16.958387Z",
     "start_time": "2021-07-04T15:33:16.952377Z"
    },
    "id": "IqLc69hojcIr"
   },
   "outputs": [],
   "source": [
    "X0, X1 = X_comp[:, 0], X_comp[:, 1]\n",
    "xx, yy = make_meshgrid(X0, X1)"
   ]
  },
  {
   "cell_type": "code",
   "execution_count": 252,
   "metadata": {
    "ExecuteTime": {
     "end_time": "2021-07-04T15:33:17.695142Z",
     "start_time": "2021-07-04T15:33:17.560227Z"
    },
    "id": "YzGeXLmZbGY7",
    "scrolled": false
   },
   "outputs": [
    {
     "data": {
      "image/png": "[encoded data removed]",
      "text/plain": [
       "<Figure size 432x288 with 1 Axes>"
      ]
     },
     "metadata": {},
     "output_type": "display_data"
    }
   ],
   "source": [
    "model.fit(X_comp, y)\n",
    "\n",
    "plot_contours(model, xx, yy, cmap=plt.cm.coolwarm, alpha=0.7)\n",
    "plt.scatter(X0, X1, c=y, cmap=plt.cm.coolwarm, s=20, edgecolors='k');\n"
   ]
  },
  {
   "cell_type": "code",
   "execution_count": 253,
   "metadata": {
    "ExecuteTime": {
     "end_time": "2021-07-04T15:33:17.771090Z",
     "start_time": "2021-07-04T15:33:17.747560Z"
    },
    "id": "Hfo2Z6T5jo73",
    "scrolled": true
   },
   "outputs": [
    {
     "name": "stderr",
     "output_type": "stream",
     "text": [
      "[Parallel(n_jobs=12)]: Using backend LokyBackend with 12 concurrent workers.\n",
      "[Parallel(n_jobs=12)]: Done   5 out of   5 | elapsed:    0.0s finished\n"
     ]
    },
    {
     "data": {
      "text/plain": [
       "{'fit_time': array([0.00099969, 0.00200272, 0.00100303, 0.00100303, 0.00100303]),\n",
       " 'score_time': array([0., 0., 0., 0., 0.]),\n",
       " 'test_score': array([0.94444444, 0.97222222, 0.97222222, 0.97142857, 0.94285714])}"
      ]
     },
     "execution_count": 253,
     "metadata": {},
     "output_type": "execute_result"
    }
   ],
   "source": [
    "estimator = make_pipeline(StandardScaler(), SVC(kernel='linear'))\n",
    "\n",
    "cross_validator = cross_validate(\n",
    "                    estimator=estimator,\n",
    "                    X=X, y=y,\n",
    "                    cv=5, \n",
    "                    n_jobs=multiprocessing.cpu_count(),\n",
    "                    verbose=True)\n",
    "\n",
    "cross_validator"
   ]
  },
  {
   "cell_type": "code",
   "execution_count": 254,
   "metadata": {
    "ExecuteTime": {
     "end_time": "2021-07-04T15:36:18.951105Z",
     "start_time": "2021-07-04T15:36:18.884614Z"
    },
    "id": "G1BG0w50iUNF",
    "scrolled": true
   },
   "outputs": [
    {
     "ename": "SyntaxError",
     "evalue": "invalid syntax (<ipython-input-254-69a0cf26540f>, line 5)",
     "output_type": "error",
     "traceback": [
      "\u001b[1;36m  File \u001b[1;32m\"<ipython-input-254-69a0cf26540f>\"\u001b[1;36m, line \u001b[1;32m5\u001b[0m\n\u001b[1;33m    'model__C': [0.15,0.14,0.12 0.1, 0.01]}]\u001b[0m\n\u001b[1;37m                                ^\u001b[0m\n\u001b[1;31mSyntaxError\u001b[0m\u001b[1;31m:\u001b[0m invalid syntax\n"
     ]
    }
   ],
   "source": [
    "pipe = Pipeline([('scaler', StandardScaler()),\n",
    "                 ('model', SVC(kernel='linear'))])\n",
    "\n",
    "param_grid = [{'model__gamma': ['scale','auto'],\n",
    "               'model__C': [0.15,0.14,0.12 0.1, 0.01]}]\n",
    "\n",
    "gs = GridSearchCV(\n",
    "            estimator=pipe,\n",
    "            param_grid=param_grid,\n",
    "            n_jobs=multiprocessing.cpu_count(),\n",
    "            cv=5, \n",
    "            verbose=True)\n",
    "\n",
    "gs.fit(X, y)\n"
   ]
  },
  {
   "cell_type": "code",
   "execution_count": 255,
   "metadata": {
    "ExecuteTime": {
     "end_time": "2021-07-04T15:36:20.488005Z",
     "start_time": "2021-07-04T15:36:20.418915Z"
    },
    "scrolled": false
   },
   "outputs": [
    {
     "name": "stdout",
     "output_type": "stream",
     "text": [
      "best Pipeline(steps=[('scaler', StandardScaler()),\n",
      "                ('model', SVC(C=0.15, kernel='linear'))])\n",
      "최적 점수: 0.9800000000000001\n",
      "최적 파라미터: {'model__C': 0.15, 'model__gamma': 'scale'}\n",
      "Fitting 5 folds for each of 10 candidates, totalling 50 fits\n"
     ]
    },
    {
     "name": "stderr",
     "output_type": "stream",
     "text": [
      "[Parallel(n_jobs=12)]: Using backend LokyBackend with 12 concurrent workers.\n",
      "[Parallel(n_jobs=12)]: Done  50 out of  50 | elapsed:    0.0s finished\n"
     ]
    },
    {
     "data": {
      "text/html": [
       "<div>\n",
       "<style scoped>\n",
       "    .dataframe tbody tr th:only-of-type {\n",
       "        vertical-align: middle;\n",
       "    }\n",
       "\n",
       "    .dataframe tbody tr th {\n",
       "        vertical-align: top;\n",
       "    }\n",
       "\n",
       "    .dataframe thead th {\n",
       "        text-align: right;\n",
       "    }\n",
       "</style>\n",
       "<table border=\"1\" class=\"dataframe\">\n",
       "  <thead>\n",
       "    <tr style=\"text-align: right;\">\n",
       "      <th></th>\n",
       "      <th>mean_fit_time</th>\n",
       "      <th>std_fit_time</th>\n",
       "      <th>mean_score_time</th>\n",
       "      <th>std_score_time</th>\n",
       "      <th>param_model__C</th>\n",
       "      <th>param_model__gamma</th>\n",
       "      <th>params</th>\n",
       "      <th>split0_test_score</th>\n",
       "      <th>split1_test_score</th>\n",
       "      <th>split2_test_score</th>\n",
       "      <th>split3_test_score</th>\n",
       "      <th>split4_test_score</th>\n",
       "      <th>mean_test_score</th>\n",
       "      <th>std_test_score</th>\n",
       "      <th>rank_test_score</th>\n",
       "    </tr>\n",
       "  </thead>\n",
       "  <tbody>\n",
       "    <tr>\n",
       "      <th>4</th>\n",
       "      <td>0.001004</td>\n",
       "      <td>0.000015</td>\n",
       "      <td>0.000798</td>\n",
       "      <td>0.000399</td>\n",
       "      <td>0.12</td>\n",
       "      <td>scale</td>\n",
       "      <td>{'model__C': 0.12, 'model__gamma': 'scale'}</td>\n",
       "      <td>0.972222</td>\n",
       "      <td>0.972222</td>\n",
       "      <td>0.972222</td>\n",
       "      <td>1.0</td>\n",
       "      <td>0.971429</td>\n",
       "      <td>0.977619</td>\n",
       "      <td>0.011195</td>\n",
       "      <td>1</td>\n",
       "    </tr>\n",
       "    <tr>\n",
       "      <th>5</th>\n",
       "      <td>0.000801</td>\n",
       "      <td>0.000401</td>\n",
       "      <td>0.000200</td>\n",
       "      <td>0.000401</td>\n",
       "      <td>0.12</td>\n",
       "      <td>auto</td>\n",
       "      <td>{'model__C': 0.12, 'model__gamma': 'auto'}</td>\n",
       "      <td>0.972222</td>\n",
       "      <td>0.972222</td>\n",
       "      <td>0.972222</td>\n",
       "      <td>1.0</td>\n",
       "      <td>0.971429</td>\n",
       "      <td>0.977619</td>\n",
       "      <td>0.011195</td>\n",
       "      <td>1</td>\n",
       "    </tr>\n",
       "    <tr>\n",
       "      <th>0</th>\n",
       "      <td>0.001199</td>\n",
       "      <td>0.000400</td>\n",
       "      <td>0.000600</td>\n",
       "      <td>0.000490</td>\n",
       "      <td>0.15</td>\n",
       "      <td>scale</td>\n",
       "      <td>{'model__C': 0.15, 'model__gamma': 'scale'}</td>\n",
       "      <td>0.944444</td>\n",
       "      <td>0.972222</td>\n",
       "      <td>0.972222</td>\n",
       "      <td>1.0</td>\n",
       "      <td>0.971429</td>\n",
       "      <td>0.972063</td>\n",
       "      <td>0.017571</td>\n",
       "      <td>3</td>\n",
       "    </tr>\n",
       "  </tbody>\n",
       "</table>\n",
       "</div>"
      ],
      "text/plain": [
       "   mean_fit_time  std_fit_time  mean_score_time  std_score_time  \\\n",
       "4       0.001004      0.000015         0.000798        0.000399   \n",
       "5       0.000801      0.000401         0.000200        0.000401   \n",
       "0       0.001199      0.000400         0.000600        0.000490   \n",
       "\n",
       "  param_model__C param_model__gamma  \\\n",
       "4           0.12              scale   \n",
       "5           0.12               auto   \n",
       "0           0.15              scale   \n",
       "\n",
       "                                        params  split0_test_score  \\\n",
       "4  {'model__C': 0.12, 'model__gamma': 'scale'}           0.972222   \n",
       "5   {'model__C': 0.12, 'model__gamma': 'auto'}           0.972222   \n",
       "0  {'model__C': 0.15, 'model__gamma': 'scale'}           0.944444   \n",
       "\n",
       "   split1_test_score  split2_test_score  split3_test_score  split4_test_score  \\\n",
       "4           0.972222           0.972222                1.0           0.971429   \n",
       "5           0.972222           0.972222                1.0           0.971429   \n",
       "0           0.972222           0.972222                1.0           0.971429   \n",
       "\n",
       "   mean_test_score  std_test_score  rank_test_score  \n",
       "4         0.977619        0.011195                1  \n",
       "5         0.977619        0.011195                1  \n",
       "0         0.972063        0.017571                3  "
      ]
     },
     "execution_count": 255,
     "metadata": {},
     "output_type": "execute_result"
    }
   ],
   "source": [
    "print('best',gs.best_estimator_)\n",
    "print(\"최적 점수: {}\".format(gs.best_score_))\n",
    "print(\"최적 파라미터: {}\".format(gs.best_params_))\n",
    "result = gs.fit(X, y)\n",
    "pd.DataFrame(result.cv_results_).sort_values('rank_test_score').head(3)"
   ]
  },
  {
   "cell_type": "markdown",
   "metadata": {
    "id": "NKavNYlxN1fB"
   },
   "source": [
    "## Kernel SVC"
   ]
  },
  {
   "cell_type": "markdown",
   "metadata": {
    "id": "M7QkeGrdOAxV"
   },
   "source": [
    "### 유방암"
   ]
  },
  {
   "cell_type": "code",
   "execution_count": 256,
   "metadata": {
    "ExecuteTime": {
     "end_time": "2021-07-04T15:33:13.670348Z",
     "start_time": "2021-07-04T15:33:13.663341Z"
    },
    "id": "X39InXCSYuPf"
   },
   "outputs": [],
   "source": [
    "X, y = load_breast_cancer(return_X_y=True)\n",
    "X_train, X_test, y_train, y_test = train_test_split(X, y , test_size= 0.2 , random_state=123)"
   ]
  },
  {
   "cell_type": "code",
   "execution_count": 257,
   "metadata": {
    "ExecuteTime": {
     "end_time": "2021-07-04T15:33:13.880469Z",
     "start_time": "2021-07-04T15:33:13.874464Z"
    },
    "id": "I1TKwSKhdLaU"
   },
   "outputs": [],
   "source": [
    "scaler = StandardScaler()\n",
    "scaler.fit(X_train)\n",
    "X_train = scaler.transform(X_train)\n",
    "X_test = scaler.transform(X_test)"
   ]
  },
  {
   "cell_type": "code",
   "execution_count": 258,
   "metadata": {
    "ExecuteTime": {
     "end_time": "2021-07-04T15:33:14.075538Z",
     "start_time": "2021-07-04T15:33:14.061527Z"
    },
    "id": "deIvkeKRZqTU"
   },
   "outputs": [
    {
     "data": {
      "text/plain": [
       "SVC()"
      ]
     },
     "execution_count": 258,
     "metadata": {},
     "output_type": "execute_result"
    }
   ],
   "source": [
    "model = SVC(kernel='rbf')\n",
    "model.fit(X_train, y_train)"
   ]
  },
  {
   "cell_type": "code",
   "execution_count": 259,
   "metadata": {
    "ExecuteTime": {
     "end_time": "2021-07-04T15:33:14.255447Z",
     "start_time": "2021-07-04T15:33:14.249442Z"
    },
    "id": "zEknoMb5aRBt"
   },
   "outputs": [
    {
     "data": {
      "text/plain": [
       "{'C': 1.0,\n",
       " 'break_ties': False,\n",
       " 'cache_size': 200,\n",
       " 'class_weight': None,\n",
       " 'coef0': 0.0,\n",
       " 'decision_function_shape': 'ovr',\n",
       " 'degree': 3,\n",
       " 'gamma': 'scale',\n",
       " 'kernel': 'rbf',\n",
       " 'max_iter': -1,\n",
       " 'probability': False,\n",
       " 'random_state': None,\n",
       " 'shrinking': True,\n",
       " 'tol': 0.001,\n",
       " 'verbose': False}"
      ]
     },
     "execution_count": 259,
     "metadata": {},
     "output_type": "execute_result"
    }
   ],
   "source": [
    "model.get_params() # default"
   ]
  },
  {
   "cell_type": "code",
   "execution_count": 260,
   "metadata": {
    "ExecuteTime": {
     "end_time": "2021-07-04T15:33:15.049874Z",
     "start_time": "2021-07-04T15:33:15.045879Z"
    },
    "id": "S3ipWjbFiete"
   },
   "outputs": [
    {
     "name": "stdout",
     "output_type": "stream",
     "text": [
      "표준화 학습 데이터 점수: 0.9868131868131869\n",
      "표준화 평가 데이터 점수: 0.9824561403508771\n"
     ]
    }
   ],
   "source": [
    "print(\"표준화 학습 데이터 점수: {}\".format(model.score(X_train, y_train)))\n",
    "print(\"표준화 평가 데이터 점수: {}\".format(model.score(X_test, y_test)))\n"
   ]
  },
  {
   "cell_type": "markdown",
   "metadata": {},
   "source": [
    "시각화"
   ]
  },
  {
   "cell_type": "code",
   "execution_count": 261,
   "metadata": {
    "ExecuteTime": {
     "end_time": "2021-07-04T15:33:15.771502Z",
     "start_time": "2021-07-04T15:33:15.757490Z"
    }
   },
   "outputs": [],
   "source": [
    "def make_meshgrid(x, y, h=0.2):\n",
    "    x_min, x_max = x.min()-1, x.max()+1\n",
    "    y_min, y_max = y.min()-1, y.max()+1\n",
    "    xx, yy = np.meshgrid(np.arange(x_min, x_max, h),\n",
    "                         np.arange(y_min, y_max, h))\n",
    "    return xx, yy"
   ]
  },
  {
   "cell_type": "code",
   "execution_count": 262,
   "metadata": {
    "ExecuteTime": {
     "end_time": "2021-07-04T15:33:16.147648Z",
     "start_time": "2021-07-04T15:33:16.136632Z"
    }
   },
   "outputs": [],
   "source": [
    "def plot_contours(clf, xx, yy, **params):\n",
    "    Z = clf.predict(np.c_[xx.ravel(), yy.ravel()])\n",
    "    Z = Z.reshape(xx.shape)\n",
    "    out = plt.contourf(xx, yy, Z, **params)\n",
    "    \n",
    "    return out"
   ]
  },
  {
   "cell_type": "code",
   "execution_count": 263,
   "metadata": {
    "ExecuteTime": {
     "end_time": "2021-07-04T15:33:16.853149Z",
     "start_time": "2021-07-04T15:33:16.554372Z"
    },
    "id": "IqLc69hojcIr"
   },
   "outputs": [],
   "source": [
    "X_comp = TSNE(n_components=2).fit_transform(X)"
   ]
  },
  {
   "cell_type": "code",
   "execution_count": 264,
   "metadata": {
    "ExecuteTime": {
     "end_time": "2021-07-04T15:33:16.958387Z",
     "start_time": "2021-07-04T15:33:16.952377Z"
    },
    "id": "IqLc69hojcIr"
   },
   "outputs": [],
   "source": [
    "X0, X1 = X_comp[:, 0], X_comp[:, 1]\n",
    "xx, yy = make_meshgrid(X0, X1)"
   ]
  },
  {
   "cell_type": "code",
   "execution_count": 265,
   "metadata": {
    "ExecuteTime": {
     "end_time": "2021-07-04T15:33:17.695142Z",
     "start_time": "2021-07-04T15:33:17.560227Z"
    },
    "id": "YzGeXLmZbGY7",
    "scrolled": false
   },
   "outputs": [
    {
     "data": {
      "image/png": "[encoded data removed]",
      "text/plain": [
       "<Figure size 432x288 with 1 Axes>"
      ]
     },
     "metadata": {},
     "output_type": "display_data"
    }
   ],
   "source": [
    "model.fit(X_comp, y)\n",
    "\n",
    "plot_contours(model, xx, yy, cmap=plt.cm.coolwarm, alpha=0.7)\n",
    "plt.scatter(X0, X1, c=y, cmap=plt.cm.coolwarm, s=20, edgecolors='k');\n"
   ]
  },
  {
   "cell_type": "code",
   "execution_count": 266,
   "metadata": {
    "ExecuteTime": {
     "end_time": "2021-07-04T15:33:17.771090Z",
     "start_time": "2021-07-04T15:33:17.747560Z"
    },
    "id": "Hfo2Z6T5jo73",
    "scrolled": true
   },
   "outputs": [
    {
     "name": "stderr",
     "output_type": "stream",
     "text": [
      "[Parallel(n_jobs=12)]: Using backend LokyBackend with 12 concurrent workers.\n",
      "[Parallel(n_jobs=12)]: Done   5 out of   5 | elapsed:    0.0s finished\n"
     ]
    },
    {
     "data": {
      "text/plain": [
       "{'fit_time': array([0.00200105, 0.00300193, 0.00300193, 0.00199938, 0.0030005 ]),\n",
       " 'score_time': array([0.00100088, 0.00100112, 0.00100112, 0.00100112, 0.00100088]),\n",
       " 'test_score': array([0.97368421, 0.95614035, 1.        , 0.96491228, 0.97345133])}"
      ]
     },
     "execution_count": 266,
     "metadata": {},
     "output_type": "execute_result"
    }
   ],
   "source": [
    "estimator = make_pipeline(StandardScaler(), SVC(kernel='rbf'))\n",
    "\n",
    "cross_validator = cross_validate(\n",
    "                    estimator=estimator,\n",
    "                    X=X, y=y,\n",
    "                    cv=5, \n",
    "                    n_jobs=multiprocessing.cpu_count(),\n",
    "                    verbose=True)\n",
    "\n",
    "cross_validator"
   ]
  },
  {
   "cell_type": "code",
   "execution_count": 267,
   "metadata": {
    "ExecuteTime": {
     "end_time": "2021-07-04T15:36:18.951105Z",
     "start_time": "2021-07-04T15:36:18.884614Z"
    },
    "id": "G1BG0w50iUNF",
    "scrolled": true
   },
   "outputs": [
    {
     "name": "stdout",
     "output_type": "stream",
     "text": [
      "Fitting 5 folds for each of 10 candidates, totalling 50 fits\n"
     ]
    },
    {
     "name": "stderr",
     "output_type": "stream",
     "text": [
      "[Parallel(n_jobs=12)]: Using backend LokyBackend with 12 concurrent workers.\n",
      "[Parallel(n_jobs=12)]: Done  50 out of  50 | elapsed:    0.0s finished\n"
     ]
    },
    {
     "data": {
      "text/plain": [
       "GridSearchCV(cv=5,\n",
       "             estimator=Pipeline(steps=[('scaler', StandardScaler()),\n",
       "                                       ('model', SVC())]),\n",
       "             n_jobs=12,\n",
       "             param_grid=[{'model__C': [0.15, 0.14, 0.12, 0.1, 0.01],\n",
       "                          'model__gamma': ['scale', 'auto']}],\n",
       "             verbose=True)"
      ]
     },
     "execution_count": 267,
     "metadata": {},
     "output_type": "execute_result"
    }
   ],
   "source": [
    "pipe = Pipeline([('scaler', StandardScaler()),\n",
    "                 ('model', SVC(kernel='rbf'))])\n",
    "\n",
    "param_grid = [{'model__gamma': ['scale','auto'],\n",
    "               'model__C': [0.15,0.14,0.12, 0.1, 0.01]}]\n",
    "\n",
    "gs = GridSearchCV(\n",
    "            estimator=pipe,\n",
    "            param_grid=param_grid,\n",
    "            n_jobs=multiprocessing.cpu_count(),\n",
    "            cv=5, \n",
    "            verbose=True)\n",
    "\n",
    "gs.fit(X, y)\n"
   ]
  },
  {
   "cell_type": "code",
   "execution_count": 268,
   "metadata": {
    "ExecuteTime": {
     "end_time": "2021-07-04T15:36:20.488005Z",
     "start_time": "2021-07-04T15:36:20.418915Z"
    },
    "scrolled": false
   },
   "outputs": [
    {
     "name": "stdout",
     "output_type": "stream",
     "text": [
      "best Pipeline(steps=[('scaler', StandardScaler()), ('model', SVC(C=0.15))])\n",
      "최적 점수: 0.9525539512498058\n",
      "최적 파라미터: {'model__C': 0.15, 'model__gamma': 'scale'}\n",
      "Fitting 5 folds for each of 10 candidates, totalling 50 fits\n"
     ]
    },
    {
     "name": "stderr",
     "output_type": "stream",
     "text": [
      "[Parallel(n_jobs=12)]: Using backend LokyBackend with 12 concurrent workers.\n",
      "[Parallel(n_jobs=12)]: Done  50 out of  50 | elapsed:    0.0s finished\n"
     ]
    },
    {
     "data": {
      "text/html": [
       "<div>\n",
       "<style scoped>\n",
       "    .dataframe tbody tr th:only-of-type {\n",
       "        vertical-align: middle;\n",
       "    }\n",
       "\n",
       "    .dataframe tbody tr th {\n",
       "        vertical-align: top;\n",
       "    }\n",
       "\n",
       "    .dataframe thead th {\n",
       "        text-align: right;\n",
       "    }\n",
       "</style>\n",
       "<table border=\"1\" class=\"dataframe\">\n",
       "  <thead>\n",
       "    <tr style=\"text-align: right;\">\n",
       "      <th></th>\n",
       "      <th>mean_fit_time</th>\n",
       "      <th>std_fit_time</th>\n",
       "      <th>mean_score_time</th>\n",
       "      <th>std_score_time</th>\n",
       "      <th>param_model__C</th>\n",
       "      <th>param_model__gamma</th>\n",
       "      <th>params</th>\n",
       "      <th>split0_test_score</th>\n",
       "      <th>split1_test_score</th>\n",
       "      <th>split2_test_score</th>\n",
       "      <th>split3_test_score</th>\n",
       "      <th>split4_test_score</th>\n",
       "      <th>mean_test_score</th>\n",
       "      <th>std_test_score</th>\n",
       "      <th>rank_test_score</th>\n",
       "    </tr>\n",
       "  </thead>\n",
       "  <tbody>\n",
       "    <tr>\n",
       "      <th>0</th>\n",
       "      <td>0.004203</td>\n",
       "      <td>4.001148e-04</td>\n",
       "      <td>0.001001</td>\n",
       "      <td>2.336015e-07</td>\n",
       "      <td>0.15</td>\n",
       "      <td>scale</td>\n",
       "      <td>{'model__C': 0.15, 'model__gamma': 'scale'}</td>\n",
       "      <td>0.947368</td>\n",
       "      <td>0.938596</td>\n",
       "      <td>0.964912</td>\n",
       "      <td>0.95614</td>\n",
       "      <td>0.955752</td>\n",
       "      <td>0.952554</td>\n",
       "      <td>0.008916</td>\n",
       "      <td>1</td>\n",
       "    </tr>\n",
       "    <tr>\n",
       "      <th>1</th>\n",
       "      <td>0.004004</td>\n",
       "      <td>1.907349e-07</td>\n",
       "      <td>0.001001</td>\n",
       "      <td>4.672031e-07</td>\n",
       "      <td>0.15</td>\n",
       "      <td>auto</td>\n",
       "      <td>{'model__C': 0.15, 'model__gamma': 'auto'}</td>\n",
       "      <td>0.947368</td>\n",
       "      <td>0.938596</td>\n",
       "      <td>0.964912</td>\n",
       "      <td>0.95614</td>\n",
       "      <td>0.955752</td>\n",
       "      <td>0.952554</td>\n",
       "      <td>0.008916</td>\n",
       "      <td>1</td>\n",
       "    </tr>\n",
       "    <tr>\n",
       "      <th>2</th>\n",
       "      <td>0.003803</td>\n",
       "      <td>3.999005e-04</td>\n",
       "      <td>0.001001</td>\n",
       "      <td>1.907349e-07</td>\n",
       "      <td>0.14</td>\n",
       "      <td>scale</td>\n",
       "      <td>{'model__C': 0.14, 'model__gamma': 'scale'}</td>\n",
       "      <td>0.929825</td>\n",
       "      <td>0.929825</td>\n",
       "      <td>0.964912</td>\n",
       "      <td>0.95614</td>\n",
       "      <td>0.955752</td>\n",
       "      <td>0.947291</td>\n",
       "      <td>0.014633</td>\n",
       "      <td>3</td>\n",
       "    </tr>\n",
       "  </tbody>\n",
       "</table>\n",
       "</div>"
      ],
      "text/plain": [
       "   mean_fit_time  std_fit_time  mean_score_time  std_score_time  \\\n",
       "0       0.004203  4.001148e-04         0.001001    2.336015e-07   \n",
       "1       0.004004  1.907349e-07         0.001001    4.672031e-07   \n",
       "2       0.003803  3.999005e-04         0.001001    1.907349e-07   \n",
       "\n",
       "  param_model__C param_model__gamma  \\\n",
       "0           0.15              scale   \n",
       "1           0.15               auto   \n",
       "2           0.14              scale   \n",
       "\n",
       "                                        params  split0_test_score  \\\n",
       "0  {'model__C': 0.15, 'model__gamma': 'scale'}           0.947368   \n",
       "1   {'model__C': 0.15, 'model__gamma': 'auto'}           0.947368   \n",
       "2  {'model__C': 0.14, 'model__gamma': 'scale'}           0.929825   \n",
       "\n",
       "   split1_test_score  split2_test_score  split3_test_score  split4_test_score  \\\n",
       "0           0.938596           0.964912            0.95614           0.955752   \n",
       "1           0.938596           0.964912            0.95614           0.955752   \n",
       "2           0.929825           0.964912            0.95614           0.955752   \n",
       "\n",
       "   mean_test_score  std_test_score  rank_test_score  \n",
       "0         0.952554        0.008916                1  \n",
       "1         0.952554        0.008916                1  \n",
       "2         0.947291        0.014633                3  "
      ]
     },
     "execution_count": 268,
     "metadata": {},
     "output_type": "execute_result"
    }
   ],
   "source": [
    "print('best',gs.best_estimator_)\n",
    "print(\"최적 점수: {}\".format(gs.best_score_))\n",
    "print(\"최적 파라미터: {}\".format(gs.best_params_))\n",
    "result = gs.fit(X, y)\n",
    "pd.DataFrame(result.cv_results_).sort_values('rank_test_score').head(3)"
   ]
  },
  {
   "cell_type": "markdown",
   "metadata": {
    "id": "8488abTBN-GA"
   },
   "source": [
    "### 붓꽃"
   ]
  },
  {
   "cell_type": "code",
   "execution_count": 269,
   "metadata": {
    "ExecuteTime": {
     "end_time": "2021-07-04T15:33:13.670348Z",
     "start_time": "2021-07-04T15:33:13.663341Z"
    },
    "id": "X39InXCSYuPf"
   },
   "outputs": [],
   "source": [
    "X, y = load_iris(return_X_y=True)\n",
    "X_train, X_test, y_train, y_test = train_test_split(X, y , test_size= 0.2 , random_state=123)"
   ]
  },
  {
   "cell_type": "code",
   "execution_count": 270,
   "metadata": {
    "ExecuteTime": {
     "end_time": "2021-07-04T15:33:13.880469Z",
     "start_time": "2021-07-04T15:33:13.874464Z"
    },
    "id": "I1TKwSKhdLaU"
   },
   "outputs": [],
   "source": [
    "scaler = StandardScaler()\n",
    "scaler.fit(X_train)\n",
    "X_train = scaler.transform(X_train)\n",
    "X_test = scaler.transform(X_test)"
   ]
  },
  {
   "cell_type": "code",
   "execution_count": 271,
   "metadata": {
    "ExecuteTime": {
     "end_time": "2021-07-04T15:33:14.075538Z",
     "start_time": "2021-07-04T15:33:14.061527Z"
    },
    "id": "deIvkeKRZqTU"
   },
   "outputs": [
    {
     "data": {
      "text/plain": [
       "SVC()"
      ]
     },
     "execution_count": 271,
     "metadata": {},
     "output_type": "execute_result"
    }
   ],
   "source": [
    "model = SVC(kernel='rbf')\n",
    "model.fit(X_train, y_train)"
   ]
  },
  {
   "cell_type": "code",
   "execution_count": 272,
   "metadata": {
    "ExecuteTime": {
     "end_time": "2021-07-04T15:33:14.255447Z",
     "start_time": "2021-07-04T15:33:14.249442Z"
    },
    "id": "zEknoMb5aRBt"
   },
   "outputs": [
    {
     "data": {
      "text/plain": [
       "{'C': 1.0,\n",
       " 'break_ties': False,\n",
       " 'cache_size': 200,\n",
       " 'class_weight': None,\n",
       " 'coef0': 0.0,\n",
       " 'decision_function_shape': 'ovr',\n",
       " 'degree': 3,\n",
       " 'gamma': 'scale',\n",
       " 'kernel': 'rbf',\n",
       " 'max_iter': -1,\n",
       " 'probability': False,\n",
       " 'random_state': None,\n",
       " 'shrinking': True,\n",
       " 'tol': 0.001,\n",
       " 'verbose': False}"
      ]
     },
     "execution_count": 272,
     "metadata": {},
     "output_type": "execute_result"
    }
   ],
   "source": [
    "model.get_params() # default"
   ]
  },
  {
   "cell_type": "code",
   "execution_count": 273,
   "metadata": {
    "ExecuteTime": {
     "end_time": "2021-07-04T15:33:15.049874Z",
     "start_time": "2021-07-04T15:33:15.045879Z"
    },
    "id": "S3ipWjbFiete"
   },
   "outputs": [
    {
     "name": "stdout",
     "output_type": "stream",
     "text": [
      "표준화 학습 데이터 점수: 0.9833333333333333\n",
      "표준화 평가 데이터 점수: 0.9333333333333333\n"
     ]
    }
   ],
   "source": [
    "print(\"표준화 학습 데이터 점수: {}\".format(model.score(X_train, y_train)))\n",
    "print(\"표준화 평가 데이터 점수: {}\".format(model.score(X_test, y_test)))\n"
   ]
  },
  {
   "cell_type": "markdown",
   "metadata": {},
   "source": [
    "시각화"
   ]
  },
  {
   "cell_type": "code",
   "execution_count": 274,
   "metadata": {
    "ExecuteTime": {
     "end_time": "2021-07-04T15:33:15.771502Z",
     "start_time": "2021-07-04T15:33:15.757490Z"
    }
   },
   "outputs": [],
   "source": [
    "def make_meshgrid(x, y, h=0.2):\n",
    "    x_min, x_max = x.min()-1, x.max()+1\n",
    "    y_min, y_max = y.min()-1, y.max()+1\n",
    "    xx, yy = np.meshgrid(np.arange(x_min, x_max, h),\n",
    "                         np.arange(y_min, y_max, h))\n",
    "    return xx, yy"
   ]
  },
  {
   "cell_type": "code",
   "execution_count": 275,
   "metadata": {
    "ExecuteTime": {
     "end_time": "2021-07-04T15:33:16.147648Z",
     "start_time": "2021-07-04T15:33:16.136632Z"
    }
   },
   "outputs": [],
   "source": [
    "def plot_contours(clf, xx, yy, **params):\n",
    "    Z = clf.predict(np.c_[xx.ravel(), yy.ravel()])\n",
    "    Z = Z.reshape(xx.shape)\n",
    "    out = plt.contourf(xx, yy, Z, **params)\n",
    "    \n",
    "    return out"
   ]
  },
  {
   "cell_type": "code",
   "execution_count": 276,
   "metadata": {
    "ExecuteTime": {
     "end_time": "2021-07-04T15:33:16.853149Z",
     "start_time": "2021-07-04T15:33:16.554372Z"
    },
    "id": "IqLc69hojcIr"
   },
   "outputs": [],
   "source": [
    "X_comp = TSNE(n_components=2).fit_transform(X)"
   ]
  },
  {
   "cell_type": "code",
   "execution_count": 277,
   "metadata": {
    "ExecuteTime": {
     "end_time": "2021-07-04T15:33:16.958387Z",
     "start_time": "2021-07-04T15:33:16.952377Z"
    },
    "id": "IqLc69hojcIr"
   },
   "outputs": [],
   "source": [
    "X0, X1 = X_comp[:, 0], X_comp[:, 1]\n",
    "xx, yy = make_meshgrid(X0, X1)"
   ]
  },
  {
   "cell_type": "code",
   "execution_count": 278,
   "metadata": {
    "ExecuteTime": {
     "end_time": "2021-07-04T15:33:17.695142Z",
     "start_time": "2021-07-04T15:33:17.560227Z"
    },
    "id": "YzGeXLmZbGY7",
    "scrolled": false
   },
   "outputs": [
    {
     "data": {
      "image/png": "[encoded data removed]",
      "text/plain": [
       "<Figure size 432x288 with 1 Axes>"
      ]
     },
     "metadata": {},
     "output_type": "display_data"
    }
   ],
   "source": [
    "model.fit(X_comp, y)\n",
    "\n",
    "plot_contours(model, xx, yy, cmap=plt.cm.coolwarm, alpha=0.7)\n",
    "plt.scatter(X0, X1, c=y, cmap=plt.cm.coolwarm, s=20, edgecolors='k');\n"
   ]
  },
  {
   "cell_type": "code",
   "execution_count": 279,
   "metadata": {
    "ExecuteTime": {
     "end_time": "2021-07-04T15:33:17.771090Z",
     "start_time": "2021-07-04T15:33:17.747560Z"
    },
    "id": "Hfo2Z6T5jo73",
    "scrolled": true
   },
   "outputs": [
    {
     "name": "stderr",
     "output_type": "stream",
     "text": [
      "[Parallel(n_jobs=12)]: Using backend LokyBackend with 12 concurrent workers.\n",
      "[Parallel(n_jobs=12)]: Done   5 out of   5 | elapsed:    0.0s finished\n"
     ]
    },
    {
     "data": {
      "text/plain": [
       "{'fit_time': array([0.00100064, 0.00100064, 0.00100064, 0.00100064, 0.00200105]),\n",
       " 'score_time': array([0.       , 0.       , 0.0010004, 0.0010004, 0.       ]),\n",
       " 'test_score': array([0.96666667, 0.96666667, 0.96666667, 0.93333333, 1.        ])}"
      ]
     },
     "execution_count": 279,
     "metadata": {},
     "output_type": "execute_result"
    }
   ],
   "source": [
    "estimator = make_pipeline(StandardScaler(), SVC(kernel='rbf'))\n",
    "\n",
    "cross_validator = cross_validate(\n",
    "                    estimator=estimator,\n",
    "                    X=X, y=y,\n",
    "                    cv=5, \n",
    "                    n_jobs=multiprocessing.cpu_count(),\n",
    "                    verbose=True)\n",
    "\n",
    "cross_validator"
   ]
  },
  {
   "cell_type": "code",
   "execution_count": 295,
   "metadata": {
    "ExecuteTime": {
     "end_time": "2021-07-04T15:36:18.951105Z",
     "start_time": "2021-07-04T15:36:18.884614Z"
    },
    "id": "G1BG0w50iUNF",
    "scrolled": true
   },
   "outputs": [
    {
     "name": "stdout",
     "output_type": "stream",
     "text": [
      "Fitting 5 folds for each of 12 candidates, totalling 60 fits\n"
     ]
    },
    {
     "name": "stderr",
     "output_type": "stream",
     "text": [
      "[Parallel(n_jobs=12)]: Using backend LokyBackend with 12 concurrent workers.\n",
      "[Parallel(n_jobs=12)]: Done  60 out of  60 | elapsed:    0.0s finished\n"
     ]
    },
    {
     "data": {
      "text/plain": [
       "GridSearchCV(cv=5,\n",
       "             estimator=Pipeline(steps=[('scaler', StandardScaler()),\n",
       "                                       ('model', SVC())]),\n",
       "             n_jobs=12,\n",
       "             param_grid=[{'model__C': [6.0, 5.5, 5.0, 1.0, 0.1, 0.01],\n",
       "                          'model__gamma': ['scale', 'auto']}],\n",
       "             verbose=True)"
      ]
     },
     "execution_count": 295,
     "metadata": {},
     "output_type": "execute_result"
    }
   ],
   "source": [
    "pipe = Pipeline([('scaler', StandardScaler()),\n",
    "                 ('model', SVC(kernel='rbf'))])\n",
    "\n",
    "param_grid = [{'model__gamma': ['scale','auto'],\n",
    "               'model__C': [6.0,5.5,5.0,1.0,0.1, 0.01]}]\n",
    "\n",
    "gs = GridSearchCV(\n",
    "            estimator=pipe,\n",
    "            param_grid=param_grid,\n",
    "            n_jobs=multiprocessing.cpu_count(),\n",
    "            cv=5, \n",
    "            verbose=True)\n",
    "\n",
    "gs.fit(X, y)\n"
   ]
  },
  {
   "cell_type": "code",
   "execution_count": 296,
   "metadata": {
    "ExecuteTime": {
     "end_time": "2021-07-04T15:36:20.488005Z",
     "start_time": "2021-07-04T15:36:20.418915Z"
    },
    "scrolled": false
   },
   "outputs": [
    {
     "name": "stdout",
     "output_type": "stream",
     "text": [
      "best Pipeline(steps=[('scaler', StandardScaler()), ('model', SVC(C=6.0))])\n",
      "최적 점수: 0.9733333333333334\n",
      "최적 파라미터: {'model__C': 6.0, 'model__gamma': 'scale'}\n",
      "Fitting 5 folds for each of 12 candidates, totalling 60 fits\n"
     ]
    },
    {
     "name": "stderr",
     "output_type": "stream",
     "text": [
      "[Parallel(n_jobs=12)]: Using backend LokyBackend with 12 concurrent workers.\n",
      "[Parallel(n_jobs=12)]: Done  60 out of  60 | elapsed:    0.0s finished\n"
     ]
    },
    {
     "data": {
      "text/html": [
       "<div>\n",
       "<style scoped>\n",
       "    .dataframe tbody tr th:only-of-type {\n",
       "        vertical-align: middle;\n",
       "    }\n",
       "\n",
       "    .dataframe tbody tr th {\n",
       "        vertical-align: top;\n",
       "    }\n",
       "\n",
       "    .dataframe thead th {\n",
       "        text-align: right;\n",
       "    }\n",
       "</style>\n",
       "<table border=\"1\" class=\"dataframe\">\n",
       "  <thead>\n",
       "    <tr style=\"text-align: right;\">\n",
       "      <th></th>\n",
       "      <th>mean_fit_time</th>\n",
       "      <th>std_fit_time</th>\n",
       "      <th>mean_score_time</th>\n",
       "      <th>std_score_time</th>\n",
       "      <th>param_model__C</th>\n",
       "      <th>param_model__gamma</th>\n",
       "      <th>params</th>\n",
       "      <th>split0_test_score</th>\n",
       "      <th>split1_test_score</th>\n",
       "      <th>split2_test_score</th>\n",
       "      <th>split3_test_score</th>\n",
       "      <th>split4_test_score</th>\n",
       "      <th>mean_test_score</th>\n",
       "      <th>std_test_score</th>\n",
       "      <th>rank_test_score</th>\n",
       "    </tr>\n",
       "  </thead>\n",
       "  <tbody>\n",
       "    <tr>\n",
       "      <th>0</th>\n",
       "      <td>0.001405</td>\n",
       "      <td>0.000202</td>\n",
       "      <td>0.000000</td>\n",
       "      <td>0.000000</td>\n",
       "      <td>6</td>\n",
       "      <td>scale</td>\n",
       "      <td>{'model__C': 6.0, 'model__gamma': 'scale'}</td>\n",
       "      <td>1.0</td>\n",
       "      <td>0.966667</td>\n",
       "      <td>0.966667</td>\n",
       "      <td>0.933333</td>\n",
       "      <td>1.0</td>\n",
       "      <td>0.973333</td>\n",
       "      <td>0.024944</td>\n",
       "      <td>1</td>\n",
       "    </tr>\n",
       "    <tr>\n",
       "      <th>1</th>\n",
       "      <td>0.001007</td>\n",
       "      <td>0.000449</td>\n",
       "      <td>0.000201</td>\n",
       "      <td>0.000402</td>\n",
       "      <td>6</td>\n",
       "      <td>auto</td>\n",
       "      <td>{'model__C': 6.0, 'model__gamma': 'auto'}</td>\n",
       "      <td>1.0</td>\n",
       "      <td>0.966667</td>\n",
       "      <td>0.966667</td>\n",
       "      <td>0.933333</td>\n",
       "      <td>1.0</td>\n",
       "      <td>0.973333</td>\n",
       "      <td>0.024944</td>\n",
       "      <td>1</td>\n",
       "    </tr>\n",
       "    <tr>\n",
       "      <th>2</th>\n",
       "      <td>0.000402</td>\n",
       "      <td>0.000492</td>\n",
       "      <td>0.000600</td>\n",
       "      <td>0.000490</td>\n",
       "      <td>5.5</td>\n",
       "      <td>scale</td>\n",
       "      <td>{'model__C': 5.5, 'model__gamma': 'scale'}</td>\n",
       "      <td>1.0</td>\n",
       "      <td>0.966667</td>\n",
       "      <td>0.966667</td>\n",
       "      <td>0.933333</td>\n",
       "      <td>1.0</td>\n",
       "      <td>0.973333</td>\n",
       "      <td>0.024944</td>\n",
       "      <td>1</td>\n",
       "    </tr>\n",
       "  </tbody>\n",
       "</table>\n",
       "</div>"
      ],
      "text/plain": [
       "   mean_fit_time  std_fit_time  mean_score_time  std_score_time  \\\n",
       "0       0.001405      0.000202         0.000000        0.000000   \n",
       "1       0.001007      0.000449         0.000201        0.000402   \n",
       "2       0.000402      0.000492         0.000600        0.000490   \n",
       "\n",
       "  param_model__C param_model__gamma  \\\n",
       "0              6              scale   \n",
       "1              6               auto   \n",
       "2            5.5              scale   \n",
       "\n",
       "                                       params  split0_test_score  \\\n",
       "0  {'model__C': 6.0, 'model__gamma': 'scale'}                1.0   \n",
       "1   {'model__C': 6.0, 'model__gamma': 'auto'}                1.0   \n",
       "2  {'model__C': 5.5, 'model__gamma': 'scale'}                1.0   \n",
       "\n",
       "   split1_test_score  split2_test_score  split3_test_score  split4_test_score  \\\n",
       "0           0.966667           0.966667           0.933333                1.0   \n",
       "1           0.966667           0.966667           0.933333                1.0   \n",
       "2           0.966667           0.966667           0.933333                1.0   \n",
       "\n",
       "   mean_test_score  std_test_score  rank_test_score  \n",
       "0         0.973333        0.024944                1  \n",
       "1         0.973333        0.024944                1  \n",
       "2         0.973333        0.024944                1  "
      ]
     },
     "execution_count": 296,
     "metadata": {},
     "output_type": "execute_result"
    }
   ],
   "source": [
    "print('best',gs.best_estimator_)\n",
    "print(\"최적 점수: {}\".format(gs.best_score_))\n",
    "print(\"최적 파라미터: {}\".format(gs.best_params_))\n",
    "result = gs.fit(X, y)\n",
    "pd.DataFrame(result.cv_results_).sort_values('rank_test_score').head(3)"
   ]
  },
  {
   "cell_type": "markdown",
   "metadata": {
    "id": "nidX5eMZ3ncE"
   },
   "source": [
    "### 와인"
   ]
  },
  {
   "cell_type": "code",
   "execution_count": 297,
   "metadata": {
    "ExecuteTime": {
     "end_time": "2021-07-04T15:37:03.377525Z",
     "start_time": "2021-07-04T15:37:03.358142Z"
    },
    "id": "X39InXCSYuPf"
   },
   "outputs": [],
   "source": [
    "X, y = load_wine(return_X_y=True)\n",
    "X_train, X_test, y_train, y_test = train_test_split(X, y , test_size= 0.2 , random_state=123)"
   ]
  },
  {
   "cell_type": "code",
   "execution_count": 298,
   "metadata": {
    "ExecuteTime": {
     "end_time": "2021-07-04T15:37:04.296598Z",
     "start_time": "2021-07-04T15:37:04.280048Z"
    },
    "id": "I1TKwSKhdLaU"
   },
   "outputs": [],
   "source": [
    "scaler = StandardScaler()\n",
    "scaler.fit(X_train)\n",
    "X_train = scaler.transform(X_train)\n",
    "X_test = scaler.transform(X_test)"
   ]
  },
  {
   "cell_type": "code",
   "execution_count": 299,
   "metadata": {
    "ExecuteTime": {
     "end_time": "2021-07-04T15:37:05.197827Z",
     "start_time": "2021-07-04T15:37:05.180812Z"
    },
    "id": "deIvkeKRZqTU"
   },
   "outputs": [
    {
     "data": {
      "text/plain": [
       "SVC()"
      ]
     },
     "execution_count": 299,
     "metadata": {},
     "output_type": "execute_result"
    }
   ],
   "source": [
    "model = SVC(kernel='rbf')\n",
    "model.fit(X_train, y_train)"
   ]
  },
  {
   "cell_type": "code",
   "execution_count": 300,
   "metadata": {
    "ExecuteTime": {
     "end_time": "2021-07-04T15:37:05.572848Z",
     "start_time": "2021-07-04T15:37:05.557836Z"
    },
    "id": "zEknoMb5aRBt"
   },
   "outputs": [
    {
     "data": {
      "text/plain": [
       "{'C': 1.0,\n",
       " 'break_ties': False,\n",
       " 'cache_size': 200,\n",
       " 'class_weight': None,\n",
       " 'coef0': 0.0,\n",
       " 'decision_function_shape': 'ovr',\n",
       " 'degree': 3,\n",
       " 'gamma': 'scale',\n",
       " 'kernel': 'rbf',\n",
       " 'max_iter': -1,\n",
       " 'probability': False,\n",
       " 'random_state': None,\n",
       " 'shrinking': True,\n",
       " 'tol': 0.001,\n",
       " 'verbose': False}"
      ]
     },
     "execution_count": 300,
     "metadata": {},
     "output_type": "execute_result"
    }
   ],
   "source": [
    "model.get_params() # default"
   ]
  },
  {
   "cell_type": "code",
   "execution_count": 301,
   "metadata": {
    "ExecuteTime": {
     "end_time": "2021-07-04T15:37:06.099596Z",
     "start_time": "2021-07-04T15:37:06.083047Z"
    },
    "id": "S3ipWjbFiete"
   },
   "outputs": [
    {
     "name": "stdout",
     "output_type": "stream",
     "text": [
      "표준화 학습 데이터 점수: 1.0\n",
      "표준화 평가 데이터 점수: 0.9722222222222222\n"
     ]
    }
   ],
   "source": [
    "print(\"표준화 학습 데이터 점수: {}\".format(model.score(X_train, y_train)))\n",
    "print(\"표준화 평가 데이터 점수: {}\".format(model.score(X_test, y_test)))\n"
   ]
  },
  {
   "cell_type": "markdown",
   "metadata": {},
   "source": [
    "시각화"
   ]
  },
  {
   "cell_type": "code",
   "execution_count": 302,
   "metadata": {
    "ExecuteTime": {
     "end_time": "2021-07-04T15:37:07.077871Z",
     "start_time": "2021-07-04T15:37:07.066853Z"
    }
   },
   "outputs": [],
   "source": [
    "def make_meshgrid(x, y, h=0.2):\n",
    "    x_min, x_max = x.min()-1, x.max()+1\n",
    "    y_min, y_max = y.min()-1, y.max()+1\n",
    "    xx, yy = np.meshgrid(np.arange(x_min, x_max, h),\n",
    "                         np.arange(y_min, y_max, h))\n",
    "    return xx, yy"
   ]
  },
  {
   "cell_type": "code",
   "execution_count": 303,
   "metadata": {
    "ExecuteTime": {
     "end_time": "2021-07-04T15:37:07.499021Z",
     "start_time": "2021-07-04T15:37:07.488010Z"
    }
   },
   "outputs": [],
   "source": [
    "def plot_contours(clf, xx, yy, **params):\n",
    "    Z = clf.predict(np.c_[xx.ravel(), yy.ravel()])\n",
    "    Z = Z.reshape(xx.shape)\n",
    "    out = plt.contourf(xx, yy, Z, **params)\n",
    "    \n",
    "    return out"
   ]
  },
  {
   "cell_type": "code",
   "execution_count": 304,
   "metadata": {
    "ExecuteTime": {
     "end_time": "2021-07-04T15:37:08.159392Z",
     "start_time": "2021-07-04T15:37:07.863126Z"
    },
    "id": "IqLc69hojcIr"
   },
   "outputs": [],
   "source": [
    "X_comp = TSNE(n_components=2).fit_transform(X)"
   ]
  },
  {
   "cell_type": "code",
   "execution_count": 305,
   "metadata": {
    "ExecuteTime": {
     "end_time": "2021-07-04T15:37:08.294223Z",
     "start_time": "2021-07-04T15:37:08.282212Z"
    },
    "id": "IqLc69hojcIr"
   },
   "outputs": [],
   "source": [
    "X0, X1 = X_comp[:, 0], X_comp[:, 1]\n",
    "xx, yy = make_meshgrid(X0, X1)"
   ]
  },
  {
   "cell_type": "code",
   "execution_count": 306,
   "metadata": {
    "ExecuteTime": {
     "end_time": "2021-07-04T15:37:08.579146Z",
     "start_time": "2021-07-04T15:37:08.450028Z"
    },
    "id": "YzGeXLmZbGY7",
    "scrolled": false
   },
   "outputs": [
    {
     "data": {
      "image/png": "[encoded data removed]",
      "text/plain": [
       "<Figure size 432x288 with 1 Axes>"
      ]
     },
     "metadata": {},
     "output_type": "display_data"
    }
   ],
   "source": [
    "model.fit(X_comp, y)\n",
    "\n",
    "plot_contours(model, xx, yy, cmap=plt.cm.coolwarm, alpha=0.7)\n",
    "plt.scatter(X0, X1, c=y, cmap=plt.cm.coolwarm, s=20, edgecolors='k');\n"
   ]
  },
  {
   "cell_type": "code",
   "execution_count": 307,
   "metadata": {
    "ExecuteTime": {
     "end_time": "2021-07-04T15:37:10.548674Z",
     "start_time": "2021-07-04T15:37:10.525233Z"
    },
    "id": "Hfo2Z6T5jo73",
    "scrolled": true
   },
   "outputs": [
    {
     "name": "stderr",
     "output_type": "stream",
     "text": [
      "[Parallel(n_jobs=12)]: Using backend LokyBackend with 12 concurrent workers.\n",
      "[Parallel(n_jobs=12)]: Done   5 out of   5 | elapsed:    0.0s finished\n"
     ]
    },
    {
     "data": {
      "text/plain": [
       "{'fit_time': array([0.00099182, 0.00099182, 0.00199032, 0.00199032, 0.0009985 ]),\n",
       " 'score_time': array([0.        , 0.        , 0.        , 0.        , 0.00100303]),\n",
       " 'test_score': array([1.        , 0.97222222, 0.94444444, 1.        , 1.        ])}"
      ]
     },
     "execution_count": 307,
     "metadata": {},
     "output_type": "execute_result"
    }
   ],
   "source": [
    "estimator = make_pipeline(StandardScaler(), SVC(kernel='rbf'))\n",
    "\n",
    "cross_validator = cross_validate(\n",
    "                    estimator=estimator,\n",
    "                    X=X, y=y,\n",
    "                    cv=5, \n",
    "                    n_jobs=multiprocessing.cpu_count(),\n",
    "                    verbose=True)\n",
    "\n",
    "cross_validator"
   ]
  },
  {
   "cell_type": "code",
   "execution_count": 308,
   "metadata": {
    "ExecuteTime": {
     "end_time": "2021-07-04T15:37:11.285916Z",
     "start_time": "2021-07-04T15:37:11.215847Z"
    },
    "id": "G1BG0w50iUNF",
    "scrolled": true
   },
   "outputs": [
    {
     "name": "stdout",
     "output_type": "stream",
     "text": [
      "Fitting 5 folds for each of 12 candidates, totalling 60 fits\n"
     ]
    },
    {
     "name": "stderr",
     "output_type": "stream",
     "text": [
      "[Parallel(n_jobs=12)]: Using backend LokyBackend with 12 concurrent workers.\n",
      "[Parallel(n_jobs=12)]: Done  60 out of  60 | elapsed:    0.0s finished\n"
     ]
    },
    {
     "data": {
      "text/plain": [
       "GridSearchCV(cv=5,\n",
       "             estimator=Pipeline(steps=[('scaler', StandardScaler()),\n",
       "                                       ('model', SVC())]),\n",
       "             n_jobs=12,\n",
       "             param_grid=[{'model__C': [6.0, 5.5, 5.0, 1.0, 0.1, 0.01],\n",
       "                          'model__gamma': ['scale', 'auto']}],\n",
       "             verbose=True)"
      ]
     },
     "execution_count": 308,
     "metadata": {},
     "output_type": "execute_result"
    }
   ],
   "source": [
    "pipe = Pipeline([('scaler', StandardScaler()),\n",
    "                 ('model', SVC(kernel='rbf'))])\n",
    "\n",
    "param_grid = [{'model__gamma': ['scale','auto'],\n",
    "               'model__C': [6.0,5.5,5.0,1.0,0.1, 0.01]}]\n",
    "\n",
    "gs = GridSearchCV(\n",
    "            estimator=pipe,\n",
    "            param_grid=param_grid,\n",
    "            n_jobs=multiprocessing.cpu_count(),\n",
    "            cv=5, \n",
    "            verbose=True)\n",
    "\n",
    "gs.fit(X, y)\n"
   ]
  },
  {
   "cell_type": "code",
   "execution_count": 309,
   "metadata": {
    "ExecuteTime": {
     "end_time": "2021-07-04T15:37:12.187435Z",
     "start_time": "2021-07-04T15:37:12.117851Z"
    },
    "scrolled": false
   },
   "outputs": [
    {
     "name": "stdout",
     "output_type": "stream",
     "text": [
      "best Pipeline(steps=[('scaler', StandardScaler()), ('model', SVC(C=6.0))])\n",
      "최적 점수: 0.9888888888888889\n",
      "최적 파라미터: {'model__C': 6.0, 'model__gamma': 'scale'}\n",
      "Fitting 5 folds for each of 12 candidates, totalling 60 fits\n"
     ]
    },
    {
     "name": "stderr",
     "output_type": "stream",
     "text": [
      "[Parallel(n_jobs=12)]: Using backend LokyBackend with 12 concurrent workers.\n",
      "[Parallel(n_jobs=12)]: Done  60 out of  60 | elapsed:    0.0s finished\n"
     ]
    },
    {
     "data": {
      "text/html": [
       "<div>\n",
       "<style scoped>\n",
       "    .dataframe tbody tr th:only-of-type {\n",
       "        vertical-align: middle;\n",
       "    }\n",
       "\n",
       "    .dataframe tbody tr th {\n",
       "        vertical-align: top;\n",
       "    }\n",
       "\n",
       "    .dataframe thead th {\n",
       "        text-align: right;\n",
       "    }\n",
       "</style>\n",
       "<table border=\"1\" class=\"dataframe\">\n",
       "  <thead>\n",
       "    <tr style=\"text-align: right;\">\n",
       "      <th></th>\n",
       "      <th>mean_fit_time</th>\n",
       "      <th>std_fit_time</th>\n",
       "      <th>mean_score_time</th>\n",
       "      <th>std_score_time</th>\n",
       "      <th>param_model__C</th>\n",
       "      <th>param_model__gamma</th>\n",
       "      <th>params</th>\n",
       "      <th>split0_test_score</th>\n",
       "      <th>split1_test_score</th>\n",
       "      <th>split2_test_score</th>\n",
       "      <th>split3_test_score</th>\n",
       "      <th>split4_test_score</th>\n",
       "      <th>mean_test_score</th>\n",
       "      <th>std_test_score</th>\n",
       "      <th>rank_test_score</th>\n",
       "    </tr>\n",
       "  </thead>\n",
       "  <tbody>\n",
       "    <tr>\n",
       "      <th>0</th>\n",
       "      <td>0.001400</td>\n",
       "      <td>0.000491</td>\n",
       "      <td>0.000000</td>\n",
       "      <td>0.000000</td>\n",
       "      <td>6</td>\n",
       "      <td>scale</td>\n",
       "      <td>{'model__C': 6.0, 'model__gamma': 'scale'}</td>\n",
       "      <td>1.0</td>\n",
       "      <td>0.972222</td>\n",
       "      <td>0.972222</td>\n",
       "      <td>1.0</td>\n",
       "      <td>1.0</td>\n",
       "      <td>0.988889</td>\n",
       "      <td>0.013608</td>\n",
       "      <td>1</td>\n",
       "    </tr>\n",
       "    <tr>\n",
       "      <th>1</th>\n",
       "      <td>0.001202</td>\n",
       "      <td>0.000401</td>\n",
       "      <td>0.000402</td>\n",
       "      <td>0.000492</td>\n",
       "      <td>6</td>\n",
       "      <td>auto</td>\n",
       "      <td>{'model__C': 6.0, 'model__gamma': 'auto'}</td>\n",
       "      <td>1.0</td>\n",
       "      <td>0.972222</td>\n",
       "      <td>0.972222</td>\n",
       "      <td>1.0</td>\n",
       "      <td>1.0</td>\n",
       "      <td>0.988889</td>\n",
       "      <td>0.013608</td>\n",
       "      <td>1</td>\n",
       "    </tr>\n",
       "    <tr>\n",
       "      <th>2</th>\n",
       "      <td>0.001202</td>\n",
       "      <td>0.000400</td>\n",
       "      <td>0.000401</td>\n",
       "      <td>0.000491</td>\n",
       "      <td>5.5</td>\n",
       "      <td>scale</td>\n",
       "      <td>{'model__C': 5.5, 'model__gamma': 'scale'}</td>\n",
       "      <td>1.0</td>\n",
       "      <td>0.972222</td>\n",
       "      <td>0.972222</td>\n",
       "      <td>1.0</td>\n",
       "      <td>1.0</td>\n",
       "      <td>0.988889</td>\n",
       "      <td>0.013608</td>\n",
       "      <td>1</td>\n",
       "    </tr>\n",
       "  </tbody>\n",
       "</table>\n",
       "</div>"
      ],
      "text/plain": [
       "   mean_fit_time  std_fit_time  mean_score_time  std_score_time  \\\n",
       "0       0.001400      0.000491         0.000000        0.000000   \n",
       "1       0.001202      0.000401         0.000402        0.000492   \n",
       "2       0.001202      0.000400         0.000401        0.000491   \n",
       "\n",
       "  param_model__C param_model__gamma  \\\n",
       "0              6              scale   \n",
       "1              6               auto   \n",
       "2            5.5              scale   \n",
       "\n",
       "                                       params  split0_test_score  \\\n",
       "0  {'model__C': 6.0, 'model__gamma': 'scale'}                1.0   \n",
       "1   {'model__C': 6.0, 'model__gamma': 'auto'}                1.0   \n",
       "2  {'model__C': 5.5, 'model__gamma': 'scale'}                1.0   \n",
       "\n",
       "   split1_test_score  split2_test_score  split3_test_score  split4_test_score  \\\n",
       "0           0.972222           0.972222                1.0                1.0   \n",
       "1           0.972222           0.972222                1.0                1.0   \n",
       "2           0.972222           0.972222                1.0                1.0   \n",
       "\n",
       "   mean_test_score  std_test_score  rank_test_score  \n",
       "0         0.988889        0.013608                1  \n",
       "1         0.988889        0.013608                1  \n",
       "2         0.988889        0.013608                1  "
      ]
     },
     "execution_count": 309,
     "metadata": {},
     "output_type": "execute_result"
    }
   ],
   "source": [
    "print('best',gs.best_estimator_)\n",
    "print(\"최적 점수: {}\".format(gs.best_score_))\n",
    "print(\"최적 파라미터: {}\".format(gs.best_params_))\n",
    "result = gs.fit(X, y)\n",
    "pd.DataFrame(result.cv_results_).sort_values('rank_test_score').head(3)"
   ]
  }
 ],
 "metadata": {
  "colab": {
   "collapsed_sections": [],
   "name": "_5 서포트 벡터 머신(Support Vector Machines).ipynb",
   "provenance": []
  },
  "kernelspec": {
   "display_name": "Python 3",
   "language": "python",
   "name": "python3"
  },
  "language_info": {
   "codemirror_mode": {
    "name": "ipython",
    "version": 3
   },
   "file_extension": ".py",
   "mimetype": "text/x-python",
   "name": "python",
   "nbconvert_exporter": "python",
   "pygments_lexer": "ipython3",
   "version": "3.8.5"
  },
  "toc": {
   "base_numbering": 1,
   "nav_menu": {},
   "number_sections": true,
   "sideBar": true,
   "skip_h1_title": false,
   "title_cell": "Table of Contents",
   "title_sidebar": "Contents",
   "toc_cell": false,
   "toc_position": {
    "height": "calc(100% - 180px)",
    "left": "10px",
    "top": "150px",
    "width": "193.198px"
   },
   "toc_section_display": true,
   "toc_window_display": true
  }
 },
 "nbformat": 4,
 "nbformat_minor": 1
}
